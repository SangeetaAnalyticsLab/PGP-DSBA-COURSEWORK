{
 "cells": [
  {
   "cell_type": "markdown",
   "id": "6yDxo9u0d9Na",
   "metadata": {
    "id": "6yDxo9u0d9Na"
   },
   "source": [
    "# Project Business Statistics: E-news Express\n",
    "\n",
    "**Marks: 60**"
   ]
  },
  {
   "cell_type": "markdown",
   "id": "SrLd-ICEmPSD",
   "metadata": {
    "id": "SrLd-ICEmPSD"
   },
   "source": [
    "## Define Problem Statement and Objectives"
   ]
  },
  {
   "cell_type": "markdown",
   "id": "9Vt1PLLqmXNn",
   "metadata": {
    "id": "9Vt1PLLqmXNn"
   },
   "source": [
    "## Context\n",
    "\n",
    "An online news portal aims to expand its business by acquiring new subscribers. Every visitor to the website takes certain actions based on their interest. The company plans to analyze these interests and wants to determine whether a new feature will be effective or not. Companies often analyze users' responses to two variants of a product to decide which of the two variants is more effective. This experimental technique is known as a/b testing that is used to determine whether a new feature attracts users based on a chosen metric.\n",
    "\n",
    "## Objective\n",
    "Suppose you are hired as a Data Scientist in E-news Express. The design team of the company has created a new landing page. You have been assigned the task to decide whether the new landing page is more effective to gather new subscribers. Suppose you randomly selected 100 users and divided them equally into two groups. The old landing page is served to the first group (control group) and the new landing page is served to the second group (treatment group). Various data about the customers in both groups are collected in 'abtest.csv'. Perform the statistical analysis to answer the following questions using the collected data.\n",
    "\n",
    "1. Explore the dataset and extract insights using Exploratory Data Analysis.\n",
    "\n",
    "2. Do the users spend more time on the new landing page than the existing landing page?\n",
    "\n",
    "3. Is the conversion rate (the proportion of users who visit the landing page and get converted) for the new page greater than the conversion rate for the old page?\n",
    "\n",
    "4. Does the converted status depend on the preferred language? [Hint: Create a contingency table using the pandas.crosstab() function]\n",
    "\n",
    "5. Is the time spent on the new page same for the different language users?\n",
    "\n",
    "\n",
    "*Consider a significance level of 0.05 for all tests.\n",
    "\n",
    "The  idea  behind  answering  these  questions  is  to  decide  whether  the  new  page  is  effective  enough  to  gather  new subscribers for the news portal. We will perform the statistical analysis on the collected data to make the business decision."
   ]
  },
  {
   "cell_type": "markdown",
   "id": "e43ec6de",
   "metadata": {},
   "source": [
    "## Data Dictionary\n",
    "\n",
    "1. user_id - This represents the user ID of the person visiting the website.\n",
    "\n",
    "2. group - This represents whether the user belongs to the first group (control) or the second group (treatment).\n",
    "\n",
    "3. landing_page - This represents whether the landing page is new or old.\n",
    "\n",
    "4. time_spent_on_the_page - This represents the time (in minutes) spent by the user on the landing page.\n",
    "\n",
    "5. converted - This represents whether the user gets converted to a subscriber of the news portal or not.\n",
    "\n",
    "6. language_preferred - This represents the language chosen by the user to view the landing page."
   ]
  },
  {
   "cell_type": "markdown",
   "id": "a6a3d218",
   "metadata": {
    "id": "a6a3d218"
   },
   "source": [
    "## Import all the necessary libraries"
   ]
  },
  {
   "cell_type": "code",
   "execution_count": 162,
   "id": "658c5dec",
   "metadata": {
    "id": "658c5dec"
   },
   "outputs": [],
   "source": [
    "# import libraries for data manipulation\n",
    "import numpy as np\n",
    "import pandas as pd\n",
    "\n",
    "# import libraries for data visualization\n",
    "import matplotlib.pyplot as plt\n",
    "import seaborn as sns\n",
    "\n",
    "# Filter warnings\n",
    "import warnings\n",
    "warnings.filterwarnings(\"ignore\")"
   ]
  },
  {
   "cell_type": "markdown",
   "id": "9d75cfa2",
   "metadata": {
    "id": "9d75cfa2"
   },
   "source": [
    "## 1. Explore the dataset and extract insights using Exploratory Data Analysis. (10 Marks)"
   ]
  },
  {
   "cell_type": "markdown",
   "id": "27201534",
   "metadata": {
    "id": "27201534"
   },
   "source": [
    "### Exploratory Data Analysis - Step by step approach\n",
    "\n",
    "Typical Data exploration activity consists of the following steps:\n",
    "1.\tImporting Data\n",
    "2.\tVariable Identification\n",
    "3.  Variable Transformation/Feature Creation\n",
    "4.  Missing value detection\n",
    "5.\tUnivariate Analysis\n",
    "6.\tBivariate Analysis"
   ]
  },
  {
   "cell_type": "markdown",
   "id": "6970dd99",
   "metadata": {
    "id": "6970dd99"
   },
   "source": [
    "### Reading the Data into a DataFrame"
   ]
  },
  {
   "cell_type": "code",
   "execution_count": 163,
   "id": "d3b95640",
   "metadata": {
    "id": "d3b95640"
   },
   "outputs": [],
   "source": [
    "# Read dataset abtest.csv and load into a dataframe\n",
    "df = pd.read_csv(\"abtest.csv\")"
   ]
  },
  {
   "cell_type": "markdown",
   "id": "a4e471fd",
   "metadata": {
    "id": "a4e471fd"
   },
   "source": [
    "### Data Overview\n",
    "<b>View a few rows of the data frame</b>"
   ]
  },
  {
   "cell_type": "code",
   "execution_count": 5,
   "id": "e06fc053",
   "metadata": {},
   "outputs": [
    {
     "data": {
      "text/html": [
       "<div>\n",
       "<style scoped>\n",
       "    .dataframe tbody tr th:only-of-type {\n",
       "        vertical-align: middle;\n",
       "    }\n",
       "\n",
       "    .dataframe tbody tr th {\n",
       "        vertical-align: top;\n",
       "    }\n",
       "\n",
       "    .dataframe thead th {\n",
       "        text-align: right;\n",
       "    }\n",
       "</style>\n",
       "<table border=\"1\" class=\"dataframe\">\n",
       "  <thead>\n",
       "    <tr style=\"text-align: right;\">\n",
       "      <th></th>\n",
       "      <th>user_id</th>\n",
       "      <th>group</th>\n",
       "      <th>landing_page</th>\n",
       "      <th>time_spent_on_the_page</th>\n",
       "      <th>converted</th>\n",
       "      <th>language_preferred</th>\n",
       "    </tr>\n",
       "  </thead>\n",
       "  <tbody>\n",
       "    <tr>\n",
       "      <th>0</th>\n",
       "      <td>546592</td>\n",
       "      <td>control</td>\n",
       "      <td>old</td>\n",
       "      <td>3.48</td>\n",
       "      <td>no</td>\n",
       "      <td>Spanish</td>\n",
       "    </tr>\n",
       "    <tr>\n",
       "      <th>1</th>\n",
       "      <td>546468</td>\n",
       "      <td>treatment</td>\n",
       "      <td>new</td>\n",
       "      <td>7.13</td>\n",
       "      <td>yes</td>\n",
       "      <td>English</td>\n",
       "    </tr>\n",
       "    <tr>\n",
       "      <th>2</th>\n",
       "      <td>546462</td>\n",
       "      <td>treatment</td>\n",
       "      <td>new</td>\n",
       "      <td>4.40</td>\n",
       "      <td>no</td>\n",
       "      <td>Spanish</td>\n",
       "    </tr>\n",
       "    <tr>\n",
       "      <th>3</th>\n",
       "      <td>546567</td>\n",
       "      <td>control</td>\n",
       "      <td>old</td>\n",
       "      <td>3.02</td>\n",
       "      <td>no</td>\n",
       "      <td>French</td>\n",
       "    </tr>\n",
       "    <tr>\n",
       "      <th>4</th>\n",
       "      <td>546459</td>\n",
       "      <td>treatment</td>\n",
       "      <td>new</td>\n",
       "      <td>4.75</td>\n",
       "      <td>yes</td>\n",
       "      <td>Spanish</td>\n",
       "    </tr>\n",
       "  </tbody>\n",
       "</table>\n",
       "</div>"
      ],
      "text/plain": [
       "   user_id      group landing_page  time_spent_on_the_page converted  \\\n",
       "0   546592    control          old                    3.48        no   \n",
       "1   546468  treatment          new                    7.13       yes   \n",
       "2   546462  treatment          new                    4.40        no   \n",
       "3   546567    control          old                    3.02        no   \n",
       "4   546459  treatment          new                    4.75       yes   \n",
       "\n",
       "  language_preferred  \n",
       "0            Spanish  \n",
       "1            English  \n",
       "2            Spanish  \n",
       "3             French  \n",
       "4            Spanish  "
      ]
     },
     "execution_count": 5,
     "metadata": {},
     "output_type": "execute_result"
    }
   ],
   "source": [
    "df.head() # Returns first 5 rows in the dataset"
   ]
  },
  {
   "cell_type": "markdown",
   "id": "d33f43d0",
   "metadata": {},
   "source": [
    "<b> Check the shape and data types of the data frame. Add observations</b>"
   ]
  },
  {
   "cell_type": "code",
   "execution_count": 6,
   "id": "b87106c9",
   "metadata": {},
   "outputs": [
    {
     "data": {
      "text/plain": [
       "(100, 6)"
      ]
     },
     "execution_count": 6,
     "metadata": {},
     "output_type": "execute_result"
    }
   ],
   "source": [
    "df.shape"
   ]
  },
  {
   "cell_type": "markdown",
   "id": "bf5b9c6c",
   "metadata": {},
   "source": [
    "#### Observations:\n",
    "There are 100 rows and 6 columns in the dataset."
   ]
  },
  {
   "cell_type": "code",
   "execution_count": 7,
   "id": "0ecfcc2c",
   "metadata": {},
   "outputs": [
    {
     "name": "stdout",
     "output_type": "stream",
     "text": [
      "<class 'pandas.core.frame.DataFrame'>\n",
      "RangeIndex: 100 entries, 0 to 99\n",
      "Data columns (total 6 columns):\n",
      " #   Column                  Non-Null Count  Dtype  \n",
      "---  ------                  --------------  -----  \n",
      " 0   user_id                 100 non-null    int64  \n",
      " 1   group                   100 non-null    object \n",
      " 2   landing_page            100 non-null    object \n",
      " 3   time_spent_on_the_page  100 non-null    float64\n",
      " 4   converted               100 non-null    object \n",
      " 5   language_preferred      100 non-null    object \n",
      "dtypes: float64(1), int64(1), object(4)\n",
      "memory usage: 4.8+ KB\n"
     ]
    }
   ],
   "source": [
    "df.info()"
   ]
  },
  {
   "cell_type": "markdown",
   "id": "5345205c",
   "metadata": {},
   "source": [
    "#### Observations:\n",
    "\n",
    "The DataFrame has 6 columns as mentioned in the Data Dictionary. Each row represents time spent by a user on E-News Express landing page in a preferred language with corresponding group and conversion status. <b> There is one column user_id of type integer, one column time_spent_on_the_page of type float, and four columns group, landing_page, converted and language_preferred of type object. </b>"
   ]
  },
  {
   "cell_type": "markdown",
   "id": "c1b22063",
   "metadata": {},
   "source": [
    "<b> Fix the data-types (if needed) </b>"
   ]
  },
  {
   "cell_type": "code",
   "execution_count": 8,
   "id": "78b055ed",
   "metadata": {},
   "outputs": [
    {
     "name": "stdout",
     "output_type": "stream",
     "text": [
      "<class 'pandas.core.frame.DataFrame'>\n",
      "RangeIndex: 100 entries, 0 to 99\n",
      "Data columns (total 6 columns):\n",
      " #   Column                  Non-Null Count  Dtype   \n",
      "---  ------                  --------------  -----   \n",
      " 0   user_id                 100 non-null    int64   \n",
      " 1   group                   100 non-null    category\n",
      " 2   landing_page            100 non-null    category\n",
      " 3   time_spent_on_the_page  100 non-null    float64 \n",
      " 4   converted               100 non-null    category\n",
      " 5   language_preferred      100 non-null    category\n",
      "dtypes: category(4), float64(1), int64(1)\n",
      "memory usage: 2.6 KB\n"
     ]
    }
   ],
   "source": [
    "#Converting object columns to category for ease of analysis and visualisation, and reduced memory consumption\n",
    "df[\"group\"] = df[\"group\"].astype(\"category\")\n",
    "df[\"landing_page\"] = df[\"landing_page\"].astype(\"category\")\n",
    "df[\"converted\"] = df[\"converted\"].astype(\"category\")\n",
    "df[\"language_preferred\"] = df[\"language_preferred\"].astype(\"category\")\n",
    "df.info()"
   ]
  },
  {
   "cell_type": "markdown",
   "id": "af534ea7",
   "metadata": {},
   "source": [
    "#### Observations:\n",
    "\n",
    "All four object columns have now been converted to type category. <b> This makes the variable data readable for visual analysis, as well as reduces memory usage. In this instance, the memory usage has reduced from 4.8+ KB to 2.6 KB (nearly 50%)</b>"
   ]
  },
  {
   "cell_type": "markdown",
   "id": "9d543133",
   "metadata": {},
   "source": [
    "<b> Missing Value Check </b>"
   ]
  },
  {
   "cell_type": "code",
   "execution_count": 10,
   "id": "7812bf81",
   "metadata": {},
   "outputs": [
    {
     "data": {
      "text/plain": [
       "user_id                   0\n",
       "group                     0\n",
       "landing_page              0\n",
       "time_spent_on_the_page    0\n",
       "converted                 0\n",
       "language_preferred        0\n",
       "dtype: int64"
      ]
     },
     "execution_count": 10,
     "metadata": {},
     "output_type": "execute_result"
    }
   ],
   "source": [
    "df.isnull().sum()"
   ]
  },
  {
   "cell_type": "markdown",
   "id": "23c82766",
   "metadata": {},
   "source": [
    "#### Observations:\n",
    "<b> There are no missing values in the data </b>"
   ]
  },
  {
   "cell_type": "markdown",
   "id": "1a6ef900",
   "metadata": {},
   "source": [
    "<b> Summary statistics from the data frame. Add observations </b>"
   ]
  },
  {
   "cell_type": "code",
   "execution_count": 17,
   "id": "ccbf0e06",
   "metadata": {},
   "outputs": [
    {
     "data": {
      "text/html": [
       "<div>\n",
       "<style scoped>\n",
       "    .dataframe tbody tr th:only-of-type {\n",
       "        vertical-align: middle;\n",
       "    }\n",
       "\n",
       "    .dataframe tbody tr th {\n",
       "        vertical-align: top;\n",
       "    }\n",
       "\n",
       "    .dataframe thead th {\n",
       "        text-align: right;\n",
       "    }\n",
       "</style>\n",
       "<table border=\"1\" class=\"dataframe\">\n",
       "  <thead>\n",
       "    <tr style=\"text-align: right;\">\n",
       "      <th></th>\n",
       "      <th>count</th>\n",
       "      <th>mean</th>\n",
       "      <th>std</th>\n",
       "      <th>min</th>\n",
       "      <th>25%</th>\n",
       "      <th>50%</th>\n",
       "      <th>75%</th>\n",
       "      <th>max</th>\n",
       "    </tr>\n",
       "  </thead>\n",
       "  <tbody>\n",
       "    <tr>\n",
       "      <th>time_spent_on_the_page</th>\n",
       "      <td>100.0</td>\n",
       "      <td>5.3778</td>\n",
       "      <td>2.378166</td>\n",
       "      <td>0.19</td>\n",
       "      <td>3.88</td>\n",
       "      <td>5.415</td>\n",
       "      <td>7.0225</td>\n",
       "      <td>10.71</td>\n",
       "    </tr>\n",
       "  </tbody>\n",
       "</table>\n",
       "</div>"
      ],
      "text/plain": [
       "                        count    mean       std   min   25%    50%     75%  \\\n",
       "time_spent_on_the_page  100.0  5.3778  2.378166  0.19  3.88  5.415  7.0225   \n",
       "\n",
       "                          max  \n",
       "time_spent_on_the_page  10.71  "
      ]
     },
     "execution_count": 17,
     "metadata": {},
     "output_type": "execute_result"
    }
   ],
   "source": [
    "df[[\"time_spent_on_the_page\"]].describe().T # Only time_spent_on_the_page is a relevant numeric field for statistical analysis\n"
   ]
  },
  {
   "cell_type": "markdown",
   "id": "85ef2278",
   "metadata": {},
   "source": [
    "#### Observations:\n",
    "- There are 100 users in the dataset with time spent on landing page ranging from 0.19 minutes to 10.71 minutes. \n",
    "- The data appears to have a normal distribution. The mean is almost same as the median (50th percentile). "
   ]
  },
  {
   "cell_type": "code",
   "execution_count": 29,
   "id": "a4e8fc3e",
   "metadata": {},
   "outputs": [
    {
     "data": {
      "text/plain": [
       "group      landing_page\n",
       "control    old             50\n",
       "treatment  new             50\n",
       "dtype: int64"
      ]
     },
     "execution_count": 29,
     "metadata": {},
     "output_type": "execute_result"
    }
   ],
   "source": [
    "df[[\"group\",\"landing_page\"]].value_counts()"
   ]
  },
  {
   "cell_type": "markdown",
   "id": "44e80b7b",
   "metadata": {},
   "source": [
    "#### Observations:\n",
    "- The 100 users are equally divided into Control and Treatment groups each with 50 users. Control group users have been directed to the old landing page, and Treatment group users to the new landing page. "
   ]
  },
  {
   "cell_type": "code",
   "execution_count": 26,
   "id": "d23c4938",
   "metadata": {},
   "outputs": [
    {
     "data": {
      "text/plain": [
       "yes    54\n",
       "no     46\n",
       "Name: converted, dtype: int64"
      ]
     },
     "execution_count": 26,
     "metadata": {},
     "output_type": "execute_result"
    }
   ],
   "source": [
    "df[\"converted\"].value_counts()"
   ]
  },
  {
   "cell_type": "markdown",
   "id": "fd20599e",
   "metadata": {},
   "source": [
    "#### Observations:\n",
    "54 users get converted, whereas 46 users do not get converted after visiting the landing page."
   ]
  },
  {
   "cell_type": "code",
   "execution_count": 27,
   "id": "39e9d807",
   "metadata": {},
   "outputs": [
    {
     "data": {
      "text/plain": [
       "French     34\n",
       "Spanish    34\n",
       "English    32\n",
       "Name: language_preferred, dtype: int64"
      ]
     },
     "execution_count": 27,
     "metadata": {},
     "output_type": "execute_result"
    }
   ],
   "source": [
    "df[\"language_preferred\"].value_counts()"
   ]
  },
  {
   "cell_type": "markdown",
   "id": "a3a2029f",
   "metadata": {},
   "source": [
    "#### Observations:\n",
    "There are 3 preferred languages - French, Spanish and English. French and Spanish have 34 users each whereas 32 users preferred English. "
   ]
  },
  {
   "cell_type": "markdown",
   "id": "68f3b2c9",
   "metadata": {
    "id": "68f3b2c9"
   },
   "source": [
    "### Univariate Analysis"
   ]
  },
  {
   "cell_type": "code",
   "execution_count": 30,
   "id": "1932d0f3",
   "metadata": {
    "id": "1932d0f3"
   },
   "outputs": [],
   "source": [
    "# function to plot a boxplot and a histogram along the same scale.\n",
    "\n",
    "\n",
    "def histogram_boxplot(data, feature, figsize=(12, 7), kde=False, bins=None):\n",
    "    \"\"\"\n",
    "    Boxplot and histogram combined\n",
    "\n",
    "    data: dataframe\n",
    "    feature: dataframe column\n",
    "    figsize: size of figure (default (12,7))\n",
    "    kde: whether to show the density curve (default False)\n",
    "    bins: number of bins for histogram (default None)\n",
    "    \"\"\"\n",
    "    f2, (ax_box2, ax_hist2) = plt.subplots(\n",
    "        nrows=2,  # Number of rows of the subplot grid= 2\n",
    "        sharex=True,  # x-axis will be shared among all subplots\n",
    "        gridspec_kw={\"height_ratios\": (0.25, 0.75)},\n",
    "        figsize=figsize,\n",
    "    )  # creating the 2 subplots\n",
    "    sns.boxplot(\n",
    "        data=data, x=feature, ax=ax_box2, showmeans=True, color=\"violet\"\n",
    "    )  # boxplot will be created and a star will indicate the mean value of the column\n",
    "    sns.histplot(\n",
    "        data=data, x=feature, kde=kde, ax=ax_hist2, bins=bins, palette=\"winter\"\n",
    "    ) if bins else sns.histplot(\n",
    "        data=data, x=feature, kde=kde, ax=ax_hist2\n",
    "    )  # For histogram\n",
    "    ax_hist2.axvline(\n",
    "        data[feature].mean(), color=\"green\", linestyle=\"--\"\n",
    "    )  # Add mean to the histogram\n",
    "    ax_hist2.axvline(\n",
    "        data[feature].median(), color=\"black\", linestyle=\"-\"\n",
    "    )  # Add median to the histogram"
   ]
  },
  {
   "cell_type": "code",
   "execution_count": 31,
   "id": "2fce6350",
   "metadata": {
    "id": "2fce6350"
   },
   "outputs": [],
   "source": [
    "# function to create labeled barplots\n",
    "\n",
    "\n",
    "def labeled_barplot(data, feature, perc=False, n=None):\n",
    "    \"\"\"\n",
    "    Barplot with percentage at the top\n",
    "\n",
    "    data: dataframe\n",
    "    feature: dataframe column\n",
    "    perc: whether to display percentages instead of count (default is False)\n",
    "    n: displays the top n category levels (default is None, i.e., display all levels)\n",
    "    \"\"\"\n",
    "\n",
    "    total = len(data[feature])  # length of the column\n",
    "    count = data[feature].nunique()\n",
    "    if n is None:\n",
    "        plt.figure(figsize=(count + 1, 5))\n",
    "    else:\n",
    "        plt.figure(figsize=(n + 1, 5))\n",
    "\n",
    "    plt.xticks(rotation=90, fontsize=15)\n",
    "    ax = sns.countplot(data=data, x=feature, palette=\"Paired\", order=data[feature].value_counts().index[:n].sort_values())\n",
    "\n",
    "    for p in ax.patches:\n",
    "        if perc == True:\n",
    "            label = \"{:.1f}%\".format(100 * p.get_height() / total)  # percentage of each class of the category\n",
    "        else:\n",
    "            label = p.get_height()  # count of each level of the category\n",
    "\n",
    "        x = p.get_x() + p.get_width() / 2  # width of the plot\n",
    "        y = p.get_height()      # height of the plot\n",
    "\n",
    "        ax.annotate(label, (x, y), ha=\"center\", va=\"center\", size=12, xytext=(0, 5), textcoords=\"offset points\")  # annotate the percentage\n",
    "\n",
    "    plt.show()  # show the plot"
   ]
  },
  {
   "cell_type": "code",
   "execution_count": 41,
   "id": "e6f99481",
   "metadata": {
    "id": "e6f99481"
   },
   "outputs": [
    {
     "data": {
      "image/png": "[encoded data removed]",
      "text/plain": [
       "<Figure size 720x360 with 2 Axes>"
      ]
     },
     "metadata": {
      "needs_background": "light"
     },
     "output_type": "display_data"
    }
   ],
   "source": [
    "# Plot time_spent_on_the_page data to analyse distribution pattern\n",
    "histogram_boxplot(df, \"time_spent_on_the_page\", figsize=(10, 5), kde = True)"
   ]
  },
  {
   "cell_type": "markdown",
   "id": "c12458dc",
   "metadata": {},
   "source": [
    "#### Observations\n",
    "1. The time spent on webpage ranges from 0 to 10 minutes.\n",
    "2. Nearly 50% of the users spends approximately 5 minutes on landing page. \n",
    "3. The average time spent on the page is also nearly 5 minutes.\n",
    "4. The data has a normal distribution. The mean is same as the median of the data. \n",
    "4. There are no outliers in the data. "
   ]
  },
  {
   "cell_type": "code",
   "execution_count": 43,
   "id": "b3602819",
   "metadata": {},
   "outputs": [
    {
     "data": {
      "image/png": "[encoded data removed]",
      "text/plain": [
       "<Figure size 216x360 with 1 Axes>"
      ]
     },
     "metadata": {
      "needs_background": "light"
     },
     "output_type": "display_data"
    }
   ],
   "source": [
    "# Calling the labeled_barplot function defined above for group variable\n",
    "labeled_barplot(df, \"group\", perc=True, n=None)"
   ]
  },
  {
   "cell_type": "markdown",
   "id": "c2c854ca",
   "metadata": {},
   "source": [
    "#### Observations:\n",
    "- The 100 users are equally divided into Control and Treatment groups each with 50 users. "
   ]
  },
  {
   "cell_type": "code",
   "execution_count": 47,
   "id": "e5711a69",
   "metadata": {
    "scrolled": true
   },
   "outputs": [
    {
     "data": {
      "image/png": "[encoded data removed]",
      "text/plain": [
       "<Figure size 216x360 with 1 Axes>"
      ]
     },
     "metadata": {
      "needs_background": "light"
     },
     "output_type": "display_data"
    }
   ],
   "source": [
    "# Calling the labeled_barplot function defined above for landing_page variable\n",
    "labeled_barplot(df, \"landing_page\", perc=True, n=None)"
   ]
  },
  {
   "cell_type": "markdown",
   "id": "247e6d8e",
   "metadata": {},
   "source": [
    "#### Observations:\n",
    "- 50 users are redirected to the new landing page and 50 to the old landing page."
   ]
  },
  {
   "cell_type": "code",
   "execution_count": 45,
   "id": "708a4940",
   "metadata": {},
   "outputs": [
    {
     "data": {
      "image/png": "[encoded data removed]",
      "text/plain": [
       "<Figure size 288x360 with 1 Axes>"
      ]
     },
     "metadata": {
      "needs_background": "light"
     },
     "output_type": "display_data"
    }
   ],
   "source": [
    "# Calling the labeled_barplot function defined above for language_preferred variable\n",
    "labeled_barplot(df, \"language_preferred\", perc=True, n=None)"
   ]
  },
  {
   "cell_type": "markdown",
   "id": "d05cf4fa",
   "metadata": {},
   "source": [
    "#### Observations:\n",
    "There are 3 preferred languages - French, Spanish and English. French and Spanish have 34 users each whereas 32 users preferred English. "
   ]
  },
  {
   "cell_type": "code",
   "execution_count": 48,
   "id": "0875f914",
   "metadata": {
    "scrolled": true
   },
   "outputs": [
    {
     "data": {
      "image/png": "[encoded data removed]",
      "text/plain": [
       "<Figure size 216x360 with 1 Axes>"
      ]
     },
     "metadata": {
      "needs_background": "light"
     },
     "output_type": "display_data"
    }
   ],
   "source": [
    "# Calling the labeled_barplot function defined above for converted variable\n",
    "labeled_barplot(df, \"converted\", perc=False, n=None)"
   ]
  },
  {
   "cell_type": "markdown",
   "id": "d2249214",
   "metadata": {},
   "source": [
    "#### Observations:\n",
    "54 users got converted to subscribers, whereas 46 users did not get converted after visiting the landing page."
   ]
  },
  {
   "cell_type": "markdown",
   "id": "fad2de2f",
   "metadata": {
    "id": "fad2de2f"
   },
   "source": [
    "### Bivariate Analysis"
   ]
  },
  {
   "cell_type": "markdown",
   "id": "53fd9656",
   "metadata": {},
   "source": [
    "<b> Time spent on the type of landing page by language preferred </b>"
   ]
  },
  {
   "cell_type": "code",
   "execution_count": 57,
   "id": "e6ed0e62",
   "metadata": {
    "id": "58e9a1d0"
   },
   "outputs": [
    {
     "data": {
      "image/png": "[encoded data removed]",
      "text/plain": [
       "<Figure size 1080x360 with 1 Axes>"
      ]
     },
     "metadata": {
      "needs_background": "light"
     },
     "output_type": "display_data"
    }
   ],
   "source": [
    "plt.figure(figsize=(15,5))\n",
    "\n",
    "# seaborn pointplot to analyse time_spent_on_the_page against landing page type by preferred language \n",
    "ax = sns.pointplot(data = df, x = \"landing_page\", \n",
    "                   y = \"time_spent_on_the_page\", hue = \"language_preferred\",\n",
    "                   ci=None)\n",
    "for c in ax.collections:         \n",
    "    for of in c.get_offsets():\n",
    "        ax.annotate(round(of[1],2),of)\n",
    "\n",
    "plt.show()"
   ]
  },
  {
   "cell_type": "markdown",
   "id": "5353b265",
   "metadata": {},
   "source": [
    "#### Observations:\n",
    "1. Overall, the average time spent on old landing page is less than the average time spent on the new landing page. The users across all three preferred languages have spent more time on the new landing page.\n",
    "2. On the new landing page, English users have spent maximum time, followed by French and Spanish. \n",
    "3. On the old landing page, French users have spent least time. \n",
    "4. On an average, Spanish users have spent more time on old landing page than other languages, whereas users with the same preferred language have spent less time on new landing page than other languages. "
   ]
  },
  {
   "cell_type": "markdown",
   "id": "4e8d453e",
   "metadata": {},
   "source": [
    "<b> Converted Vs Time spent on the type of landing page</b>"
   ]
  },
  {
   "cell_type": "code",
   "execution_count": 61,
   "id": "29140590",
   "metadata": {
    "id": "58e9a1d0"
   },
   "outputs": [
    {
     "data": {
      "image/png": "[encoded data removed]",
      "text/plain": [
       "<Figure size 1080x360 with 1 Axes>"
      ]
     },
     "metadata": {
      "needs_background": "light"
     },
     "output_type": "display_data"
    }
   ],
   "source": [
    "plt.figure(figsize=(15,5))\n",
    "\n",
    "# seaborn boxplot to analyse time spent on the page against converted by type of landing page\n",
    "sns.boxplot(data = df, x = \"converted\", \n",
    "                   y = \"time_spent_on_the_page\", hue = \"landing_page\")\n",
    "plt.show()"
   ]
  },
  {
   "cell_type": "markdown",
   "id": "99d59a81",
   "metadata": {},
   "source": [
    "#### Observations:\n",
    "1. Overall, the converted users have spent more time across new and old landing page, than those who haven't.\n",
    "2. Across converted and not converted, users have spent less time on old landing page than the new one. \n",
    "3. The median values of time spent on old and new page for converted users are fairly close, compared to those who haven't converted. \n",
    "4. There are few outliers in the data across converted and not converted users on both old and new landing page. "
   ]
  },
  {
   "cell_type": "markdown",
   "id": "1098d8cc",
   "metadata": {},
   "source": [
    "<b> Time spent on the page by preferred language and converted </b>"
   ]
  },
  {
   "cell_type": "code",
   "execution_count": 56,
   "id": "d878c0d6",
   "metadata": {
    "id": "58e9a1d0"
   },
   "outputs": [
    {
     "data": {
      "image/png": "[encoded data removed]",
      "text/plain": [
       "<Figure size 1080x360 with 1 Axes>"
      ]
     },
     "metadata": {
      "needs_background": "light"
     },
     "output_type": "display_data"
    }
   ],
   "source": [
    "plt.figure(figsize=(15,5))\n",
    "\n",
    "# seaborn pointplot to analyse time_spent_on_the_page against preferred language by converted \n",
    "ax = sns.pointplot(data = df, x = \"language_preferred\", \n",
    "                   y = \"time_spent_on_the_page\", hue = \"converted\",\n",
    "                   ci=None)\n",
    "for c in ax.collections:         \n",
    "    for of in c.get_offsets():\n",
    "        ax.annotate(round(of[1],2),of)\n",
    "\n",
    "plt.show()"
   ]
  },
  {
   "cell_type": "markdown",
   "id": "e4c3a028",
   "metadata": {},
   "source": [
    "#### Observations:\n",
    "1. The not converted users have spent less time on the page across all three languages than those who've converted. \n",
    "2. Among the <b> converted users </b>, users with French preference have spent maximum time on the page. Users with English and Spanish have the same average time spent on the page. \n",
    "3. Among the <b> not converted users </b>, users with Spanish preference have spent maximum time on the page than French and English."
   ]
  },
  {
   "cell_type": "markdown",
   "id": "27906576",
   "metadata": {
    "id": "27906576"
   },
   "source": [
    "## 2. Do the users spend more time on the new landing page than the existing landing page? (10 Marks)"
   ]
  },
  {
   "cell_type": "markdown",
   "id": "e5fdf0c8",
   "metadata": {
    "id": "e5fdf0c8"
   },
   "source": [
    "### Perform Visual Analysis"
   ]
  },
  {
   "cell_type": "code",
   "execution_count": 60,
   "id": "6eZJa41eg21n",
   "metadata": {
    "id": "6eZJa41eg21n"
   },
   "outputs": [
    {
     "data": {
      "image/png": "[encoded data removed]",
      "text/plain": [
       "<Figure size 1080x288 with 1 Axes>"
      ]
     },
     "metadata": {
      "needs_background": "light"
     },
     "output_type": "display_data"
    }
   ],
   "source": [
    "plt.figure(figsize=(15,4))\n",
    "\n",
    "# seaborn boxplot to analyse time spent on the page by type of landing page\n",
    "sns.boxplot(data = df, y = \"landing_page\", \n",
    "                   x = \"time_spent_on_the_page\")\n",
    "plt.show()"
   ]
  },
  {
   "cell_type": "markdown",
   "id": "cb28d01a",
   "metadata": {},
   "source": [
    "####  Insight\n",
    "1. The sample data suggests that on an average users spend less time on old landing page than the new one. \n",
    "2. The maximum time spent on the old landing page is greater than the maximum time on the new landing page.\n",
    "3. The variable has a wider range for old landing page than the new landing page. "
   ]
  },
  {
   "cell_type": "code",
   "execution_count": 164,
   "id": "38081f06",
   "metadata": {},
   "outputs": [
    {
     "name": "stdout",
     "output_type": "stream",
     "text": [
      "The mean time spent on new landing page 6.2\n",
      "The standard deviation of time spent on new landing page is 1.8\n",
      "The mean time spent on old landing page 4.5\n",
      "The standard deviation of time spent on old landing page is 2.6\n"
     ]
    }
   ],
   "source": [
    "# find the sample means and sample standard deviations for the users in control and treatment groups\n",
    "\n",
    "print(\"The mean time spent on new landing page \" + str(np.round(df[\"time_spent_on_the_page\"][df[\"landing_page\"]==\"new\"].mean(),1)))\n",
    "print('The standard deviation of time spent on new landing page is ' + str(np.round(df[\"time_spent_on_the_page\"][df[\"landing_page\"]==\"new\"].std(),1)))\n",
    "\n",
    "print(\"The mean time spent on old landing page \" + str(np.round(df[\"time_spent_on_the_page\"][df[\"landing_page\"]==\"old\"].mean(),1)))\n",
    "print('The standard deviation of time spent on old landing page is ' + str(np.round(df[\"time_spent_on_the_page\"][df[\"landing_page\"]==\"old\"].std(),1)))\n",
    "\n"
   ]
  },
  {
   "cell_type": "markdown",
   "id": "56b3dafd",
   "metadata": {
    "id": "56b3dafd"
   },
   "source": [
    "### Step 1: Define the null and alternate hypotheses"
   ]
  },
  {
   "cell_type": "markdown",
   "id": "d2ac77ef",
   "metadata": {
    "id": "d2ac77ef"
   },
   "source": [
    "Consider\n",
    "\n",
    "\n",
    "$µ_n$ - Population mean time spent on the new landing page.\n",
    "\n",
    "$µ_o$ - Population mean time spent on the old landing page.\n",
    "\n",
    "The null hypothesis is that the users spend same amount of time on both the landing pages, i.e. the average time spent on the new landing page is same as the average time spent on the old landing page. \n",
    "\n",
    "$H_0$: $µ_n$ = $µ_o$ \n",
    "\n",
    "The alternative hypothesis is that the average time spent on the new landing page is more than the average time on the old landing page. \n",
    "\n",
    "$H_a$: $µ_n$ > $µ_o$ "
   ]
  },
  {
   "cell_type": "markdown",
   "id": "c7ee4907",
   "metadata": {
    "id": "c7ee4907"
   },
   "source": [
    "### Step 2: Select Appropriate test"
   ]
  },
  {
   "cell_type": "markdown",
   "id": "2c183cd7",
   "metadata": {
    "id": "2c183cd7"
   },
   "source": [
    "#### Since the population mean and standard deviation is unknown, check whether T-test assumptions are satisfied or not\n",
    "\n",
    "* Continuous data - The time spent on the page is measured on a continuous scale.\n",
    "* Normally distributed populations - As it can be seen from the univariate analysis of time_spent_on_the_page variable for given 100 users, the data has normal distribution. \n",
    "* Independent populations - Since the users are randomly assigned to control and treatment groups, the two groups can be considered independent. There is no information about how one group affects another. \n",
    "* Unequal population standard deviations - As the sample standard deviations are different as seen above, the population standard deviations may be assumed to be different.\n",
    "* Random sampling from the population - Yes, we are informed that the collected sample a simple random sample.\n",
    "\n",
    "We can use two sample T-test for this problem."
   ]
  },
  {
   "cell_type": "markdown",
   "id": "3f58c9a7",
   "metadata": {
    "id": "3f58c9a7"
   },
   "source": [
    "### Step 3: Decide the significance level"
   ]
  },
  {
   "cell_type": "markdown",
   "id": "92d7d7ee",
   "metadata": {
    "id": "92d7d7ee"
   },
   "source": [
    "The level of significance needs to be considered as 0.05 as mentioned in the objective.\n",
    "\n",
    "α = 0.05"
   ]
  },
  {
   "cell_type": "markdown",
   "id": "5fed2eac",
   "metadata": {
    "id": "5fed2eac"
   },
   "source": [
    "### Step 4: Collect and prepare data"
   ]
  },
  {
   "cell_type": "code",
   "execution_count": 165,
   "id": "f5a59495",
   "metadata": {
    "id": "f5a59495"
   },
   "outputs": [],
   "source": [
    "#create separate dataframes for old and new users\n",
    "time_spent_old_page = df[\"time_spent_on_the_page\"][df[\"landing_page\"]==\"old\"]\n",
    "time_spent_new_page = df[\"time_spent_on_the_page\"][df[\"landing_page\"]==\"new\"]"
   ]
  },
  {
   "cell_type": "markdown",
   "id": "f5c5258d",
   "metadata": {
    "id": "f5c5258d"
   },
   "source": [
    "### Step 5: Calculate the p-value"
   ]
  },
  {
   "cell_type": "code",
   "execution_count": 166,
   "id": "fac8594a",
   "metadata": {
    "id": "fac8594a"
   },
   "outputs": [
    {
     "name": "stdout",
     "output_type": "stream",
     "text": [
      "The p-value is  0.0001392381225166549\n"
     ]
    }
   ],
   "source": [
    "#import the required functions\n",
    "from scipy.stats import ttest_ind\n",
    "\n",
    "# find the p-value\n",
    "test_stat, p_value = ttest_ind(time_spent_new_page, time_spent_old_page, equal_var = False, alternative = 'greater')\n",
    "print('The p-value is ', p_value)"
   ]
  },
  {
   "cell_type": "markdown",
   "id": "359b12f8",
   "metadata": {
    "id": "359b12f8"
   },
   "source": [
    "### Step 6: Compare the p-value with $\\alpha$"
   ]
  },
  {
   "cell_type": "code",
   "execution_count": 167,
   "id": "7be47289",
   "metadata": {
    "id": "7be47289"
   },
   "outputs": [
    {
     "name": "stdout",
     "output_type": "stream",
     "text": [
      "Since the p-value 0.0001392381225166549 is less than the level of significance, we reject the null hypothesis.\n"
     ]
    }
   ],
   "source": [
    "if p_value < 0.05:\n",
    "    print(\"Since the p-value {} is less than the level of significance, we reject the null hypothesis.\".format(p_value))\n",
    "else:\n",
    "    print(\"Since the p-value {} is greater than the level of significance, we fail to reject the null hypothesis.\".format(p_value))\n",
    "    "
   ]
  },
  {
   "cell_type": "markdown",
   "id": "d9affc84",
   "metadata": {
    "id": "d9affc84"
   },
   "source": [
    "### Step 7:  Draw inference"
   ]
  },
  {
   "cell_type": "markdown",
   "id": "6b16dd4b",
   "metadata": {
    "id": "6b16dd4b"
   },
   "source": [
    "### Insight\n",
    "<b> As the p-value (~0.0001) is less than the level of significance (0.05), we can reject the null hypothesis. Hence, we do have enough evidence to support that the users spend more time on the new landing page than the existing landing page </b>"
   ]
  },
  {
   "cell_type": "markdown",
   "id": "353e9d24",
   "metadata": {
    "id": "353e9d24"
   },
   "source": [
    "## 3. Is the conversion rate (the proportion of users who visit the landing page and get converted) for the new page greater than the conversion rate for the old page? (10 Marks)"
   ]
  },
  {
   "cell_type": "markdown",
   "id": "0fcd4d14",
   "metadata": {
    "id": "b7f52898"
   },
   "source": [
    "### Perform Visual Analysis"
   ]
  },
  {
   "cell_type": "code",
   "execution_count": 101,
   "id": "f45af6c3",
   "metadata": {
    "scrolled": true
   },
   "outputs": [
    {
     "data": {
      "image/png": "[encoded data removed]",
      "text/plain": [
       "<Figure size 432x288 with 1 Axes>"
      ]
     },
     "metadata": {
      "needs_background": "light"
     },
     "output_type": "display_data"
    }
   ],
   "source": [
    "sns.countplot(x=\"landing_page\", hue=\"converted\", data=df);"
   ]
  },
  {
   "cell_type": "markdown",
   "id": "293fbc8c",
   "metadata": {},
   "source": [
    "####  Insight\n",
    "The sample data suggests that the conversion rate for the new page is greater than the conversion rate of the old landing page."
   ]
  },
  {
   "cell_type": "markdown",
   "id": "1d6dcead",
   "metadata": {},
   "source": [
    "### Step 1: Define the null and alternate hypotheses"
   ]
  },
  {
   "cell_type": "markdown",
   "id": "5dab82f1",
   "metadata": {
    "id": "d2ac77ef"
   },
   "source": [
    "Consider\n",
    "\n",
    "\n",
    "$p_n$ - Proportion of users who visit the new landing page and get converted.\n",
    "\n",
    "$p_o$ - Proportion of users who visit the old landing page and get converted.\n",
    "\n",
    "The null hypothesis is that the conversion rate for the new landing page is same as the conversion rate of the old landing page. \n",
    "\n",
    "$H_0$: $p_n$ = $p_o$ \n",
    "\n",
    "The alternative hypothesis is that the conversion rate for the new landing page is greater than the conversion rate of the old landing page.\n",
    "\n",
    "$H_a$: $p_n$ > $p_o$ "
   ]
  },
  {
   "cell_type": "markdown",
   "id": "3c4d3ca8",
   "metadata": {},
   "source": [
    "### Step 2: Select Appropriate test"
   ]
  },
  {
   "cell_type": "markdown",
   "id": "eafea572",
   "metadata": {},
   "source": [
    "Since this is a test of proportion, check whether the Z-test assumptions for proportions are satisfied or not.\n",
    "\n",
    "*   Binomally distributed population - The users are either converted or not converted (Values - Yes or No)\n",
    "*   Random sampling from the population - The users are randomly selected, and randomly divided into control and treatment groups\n",
    "*   Can the binomial distribution approximated to normal distribution - Yes. For binary data, CLT works slower than usual. The standard thing is to check whether np and n(1-p) are greater than or equal to 10. Here, n and p refer to the sample size and sample proportion respectively.\n",
    ">$np_1 = 50\\cdot \\frac{33}{50} =33 \\geq 10\\\\\n",
    "n(1-p_1) = 50 \\cdot \\frac{50-33}{50} =17 \\geq 10 \\\\\n",
    "np_2 = 50\\cdot \\frac{21}{50} =21 \\geq 10\\\\\n",
    "n(1-p_2) = 50 \\cdot \\frac{50-21}{50} =29 \\geq 10 $"
   ]
  },
  {
   "cell_type": "markdown",
   "id": "6721cdd4",
   "metadata": {},
   "source": [
    "### Step 3: Decide the significance level"
   ]
  },
  {
   "cell_type": "markdown",
   "id": "1789dae5",
   "metadata": {
    "id": "92d7d7ee"
   },
   "source": [
    "The level of significance needs to be considered as 0.05 as mentioned in the objective.\n",
    "\n",
    "α = 0.05"
   ]
  },
  {
   "cell_type": "markdown",
   "id": "ae804a16",
   "metadata": {},
   "source": [
    "### Step 4: Collect and prepare data"
   ]
  },
  {
   "cell_type": "code",
   "execution_count": 168,
   "id": "b64539ae",
   "metadata": {},
   "outputs": [
    {
     "name": "stdout",
     "output_type": "stream",
     "text": [
      "The numbers of users served the new and old pages are 50 and 50 respectively\n",
      "The numbers of converted users who were served the new page are 33\n",
      "The numbers of converted users who were served the old page are 21\n"
     ]
    }
   ],
   "source": [
    "# Users in the treatment group are assigned new landing page, and control group are assigned old landing page\n",
    "# Find the sample size of each group\n",
    "new_page_sample_size = df[df[\"group\"]==\"treatment\"].group.count()\n",
    "old_page_sample_size = df[df[\"group\"]==\"control\"].group.count()\n",
    "\n",
    "#Find converted users in the new and old landing page\n",
    "new_converted = df[(df[\"group\"]==\"treatment\") & (df[\"converted\"]==\"yes\")].converted.count()\n",
    "old_converted = df[(df[\"group\"]==\"control\") & (df[\"converted\"]==\"yes\")].converted.count()\n",
    "\n",
    "print('The numbers of users served the new and old pages are {0} and {1} respectively'.format(new_page_sample_size, old_page_sample_size ))\n",
    "print('The numbers of converted users who were served the new page are {}'.format(new_converted))\n",
    "print('The numbers of converted users who were served the old page are {}'.format(old_converted))\n"
   ]
  },
  {
   "cell_type": "markdown",
   "id": "7e586bbb",
   "metadata": {},
   "source": [
    "### Step 5: Calculate the p-value"
   ]
  },
  {
   "cell_type": "code",
   "execution_count": 169,
   "id": "08e90232",
   "metadata": {},
   "outputs": [
    {
     "name": "stdout",
     "output_type": "stream",
     "text": [
      "The p-value is 0.016052616408112556\n"
     ]
    }
   ],
   "source": [
    "# import the required fuction\n",
    "from statsmodels.stats.proportion import proportions_ztest\n",
    "\n",
    "# set the counts of converted users in control and treatment group\n",
    "converted_count = np.array([33, 21])\n",
    "\n",
    "# set the sample sizes\n",
    "users = np.array([50, 50])\n",
    "\n",
    "# find the p-value\n",
    "test_stat, p_value = proportions_ztest(converted_count, users)\n",
    "print('The p-value is ' + str(p_value))"
   ]
  },
  {
   "cell_type": "markdown",
   "id": "ed13b67a",
   "metadata": {},
   "source": [
    "### Step 6: Compare the p-value with $\\alpha$"
   ]
  },
  {
   "cell_type": "code",
   "execution_count": 170,
   "id": "fe16ba04",
   "metadata": {},
   "outputs": [
    {
     "name": "stdout",
     "output_type": "stream",
     "text": [
      "Since the p-value 0.016052616408112556 is less than the level of significance, we reject the null hypothesis.\n"
     ]
    }
   ],
   "source": [
    "if p_value < 0.05:\n",
    "    print(\"Since the p-value {} is less than the level of significance, we reject the null hypothesis.\".format(p_value))\n",
    "else:\n",
    "    print(\"Since the p-value {} is greater than the level of significance, we fail to reject the null hypothesis.\".format(p_value))\n",
    "    "
   ]
  },
  {
   "cell_type": "markdown",
   "id": "f627566a",
   "metadata": {},
   "source": [
    "### Step 7:  Draw inference"
   ]
  },
  {
   "cell_type": "markdown",
   "id": "87d60132",
   "metadata": {
    "id": "6b16dd4b"
   },
   "source": [
    "### Insight\n",
    "<b> As the p-value (~0.016) is less than the level of significance (0.05), we can reject the null hypothesis. Hence, we do have enough evidence to support that the conversion rate (the proportion of users who visit the landing page and get converted) for the new page greater than the conversion rate for the old page </b>"
   ]
  },
  {
   "cell_type": "markdown",
   "id": "d49bfa2d",
   "metadata": {
    "id": "d49bfa2d"
   },
   "source": [
    "## 4. Is the conversion and preferred language are independent or related? (10 Marks)"
   ]
  },
  {
   "cell_type": "markdown",
   "id": "db7633b2",
   "metadata": {
    "id": "b7f52898"
   },
   "source": [
    "### Perform Visual Analysis"
   ]
  },
  {
   "cell_type": "code",
   "execution_count": 171,
   "id": "9be200ad",
   "metadata": {},
   "outputs": [
    {
     "data": {
      "image/png": "[encoded data removed]",
      "text/plain": [
       "<Figure size 720x360 with 1 Axes>"
      ]
     },
     "metadata": {
      "needs_background": "light"
     },
     "output_type": "display_data"
    }
   ],
   "source": [
    "plt.figure(figsize=(10,5))\n",
    "sns.countplot(x=\"language_preferred\", hue=\"converted\", data=df);\n",
    "plt.show()"
   ]
  },
  {
   "cell_type": "markdown",
   "id": "1c7cabfc",
   "metadata": {},
   "source": [
    "####  Insight\n",
    "1. The sample data shows that the conversion rate for users with preferred language as English is the highest, followed by Spanish and French. But it doesn't conclusively illustrate if there is a real dependency between the two variables. \n",
    "2. French has less converted users than those not converted. "
   ]
  },
  {
   "cell_type": "markdown",
   "id": "626cb31c",
   "metadata": {},
   "source": [
    "### Step 1: Define the null and alternate hypotheses"
   ]
  },
  {
   "cell_type": "markdown",
   "id": "2f1253f0",
   "metadata": {},
   "source": [
    "Null hypothesis\n",
    "\n",
    ">$H_0:$ Conversion and preferred language are independent of each other.\n",
    "\n",
    "Alternate hypothesis\n",
    "\n",
    ">$H_a:$ Conversion and preferred language are related. "
   ]
  },
  {
   "cell_type": "markdown",
   "id": "e46e49b4",
   "metadata": {},
   "source": [
    "### Step 2: Select Appropriate test"
   ]
  },
  {
   "cell_type": "markdown",
   "id": "f6b45623",
   "metadata": {},
   "source": [
    "#### Since both the variables are categorical, check if Chi-Square test for independence are satisfied. \n",
    "\n",
    "* Categorical variables - Both Conversion and Preferred language are categorical. \n",
    "* Expected value of the number of sample observations in each level of the variable is at least 5 - We can see from the above graph that number of observations in each level is greater than 5. \n",
    "* Random sampling from the population - It has been mentioned in the problem statement that the collected sample is a simple random sample.\n",
    "\n",
    "We can use Chi-Square test for independence "
   ]
  },
  {
   "cell_type": "markdown",
   "id": "cabcd96b",
   "metadata": {},
   "source": [
    "### Step 3: Decide the significance level"
   ]
  },
  {
   "cell_type": "markdown",
   "id": "427429fc",
   "metadata": {
    "id": "92d7d7ee"
   },
   "source": [
    "The level of significance needs to be considered as 0.05 as mentioned in the objective.\n",
    "\n",
    "α = 0.05"
   ]
  },
  {
   "cell_type": "markdown",
   "id": "7e2ec9ee",
   "metadata": {},
   "source": [
    "### Step 4: Collect and prepare data"
   ]
  },
  {
   "cell_type": "code",
   "execution_count": 176,
   "id": "b075a221",
   "metadata": {},
   "outputs": [
    {
     "data": {
      "text/html": [
       "<div>\n",
       "<style scoped>\n",
       "    .dataframe tbody tr th:only-of-type {\n",
       "        vertical-align: middle;\n",
       "    }\n",
       "\n",
       "    .dataframe tbody tr th {\n",
       "        vertical-align: top;\n",
       "    }\n",
       "\n",
       "    .dataframe thead th {\n",
       "        text-align: right;\n",
       "    }\n",
       "</style>\n",
       "<table border=\"1\" class=\"dataframe\">\n",
       "  <thead>\n",
       "    <tr style=\"text-align: right;\">\n",
       "      <th>language_preferred</th>\n",
       "      <th>English</th>\n",
       "      <th>French</th>\n",
       "      <th>Spanish</th>\n",
       "      <th>Total</th>\n",
       "    </tr>\n",
       "    <tr>\n",
       "      <th>converted</th>\n",
       "      <th></th>\n",
       "      <th></th>\n",
       "      <th></th>\n",
       "      <th></th>\n",
       "    </tr>\n",
       "  </thead>\n",
       "  <tbody>\n",
       "    <tr>\n",
       "      <th>no</th>\n",
       "      <td>11</td>\n",
       "      <td>19</td>\n",
       "      <td>16</td>\n",
       "      <td>46</td>\n",
       "    </tr>\n",
       "    <tr>\n",
       "      <th>yes</th>\n",
       "      <td>21</td>\n",
       "      <td>15</td>\n",
       "      <td>18</td>\n",
       "      <td>54</td>\n",
       "    </tr>\n",
       "    <tr>\n",
       "      <th>Total</th>\n",
       "      <td>32</td>\n",
       "      <td>34</td>\n",
       "      <td>34</td>\n",
       "      <td>100</td>\n",
       "    </tr>\n",
       "  </tbody>\n",
       "</table>\n",
       "</div>"
      ],
      "text/plain": [
       "language_preferred  English  French  Spanish  Total\n",
       "converted                                          \n",
       "no                       11      19       16     46\n",
       "yes                      21      15       18     54\n",
       "Total                    32      34       34    100"
      ]
     },
     "execution_count": 176,
     "metadata": {},
     "output_type": "execute_result"
    }
   ],
   "source": [
    "# create a contigency table to show the distribution of data across converted and pereferred language\n",
    "contigency_table = pd.crosstab(df.converted, df.language_preferred, margins = True, margins_name = \"Total\")\n",
    "contigency_table"
   ]
  },
  {
   "cell_type": "markdown",
   "id": "cb8c33f7",
   "metadata": {},
   "source": [
    "### Step 5: Calculate the p-value"
   ]
  },
  {
   "cell_type": "code",
   "execution_count": 177,
   "id": "ffcf514d",
   "metadata": {},
   "outputs": [
    {
     "name": "stdout",
     "output_type": "stream",
     "text": [
      "The p-value is 0.7970832186581233\n"
     ]
    }
   ],
   "source": [
    "# import the required function\n",
    "from scipy.stats import chi2_contingency\n",
    "\n",
    "# find the p-value\n",
    "chi, p_value, dof, expected = chi2_contingency(contigency_table)\n",
    "print('The p-value is', p_value)"
   ]
  },
  {
   "cell_type": "markdown",
   "id": "ce40b448",
   "metadata": {},
   "source": [
    "### Step 6: Compare the p-value with $\\alpha$"
   ]
  },
  {
   "cell_type": "code",
   "execution_count": 178,
   "id": "7805af63",
   "metadata": {},
   "outputs": [
    {
     "name": "stdout",
     "output_type": "stream",
     "text": [
      "Since the p-value 0.7970832186581233 is greater than the level of significance, we fail to reject the null hypothesis.\n"
     ]
    }
   ],
   "source": [
    "if p_value < 0.05:\n",
    "    print(\"Since the p-value {} is less than the level of significance, we reject the null hypothesis.\".format(p_value))\n",
    "else:\n",
    "    print(\"Since the p-value {} is greater than the level of significance, we fail to reject the null hypothesis.\".format(p_value))\n",
    "    "
   ]
  },
  {
   "cell_type": "markdown",
   "id": "5ece4b24",
   "metadata": {},
   "source": [
    "### Step 7:  Draw inference"
   ]
  },
  {
   "cell_type": "markdown",
   "id": "298cc266",
   "metadata": {
    "id": "6b16dd4b"
   },
   "source": [
    "### Insight\n",
    "<b> As the p-value (~0.797) is greater than the level of significance (0.05), we fail to reject the null hypothesis. Hence, we do not have enough evidence to support that conversion and preferred language are related. </b>"
   ]
  },
  {
   "cell_type": "markdown",
   "id": "8d585a90",
   "metadata": {
    "id": "8d585a90"
   },
   "source": [
    "## 5. Is the time spent on the new page same for the different language users? (10 Marks)"
   ]
  },
  {
   "cell_type": "markdown",
   "id": "881c6038",
   "metadata": {
    "id": "b7f52898"
   },
   "source": [
    "### Perform Visual Analysis"
   ]
  },
  {
   "cell_type": "code",
   "execution_count": 161,
   "id": "d6baa2ba",
   "metadata": {},
   "outputs": [
    {
     "data": {
      "image/png": "[encoded data removed]",
      "text/plain": [
       "<Figure size 432x288 with 1 Axes>"
      ]
     },
     "metadata": {
      "needs_background": "light"
     },
     "output_type": "display_data"
    }
   ],
   "source": [
    "# Plot histogram for visualisation\n",
    "sns.histplot(data=df[df[\"landing_page\"]==\"new\"],x = \"time_spent_on_the_page\",hue=\"language_preferred\",kde=True);"
   ]
  },
  {
   "cell_type": "markdown",
   "id": "ed02c75a",
   "metadata": {},
   "source": [
    "####  Insight\n",
    "1. For the sample, the time spent data on the new page appears to approach normal distribution for all three languages, with Spanish showing the most normal distribution of all three.\n"
   ]
  },
  {
   "cell_type": "markdown",
   "id": "1b16dcbb",
   "metadata": {},
   "source": [
    "### Step 1: Define the null and alternate hypotheses"
   ]
  },
  {
   "cell_type": "markdown",
   "id": "1b956322",
   "metadata": {},
   "source": [
    "#### Test of equality of means\n",
    "Consider $\\mu_E, \\mu_F, \\mu_S$ be the means of time spent on the new landing page for preferred language English, French and Spanish respectively.\n",
    "\n",
    "Null hypothesis\n",
    "\n",
    ">$H_0: \\mu_E = \\mu_F = \\mu_S$\n",
    "\n",
    "against the alternative hypothesis\n",
    "\n",
    ">$H_a: $ At least one mean value is different from the rest.\n"
   ]
  },
  {
   "cell_type": "markdown",
   "id": "499280f9",
   "metadata": {},
   "source": [
    "#### Shapiro-Wilk’s test - For test of normal distribution\n",
    "\n",
    "We will test the null hypothesis\n",
    "\n",
    ">$H_0:$ Time spent on the new page follows a normal distribution\n",
    "\n",
    "against the alternative hypothesis\n",
    "\n",
    ">$H_a:$ Time spent on the new page does not follow a normal distribution"
   ]
  },
  {
   "cell_type": "markdown",
   "id": "b89ac8f4",
   "metadata": {},
   "source": [
    "#### Levene’s test - For test of equality of variance\n",
    "\n",
    "We will test the null hypothesis\n",
    "\n",
    ">$H_0$: All the population variances are equal\n",
    "\n",
    "against the alternative hypothesis\n",
    "\n",
    ">$H_a$: At least one variance is different from the rest"
   ]
  },
  {
   "cell_type": "markdown",
   "id": "123a6cb9",
   "metadata": {},
   "source": [
    "### Step 2: Select Appropriate test"
   ]
  },
  {
   "cell_type": "markdown",
   "id": "936fc1be",
   "metadata": {},
   "source": [
    "* Test equality of means.\n",
    "\n",
    "* For testing of normality, Shapiro-Wilk’s test is applied to the response variable.\n",
    "\n",
    "* For equality of variance, Levene test is applied to the response variable.\n",
    "\n",
    "Here the response variable is time_spent_on_the_page and factor is language_preferred."
   ]
  },
  {
   "cell_type": "markdown",
   "id": "97886ae6",
   "metadata": {},
   "source": [
    "### Step 3: Decide the significance level"
   ]
  },
  {
   "cell_type": "markdown",
   "id": "0aa8a8f5",
   "metadata": {
    "id": "92d7d7ee"
   },
   "source": [
    "The level of significance needs to be considered as 0.05 as mentioned in the objective.\n",
    "\n",
    "α = 0.05"
   ]
  },
  {
   "cell_type": "markdown",
   "id": "470a7790",
   "metadata": {},
   "source": [
    "### Step 4: Collect and prepare data"
   ]
  },
  {
   "cell_type": "code",
   "execution_count": 160,
   "id": "11d0d57d",
   "metadata": {},
   "outputs": [
    {
     "name": "stdout",
     "output_type": "stream",
     "text": [
      "  language_preferred  mean_time_spent\n",
      "0            English         6.663750\n",
      "1             French         6.196471\n",
      "2            Spanish         5.835294\n"
     ]
    },
    {
     "data": {
      "image/png": "[encoded data removed]",
      "text/plain": [
       "<Figure size 1080x360 with 1 Axes>"
      ]
     },
     "metadata": {
      "needs_background": "light"
     },
     "output_type": "display_data"
    }
   ],
   "source": [
    "# Calculate the mean time spent on the new page for different language users\n",
    "mean_time_by_language =  df[[\"language_preferred\",\"time_spent_on_the_page\"]][df[\"landing_page\"]==\"new\"].groupby([\"language_preferred\"])[\"time_spent_on_the_page\"].mean().reset_index()\n",
    "\n",
    "# Rename order count column \n",
    "mean_time_by_language.rename(columns={\"time_spent_on_the_page\":\"mean_time_spent\"}, inplace = True)\n",
    "\n",
    "print(mean_time_by_language)\n",
    "\n",
    "plt.figure(figsize=(15,5))\n",
    "\n",
    "# seaborn pointplot to analyse time spent on the new landing page by preferred language \n",
    "ax = sns.pointplot(data = df[df[\"landing_page\"]==\"new\"], x = \"language_preferred\", \n",
    "                   y = \"time_spent_on_the_page\",\n",
    "                   ci = None)\n",
    "for c in ax.collections:         \n",
    "    for of in c.get_offsets():\n",
    "        ax.annotate(round(of[1],2),of)\n",
    "\n",
    "plt.show()\n"
   ]
  },
  {
   "cell_type": "markdown",
   "id": "4942a1ac",
   "metadata": {},
   "source": [
    "### Step 5: Calculate the p-value and compare with $\\alpha$"
   ]
  },
  {
   "cell_type": "markdown",
   "id": "ae5f470b",
   "metadata": {},
   "source": [
    "#### Shapiro-Wilk’s test - For test of normal distribution"
   ]
  },
  {
   "cell_type": "code",
   "execution_count": 150,
   "id": "56f144d0",
   "metadata": {},
   "outputs": [
    {
     "name": "stdout",
     "output_type": "stream",
     "text": [
      "The p-value is 0.8040016293525696\n"
     ]
    }
   ],
   "source": [
    "# Assumption 1: Normality\n",
    "# import the required function\n",
    "from scipy.stats import shapiro\n",
    "\n",
    "# find the p-value\n",
    "w, p_value = shapiro(df[df['landing_page'] == 'new']['time_spent_on_the_page']) \n",
    "print('The p-value is', p_value)"
   ]
  },
  {
   "cell_type": "markdown",
   "id": "b305a1fb",
   "metadata": {},
   "source": [
    "#### Compare the p-value with $\\alpha$"
   ]
  },
  {
   "cell_type": "code",
   "execution_count": 151,
   "id": "692f3621",
   "metadata": {},
   "outputs": [
    {
     "name": "stdout",
     "output_type": "stream",
     "text": [
      "Since the p-value 0.8040016293525696 is greater than the level of significance, we fail to reject the null hypothesis.\n"
     ]
    }
   ],
   "source": [
    "if p_value < 0.05:\n",
    "    print(\"Since the p-value {} is less than the level of significance, we reject the null hypothesis.\".format(p_value))\n",
    "else:\n",
    "    print(\"Since the p-value {} is greater than the level of significance, we fail to reject the null hypothesis.\".format(p_value))\n",
    "    "
   ]
  },
  {
   "cell_type": "markdown",
   "id": "7f29ee3b",
   "metadata": {},
   "source": [
    "#### Levene’s test - For test of equality of variance"
   ]
  },
  {
   "cell_type": "code",
   "execution_count": 154,
   "id": "60f11770",
   "metadata": {},
   "outputs": [
    {
     "name": "stdout",
     "output_type": "stream",
     "text": [
      "The p-value is 0.46711357711340173\n"
     ]
    }
   ],
   "source": [
    "#Assumption 2: Homogeneity of Variance\n",
    "#import the required function\n",
    "from scipy.stats import levene\n",
    "statistic, p_value = levene( df[(df['landing_page'] == 'new') & (df['language_preferred']==\"English\")]['time_spent_on_the_page'], \n",
    "                             df[(df['landing_page'] == 'new') & (df['language_preferred']==\"French\")]['time_spent_on_the_page'], \n",
    "                             df[(df['landing_page'] == 'new') & (df['language_preferred']==\"Spanish\")]['time_spent_on_the_page'])\n",
    "# find the p-value\n",
    "print('The p-value is', p_value)"
   ]
  },
  {
   "cell_type": "markdown",
   "id": "bd6a503d",
   "metadata": {},
   "source": [
    "#### Compare the p-value with $\\alpha$"
   ]
  },
  {
   "cell_type": "code",
   "execution_count": 155,
   "id": "c4390f92",
   "metadata": {},
   "outputs": [
    {
     "name": "stdout",
     "output_type": "stream",
     "text": [
      "Since the p-value 0.46711357711340173 is greater than the level of significance, we fail to reject the null hypothesis.\n"
     ]
    }
   ],
   "source": [
    "if p_value < 0.05:\n",
    "    print(\"Since the p-value {} is less than the level of significance, we reject the null hypothesis.\".format(p_value))\n",
    "else:\n",
    "    print(\"Since the p-value {} is greater than the level of significance, we fail to reject the null hypothesis.\".format(p_value))\n",
    "    "
   ]
  },
  {
   "cell_type": "markdown",
   "id": "87479388",
   "metadata": {},
   "source": [
    "#### Conclusion\n",
    "\n",
    "1. The populations are normally distributed - <b> Yes, the normality assumption is verified using the Shapiro-Wilk’s test.</b>\n",
    "2. Population variances are equal - <b> Yes, the homogeneity of variance assumption is verified using the Levene's test.</b>\n",
    "\n",
    "Also, we know that the collected sample is a simple random sample. This qualifies for a f-one way test"
   ]
  },
  {
   "cell_type": "code",
   "execution_count": 156,
   "id": "0cb14ffe",
   "metadata": {},
   "outputs": [
    {
     "name": "stdout",
     "output_type": "stream",
     "text": [
      "The p-value is 0.43204138694325955\n"
     ]
    }
   ],
   "source": [
    "#import the required function\n",
    "from scipy.stats import f_oneway\n",
    "\n",
    "# perform one-way anova test\n",
    "test_stat, p_value = f_oneway(df[(df['landing_page'] == 'new') & (df['language_preferred']==\"English\")]['time_spent_on_the_page'], \n",
    "                             df[(df['landing_page'] == 'new') & (df['language_preferred']==\"French\")]['time_spent_on_the_page'], \n",
    "                             df[(df['landing_page'] == 'new') & (df['language_preferred']==\"Spanish\")]['time_spent_on_the_page'])\n",
    "print('The p-value is ' + str(p_value))"
   ]
  },
  {
   "cell_type": "markdown",
   "id": "1bb6d466",
   "metadata": {},
   "source": [
    "#### Compare the p-value with $\\alpha$"
   ]
  },
  {
   "cell_type": "code",
   "execution_count": 157,
   "id": "8859f56a",
   "metadata": {},
   "outputs": [
    {
     "name": "stdout",
     "output_type": "stream",
     "text": [
      "Since the p-value 0.43204138694325955 is greater than the level of significance, we fail to reject the null hypothesis.\n"
     ]
    }
   ],
   "source": [
    "if p_value < 0.05:\n",
    "    print(\"Since the p-value {} is less than the level of significance, we reject the null hypothesis.\".format(p_value))\n",
    "else:\n",
    "    print(\"Since the p-value {} is greater than the level of significance, we fail to reject the null hypothesis.\".format(p_value))\n",
    "    "
   ]
  },
  {
   "cell_type": "markdown",
   "id": "b9e79693",
   "metadata": {},
   "source": [
    "### Step 7:  Draw inference"
   ]
  },
  {
   "cell_type": "markdown",
   "id": "74ff9370",
   "metadata": {},
   "source": [
    "### Insight \n",
    "<b> As the p-value is greater than the significance level, we fail to reject the null hypothesis. Hence, we do not have enough statistical significance to conclude that  at least one language has different time spent on the new landing page than others. </b>"
   ]
  },
  {
   "cell_type": "markdown",
   "id": "3acbc947",
   "metadata": {
    "id": "3acbc947"
   },
   "source": [
    "## Conclusion and Business Recommendations"
   ]
  },
  {
   "cell_type": "markdown",
   "id": "21fb1063",
   "metadata": {
    "id": "21fb1063"
   },
   "source": [
    "### Conclusions\n",
    "Below are some inferences about the population we could derive from the given sample. \n",
    "1. Overall, users have time spent more time on the new landing page than the old landing page.\n",
    "2. More users in the treatment group who were served with the new landing page got converted to subscribers, than those in the control group, i.e. the conversion rate on the new landing page is higher than the old landing page. \n",
    "3. The sample data suggests that the converted users in both control and treatment group have spent more time on the landing pages (both old and new), than those who haven't.\n",
    "4. Although the sample data suggests that there are more converted users with preferred language as English, there is not enough statistical evidence to conclude that conversion rate has any dependency on preferred language. \n",
    "5. Although the sample data suggests that users with preferred language English have spent more time on the new landing page, there is not enough statistical evidence to support that the times spent on the new landing page varies by preferred language. \n",
    "\n",
    "\n",
    "### Business Recommendations\n",
    "1. Since the new landing page is attracting more subscribers, it can be rolled out on the news portal. \n",
    "2. More observations are needed to understand if preferred language is influencing the time a user spends on the landing page, thereby impacting conversion rate / subscriptions.\n",
    "3. Since the time spent on the new landing page is resulting in increased conversion rate, it's imperative to keep relevant and most up-to-date information on the new landing page in a user friendly view to retain subscribers (low churn rate)  "
   ]
  }
 ],
 "metadata": {
  "colab": {
   "collapsed_sections": [],
   "name": "ENews_Express_Learner_Notebook[Full Code Version].ipynb",
   "provenance": []
  },
  "kernelspec": {
   "display_name": "Python 3",
   "language": "python",
   "name": "python3"
  },
  "language_info": {
   "codemirror_mode": {
    "name": "ipython",
    "version": 3
   },
   "file_extension": ".py",
   "mimetype": "text/x-python",
   "name": "python",
   "nbconvert_exporter": "python",
   "pygments_lexer": "ipython3",
   "version": "3.8.8"
  }
 },
 "nbformat": 4,
 "nbformat_minor": 5
}
