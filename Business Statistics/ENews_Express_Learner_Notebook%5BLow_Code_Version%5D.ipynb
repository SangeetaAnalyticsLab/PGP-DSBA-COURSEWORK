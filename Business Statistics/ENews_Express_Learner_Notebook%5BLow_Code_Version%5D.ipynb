{
 "cells": [
  {
   "cell_type": "markdown",
   "id": "6yDxo9u0d9Na",
   "metadata": {
    "id": "6yDxo9u0d9Na"
   },
   "source": [
    "# Project Business Statistics: E-news Express\n",
    "\n",
    "**Marks: 60**"
   ]
  },
  {
   "cell_type": "markdown",
   "id": "vRA7sCqKDB-K",
   "metadata": {
    "id": "vRA7sCqKDB-K"
   },
   "source": [
    "### **Please read the instructions carefully before starting the project.** \n",
    "This is a commented Jupyter IPython Notebook file in which all the instructions and tasks to be performed are mentioned. \n",
    "* Blanks '_______' are provided in the notebook that \n",
    "needs to be filled with an appropriate code to get the correct result. With every '_______' blank, there is a comment that briefly describes what needs to be filled in the blank space. \n",
    "* Identify the task to be performed correctly, and only then proceed to write the required code.\n",
    "* Fill the code wherever asked by the commented lines like \"# write your code here\" or \"# complete the code\". Running incomplete code may throw error.\n",
    "* Please run the codes in a sequential manner from the beginning to avoid any unnecessary errors.\n",
    "* Add the results/observations (wherever mentioned) derived from the analysis in the presentation and submit the same. Any mathematical or computational details which are a graded part of the project can be included in the Appendix section of the presentation.\n",
    "\n",
    "\n",
    "\n"
   ]
  },
  {
   "cell_type": "markdown",
   "id": "0f3ba03a",
   "metadata": {
    "id": "0f3ba03a"
   },
   "source": [
    "## Context\n",
    "\n",
    "An online news portal aims to expand its business by acquiring new subscribers. Every visitor to the website takes certain actions based on their interest. The company plans to analyze these interests and wants to determine whether a new feature will be effective or not. Companies often analyze users' responses to two variants of a product to decide which of the two variants is more effective. This experimental technique is known as a/b testing that is used to determine whether a new feature attracts users based on a chosen metric.\n",
    "\n",
    "## Objective\n",
    "Suppose you are hired as a Data Scientist in E-news Express. The design team of the company has created a new landing page. You have been assigned the task to decide whether the new landing page is more effective to gather new subscribers. Suppose you randomly selected 100 users and divided them equally into two groups. The old landing page is served to the first group (control group) and the new landing page is served to the second group (treatment group). Various data about the customers in both groups are collected in 'abtest.csv'. Perform the statistical analysis to answer the following questions using the collected data.\n",
    "\n",
    "1. Explore the dataset and extract insights using Exploratory Data Analysis.\n",
    "\n",
    "2. Do the users spend more time on the new landing page than the existing landing page?\n",
    "\n",
    "3. Is the conversion rate (the proportion of users who visit the landing page and get converted) for the new page greater than the conversion rate for the old page?\n",
    "\n",
    "4. Does the converted status depend on the preferred language? [Hint: Create a contingency table using the pandas.crosstab() function]\n",
    "\n",
    "5. Is the time spent on the new page same for the different language users?\n",
    "\n",
    "\n",
    "*Consider a significance level of 0.05 for all tests.\n",
    "\n",
    "The  idea  behind  answering  these  questions  is  to  decide  whether  the  new  page  is  effective  enough  to  gather  new subscribers for the news portal. We will perform the statistical analysis on the collected data to make the business decision.\n"
   ]
  },
  {
   "cell_type": "markdown",
   "id": "0c2d35fa",
   "metadata": {
    "id": "0c2d35fa"
   },
   "source": [
    "## Data Dictionary\n",
    "\n",
    "1. user_id - This represents the user ID of the person visiting the website.\n",
    "\n",
    "2. group - This represents whether the user belongs to the first group (control) or the second group (treatment).\n",
    "\n",
    "3. landing_page - This represents whether the landing page is new or old.\n",
    "\n",
    "4. time_spent_on_the_page - This represents the time (in minutes) spent by the user on the landing page.\n",
    "\n",
    "5. converted - This represents whether the user gets converted to a subscriber of the news portal or not.\n",
    "\n",
    "6. language_preferred - This represents the language chosen by the user to view the landing page."
   ]
  },
  {
   "cell_type": "markdown",
   "id": "a6a3d218",
   "metadata": {
    "id": "a6a3d218"
   },
   "source": [
    "## Import all the necessary libraries"
   ]
  },
  {
   "cell_type": "code",
   "execution_count": null,
   "id": "658c5dec",
   "metadata": {
    "id": "658c5dec"
   },
   "outputs": [],
   "source": [
    "import numpy as np\n",
    "import pandas as pd\n",
    "from matplotlib import pyplot as plt\n",
    "import seaborn as sns"
   ]
  },
  {
   "cell_type": "markdown",
   "id": "9d75cfa2",
   "metadata": {
    "id": "9d75cfa2"
   },
   "source": [
    "## 1. Explore the dataset and extract insights using Exploratory Data Analysis. (8 + 6 = 14 Marks)"
   ]
  },
  {
   "cell_type": "markdown",
   "id": "27201534",
   "metadata": {
    "id": "27201534"
   },
   "source": [
    "### Exploratory Data Analysis - Step by step approach\n",
    "\n",
    "Typical Data exploration activity consists of the following steps:\n",
    "1.\tImporting Data\n",
    "2.\tVariable Identification\n",
    "3.  Variable Transformation/Feature Creation\n",
    "4.  Missing value detection\n",
    "5.\tUnivariate Analysis\n",
    "6.\tBivariate Analysis"
   ]
  },
  {
   "cell_type": "markdown",
   "id": "6970dd99",
   "metadata": {
    "id": "6970dd99"
   },
   "source": [
    "### Reading the Data into a DataFrame"
   ]
  },
  {
   "cell_type": "code",
   "execution_count": null,
   "id": "d3b95640",
   "metadata": {
    "id": "d3b95640"
   },
   "outputs": [],
   "source": [
    "# complete the code below to load the dataset\n",
    "df = pd.read_csv('_______')"
   ]
  },
  {
   "cell_type": "markdown",
   "id": "a4e471fd",
   "metadata": {
    "id": "a4e471fd"
   },
   "source": [
    "### Data Overview"
   ]
  },
  {
   "cell_type": "code",
   "execution_count": null,
   "id": "e1ad11d4",
   "metadata": {
    "id": "e1ad11d4"
   },
   "outputs": [],
   "source": [
    "# view a few rows of the data frame\n",
    "df.head()"
   ]
  },
  {
   "cell_type": "code",
   "execution_count": null,
   "id": "6n1XyRa3_VMg",
   "metadata": {
    "id": "6n1XyRa3_VMg"
   },
   "outputs": [],
   "source": [
    "# view the shape of the data frame\n",
    "df.shape"
   ]
  },
  {
   "cell_type": "code",
   "execution_count": null,
   "id": "BeDOZQ99_mQE",
   "metadata": {
    "id": "BeDOZQ99_mQE"
   },
   "outputs": [],
   "source": [
    "# check the data types of the columns in the data frame\n",
    "df.info()"
   ]
  },
  {
   "cell_type": "markdown",
   "id": "UqA39o_2_7-j",
   "metadata": {
    "id": "UqA39o_2_7-j"
   },
   "source": [
    "### Fixing the data types"
   ]
  },
  {
   "cell_type": "markdown",
   "id": "yr0H05A9ABMK",
   "metadata": {
    "id": "yr0H05A9ABMK"
   },
   "source": [
    "`converting \"objects\" to \"category\" reduces the space required to store the DataFrame. It also helps in analysis`"
   ]
  },
  {
   "cell_type": "code",
   "execution_count": null,
   "id": "DgTMQzFYADAs",
   "metadata": {
    "id": "DgTMQzFYADAs"
   },
   "outputs": [],
   "source": [
    "df['group'] = df['group'].astype('category')\n",
    "df['landing_page'] = df['landing_page'].astype('category')\n",
    "df['converted'] = df['converted'].astype('category')\n",
    "df['language_preferred'] = df['language_preferred'].astype('category')"
   ]
  },
  {
   "cell_type": "markdown",
   "id": "UdbuWJTvukrz",
   "metadata": {
    "id": "UdbuWJTvukrz"
   },
   "source": [
    "### Check for missing values"
   ]
  },
  {
   "cell_type": "code",
   "execution_count": null,
   "id": "NPQfOZgAALLC",
   "metadata": {
    "id": "NPQfOZgAALLC"
   },
   "outputs": [],
   "source": [
    "# write your code here  "
   ]
  },
  {
   "cell_type": "markdown",
   "id": "9eg5bcF7Qd8S",
   "metadata": {
    "id": "9eg5bcF7Qd8S"
   },
   "source": [
    "### Five Point Summary"
   ]
  },
  {
   "cell_type": "code",
   "execution_count": null,
   "id": "mHcaTfF0Abjp",
   "metadata": {
    "id": "mHcaTfF0Abjp"
   },
   "outputs": [],
   "source": [
    "# write your code here to print the summary statistics\n",
    "\n"
   ]
  },
  {
   "cell_type": "code",
   "execution_count": null,
   "id": "-EckQbpMAsp1",
   "metadata": {
    "id": "-EckQbpMAsp1"
   },
   "outputs": [],
   "source": [
    "df['group'].value_counts()"
   ]
  },
  {
   "cell_type": "code",
   "execution_count": null,
   "id": "6LlJXjzBA_jP",
   "metadata": {
    "id": "6LlJXjzBA_jP"
   },
   "outputs": [],
   "source": [
    "df['landing_page'].value_counts()"
   ]
  },
  {
   "cell_type": "code",
   "execution_count": null,
   "id": "z80t7LK5BCBT",
   "metadata": {
    "id": "z80t7LK5BCBT"
   },
   "outputs": [],
   "source": [
    "df['converted'].value_counts()"
   ]
  },
  {
   "cell_type": "code",
   "execution_count": null,
   "id": "_g2CBicdBDF0",
   "metadata": {
    "id": "_g2CBicdBDF0"
   },
   "outputs": [],
   "source": [
    "df['language_preferred'].value_counts()"
   ]
  },
  {
   "cell_type": "markdown",
   "id": "CIljftw7BEnX",
   "metadata": {
    "id": "CIljftw7BEnX"
   },
   "source": [
    "**Observations**\n",
    "* There are 100 unique users.\n",
    "* There are 2 unique groups - control and treatment. Each group consists of 50 users.\n",
    "* There are 2 landing_pages - new and old.\n",
    "* Overall, 54 users get converted and 46 users do not get converted after visiting the landing page.\n",
    "* There are 3 unique preferred languages - English, French, and Spanish."
   ]
  },
  {
   "cell_type": "markdown",
   "id": "68f3b2c9",
   "metadata": {
    "id": "68f3b2c9"
   },
   "source": [
    "### Univariate Analysis"
   ]
  },
  {
   "cell_type": "code",
   "execution_count": null,
   "id": "1932d0f3",
   "metadata": {
    "id": "1932d0f3"
   },
   "outputs": [],
   "source": [
    "# function to plot a boxplot and a histogram along the same scale.\n",
    "\n",
    "\n",
    "def histogram_boxplot(data, feature, figsize=(12, 7), kde=False, bins=None):\n",
    "    \"\"\"\n",
    "    Boxplot and histogram combined\n",
    "\n",
    "    data: dataframe\n",
    "    feature: dataframe column\n",
    "    figsize: size of figure (default (12,7))\n",
    "    kde: whether to show the density curve (default False)\n",
    "    bins: number of bins for histogram (default None)\n",
    "    \"\"\"\n",
    "    f2, (ax_box2, ax_hist2) = plt.subplots(\n",
    "        nrows=2,  # Number of rows of the subplot grid= 2\n",
    "        sharex=True,  # x-axis will be shared among all subplots\n",
    "        gridspec_kw={\"height_ratios\": (0.25, 0.75)},\n",
    "        figsize=figsize,\n",
    "    )  # creating the 2 subplots\n",
    "    sns.boxplot(\n",
    "        data=data, x=feature, ax=ax_box2, showmeans=True, color=\"violet\"\n",
    "    )  # boxplot will be created and a star will indicate the mean value of the column\n",
    "    sns.histplot(\n",
    "        data=data, x=feature, kde=kde, ax=ax_hist2, bins=bins, palette=\"winter\"\n",
    "    ) if bins else sns.histplot(\n",
    "        data=data, x=feature, kde=kde, ax=ax_hist2\n",
    "    )  # For histogram\n",
    "    ax_hist2.axvline(\n",
    "        data[feature].mean(), color=\"green\", linestyle=\"--\"\n",
    "    )  # Add mean to the histogram\n",
    "    ax_hist2.axvline(\n",
    "        data[feature].median(), color=\"black\", linestyle=\"-\"\n",
    "    )  # Add median to the histogram"
   ]
  },
  {
   "cell_type": "markdown",
   "id": "NAkPh1ThBTGD",
   "metadata": {
    "id": "NAkPh1ThBTGD"
   },
   "source": [
    "#### Time spent on the page"
   ]
  },
  {
   "cell_type": "code",
   "execution_count": null,
   "id": "3dsXz9R6BXIX",
   "metadata": {
    "id": "3dsXz9R6BXIX"
   },
   "outputs": [],
   "source": [
    "histogram_boxplot(df,\"time_spent_on_the_page\")"
   ]
  },
  {
   "cell_type": "code",
   "execution_count": null,
   "id": "2fce6350",
   "metadata": {
    "id": "2fce6350"
   },
   "outputs": [],
   "source": [
    "# function to create labeled barplots\n",
    "\n",
    "\n",
    "def labeled_barplot(data, feature, perc=False, n=None):\n",
    "    \"\"\"\n",
    "    Barplot with percentage at the top\n",
    "\n",
    "    data: dataframe\n",
    "    feature: dataframe column\n",
    "    perc: whether to display percentages instead of count (default is False)\n",
    "    n: displays the top n category levels (default is None, i.e., display all levels)\n",
    "    \"\"\"\n",
    "\n",
    "    total = len(data[feature])  # length of the column\n",
    "    count = data[feature].nunique()\n",
    "    if n is None:\n",
    "        plt.figure(figsize=(count + 1, 5))\n",
    "    else:\n",
    "        plt.figure(figsize=(n + 1, 5))\n",
    "\n",
    "    plt.xticks(rotation=90, fontsize=15)\n",
    "    ax = sns.countplot(data=data, x=feature, palette=\"Paired\", order=data[feature].value_counts().index[:n].sort_values())\n",
    "\n",
    "    for p in ax.patches:\n",
    "        if perc == True:\n",
    "            label = \"{:.1f}%\".format(100 * p.get_height() / total)  # percentage of each class of the category\n",
    "        else:\n",
    "            label = p.get_height()  # count of each level of the category\n",
    "\n",
    "        x = p.get_x() + p.get_width() / 2  # width of the plot\n",
    "        y = p.get_height()      # height of the plot\n",
    "\n",
    "        ax.annotate(label, (x, y), ha=\"center\", va=\"center\", size=12, xytext=(0, 5), textcoords=\"offset points\")  # annotate the percentage\n",
    "\n",
    "    plt.show()  # show the plot"
   ]
  },
  {
   "cell_type": "markdown",
   "id": "e6f99481",
   "metadata": {
    "id": "e6f99481"
   },
   "source": [
    "#### Group"
   ]
  },
  {
   "cell_type": "code",
   "execution_count": null,
   "id": "ROvZjuEGBm0t",
   "metadata": {
    "id": "ROvZjuEGBm0t"
   },
   "outputs": [],
   "source": [
    "labeled_barplot(df,'group',perc = True)"
   ]
  },
  {
   "cell_type": "markdown",
   "id": "sSdc8YDbBr9Y",
   "metadata": {
    "id": "sSdc8YDbBr9Y"
   },
   "source": [
    "#### Landing page"
   ]
  },
  {
   "cell_type": "code",
   "execution_count": null,
   "id": "CbIZgbOzBuxF",
   "metadata": {
    "id": "CbIZgbOzBuxF"
   },
   "outputs": [],
   "source": [
    "# write the code to plot the barplot of 'landing_page' column\n",
    "\n"
   ]
  },
  {
   "cell_type": "markdown",
   "id": "3Rex1rUxB3YZ",
   "metadata": {
    "id": "3Rex1rUxB3YZ"
   },
   "source": [
    "#### Converted"
   ]
  },
  {
   "cell_type": "code",
   "execution_count": null,
   "id": "qIMrpxF4B7an",
   "metadata": {
    "id": "qIMrpxF4B7an"
   },
   "outputs": [],
   "source": [
    "# write the code to plot the barplot of 'converted' column\n",
    "\n"
   ]
  },
  {
   "cell_type": "markdown",
   "id": "agkGFqokCOb8",
   "metadata": {
    "id": "agkGFqokCOb8"
   },
   "source": [
    "#### Language preferred"
   ]
  },
  {
   "cell_type": "code",
   "execution_count": null,
   "id": "BYnVZH8ECQaY",
   "metadata": {
    "id": "BYnVZH8ECQaY"
   },
   "outputs": [],
   "source": [
    "# write the code to plot the barplot of 'language_preferred' column\n",
    "\n"
   ]
  },
  {
   "cell_type": "markdown",
   "id": "fad2de2f",
   "metadata": {
    "id": "fad2de2f"
   },
   "source": [
    "### Bivariate Analysis"
   ]
  },
  {
   "cell_type": "markdown",
   "id": "58e9a1d0",
   "metadata": {
    "id": "58e9a1d0"
   },
   "source": [
    "#### Landing page vs Time spent on the page"
   ]
  },
  {
   "cell_type": "code",
   "execution_count": null,
   "id": "2y7N8qQiDEfn",
   "metadata": {
    "id": "2y7N8qQiDEfn"
   },
   "outputs": [],
   "source": [
    "plt.figure(figsize=(9, 9))\n",
    "sns.histplot(data = df, x = 'time_spent_on_the_page', hue = 'landing_page')\n",
    "plt.show()"
   ]
  },
  {
   "cell_type": "markdown",
   "id": "q9dW3eB-DTBF",
   "metadata": {
    "id": "q9dW3eB-DTBF"
   },
   "source": [
    "#### Conversion status vs Time spent on the page"
   ]
  },
  {
   "cell_type": "code",
   "execution_count": null,
   "id": "yPqV_UsvDURc",
   "metadata": {
    "id": "yPqV_UsvDURc"
   },
   "outputs": [],
   "source": [
    "# write the code to plot a suitable graph to understand the relationship between 'time_spent_on_the_page' and 'converted' columns\n",
    "\n"
   ]
  },
  {
   "cell_type": "markdown",
   "id": "67Ozc0p8Dmbe",
   "metadata": {
    "id": "67Ozc0p8Dmbe"
   },
   "source": [
    "#### Language preferred vs Time spent on the page"
   ]
  },
  {
   "cell_type": "code",
   "execution_count": null,
   "id": "IaFp53rDDn2W",
   "metadata": {
    "id": "IaFp53rDDn2W"
   },
   "outputs": [],
   "source": [
    "# write the code to plot a suitable graph to understand the distribution of 'time_spent_on_the_page' among the 'language_preferred'\n",
    "# Hint: A boxplot can be used.\n",
    "\n"
   ]
  },
  {
   "cell_type": "markdown",
   "id": "27906576",
   "metadata": {
    "id": "27906576"
   },
   "source": [
    "## 2. Do the users spend more time on the new landing page than the existing landing page? (10 Marks)"
   ]
  },
  {
   "cell_type": "markdown",
   "id": "e5fdf0c8",
   "metadata": {
    "id": "e5fdf0c8"
   },
   "source": [
    "### Perform Visual Analysis"
   ]
  },
  {
   "cell_type": "code",
   "execution_count": 1,
   "id": "6eZJa41eg21n",
   "metadata": {
    "id": "6eZJa41eg21n"
   },
   "outputs": [
    {
     "ename": "NameError",
     "evalue": "name 'plt' is not defined",
     "output_type": "error",
     "traceback": [
      "\u001b[0;31m---------------------------------------------------------------------------\u001b[0m",
      "\u001b[0;31mNameError\u001b[0m                                 Traceback (most recent call last)",
      "\u001b[0;32m<ipython-input-1-3fcd331773fd>\u001b[0m in \u001b[0;36m<module>\u001b[0;34m\u001b[0m\n\u001b[1;32m      1\u001b[0m \u001b[0;31m# visual analysis of the time spent on the new page\u001b[0m\u001b[0;34m\u001b[0m\u001b[0;34m\u001b[0m\u001b[0;34m\u001b[0m\u001b[0m\n\u001b[1;32m      2\u001b[0m \u001b[0;31m# and the time spent on the old page\u001b[0m\u001b[0;34m\u001b[0m\u001b[0;34m\u001b[0m\u001b[0;34m\u001b[0m\u001b[0m\n\u001b[0;32m----> 3\u001b[0;31m \u001b[0mplt\u001b[0m\u001b[0;34m.\u001b[0m\u001b[0mfigure\u001b[0m\u001b[0;34m(\u001b[0m\u001b[0mfigsize\u001b[0m\u001b[0;34m=\u001b[0m\u001b[0;34m(\u001b[0m\u001b[0;36m8\u001b[0m\u001b[0;34m,\u001b[0m\u001b[0;36m6\u001b[0m\u001b[0;34m)\u001b[0m\u001b[0;34m)\u001b[0m\u001b[0;34m\u001b[0m\u001b[0;34m\u001b[0m\u001b[0m\n\u001b[0m\u001b[1;32m      4\u001b[0m \u001b[0msns\u001b[0m\u001b[0;34m.\u001b[0m\u001b[0mboxplot\u001b[0m\u001b[0;34m(\u001b[0m\u001b[0mx\u001b[0m \u001b[0;34m=\u001b[0m \u001b[0;34m'landing_page'\u001b[0m\u001b[0;34m,\u001b[0m \u001b[0my\u001b[0m \u001b[0;34m=\u001b[0m \u001b[0;34m'time_spent_on_the_page'\u001b[0m\u001b[0;34m,\u001b[0m \u001b[0mdata\u001b[0m \u001b[0;34m=\u001b[0m \u001b[0mdf\u001b[0m\u001b[0;34m)\u001b[0m\u001b[0;34m\u001b[0m\u001b[0;34m\u001b[0m\u001b[0m\n\u001b[1;32m      5\u001b[0m \u001b[0mplt\u001b[0m\u001b[0;34m.\u001b[0m\u001b[0mshow\u001b[0m\u001b[0;34m(\u001b[0m\u001b[0;34m)\u001b[0m\u001b[0;34m\u001b[0m\u001b[0;34m\u001b[0m\u001b[0m\n",
      "\u001b[0;31mNameError\u001b[0m: name 'plt' is not defined"
     ]
    }
   ],
   "source": [
    "# visual analysis of the time spent on the new page\n",
    "# and the time spent on the old page\n",
    "plt.figure(figsize=(8,6))\n",
    "sns.boxplot(x = 'landing_page', y = 'time_spent_on_the_page', data = df)\n",
    "plt.show()"
   ]
  },
  {
   "cell_type": "markdown",
   "id": "56b3dafd",
   "metadata": {
    "id": "56b3dafd"
   },
   "source": [
    "### Step 1: Define the null and alternate hypotheses"
   ]
  },
  {
   "cell_type": "markdown",
   "id": "d2ac77ef",
   "metadata": {
    "id": "d2ac77ef"
   },
   "source": [
    "\n",
    "\n",
    "\n"
   ]
  },
  {
   "cell_type": "markdown",
   "id": "c7ee4907",
   "metadata": {
    "id": "c7ee4907"
   },
   "source": [
    "### Step 2: Select Appropriate test"
   ]
  },
  {
   "cell_type": "markdown",
   "id": "2c183cd7",
   "metadata": {
    "id": "2c183cd7"
   },
   "source": [
    "This is a one-tailed test concerning two population means from two independent populations. The population standard deviations are unknown. **Based on this information, select the appropriate test**."
   ]
  },
  {
   "cell_type": "markdown",
   "id": "3f58c9a7",
   "metadata": {
    "id": "3f58c9a7"
   },
   "source": [
    "### Step 3: Decide the significance level"
   ]
  },
  {
   "cell_type": "markdown",
   "id": "92d7d7ee",
   "metadata": {
    "id": "92d7d7ee"
   },
   "source": [
    "As given in the problem statement, we select α = 0.05."
   ]
  },
  {
   "cell_type": "markdown",
   "id": "5fed2eac",
   "metadata": {
    "id": "5fed2eac"
   },
   "source": [
    "### Step 4: Collect and prepare data"
   ]
  },
  {
   "cell_type": "code",
   "execution_count": null,
   "id": "f5a59495",
   "metadata": {
    "id": "f5a59495"
   },
   "outputs": [],
   "source": [
    "# create subsetted data frame for new landing page users \n",
    "time_spent_new = df[df['landing_page'] == 'new']['time_spent_on_the_page']\n",
    "# create subsetted data frame for old landing page users\n",
    "time_spent_old = #write your code here\n"
   ]
  },
  {
   "cell_type": "code",
   "execution_count": null,
   "id": "tNGXW88MFxFz",
   "metadata": {
    "id": "tNGXW88MFxFz"
   },
   "outputs": [],
   "source": [
    "print('The sample standard deviation of the time spent on the new page is:', round(time_spent_new.std(),2))\n",
    "print('The sample standard deviation of the time spent on the new page is:', round(time_spent_old.std(),2))"
   ]
  },
  {
   "cell_type": "markdown",
   "id": "Qa4jX7dwF1w-",
   "metadata": {
    "id": "Qa4jX7dwF1w-"
   },
   "source": [
    "**Based on the sample standard deviations of the two groups, decide whether the population standard deviations can be assumed to be equal or unequal**."
   ]
  },
  {
   "cell_type": "markdown",
   "id": "f5c5258d",
   "metadata": {
    "id": "f5c5258d"
   },
   "source": [
    "### Step 5: Calculate the p-value"
   ]
  },
  {
   "cell_type": "code",
   "execution_count": null,
   "id": "fac8594a",
   "metadata": {
    "id": "fac8594a"
   },
   "outputs": [],
   "source": [
    "# complete the code to import the required function\n",
    "from scipy.stats import ______ \n",
    "\n",
    "# write the code to calculate the p-value\n",
    "test_stat, p_value =    #write your code here\n",
    "\n",
    "print('The p-value is', p_value)"
   ]
  },
  {
   "cell_type": "markdown",
   "id": "359b12f8",
   "metadata": {
    "id": "359b12f8"
   },
   "source": [
    "### Step 6: Compare the p-value with $\\alpha$"
   ]
  },
  {
   "cell_type": "code",
   "execution_count": null,
   "id": "7be47289",
   "metadata": {
    "id": "7be47289"
   },
   "outputs": [],
   "source": [
    "# print the conclusion based on p-value\n",
    "if p_value < 0.05:\n",
    "    print(f'As the p-value {p_value} is less than the level of significance, we reject the null hypothesis.')\n",
    "else:\n",
    "    print(f'As the p-value {p_value} is greater than the level of significance, we fail to reject the null hypothesis.')"
   ]
  },
  {
   "cell_type": "markdown",
   "id": "d9affc84",
   "metadata": {
    "id": "d9affc84"
   },
   "source": [
    "### Step 7:  Draw inference"
   ]
  },
  {
   "cell_type": "markdown",
   "id": "6b16dd4b",
   "metadata": {
    "id": "6b16dd4b"
   },
   "source": [
    "\n",
    "\n"
   ]
  },
  {
   "cell_type": "markdown",
   "id": "353e9d24",
   "metadata": {
    "id": "353e9d24"
   },
   "source": [
    "## 3. Is the conversion rate (the proportion of users who visit the landing page and get converted) for the new page greater than the conversion rate for the old page? (10 Marks)"
   ]
  },
  {
   "cell_type": "markdown",
   "id": "ZmZfv9znHmuI",
   "metadata": {
    "id": "ZmZfv9znHmuI"
   },
   "source": [
    "### Perform Visual Analysis"
   ]
  },
  {
   "cell_type": "code",
   "execution_count": null,
   "id": "b7f52898",
   "metadata": {
    "id": "b7f52898"
   },
   "outputs": [],
   "source": [
    "# write the code to visually compare the conversion rate for the new page and the conversion rate for the old page\n",
    "\n"
   ]
  },
  {
   "cell_type": "markdown",
   "id": "0LKutu87H7yi",
   "metadata": {
    "id": "0LKutu87H7yi"
   },
   "source": [
    "### Step 1: Define the null and alternate hypotheses"
   ]
  },
  {
   "cell_type": "markdown",
   "id": "-l--nMMNH7yx",
   "metadata": {
    "id": "-l--nMMNH7yx"
   },
   "source": [
    "\n",
    "\n"
   ]
  },
  {
   "cell_type": "markdown",
   "id": "3QVRe46rH7yx",
   "metadata": {
    "id": "3QVRe46rH7yx"
   },
   "source": [
    "### Step 2: Select Appropriate test"
   ]
  },
  {
   "cell_type": "markdown",
   "id": "VAlgwuRXIA8Z",
   "metadata": {
    "id": "VAlgwuRXIA8Z"
   },
   "source": [
    "This is a one-tailed test concerning two population proportions from two independent populations. **Based on this information, select the appropriate test**."
   ]
  },
  {
   "cell_type": "markdown",
   "id": "QFo6RyfxIM9j",
   "metadata": {
    "id": "QFo6RyfxIM9j"
   },
   "source": [
    "### Step 3: Decide the significance level"
   ]
  },
  {
   "cell_type": "markdown",
   "id": "NLuVA-hpIM9k",
   "metadata": {
    "id": "NLuVA-hpIM9k"
   },
   "source": [
    "As given in the problem statement, we select α = 0.05."
   ]
  },
  {
   "cell_type": "markdown",
   "id": "L6XEIeGgIM9m",
   "metadata": {
    "id": "L6XEIeGgIM9m"
   },
   "source": [
    "### Step 4: Collect and prepare data"
   ]
  },
  {
   "cell_type": "code",
   "execution_count": null,
   "id": "Sbtfr2N6INtG",
   "metadata": {
    "id": "Sbtfr2N6INtG"
   },
   "outputs": [],
   "source": [
    "# calculate the number of converted users in the treatment group\n",
    "new_converted = df[df['group'] == 'treatment']['converted'].value_counts()['yes']\n",
    "# calculate the number of converted users in the control group\n",
    "old_converted =  # write your code here\n",
    "\n",
    "n_control = df.group.value_counts()['control'] # total number of users in the control group\n",
    "n_treatment = df.group.value_counts()['treatment'] # total number of users in the treatment group\n",
    "print('The numbers of users served the new and old pages are {0} and {1} respectively'.format(n_control, n_treatment ))"
   ]
  },
  {
   "cell_type": "markdown",
   "id": "Szx7nkG-I-87",
   "metadata": {
    "id": "Szx7nkG-I-87"
   },
   "source": [
    "### Step 5: Calculate the p-value"
   ]
  },
  {
   "cell_type": "code",
   "execution_count": null,
   "id": "0kAItTuKI-88",
   "metadata": {
    "id": "0kAItTuKI-88"
   },
   "outputs": [],
   "source": [
    "# complete the code to import the required function\n",
    "from statsmodels.stats.proportion import _____   \n",
    "\n",
    "# write the code to calculate the p-value\n",
    "test_stat, p_value =    # write your code here\n",
    "\n",
    "print('The p-value is', p_value)"
   ]
  },
  {
   "cell_type": "markdown",
   "id": "3koFwBllI-88",
   "metadata": {
    "id": "3koFwBllI-88"
   },
   "source": [
    "### Step 6: Compare the p-value with $\\alpha$"
   ]
  },
  {
   "cell_type": "code",
   "execution_count": null,
   "id": "OTR1ANvmI-88",
   "metadata": {
    "id": "OTR1ANvmI-88"
   },
   "outputs": [],
   "source": [
    "# print the conclusion based on p-value\n",
    "if p_value < 0.05:\n",
    "    print(f'As the p-value {p_value} is less than the level of significance, we reject the null hypothesis.')\n",
    "else:\n",
    "    print(f'As the p-value {p_value} is greater than the level of significance, we fail to reject the null hypothesis.')"
   ]
  },
  {
   "cell_type": "markdown",
   "id": "LzcK3E4rI-89",
   "metadata": {
    "id": "LzcK3E4rI-89"
   },
   "source": [
    "### Step 7:  Draw inference"
   ]
  },
  {
   "cell_type": "markdown",
   "id": "u_KsjYc_I-89",
   "metadata": {
    "id": "u_KsjYc_I-89"
   },
   "source": [
    "\n",
    "\n"
   ]
  },
  {
   "cell_type": "markdown",
   "id": "d49bfa2d",
   "metadata": {
    "id": "d49bfa2d"
   },
   "source": [
    "## 4. Does the converted status depend on the preferred language? (10 Marks)"
   ]
  },
  {
   "cell_type": "markdown",
   "id": "0Yx13sMQJUHR",
   "metadata": {
    "id": "0Yx13sMQJUHR"
   },
   "source": [
    "### Perform Visual Analysis"
   ]
  },
  {
   "cell_type": "code",
   "execution_count": null,
   "id": "1l_ue1yEJUHf",
   "metadata": {
    "id": "1l_ue1yEJUHf"
   },
   "outputs": [],
   "source": [
    "# write the code to visually plot the dependency between conversion status and preferred langauge\n",
    "\n"
   ]
  },
  {
   "cell_type": "markdown",
   "id": "pG7oKB7QJUHf",
   "metadata": {
    "id": "pG7oKB7QJUHf"
   },
   "source": [
    "### Step 1: Define the null and alternate hypotheses"
   ]
  },
  {
   "cell_type": "markdown",
   "id": "0oPUn7OtJUHg",
   "metadata": {
    "id": "0oPUn7OtJUHg"
   },
   "source": [
    "\n",
    "\n"
   ]
  },
  {
   "cell_type": "markdown",
   "id": "TQTrplAaJUHg",
   "metadata": {
    "id": "TQTrplAaJUHg"
   },
   "source": [
    "### Step 2: Select Appropriate test"
   ]
  },
  {
   "cell_type": "markdown",
   "id": "fLW6QhhPJUHg",
   "metadata": {
    "id": "fLW6QhhPJUHg"
   },
   "source": [
    "This is a problem of the test of independence, concerning two categorical variables - converted status and preferred language. **Based on this information, select the appropriate test.**"
   ]
  },
  {
   "cell_type": "markdown",
   "id": "hOZSCAvrJUHg",
   "metadata": {
    "id": "hOZSCAvrJUHg"
   },
   "source": [
    "### Step 3: Decide the significance level"
   ]
  },
  {
   "cell_type": "markdown",
   "id": "wDGvFYjRJUHg",
   "metadata": {
    "id": "wDGvFYjRJUHg"
   },
   "source": [
    "As given in the problem statement, we select α = 0.05."
   ]
  },
  {
   "cell_type": "markdown",
   "id": "rRZiuBfOJUHg",
   "metadata": {
    "id": "rRZiuBfOJUHg"
   },
   "source": [
    "### Step 4: Collect and prepare data"
   ]
  },
  {
   "cell_type": "code",
   "execution_count": null,
   "id": "zzvjITNZJUHh",
   "metadata": {
    "id": "zzvjITNZJUHh"
   },
   "outputs": [],
   "source": [
    "# complete the code to create a contingency table showing the distribution of the two categorical variables\n",
    "contingency_table = pd.crosstab(____)  \n",
    "\n",
    "contingency_table"
   ]
  },
  {
   "cell_type": "markdown",
   "id": "WKsL1bnGJUHh",
   "metadata": {
    "id": "WKsL1bnGJUHh"
   },
   "source": [
    "### Step 5: Calculate the p-value"
   ]
  },
  {
   "cell_type": "code",
   "execution_count": null,
   "id": "5T87wmlEJUHh",
   "metadata": {
    "id": "5T87wmlEJUHh"
   },
   "outputs": [],
   "source": [
    "# complete the code to import the required function\n",
    "from scipy.stats import _____  \n",
    "\n",
    "# write the code to calculate the p-value\n",
    "chi2, p_value, dof, exp_freq =    # write your code here\n",
    "\n",
    "print('The p-value is', p_value)"
   ]
  },
  {
   "cell_type": "markdown",
   "id": "O7hxW9bhJUHh",
   "metadata": {
    "id": "O7hxW9bhJUHh"
   },
   "source": [
    "### Step 6: Compare the p-value with $\\alpha$"
   ]
  },
  {
   "cell_type": "code",
   "execution_count": null,
   "id": "z4i5F7TTJUHh",
   "metadata": {
    "id": "z4i5F7TTJUHh"
   },
   "outputs": [],
   "source": [
    "# print the conclusion based on p-value\n",
    "if p_value < 0.05:\n",
    "    print(f'As the p-value {p_value} is less than the level of significance, we reject the null hypothesis.')\n",
    "else:\n",
    "    print(f'As the p-value {p_value} is greater than the level of significance, we fail to reject the null hypothesis.')"
   ]
  },
  {
   "cell_type": "markdown",
   "id": "NpQs87d3JUHh",
   "metadata": {
    "id": "NpQs87d3JUHh"
   },
   "source": [
    "### Step 7:  Draw inference"
   ]
  },
  {
   "cell_type": "markdown",
   "id": "nWL_M80mJUHi",
   "metadata": {
    "id": "nWL_M80mJUHi"
   },
   "source": [
    "\n",
    "\n"
   ]
  },
  {
   "cell_type": "markdown",
   "id": "8d585a90",
   "metadata": {
    "id": "8d585a90"
   },
   "source": [
    "## 5. Is the time spent on the new page same for the different language users? (10 Marks)"
   ]
  },
  {
   "cell_type": "markdown",
   "id": "Zv5zTG0_KmOM",
   "metadata": {
    "id": "Zv5zTG0_KmOM"
   },
   "source": [
    "### Perform Visual Analysis"
   ]
  },
  {
   "cell_type": "code",
   "execution_count": null,
   "id": "c8f1e4d4",
   "metadata": {},
   "outputs": [],
   "source": [
    "# create a new DataFrame for users who got served the new page\n",
    "df_new = df[df['landing_page'] == 'new']"
   ]
  },
  {
   "cell_type": "code",
   "execution_count": null,
   "id": "juWwwrwzKmOa",
   "metadata": {
    "id": "juWwwrwzKmOa"
   },
   "outputs": [],
   "source": [
    "# write the code to visually plot the time spent on the new page for different language users\n",
    "\n"
   ]
  },
  {
   "cell_type": "code",
   "execution_count": null,
   "id": "9vqA04lsK_aZ",
   "metadata": {
    "id": "9vqA04lsK_aZ"
   },
   "outputs": [],
   "source": [
    "# write the code to calculate the mean time spent on the new page for different language users\n",
    "\n"
   ]
  },
  {
   "cell_type": "markdown",
   "id": "BGDAeivqKmOa",
   "metadata": {
    "id": "BGDAeivqKmOa"
   },
   "source": [
    "### Step 1: Define the null and alternate hypotheses"
   ]
  },
  {
   "cell_type": "markdown",
   "id": "B6_bJP8PKmOb",
   "metadata": {
    "id": "B6_bJP8PKmOb"
   },
   "source": [
    "\n",
    "\n"
   ]
  },
  {
   "cell_type": "markdown",
   "id": "GNjvZTS2KmOb",
   "metadata": {
    "id": "GNjvZTS2KmOb"
   },
   "source": [
    "### Step 2: Select Appropriate test"
   ]
  },
  {
   "cell_type": "markdown",
   "id": "lNNnMnJZKmOb",
   "metadata": {
    "id": "lNNnMnJZKmOb"
   },
   "source": [
    "This is a problem, concerning three population means. **Based on this information, select the appropriate test to compare the three population means.** Also, check the assumptions of normality and equality of variance for the three groups\n",
    "\n",
    "* For testing of normality, Shapiro-Wilk’s test is applied to the response variable.\n",
    "\n",
    "* For equality of variance, Levene test is applied to the response variable."
   ]
  },
  {
   "cell_type": "markdown",
   "id": "p6vHcFUELmcg",
   "metadata": {
    "id": "p6vHcFUELmcg"
   },
   "source": [
    "### Shapiro-Wilk’s test\n",
    "\n",
    "We will test the null hypothesis\n",
    "\n",
    ">$H_0:$ Time spent on the new page follows a normal distribution\n",
    "\n",
    "against the alternative hypothesis\n",
    "\n",
    ">$H_a:$ Time spent on the new page does not follow a normal distribution"
   ]
  },
  {
   "cell_type": "code",
   "execution_count": null,
   "id": "umdl7KKSOD_H",
   "metadata": {
    "id": "umdl7KKSOD_H"
   },
   "outputs": [],
   "source": [
    "# Assumption 1: Normality\n",
    "# import the required function\n",
    "from scipy.stats import shapiro\n",
    "\n",
    "# find the p-value\n",
    "w, p_value = shapiro(df_new['time_spent_on_the_page']) \n",
    "print('The p-value is', p_value)"
   ]
  },
  {
   "cell_type": "markdown",
   "id": "eKDD4G34OHl0",
   "metadata": {
    "id": "eKDD4G34OHl0"
   },
   "source": [
    "Since p-value of the test is very large than the 5% significance level, we fail to reject the null hypothesis that the response follows the normal distribution."
   ]
  },
  {
   "cell_type": "markdown",
   "id": "DJ2gMkg3OLCO",
   "metadata": {
    "id": "DJ2gMkg3OLCO"
   },
   "source": [
    "### Levene’s test\n",
    "\n",
    "We will test the null hypothesis\n",
    "\n",
    ">$H_0$: All the population variances are equal\n",
    "\n",
    "against the alternative hypothesis\n",
    "\n",
    ">$H_a$: At least one variance is different from the rest"
   ]
  },
  {
   "cell_type": "code",
   "execution_count": null,
   "id": "ne-4PRCIOOcB",
   "metadata": {
    "id": "ne-4PRCIOOcB"
   },
   "outputs": [],
   "source": [
    "#Assumption 2: Homogeneity of Variance\n",
    "#import the required function\n",
    "from scipy.stats import levene\n",
    "statistic, p_value = levene( df_new[df_new['language_preferred']==\"English\"]['time_spent_on_the_page'], \n",
    "                             df_new[df_new['language_preferred']==\"French\"]['time_spent_on_the_page'], \n",
    "                             df_new[df_new['language_preferred']==\"Spanish\"]['time_spent_on_the_page'])\n",
    "# find the p-value\n",
    "print('The p-value is', p_value)"
   ]
  },
  {
   "cell_type": "markdown",
   "id": "Eume1ARiORI4",
   "metadata": {
    "id": "Eume1ARiORI4"
   },
   "source": [
    "Since the p-value is large than the 5% significance level, we fail to reject the null hypothesis of homogeneity of variances."
   ]
  },
  {
   "cell_type": "markdown",
   "id": "VTouvcdxKmOc",
   "metadata": {
    "id": "VTouvcdxKmOc"
   },
   "source": [
    "### Step 3: Decide the significance level"
   ]
  },
  {
   "cell_type": "markdown",
   "id": "cNtIWQCyKmOc",
   "metadata": {
    "id": "cNtIWQCyKmOc"
   },
   "source": [
    "As given in the problem statement, we select α = 0.05."
   ]
  },
  {
   "cell_type": "markdown",
   "id": "ni6wGl2MKmOc",
   "metadata": {
    "id": "ni6wGl2MKmOc"
   },
   "source": [
    "### Step 4: Collect and prepare data"
   ]
  },
  {
   "cell_type": "code",
   "execution_count": null,
   "id": "XThNwfviKmOd",
   "metadata": {
    "id": "XThNwfviKmOd"
   },
   "outputs": [],
   "source": [
    "# create a subsetted data frame of the time spent on the new page by English language users \n",
    "time_spent_English = df_new[df_new['language_preferred']==\"English\"]['time_spent_on_the_page']\n",
    "# create subsetted data frames of the time spent on the new page by French and Spanish language users\n",
    "time_spent_French =    # write your code here\n",
    "time_spent_Spanish =    # write your code here"
   ]
  },
  {
   "cell_type": "markdown",
   "id": "8F-VCtK7KmOd",
   "metadata": {
    "id": "8F-VCtK7KmOd"
   },
   "source": [
    "### Step 5: Calculate the p-value"
   ]
  },
  {
   "cell_type": "code",
   "execution_count": null,
   "id": "D_jngM0gKmOd",
   "metadata": {
    "id": "D_jngM0gKmOd"
   },
   "outputs": [],
   "source": [
    "# complete the code to import the required function\n",
    "from scipy.stats import ______ \n",
    "\n",
    "# write the code to calculate the p-value\n",
    "test_stat, p_value =    # write your code here\n",
    "\n",
    "print('The p-value is', p_value)"
   ]
  },
  {
   "cell_type": "markdown",
   "id": "a6MvtzfvKmOe",
   "metadata": {
    "id": "a6MvtzfvKmOe"
   },
   "source": [
    "### Step 6: Compare the p-value with $\\alpha$"
   ]
  },
  {
   "cell_type": "code",
   "execution_count": null,
   "id": "Ep85AInOKmOe",
   "metadata": {
    "id": "Ep85AInOKmOe"
   },
   "outputs": [],
   "source": [
    "# print the conclusion based on p-value\n",
    "if p_value < 0.05:\n",
    "    print(f'As the p-value {p_value} is less than the level of significance, we reject the null hypothesis.')\n",
    "else:\n",
    "    print(f'As the p-value {p_value} is greater than the level of significance, we fail to reject the null hypothesis.')"
   ]
  },
  {
   "cell_type": "markdown",
   "id": "TNt8JyugKmOf",
   "metadata": {
    "id": "TNt8JyugKmOf"
   },
   "source": [
    "### Step 7:  Draw inference"
   ]
  },
  {
   "cell_type": "markdown",
   "id": "i24loRuKKmOf",
   "metadata": {
    "id": "i24loRuKKmOf"
   },
   "source": [
    "\n",
    "\n"
   ]
  },
  {
   "cell_type": "markdown",
   "id": "3acbc947",
   "metadata": {
    "id": "3acbc947"
   },
   "source": [
    "## Conclusion and Business Recommendations\n"
   ]
  },
  {
   "cell_type": "markdown",
   "id": "ckDGNsMNT2On",
   "metadata": {
    "id": "ckDGNsMNT2On"
   },
   "source": []
  }
 ],
 "metadata": {
  "colab": {
   "collapsed_sections": [],
   "name": "ENews_Express_Learner_Notebook[Low Code Version].ipynb",
   "provenance": []
  },
  "kernelspec": {
   "display_name": "Python 3",
   "language": "python",
   "name": "python3"
  },
  "language_info": {
   "codemirror_mode": {
    "name": "ipython",
    "version": 3
   },
   "file_extension": ".py",
   "mimetype": "text/x-python",
   "name": "python",
   "nbconvert_exporter": "python",
   "pygments_lexer": "ipython3",
   "version": "3.8.8"
  }
 },
 "nbformat": 4,
 "nbformat_minor": 5
}
