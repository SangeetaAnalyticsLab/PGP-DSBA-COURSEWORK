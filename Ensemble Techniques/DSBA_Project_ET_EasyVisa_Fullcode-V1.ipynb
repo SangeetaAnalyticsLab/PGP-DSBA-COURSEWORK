{
 "cells": [
  {
   "cell_type": "markdown",
   "id": "AT5OogJVFbwu",
   "metadata": {
    "id": "AT5OogJVFbwu"
   },
   "source": [
    "# EasyVisa Project\n",
    "\n",
    "## Context:\n",
    "\n",
    "Business communities in the United States are facing high demand for human resources, but one of the constant challenges is identifying and attracting the right talent, which is perhaps the most important element in remaining competitive. Companies in the United States look for hard-working, talented, and qualified individuals both locally as well as abroad.\n",
    "\n",
    "The Immigration and Nationality Act (INA) of the US permits foreign workers to come to the United States to work on either a temporary or permanent basis. The act also protects US workers against adverse impacts on their wages or working conditions by ensuring US employers' compliance with statutory requirements when they hire foreign workers to fill workforce shortages. The immigration programs are administered by the Office of Foreign Labor Certification (OFLC).\n",
    "\n",
    "OFLC processes job certification applications for employers seeking to bring foreign workers into the United States and grants certifications in those cases where employers can demonstrate that there are not sufficient US workers available to perform the work at wages that meet or exceed the wage paid for the occupation in the area of intended employment.\n",
    "\n",
    "## Objective:\n",
    "\n",
    "In FY 2016, the OFLC processed 775,979 employer applications for 1,699,957 positions for temporary and permanent labor certifications. This was a nine percent increase in the overall number of processed applications from the previous year. The process of reviewing every case is becoming a tedious task as the number of applicants is increasing every year.\n",
    "\n",
    "The increasing number of applicants every year calls for a Machine Learning based solution that can help in shortlisting the candidates having higher chances of VISA approval. OFLC has hired your firm EasyVisa for data-driven solutions. You as a data scientist have to analyze the data provided and, with the help of a classification model:\n",
    "\n",
    "* Facilitate the process of visa approvals.\n",
    "* Recommend a suitable profile for the applicants for whom the visa should be certified or denied based on the drivers that significantly influence the case status. \n",
    "\n",
    "\n",
    "## Data Description\n",
    "\n",
    "The data contains the different attributes of the employee and the employer. The detailed data dictionary is given below.\n",
    "\n",
    "* case_id: ID of each visa application\n",
    "* continent: Information of continent the employee\n",
    "* education_of_employee: Information of education of the employee\n",
    "* has_job_experience: Does the employee has any job experience? Y= Yes; N = No\n",
    "* requires_job_training: Does the employee require any job training? Y = Yes; N = No \n",
    "* no_of_employees: Number of employees in the employer's company\n",
    "* yr_of_estab: Year in which the employer's company was established\n",
    "* region_of_employment: Information of foreign worker's intended region of employment in the US.\n",
    "* prevailing_wage:  Average wage paid to similarly employed workers in a specific occupation in the area of intended employment. The purpose of the prevailing wage is to ensure that the foreign worker is not underpaid compared to other workers offering the same or similar service in the same area of employment. \n",
    "* unit_of_wage: Unit of prevailing wage. Values include Hourly, Weekly, Monthly, and Yearly.\n",
    "* full_time_position: Is the position of work full-time? Y = Full Time Position; N = Part Time Position\n",
    "* case_status:  Flag indicating if the Visa was certified or denied"
   ]
  },
  {
   "cell_type": "markdown",
   "id": "dirty-island",
   "metadata": {
    "id": "dirty-island"
   },
   "source": [
    "## Importing necessary libraries and data"
   ]
  },
  {
   "cell_type": "code",
   "execution_count": 96,
   "id": "statewide-still",
   "metadata": {
    "id": "statewide-still"
   },
   "outputs": [
    {
     "data": {
      "application/javascript": [
       "\n",
       "            setTimeout(function() {\n",
       "                var nbb_cell_id = 96;\n",
       "                var nbb_unformatted_code = \"# this will help in making the Python code more structured automatically (good coding practice)\\n%reload_ext nb_black\\n\\nimport warnings\\n\\nwarnings.filterwarnings(\\\"ignore\\\")\\n\\n# Libraries to help with reading and manipulating data\\nimport numpy as np\\nimport pandas as pd\\n\\n# Library to split data\\nfrom sklearn.model_selection import train_test_split\\n\\n# libaries to help with data visualization\\nimport matplotlib.pyplot as plt\\nimport seaborn as sns\\n\\n# Removes the limit for the number of displayed columns\\npd.set_option(\\\"display.max_columns\\\", None)\\n# Sets the limit for the number of displayed rows\\npd.set_option(\\\"display.max_rows\\\", 100)\\n\\n\\n# Libraries different ensemble classifiers\\nfrom sklearn.ensemble import (\\n    BaggingClassifier,\\n    RandomForestClassifier,\\n    AdaBoostClassifier,\\n    GradientBoostingClassifier,\\n    StackingClassifier,\\n)\\n\\nfrom xgboost import XGBClassifier\\nfrom sklearn.tree import DecisionTreeClassifier\\n\\n# Libraries to get different metric scores\\nfrom sklearn import metrics\\nfrom sklearn.metrics import (\\n    f1_score,\\n    accuracy_score,\\n    recall_score,\\n    roc_auc_score,\\n    roc_curve,\\n    precision_score,\\n    confusion_matrix,\\n    plot_confusion_matrix,\\n    precision_recall_curve,\\n    make_scorer,\\n)\\n\\n\\n# To tune different models\\nfrom sklearn.model_selection import GridSearchCV\";\n",
       "                var nbb_formatted_code = \"# this will help in making the Python code more structured automatically (good coding practice)\\n%reload_ext nb_black\\n\\nimport warnings\\n\\nwarnings.filterwarnings(\\\"ignore\\\")\\n\\n# Libraries to help with reading and manipulating data\\nimport numpy as np\\nimport pandas as pd\\n\\n# Library to split data\\nfrom sklearn.model_selection import train_test_split\\n\\n# libaries to help with data visualization\\nimport matplotlib.pyplot as plt\\nimport seaborn as sns\\n\\n# Removes the limit for the number of displayed columns\\npd.set_option(\\\"display.max_columns\\\", None)\\n# Sets the limit for the number of displayed rows\\npd.set_option(\\\"display.max_rows\\\", 100)\\n\\n\\n# Libraries different ensemble classifiers\\nfrom sklearn.ensemble import (\\n    BaggingClassifier,\\n    RandomForestClassifier,\\n    AdaBoostClassifier,\\n    GradientBoostingClassifier,\\n    StackingClassifier,\\n)\\n\\nfrom xgboost import XGBClassifier\\nfrom sklearn.tree import DecisionTreeClassifier\\n\\n# Libraries to get different metric scores\\nfrom sklearn import metrics\\nfrom sklearn.metrics import (\\n    f1_score,\\n    accuracy_score,\\n    recall_score,\\n    roc_auc_score,\\n    roc_curve,\\n    precision_score,\\n    confusion_matrix,\\n    plot_confusion_matrix,\\n    precision_recall_curve,\\n    make_scorer,\\n)\\n\\n\\n# To tune different models\\nfrom sklearn.model_selection import GridSearchCV\";\n",
       "                var nbb_cells = Jupyter.notebook.get_cells();\n",
       "                for (var i = 0; i < nbb_cells.length; ++i) {\n",
       "                    if (nbb_cells[i].input_prompt_number == nbb_cell_id) {\n",
       "                        if (nbb_cells[i].get_text() == nbb_unformatted_code) {\n",
       "                             nbb_cells[i].set_text(nbb_formatted_code);\n",
       "                        }\n",
       "                        break;\n",
       "                    }\n",
       "                }\n",
       "            }, 500);\n",
       "            "
      ],
      "text/plain": [
       "<IPython.core.display.Javascript object>"
      ]
     },
     "metadata": {},
     "output_type": "display_data"
    },
    {
     "data": {
      "application/javascript": [
       "\n",
       "            setTimeout(function() {\n",
       "                var nbb_cell_id = 96;\n",
       "                var nbb_unformatted_code = \"# this will help in making the Python code more structured automatically (good coding practice)\\n%reload_ext nb_black\\n\\nimport warnings\\n\\nwarnings.filterwarnings(\\\"ignore\\\")\\n\\n# Libraries to help with reading and manipulating data\\nimport numpy as np\\nimport pandas as pd\\n\\n# Library to split data\\nfrom sklearn.model_selection import train_test_split\\n\\n# libaries to help with data visualization\\nimport matplotlib.pyplot as plt\\nimport seaborn as sns\\n\\n# Removes the limit for the number of displayed columns\\npd.set_option(\\\"display.max_columns\\\", None)\\n# Sets the limit for the number of displayed rows\\npd.set_option(\\\"display.max_rows\\\", 100)\\n\\n\\n# Libraries different ensemble classifiers\\nfrom sklearn.ensemble import (\\n    BaggingClassifier,\\n    RandomForestClassifier,\\n    AdaBoostClassifier,\\n    GradientBoostingClassifier,\\n    StackingClassifier,\\n)\\n\\nfrom xgboost import XGBClassifier\\nfrom sklearn.tree import DecisionTreeClassifier\\n\\n# Libraries to get different metric scores\\nfrom sklearn import metrics\\nfrom sklearn.metrics import (\\n    f1_score,\\n    accuracy_score,\\n    recall_score,\\n    roc_auc_score,\\n    roc_curve,\\n    precision_score,\\n    confusion_matrix,\\n    plot_confusion_matrix,\\n    precision_recall_curve,\\n    make_scorer,\\n)\\n\\n\\n# To tune different models\\nfrom sklearn.model_selection import GridSearchCV\";\n",
       "                var nbb_formatted_code = \"# this will help in making the Python code more structured automatically (good coding practice)\\n%reload_ext nb_black\\n\\nimport warnings\\n\\nwarnings.filterwarnings(\\\"ignore\\\")\\n\\n# Libraries to help with reading and manipulating data\\nimport numpy as np\\nimport pandas as pd\\n\\n# Library to split data\\nfrom sklearn.model_selection import train_test_split\\n\\n# libaries to help with data visualization\\nimport matplotlib.pyplot as plt\\nimport seaborn as sns\\n\\n# Removes the limit for the number of displayed columns\\npd.set_option(\\\"display.max_columns\\\", None)\\n# Sets the limit for the number of displayed rows\\npd.set_option(\\\"display.max_rows\\\", 100)\\n\\n\\n# Libraries different ensemble classifiers\\nfrom sklearn.ensemble import (\\n    BaggingClassifier,\\n    RandomForestClassifier,\\n    AdaBoostClassifier,\\n    GradientBoostingClassifier,\\n    StackingClassifier,\\n)\\n\\nfrom xgboost import XGBClassifier\\nfrom sklearn.tree import DecisionTreeClassifier\\n\\n# Libraries to get different metric scores\\nfrom sklearn import metrics\\nfrom sklearn.metrics import (\\n    f1_score,\\n    accuracy_score,\\n    recall_score,\\n    roc_auc_score,\\n    roc_curve,\\n    precision_score,\\n    confusion_matrix,\\n    plot_confusion_matrix,\\n    precision_recall_curve,\\n    make_scorer,\\n)\\n\\n\\n# To tune different models\\nfrom sklearn.model_selection import GridSearchCV\";\n",
       "                var nbb_cells = Jupyter.notebook.get_cells();\n",
       "                for (var i = 0; i < nbb_cells.length; ++i) {\n",
       "                    if (nbb_cells[i].input_prompt_number == nbb_cell_id) {\n",
       "                        if (nbb_cells[i].get_text() == nbb_unformatted_code) {\n",
       "                             nbb_cells[i].set_text(nbb_formatted_code);\n",
       "                        }\n",
       "                        break;\n",
       "                    }\n",
       "                }\n",
       "            }, 500);\n",
       "            "
      ],
      "text/plain": [
       "<IPython.core.display.Javascript object>"
      ]
     },
     "metadata": {},
     "output_type": "display_data"
    }
   ],
   "source": [
    "# this will help in making the Python code more structured automatically (good coding practice)\n",
    "%reload_ext nb_black\n",
    "\n",
    "import warnings\n",
    "\n",
    "warnings.filterwarnings(\"ignore\")\n",
    "\n",
    "# Libraries to help with reading and manipulating data\n",
    "import numpy as np\n",
    "import pandas as pd\n",
    "\n",
    "# Library to split data\n",
    "from sklearn.model_selection import train_test_split\n",
    "\n",
    "# libaries to help with data visualization\n",
    "import matplotlib.pyplot as plt\n",
    "import seaborn as sns\n",
    "\n",
    "# Removes the limit for the number of displayed columns\n",
    "pd.set_option(\"display.max_columns\", None)\n",
    "# Sets the limit for the number of displayed rows\n",
    "pd.set_option(\"display.max_rows\", 100)\n",
    "\n",
    "\n",
    "# Libraries different ensemble classifiers\n",
    "from sklearn.ensemble import (\n",
    "    BaggingClassifier,\n",
    "    RandomForestClassifier,\n",
    "    AdaBoostClassifier,\n",
    "    GradientBoostingClassifier,\n",
    "    StackingClassifier,\n",
    ")\n",
    "\n",
    "from xgboost import XGBClassifier\n",
    "from sklearn.tree import DecisionTreeClassifier\n",
    "\n",
    "# Libraries to get different metric scores\n",
    "from sklearn import metrics\n",
    "from sklearn.metrics import (\n",
    "    f1_score,\n",
    "    accuracy_score,\n",
    "    recall_score,\n",
    "    roc_auc_score,\n",
    "    roc_curve,\n",
    "    precision_score,\n",
    "    confusion_matrix,\n",
    "    plot_confusion_matrix,\n",
    "    precision_recall_curve,\n",
    "    make_scorer,\n",
    ")\n",
    "\n",
    "\n",
    "# To tune different models\n",
    "from sklearn.model_selection import GridSearchCV"
   ]
  },
  {
   "cell_type": "code",
   "execution_count": 2,
   "id": "c1d4a764",
   "metadata": {},
   "outputs": [
    {
     "data": {
      "application/javascript": [
       "\n",
       "            setTimeout(function() {\n",
       "                var nbb_cell_id = 2;\n",
       "                var nbb_unformatted_code = \"easyvisa = pd.read_csv(\\\"EasyVisa.csv\\\")\";\n",
       "                var nbb_formatted_code = \"easyvisa = pd.read_csv(\\\"EasyVisa.csv\\\")\";\n",
       "                var nbb_cells = Jupyter.notebook.get_cells();\n",
       "                for (var i = 0; i < nbb_cells.length; ++i) {\n",
       "                    if (nbb_cells[i].input_prompt_number == nbb_cell_id) {\n",
       "                        if (nbb_cells[i].get_text() == nbb_unformatted_code) {\n",
       "                             nbb_cells[i].set_text(nbb_formatted_code);\n",
       "                        }\n",
       "                        break;\n",
       "                    }\n",
       "                }\n",
       "            }, 500);\n",
       "            "
      ],
      "text/plain": [
       "<IPython.core.display.Javascript object>"
      ]
     },
     "metadata": {},
     "output_type": "display_data"
    }
   ],
   "source": [
    "# loading the dataset\n",
    "easyvisa = pd.read_csv(\"EasyVisa.csv\")"
   ]
  },
  {
   "cell_type": "markdown",
   "id": "desperate-infection",
   "metadata": {
    "id": "desperate-infection"
   },
   "source": [
    "## Data Overview\n",
    "\n",
    "- Observations\n",
    "- Sanity checks"
   ]
  },
  {
   "cell_type": "code",
   "execution_count": 3,
   "id": "persistent-juice",
   "metadata": {
    "id": "persistent-juice"
   },
   "outputs": [
    {
     "name": "stdout",
     "output_type": "stream",
     "text": [
      "There are 25480 rows and 12 columns.\n"
     ]
    },
    {
     "data": {
      "application/javascript": [
       "\n",
       "            setTimeout(function() {\n",
       "                var nbb_cell_id = 3;\n",
       "                var nbb_unformatted_code = \"# checking the shape of the data\\nprint(f\\\"There are {easyvisa.shape[0]} rows and {easyvisa.shape[1]} columns.\\\")  # f-string\";\n",
       "                var nbb_formatted_code = \"# checking the shape of the data\\nprint(\\n    f\\\"There are {easyvisa.shape[0]} rows and {easyvisa.shape[1]} columns.\\\"\\n)  # f-string\";\n",
       "                var nbb_cells = Jupyter.notebook.get_cells();\n",
       "                for (var i = 0; i < nbb_cells.length; ++i) {\n",
       "                    if (nbb_cells[i].input_prompt_number == nbb_cell_id) {\n",
       "                        if (nbb_cells[i].get_text() == nbb_unformatted_code) {\n",
       "                             nbb_cells[i].set_text(nbb_formatted_code);\n",
       "                        }\n",
       "                        break;\n",
       "                    }\n",
       "                }\n",
       "            }, 500);\n",
       "            "
      ],
      "text/plain": [
       "<IPython.core.display.Javascript object>"
      ]
     },
     "metadata": {},
     "output_type": "display_data"
    }
   ],
   "source": [
    "# checking the shape of the data\n",
    "print(\n",
    "    f\"There are {easyvisa.shape[0]} rows and {easyvisa.shape[1]} columns.\"\n",
    ")  # f-string"
   ]
  },
  {
   "cell_type": "code",
   "execution_count": 4,
   "id": "d18d0af1",
   "metadata": {},
   "outputs": [
    {
     "data": {
      "text/html": [
       "<div>\n",
       "<style scoped>\n",
       "    .dataframe tbody tr th:only-of-type {\n",
       "        vertical-align: middle;\n",
       "    }\n",
       "\n",
       "    .dataframe tbody tr th {\n",
       "        vertical-align: top;\n",
       "    }\n",
       "\n",
       "    .dataframe thead th {\n",
       "        text-align: right;\n",
       "    }\n",
       "</style>\n",
       "<table border=\"1\" class=\"dataframe\">\n",
       "  <thead>\n",
       "    <tr style=\"text-align: right;\">\n",
       "      <th></th>\n",
       "      <th>case_id</th>\n",
       "      <th>continent</th>\n",
       "      <th>education_of_employee</th>\n",
       "      <th>has_job_experience</th>\n",
       "      <th>requires_job_training</th>\n",
       "      <th>no_of_employees</th>\n",
       "      <th>yr_of_estab</th>\n",
       "      <th>region_of_employment</th>\n",
       "      <th>prevailing_wage</th>\n",
       "      <th>unit_of_wage</th>\n",
       "      <th>full_time_position</th>\n",
       "      <th>case_status</th>\n",
       "    </tr>\n",
       "  </thead>\n",
       "  <tbody>\n",
       "    <tr>\n",
       "      <th>17639</th>\n",
       "      <td>EZYV17640</td>\n",
       "      <td>Asia</td>\n",
       "      <td>Bachelor's</td>\n",
       "      <td>Y</td>\n",
       "      <td>N</td>\n",
       "      <td>567</td>\n",
       "      <td>1992</td>\n",
       "      <td>Midwest</td>\n",
       "      <td>26842.9100</td>\n",
       "      <td>Year</td>\n",
       "      <td>Y</td>\n",
       "      <td>Certified</td>\n",
       "    </tr>\n",
       "    <tr>\n",
       "      <th>23951</th>\n",
       "      <td>EZYV23952</td>\n",
       "      <td>Oceania</td>\n",
       "      <td>Bachelor's</td>\n",
       "      <td>N</td>\n",
       "      <td>N</td>\n",
       "      <td>619</td>\n",
       "      <td>1938</td>\n",
       "      <td>Midwest</td>\n",
       "      <td>66419.9800</td>\n",
       "      <td>Year</td>\n",
       "      <td>Y</td>\n",
       "      <td>Certified</td>\n",
       "    </tr>\n",
       "    <tr>\n",
       "      <th>8625</th>\n",
       "      <td>EZYV8626</td>\n",
       "      <td>Asia</td>\n",
       "      <td>Master's</td>\n",
       "      <td>N</td>\n",
       "      <td>N</td>\n",
       "      <td>2635</td>\n",
       "      <td>2005</td>\n",
       "      <td>South</td>\n",
       "      <td>887.2921</td>\n",
       "      <td>Hour</td>\n",
       "      <td>Y</td>\n",
       "      <td>Certified</td>\n",
       "    </tr>\n",
       "    <tr>\n",
       "      <th>20206</th>\n",
       "      <td>EZYV20207</td>\n",
       "      <td>Asia</td>\n",
       "      <td>Bachelor's</td>\n",
       "      <td>Y</td>\n",
       "      <td>Y</td>\n",
       "      <td>3184</td>\n",
       "      <td>1986</td>\n",
       "      <td>Northeast</td>\n",
       "      <td>49435.8000</td>\n",
       "      <td>Year</td>\n",
       "      <td>Y</td>\n",
       "      <td>Certified</td>\n",
       "    </tr>\n",
       "    <tr>\n",
       "      <th>7471</th>\n",
       "      <td>EZYV7472</td>\n",
       "      <td>Europe</td>\n",
       "      <td>Bachelor's</td>\n",
       "      <td>Y</td>\n",
       "      <td>N</td>\n",
       "      <td>4681</td>\n",
       "      <td>1928</td>\n",
       "      <td>West</td>\n",
       "      <td>49865.1900</td>\n",
       "      <td>Year</td>\n",
       "      <td>Y</td>\n",
       "      <td>Denied</td>\n",
       "    </tr>\n",
       "    <tr>\n",
       "      <th>3433</th>\n",
       "      <td>EZYV3434</td>\n",
       "      <td>Asia</td>\n",
       "      <td>Bachelor's</td>\n",
       "      <td>Y</td>\n",
       "      <td>N</td>\n",
       "      <td>222</td>\n",
       "      <td>1989</td>\n",
       "      <td>South</td>\n",
       "      <td>813.7261</td>\n",
       "      <td>Hour</td>\n",
       "      <td>Y</td>\n",
       "      <td>Certified</td>\n",
       "    </tr>\n",
       "    <tr>\n",
       "      <th>24440</th>\n",
       "      <td>EZYV24441</td>\n",
       "      <td>Europe</td>\n",
       "      <td>High School</td>\n",
       "      <td>N</td>\n",
       "      <td>Y</td>\n",
       "      <td>3278</td>\n",
       "      <td>1994</td>\n",
       "      <td>South</td>\n",
       "      <td>204948.3900</td>\n",
       "      <td>Year</td>\n",
       "      <td>Y</td>\n",
       "      <td>Denied</td>\n",
       "    </tr>\n",
       "    <tr>\n",
       "      <th>12104</th>\n",
       "      <td>EZYV12105</td>\n",
       "      <td>Asia</td>\n",
       "      <td>Master's</td>\n",
       "      <td>Y</td>\n",
       "      <td>N</td>\n",
       "      <td>1359</td>\n",
       "      <td>1997</td>\n",
       "      <td>West</td>\n",
       "      <td>202237.0400</td>\n",
       "      <td>Year</td>\n",
       "      <td>N</td>\n",
       "      <td>Certified</td>\n",
       "    </tr>\n",
       "    <tr>\n",
       "      <th>15656</th>\n",
       "      <td>EZYV15657</td>\n",
       "      <td>Asia</td>\n",
       "      <td>Bachelor's</td>\n",
       "      <td>N</td>\n",
       "      <td>N</td>\n",
       "      <td>2081</td>\n",
       "      <td>2003</td>\n",
       "      <td>West</td>\n",
       "      <td>111713.0200</td>\n",
       "      <td>Year</td>\n",
       "      <td>Y</td>\n",
       "      <td>Denied</td>\n",
       "    </tr>\n",
       "    <tr>\n",
       "      <th>23110</th>\n",
       "      <td>EZYV23111</td>\n",
       "      <td>North America</td>\n",
       "      <td>Bachelor's</td>\n",
       "      <td>Y</td>\n",
       "      <td>N</td>\n",
       "      <td>854</td>\n",
       "      <td>1998</td>\n",
       "      <td>Northeast</td>\n",
       "      <td>444.8257</td>\n",
       "      <td>Hour</td>\n",
       "      <td>Y</td>\n",
       "      <td>Denied</td>\n",
       "    </tr>\n",
       "    <tr>\n",
       "      <th>8517</th>\n",
       "      <td>EZYV8518</td>\n",
       "      <td>Asia</td>\n",
       "      <td>Bachelor's</td>\n",
       "      <td>N</td>\n",
       "      <td>Y</td>\n",
       "      <td>2945</td>\n",
       "      <td>2010</td>\n",
       "      <td>South</td>\n",
       "      <td>114777.6600</td>\n",
       "      <td>Year</td>\n",
       "      <td>Y</td>\n",
       "      <td>Certified</td>\n",
       "    </tr>\n",
       "    <tr>\n",
       "      <th>13775</th>\n",
       "      <td>EZYV13776</td>\n",
       "      <td>Asia</td>\n",
       "      <td>Master's</td>\n",
       "      <td>N</td>\n",
       "      <td>N</td>\n",
       "      <td>2720</td>\n",
       "      <td>2005</td>\n",
       "      <td>Northeast</td>\n",
       "      <td>89996.9400</td>\n",
       "      <td>Year</td>\n",
       "      <td>N</td>\n",
       "      <td>Certified</td>\n",
       "    </tr>\n",
       "    <tr>\n",
       "      <th>24729</th>\n",
       "      <td>EZYV24730</td>\n",
       "      <td>North America</td>\n",
       "      <td>High School</td>\n",
       "      <td>Y</td>\n",
       "      <td>N</td>\n",
       "      <td>5173</td>\n",
       "      <td>2000</td>\n",
       "      <td>South</td>\n",
       "      <td>67543.2900</td>\n",
       "      <td>Year</td>\n",
       "      <td>N</td>\n",
       "      <td>Certified</td>\n",
       "    </tr>\n",
       "    <tr>\n",
       "      <th>16424</th>\n",
       "      <td>EZYV16425</td>\n",
       "      <td>Asia</td>\n",
       "      <td>Master's</td>\n",
       "      <td>Y</td>\n",
       "      <td>N</td>\n",
       "      <td>1906</td>\n",
       "      <td>1960</td>\n",
       "      <td>Midwest</td>\n",
       "      <td>56730.0700</td>\n",
       "      <td>Year</td>\n",
       "      <td>Y</td>\n",
       "      <td>Certified</td>\n",
       "    </tr>\n",
       "    <tr>\n",
       "      <th>10577</th>\n",
       "      <td>EZYV10578</td>\n",
       "      <td>Asia</td>\n",
       "      <td>Bachelor's</td>\n",
       "      <td>Y</td>\n",
       "      <td>N</td>\n",
       "      <td>1635</td>\n",
       "      <td>1979</td>\n",
       "      <td>West</td>\n",
       "      <td>75728.0400</td>\n",
       "      <td>Year</td>\n",
       "      <td>Y</td>\n",
       "      <td>Denied</td>\n",
       "    </tr>\n",
       "    <tr>\n",
       "      <th>15595</th>\n",
       "      <td>EZYV15596</td>\n",
       "      <td>Asia</td>\n",
       "      <td>Bachelor's</td>\n",
       "      <td>N</td>\n",
       "      <td>Y</td>\n",
       "      <td>716</td>\n",
       "      <td>1976</td>\n",
       "      <td>West</td>\n",
       "      <td>75650.0400</td>\n",
       "      <td>Week</td>\n",
       "      <td>Y</td>\n",
       "      <td>Certified</td>\n",
       "    </tr>\n",
       "    <tr>\n",
       "      <th>20566</th>\n",
       "      <td>EZYV20567</td>\n",
       "      <td>Asia</td>\n",
       "      <td>Master's</td>\n",
       "      <td>Y</td>\n",
       "      <td>N</td>\n",
       "      <td>4199</td>\n",
       "      <td>1972</td>\n",
       "      <td>Northeast</td>\n",
       "      <td>105952.1200</td>\n",
       "      <td>Year</td>\n",
       "      <td>Y</td>\n",
       "      <td>Certified</td>\n",
       "    </tr>\n",
       "    <tr>\n",
       "      <th>11156</th>\n",
       "      <td>EZYV11157</td>\n",
       "      <td>Asia</td>\n",
       "      <td>Master's</td>\n",
       "      <td>Y</td>\n",
       "      <td>N</td>\n",
       "      <td>1763</td>\n",
       "      <td>1920</td>\n",
       "      <td>Midwest</td>\n",
       "      <td>14745.1200</td>\n",
       "      <td>Year</td>\n",
       "      <td>Y</td>\n",
       "      <td>Certified</td>\n",
       "    </tr>\n",
       "    <tr>\n",
       "      <th>15452</th>\n",
       "      <td>EZYV15453</td>\n",
       "      <td>Asia</td>\n",
       "      <td>Master's</td>\n",
       "      <td>Y</td>\n",
       "      <td>N</td>\n",
       "      <td>5005</td>\n",
       "      <td>1998</td>\n",
       "      <td>Northeast</td>\n",
       "      <td>64016.6700</td>\n",
       "      <td>Year</td>\n",
       "      <td>Y</td>\n",
       "      <td>Certified</td>\n",
       "    </tr>\n",
       "    <tr>\n",
       "      <th>6409</th>\n",
       "      <td>EZYV6410</td>\n",
       "      <td>Africa</td>\n",
       "      <td>Master's</td>\n",
       "      <td>N</td>\n",
       "      <td>N</td>\n",
       "      <td>2149</td>\n",
       "      <td>1992</td>\n",
       "      <td>West</td>\n",
       "      <td>24247.4000</td>\n",
       "      <td>Year</td>\n",
       "      <td>Y</td>\n",
       "      <td>Certified</td>\n",
       "    </tr>\n",
       "  </tbody>\n",
       "</table>\n",
       "</div>"
      ],
      "text/plain": [
       "         case_id      continent education_of_employee has_job_experience  \\\n",
       "17639  EZYV17640           Asia            Bachelor's                  Y   \n",
       "23951  EZYV23952        Oceania            Bachelor's                  N   \n",
       "8625    EZYV8626           Asia              Master's                  N   \n",
       "20206  EZYV20207           Asia            Bachelor's                  Y   \n",
       "7471    EZYV7472         Europe            Bachelor's                  Y   \n",
       "3433    EZYV3434           Asia            Bachelor's                  Y   \n",
       "24440  EZYV24441         Europe           High School                  N   \n",
       "12104  EZYV12105           Asia              Master's                  Y   \n",
       "15656  EZYV15657           Asia            Bachelor's                  N   \n",
       "23110  EZYV23111  North America            Bachelor's                  Y   \n",
       "8517    EZYV8518           Asia            Bachelor's                  N   \n",
       "13775  EZYV13776           Asia              Master's                  N   \n",
       "24729  EZYV24730  North America           High School                  Y   \n",
       "16424  EZYV16425           Asia              Master's                  Y   \n",
       "10577  EZYV10578           Asia            Bachelor's                  Y   \n",
       "15595  EZYV15596           Asia            Bachelor's                  N   \n",
       "20566  EZYV20567           Asia              Master's                  Y   \n",
       "11156  EZYV11157           Asia              Master's                  Y   \n",
       "15452  EZYV15453           Asia              Master's                  Y   \n",
       "6409    EZYV6410         Africa              Master's                  N   \n",
       "\n",
       "      requires_job_training  no_of_employees  yr_of_estab  \\\n",
       "17639                     N              567         1992   \n",
       "23951                     N              619         1938   \n",
       "8625                      N             2635         2005   \n",
       "20206                     Y             3184         1986   \n",
       "7471                      N             4681         1928   \n",
       "3433                      N              222         1989   \n",
       "24440                     Y             3278         1994   \n",
       "12104                     N             1359         1997   \n",
       "15656                     N             2081         2003   \n",
       "23110                     N              854         1998   \n",
       "8517                      Y             2945         2010   \n",
       "13775                     N             2720         2005   \n",
       "24729                     N             5173         2000   \n",
       "16424                     N             1906         1960   \n",
       "10577                     N             1635         1979   \n",
       "15595                     Y              716         1976   \n",
       "20566                     N             4199         1972   \n",
       "11156                     N             1763         1920   \n",
       "15452                     N             5005         1998   \n",
       "6409                      N             2149         1992   \n",
       "\n",
       "      region_of_employment  prevailing_wage unit_of_wage full_time_position  \\\n",
       "17639              Midwest       26842.9100         Year                  Y   \n",
       "23951              Midwest       66419.9800         Year                  Y   \n",
       "8625                 South         887.2921         Hour                  Y   \n",
       "20206            Northeast       49435.8000         Year                  Y   \n",
       "7471                  West       49865.1900         Year                  Y   \n",
       "3433                 South         813.7261         Hour                  Y   \n",
       "24440                South      204948.3900         Year                  Y   \n",
       "12104                 West      202237.0400         Year                  N   \n",
       "15656                 West      111713.0200         Year                  Y   \n",
       "23110            Northeast         444.8257         Hour                  Y   \n",
       "8517                 South      114777.6600         Year                  Y   \n",
       "13775            Northeast       89996.9400         Year                  N   \n",
       "24729                South       67543.2900         Year                  N   \n",
       "16424              Midwest       56730.0700         Year                  Y   \n",
       "10577                 West       75728.0400         Year                  Y   \n",
       "15595                 West       75650.0400         Week                  Y   \n",
       "20566            Northeast      105952.1200         Year                  Y   \n",
       "11156              Midwest       14745.1200         Year                  Y   \n",
       "15452            Northeast       64016.6700         Year                  Y   \n",
       "6409                  West       24247.4000         Year                  Y   \n",
       "\n",
       "      case_status  \n",
       "17639   Certified  \n",
       "23951   Certified  \n",
       "8625    Certified  \n",
       "20206   Certified  \n",
       "7471       Denied  \n",
       "3433    Certified  \n",
       "24440      Denied  \n",
       "12104   Certified  \n",
       "15656      Denied  \n",
       "23110      Denied  \n",
       "8517    Certified  \n",
       "13775   Certified  \n",
       "24729   Certified  \n",
       "16424   Certified  \n",
       "10577      Denied  \n",
       "15595   Certified  \n",
       "20566   Certified  \n",
       "11156   Certified  \n",
       "15452   Certified  \n",
       "6409    Certified  "
      ]
     },
     "execution_count": 4,
     "metadata": {},
     "output_type": "execute_result"
    },
    {
     "data": {
      "application/javascript": [
       "\n",
       "            setTimeout(function() {\n",
       "                var nbb_cell_id = 4;\n",
       "                var nbb_unformatted_code = \"# To view a sample of the data\\neasyvisa.sample(\\n    20, random_state=1\\n)  # setting the random_state ensures we get the same results every time\";\n",
       "                var nbb_formatted_code = \"# To view a sample of the data\\neasyvisa.sample(\\n    20, random_state=1\\n)  # setting the random_state ensures we get the same results every time\";\n",
       "                var nbb_cells = Jupyter.notebook.get_cells();\n",
       "                for (var i = 0; i < nbb_cells.length; ++i) {\n",
       "                    if (nbb_cells[i].input_prompt_number == nbb_cell_id) {\n",
       "                        if (nbb_cells[i].get_text() == nbb_unformatted_code) {\n",
       "                             nbb_cells[i].set_text(nbb_formatted_code);\n",
       "                        }\n",
       "                        break;\n",
       "                    }\n",
       "                }\n",
       "            }, 500);\n",
       "            "
      ],
      "text/plain": [
       "<IPython.core.display.Javascript object>"
      ]
     },
     "metadata": {},
     "output_type": "display_data"
    }
   ],
   "source": [
    "# To view a sample of the data\n",
    "easyvisa.sample(\n",
    "    20, random_state=1\n",
    ")  # setting the random_state ensures we get the same results every time"
   ]
  },
  {
   "cell_type": "markdown",
   "id": "a8c96438",
   "metadata": {},
   "source": [
    "#### Observations\n",
    "A quick glance at the above sample data suggests below patterns \n",
    "- There seem to be more applications from Asia than other continents. \n",
    "- Most of the applicants have Bachelor's and Master's degree.\n",
    "- Most of the applicants have job experience and do not require training. \n",
    "- no_of_employees, yr_of_estab and prevailing_wage data has a wide range.\n",
    "- There are more applications for positions in West and Midwest, which probably indicates more skill shortage in the region.\n",
    "- Most of the applications are for full time positions where the prevailing wage is Yearly. "
   ]
  },
  {
   "cell_type": "code",
   "execution_count": 5,
   "id": "b30f8a0f",
   "metadata": {},
   "outputs": [
    {
     "name": "stdout",
     "output_type": "stream",
     "text": [
      "<class 'pandas.core.frame.DataFrame'>\n",
      "RangeIndex: 25480 entries, 0 to 25479\n",
      "Data columns (total 12 columns):\n",
      " #   Column                 Non-Null Count  Dtype  \n",
      "---  ------                 --------------  -----  \n",
      " 0   case_id                25480 non-null  object \n",
      " 1   continent              25480 non-null  object \n",
      " 2   education_of_employee  25480 non-null  object \n",
      " 3   has_job_experience     25480 non-null  object \n",
      " 4   requires_job_training  25480 non-null  object \n",
      " 5   no_of_employees        25480 non-null  int64  \n",
      " 6   yr_of_estab            25480 non-null  int64  \n",
      " 7   region_of_employment   25480 non-null  object \n",
      " 8   prevailing_wage        25480 non-null  float64\n",
      " 9   unit_of_wage           25480 non-null  object \n",
      " 10  full_time_position     25480 non-null  object \n",
      " 11  case_status            25480 non-null  object \n",
      "dtypes: float64(1), int64(2), object(9)\n",
      "memory usage: 2.3+ MB\n"
     ]
    },
    {
     "data": {
      "application/javascript": [
       "\n",
       "            setTimeout(function() {\n",
       "                var nbb_cell_id = 5;\n",
       "                var nbb_unformatted_code = \"# checking column datatypes and number of non-null values\\neasyvisa.info()\";\n",
       "                var nbb_formatted_code = \"# checking column datatypes and number of non-null values\\neasyvisa.info()\";\n",
       "                var nbb_cells = Jupyter.notebook.get_cells();\n",
       "                for (var i = 0; i < nbb_cells.length; ++i) {\n",
       "                    if (nbb_cells[i].input_prompt_number == nbb_cell_id) {\n",
       "                        if (nbb_cells[i].get_text() == nbb_unformatted_code) {\n",
       "                             nbb_cells[i].set_text(nbb_formatted_code);\n",
       "                        }\n",
       "                        break;\n",
       "                    }\n",
       "                }\n",
       "            }, 500);\n",
       "            "
      ],
      "text/plain": [
       "<IPython.core.display.Javascript object>"
      ]
     },
     "metadata": {},
     "output_type": "display_data"
    }
   ],
   "source": [
    "# checking column datatypes and number of non-null values\n",
    "easyvisa.info()"
   ]
  },
  {
   "cell_type": "markdown",
   "id": "12da5fa8",
   "metadata": {},
   "source": [
    "#### Observations\n",
    "no_of_employees, yr_of_estab, prevailing_wage are numeric (int64 or float64). All other columns in the dataset are object type. "
   ]
  },
  {
   "cell_type": "code",
   "execution_count": 6,
   "id": "32131e08",
   "metadata": {},
   "outputs": [
    {
     "data": {
      "application/javascript": [
       "\n",
       "            setTimeout(function() {\n",
       "                var nbb_cell_id = 6;\n",
       "                var nbb_unformatted_code = \"# creating a copy of the data so that original data remains unchanged\\ndf = easyvisa.copy()\";\n",
       "                var nbb_formatted_code = \"# creating a copy of the data so that original data remains unchanged\\ndf = easyvisa.copy()\";\n",
       "                var nbb_cells = Jupyter.notebook.get_cells();\n",
       "                for (var i = 0; i < nbb_cells.length; ++i) {\n",
       "                    if (nbb_cells[i].input_prompt_number == nbb_cell_id) {\n",
       "                        if (nbb_cells[i].get_text() == nbb_unformatted_code) {\n",
       "                             nbb_cells[i].set_text(nbb_formatted_code);\n",
       "                        }\n",
       "                        break;\n",
       "                    }\n",
       "                }\n",
       "            }, 500);\n",
       "            "
      ],
      "text/plain": [
       "<IPython.core.display.Javascript object>"
      ]
     },
     "metadata": {},
     "output_type": "display_data"
    }
   ],
   "source": [
    "# creating a copy of the data so that original data remains unchanged\n",
    "df = easyvisa.copy()"
   ]
  },
  {
   "cell_type": "code",
   "execution_count": 7,
   "id": "7c5cb8a8",
   "metadata": {},
   "outputs": [
    {
     "data": {
      "text/html": [
       "<div>\n",
       "<style scoped>\n",
       "    .dataframe tbody tr th:only-of-type {\n",
       "        vertical-align: middle;\n",
       "    }\n",
       "\n",
       "    .dataframe tbody tr th {\n",
       "        vertical-align: top;\n",
       "    }\n",
       "\n",
       "    .dataframe thead th {\n",
       "        text-align: right;\n",
       "    }\n",
       "</style>\n",
       "<table border=\"1\" class=\"dataframe\">\n",
       "  <thead>\n",
       "    <tr style=\"text-align: right;\">\n",
       "      <th></th>\n",
       "      <th>case_id</th>\n",
       "      <th>continent</th>\n",
       "      <th>education_of_employee</th>\n",
       "      <th>has_job_experience</th>\n",
       "      <th>requires_job_training</th>\n",
       "      <th>no_of_employees</th>\n",
       "      <th>yr_of_estab</th>\n",
       "      <th>region_of_employment</th>\n",
       "      <th>prevailing_wage</th>\n",
       "      <th>unit_of_wage</th>\n",
       "      <th>full_time_position</th>\n",
       "      <th>case_status</th>\n",
       "    </tr>\n",
       "  </thead>\n",
       "  <tbody>\n",
       "    <tr>\n",
       "      <th>0</th>\n",
       "      <td>EZYV01</td>\n",
       "      <td>Asia</td>\n",
       "      <td>High School</td>\n",
       "      <td>N</td>\n",
       "      <td>N</td>\n",
       "      <td>14513</td>\n",
       "      <td>2007</td>\n",
       "      <td>West</td>\n",
       "      <td>592.2029</td>\n",
       "      <td>Hour</td>\n",
       "      <td>Y</td>\n",
       "      <td>Denied</td>\n",
       "    </tr>\n",
       "    <tr>\n",
       "      <th>1</th>\n",
       "      <td>EZYV02</td>\n",
       "      <td>Asia</td>\n",
       "      <td>Master's</td>\n",
       "      <td>Y</td>\n",
       "      <td>N</td>\n",
       "      <td>2412</td>\n",
       "      <td>2002</td>\n",
       "      <td>Northeast</td>\n",
       "      <td>83425.6500</td>\n",
       "      <td>Year</td>\n",
       "      <td>Y</td>\n",
       "      <td>Certified</td>\n",
       "    </tr>\n",
       "    <tr>\n",
       "      <th>2</th>\n",
       "      <td>EZYV03</td>\n",
       "      <td>Asia</td>\n",
       "      <td>Bachelor's</td>\n",
       "      <td>N</td>\n",
       "      <td>Y</td>\n",
       "      <td>44444</td>\n",
       "      <td>2008</td>\n",
       "      <td>West</td>\n",
       "      <td>122996.8600</td>\n",
       "      <td>Year</td>\n",
       "      <td>Y</td>\n",
       "      <td>Denied</td>\n",
       "    </tr>\n",
       "    <tr>\n",
       "      <th>3</th>\n",
       "      <td>EZYV04</td>\n",
       "      <td>Asia</td>\n",
       "      <td>Bachelor's</td>\n",
       "      <td>N</td>\n",
       "      <td>N</td>\n",
       "      <td>98</td>\n",
       "      <td>1897</td>\n",
       "      <td>West</td>\n",
       "      <td>83434.0300</td>\n",
       "      <td>Year</td>\n",
       "      <td>Y</td>\n",
       "      <td>Denied</td>\n",
       "    </tr>\n",
       "    <tr>\n",
       "      <th>4</th>\n",
       "      <td>EZYV05</td>\n",
       "      <td>Africa</td>\n",
       "      <td>Master's</td>\n",
       "      <td>Y</td>\n",
       "      <td>N</td>\n",
       "      <td>1082</td>\n",
       "      <td>2005</td>\n",
       "      <td>South</td>\n",
       "      <td>149907.3900</td>\n",
       "      <td>Year</td>\n",
       "      <td>Y</td>\n",
       "      <td>Certified</td>\n",
       "    </tr>\n",
       "  </tbody>\n",
       "</table>\n",
       "</div>"
      ],
      "text/plain": [
       "  case_id continent education_of_employee has_job_experience  \\\n",
       "0  EZYV01      Asia           High School                  N   \n",
       "1  EZYV02      Asia              Master's                  Y   \n",
       "2  EZYV03      Asia            Bachelor's                  N   \n",
       "3  EZYV04      Asia            Bachelor's                  N   \n",
       "4  EZYV05    Africa              Master's                  Y   \n",
       "\n",
       "  requires_job_training  no_of_employees  yr_of_estab region_of_employment  \\\n",
       "0                     N            14513         2007                 West   \n",
       "1                     N             2412         2002            Northeast   \n",
       "2                     Y            44444         2008                 West   \n",
       "3                     N               98         1897                 West   \n",
       "4                     N             1082         2005                South   \n",
       "\n",
       "   prevailing_wage unit_of_wage full_time_position case_status  \n",
       "0         592.2029         Hour                  Y      Denied  \n",
       "1       83425.6500         Year                  Y   Certified  \n",
       "2      122996.8600         Year                  Y      Denied  \n",
       "3       83434.0300         Year                  Y      Denied  \n",
       "4      149907.3900         Year                  Y   Certified  "
      ]
     },
     "execution_count": 7,
     "metadata": {},
     "output_type": "execute_result"
    },
    {
     "data": {
      "application/javascript": [
       "\n",
       "            setTimeout(function() {\n",
       "                var nbb_cell_id = 7;\n",
       "                var nbb_unformatted_code = \"#view top 5 rows of the data\\ndf.head()\";\n",
       "                var nbb_formatted_code = \"# view top 5 rows of the data\\ndf.head()\";\n",
       "                var nbb_cells = Jupyter.notebook.get_cells();\n",
       "                for (var i = 0; i < nbb_cells.length; ++i) {\n",
       "                    if (nbb_cells[i].input_prompt_number == nbb_cell_id) {\n",
       "                        if (nbb_cells[i].get_text() == nbb_unformatted_code) {\n",
       "                             nbb_cells[i].set_text(nbb_formatted_code);\n",
       "                        }\n",
       "                        break;\n",
       "                    }\n",
       "                }\n",
       "            }, 500);\n",
       "            "
      ],
      "text/plain": [
       "<IPython.core.display.Javascript object>"
      ]
     },
     "metadata": {},
     "output_type": "display_data"
    }
   ],
   "source": [
    "# view top 5 rows of the data\n",
    "df.head()"
   ]
  },
  {
   "cell_type": "code",
   "execution_count": 9,
   "id": "bc10d590",
   "metadata": {},
   "outputs": [
    {
     "data": {
      "text/html": [
       "<div>\n",
       "<style scoped>\n",
       "    .dataframe tbody tr th:only-of-type {\n",
       "        vertical-align: middle;\n",
       "    }\n",
       "\n",
       "    .dataframe tbody tr th {\n",
       "        vertical-align: top;\n",
       "    }\n",
       "\n",
       "    .dataframe thead th {\n",
       "        text-align: right;\n",
       "    }\n",
       "</style>\n",
       "<table border=\"1\" class=\"dataframe\">\n",
       "  <thead>\n",
       "    <tr style=\"text-align: right;\">\n",
       "      <th></th>\n",
       "      <th>case_id</th>\n",
       "      <th>continent</th>\n",
       "      <th>education_of_employee</th>\n",
       "      <th>has_job_experience</th>\n",
       "      <th>requires_job_training</th>\n",
       "      <th>no_of_employees</th>\n",
       "      <th>yr_of_estab</th>\n",
       "      <th>region_of_employment</th>\n",
       "      <th>prevailing_wage</th>\n",
       "      <th>unit_of_wage</th>\n",
       "      <th>full_time_position</th>\n",
       "      <th>case_status</th>\n",
       "    </tr>\n",
       "  </thead>\n",
       "  <tbody>\n",
       "    <tr>\n",
       "      <th>25475</th>\n",
       "      <td>EZYV25476</td>\n",
       "      <td>Asia</td>\n",
       "      <td>Bachelor's</td>\n",
       "      <td>Y</td>\n",
       "      <td>Y</td>\n",
       "      <td>2601</td>\n",
       "      <td>2008</td>\n",
       "      <td>South</td>\n",
       "      <td>77092.57</td>\n",
       "      <td>Year</td>\n",
       "      <td>Y</td>\n",
       "      <td>Certified</td>\n",
       "    </tr>\n",
       "    <tr>\n",
       "      <th>25476</th>\n",
       "      <td>EZYV25477</td>\n",
       "      <td>Asia</td>\n",
       "      <td>High School</td>\n",
       "      <td>Y</td>\n",
       "      <td>N</td>\n",
       "      <td>3274</td>\n",
       "      <td>2006</td>\n",
       "      <td>Northeast</td>\n",
       "      <td>279174.79</td>\n",
       "      <td>Year</td>\n",
       "      <td>Y</td>\n",
       "      <td>Certified</td>\n",
       "    </tr>\n",
       "    <tr>\n",
       "      <th>25477</th>\n",
       "      <td>EZYV25478</td>\n",
       "      <td>Asia</td>\n",
       "      <td>Master's</td>\n",
       "      <td>Y</td>\n",
       "      <td>N</td>\n",
       "      <td>1121</td>\n",
       "      <td>1910</td>\n",
       "      <td>South</td>\n",
       "      <td>146298.85</td>\n",
       "      <td>Year</td>\n",
       "      <td>N</td>\n",
       "      <td>Certified</td>\n",
       "    </tr>\n",
       "    <tr>\n",
       "      <th>25478</th>\n",
       "      <td>EZYV25479</td>\n",
       "      <td>Asia</td>\n",
       "      <td>Master's</td>\n",
       "      <td>Y</td>\n",
       "      <td>Y</td>\n",
       "      <td>1918</td>\n",
       "      <td>1887</td>\n",
       "      <td>West</td>\n",
       "      <td>86154.77</td>\n",
       "      <td>Year</td>\n",
       "      <td>Y</td>\n",
       "      <td>Certified</td>\n",
       "    </tr>\n",
       "    <tr>\n",
       "      <th>25479</th>\n",
       "      <td>EZYV25480</td>\n",
       "      <td>Asia</td>\n",
       "      <td>Bachelor's</td>\n",
       "      <td>Y</td>\n",
       "      <td>N</td>\n",
       "      <td>3195</td>\n",
       "      <td>1960</td>\n",
       "      <td>Midwest</td>\n",
       "      <td>70876.91</td>\n",
       "      <td>Year</td>\n",
       "      <td>Y</td>\n",
       "      <td>Certified</td>\n",
       "    </tr>\n",
       "  </tbody>\n",
       "</table>\n",
       "</div>"
      ],
      "text/plain": [
       "         case_id continent education_of_employee has_job_experience  \\\n",
       "25475  EZYV25476      Asia            Bachelor's                  Y   \n",
       "25476  EZYV25477      Asia           High School                  Y   \n",
       "25477  EZYV25478      Asia              Master's                  Y   \n",
       "25478  EZYV25479      Asia              Master's                  Y   \n",
       "25479  EZYV25480      Asia            Bachelor's                  Y   \n",
       "\n",
       "      requires_job_training  no_of_employees  yr_of_estab  \\\n",
       "25475                     Y             2601         2008   \n",
       "25476                     N             3274         2006   \n",
       "25477                     N             1121         1910   \n",
       "25478                     Y             1918         1887   \n",
       "25479                     N             3195         1960   \n",
       "\n",
       "      region_of_employment  prevailing_wage unit_of_wage full_time_position  \\\n",
       "25475                South         77092.57         Year                  Y   \n",
       "25476            Northeast        279174.79         Year                  Y   \n",
       "25477                South        146298.85         Year                  N   \n",
       "25478                 West         86154.77         Year                  Y   \n",
       "25479              Midwest         70876.91         Year                  Y   \n",
       "\n",
       "      case_status  \n",
       "25475   Certified  \n",
       "25476   Certified  \n",
       "25477   Certified  \n",
       "25478   Certified  \n",
       "25479   Certified  "
      ]
     },
     "execution_count": 9,
     "metadata": {},
     "output_type": "execute_result"
    },
    {
     "data": {
      "application/javascript": [
       "\n",
       "            setTimeout(function() {\n",
       "                var nbb_cell_id = 9;\n",
       "                var nbb_unformatted_code = \"# view last 5 rows of the data\\ndf.tail()\";\n",
       "                var nbb_formatted_code = \"# view last 5 rows of the data\\ndf.tail()\";\n",
       "                var nbb_cells = Jupyter.notebook.get_cells();\n",
       "                for (var i = 0; i < nbb_cells.length; ++i) {\n",
       "                    if (nbb_cells[i].input_prompt_number == nbb_cell_id) {\n",
       "                        if (nbb_cells[i].get_text() == nbb_unformatted_code) {\n",
       "                             nbb_cells[i].set_text(nbb_formatted_code);\n",
       "                        }\n",
       "                        break;\n",
       "                    }\n",
       "                }\n",
       "            }, 500);\n",
       "            "
      ],
      "text/plain": [
       "<IPython.core.display.Javascript object>"
      ]
     },
     "metadata": {},
     "output_type": "display_data"
    }
   ],
   "source": [
    "# view last 5 rows of the data\n",
    "df.tail()"
   ]
  },
  {
   "cell_type": "code",
   "execution_count": 10,
   "id": "d6dbeb0e",
   "metadata": {},
   "outputs": [
    {
     "data": {
      "text/plain": [
       "case_id                  0\n",
       "continent                0\n",
       "education_of_employee    0\n",
       "has_job_experience       0\n",
       "requires_job_training    0\n",
       "no_of_employees          0\n",
       "yr_of_estab              0\n",
       "region_of_employment     0\n",
       "prevailing_wage          0\n",
       "unit_of_wage             0\n",
       "full_time_position       0\n",
       "case_status              0\n",
       "dtype: int64"
      ]
     },
     "execution_count": 10,
     "metadata": {},
     "output_type": "execute_result"
    },
    {
     "data": {
      "application/javascript": [
       "\n",
       "            setTimeout(function() {\n",
       "                var nbb_cell_id = 10;\n",
       "                var nbb_unformatted_code = \"# checking missing values in the data\\ndf.isnull().sum()\";\n",
       "                var nbb_formatted_code = \"# checking missing values in the data\\ndf.isnull().sum()\";\n",
       "                var nbb_cells = Jupyter.notebook.get_cells();\n",
       "                for (var i = 0; i < nbb_cells.length; ++i) {\n",
       "                    if (nbb_cells[i].input_prompt_number == nbb_cell_id) {\n",
       "                        if (nbb_cells[i].get_text() == nbb_unformatted_code) {\n",
       "                             nbb_cells[i].set_text(nbb_formatted_code);\n",
       "                        }\n",
       "                        break;\n",
       "                    }\n",
       "                }\n",
       "            }, 500);\n",
       "            "
      ],
      "text/plain": [
       "<IPython.core.display.Javascript object>"
      ]
     },
     "metadata": {},
     "output_type": "display_data"
    }
   ],
   "source": [
    "# checking missing values in the data\n",
    "df.isnull().sum()"
   ]
  },
  {
   "cell_type": "markdown",
   "id": "43235a12",
   "metadata": {},
   "source": [
    "#### Observations\n",
    "There are no missing values in the dataset."
   ]
  },
  {
   "cell_type": "code",
   "execution_count": 11,
   "id": "2985ad26",
   "metadata": {},
   "outputs": [
    {
     "data": {
      "text/plain": [
       "0"
      ]
     },
     "execution_count": 11,
     "metadata": {},
     "output_type": "execute_result"
    },
    {
     "data": {
      "application/javascript": [
       "\n",
       "            setTimeout(function() {\n",
       "                var nbb_cell_id = 11;\n",
       "                var nbb_unformatted_code = \"# checking for duplicate values in the data\\ndf.duplicated().sum()\";\n",
       "                var nbb_formatted_code = \"# checking for duplicate values in the data\\ndf.duplicated().sum()\";\n",
       "                var nbb_cells = Jupyter.notebook.get_cells();\n",
       "                for (var i = 0; i < nbb_cells.length; ++i) {\n",
       "                    if (nbb_cells[i].input_prompt_number == nbb_cell_id) {\n",
       "                        if (nbb_cells[i].get_text() == nbb_unformatted_code) {\n",
       "                             nbb_cells[i].set_text(nbb_formatted_code);\n",
       "                        }\n",
       "                        break;\n",
       "                    }\n",
       "                }\n",
       "            }, 500);\n",
       "            "
      ],
      "text/plain": [
       "<IPython.core.display.Javascript object>"
      ]
     },
     "metadata": {},
     "output_type": "display_data"
    }
   ],
   "source": [
    "# checking for duplicate values in the data\n",
    "df.duplicated().sum()"
   ]
  },
  {
   "cell_type": "markdown",
   "id": "9f4babdb",
   "metadata": {},
   "source": [
    "#### Observations\n",
    "There are no duplicate values in the dataset."
   ]
  },
  {
   "cell_type": "code",
   "execution_count": 12,
   "id": "6702405f",
   "metadata": {},
   "outputs": [
    {
     "data": {
      "application/javascript": [
       "\n",
       "            setTimeout(function() {\n",
       "                var nbb_cell_id = 12;\n",
       "                var nbb_unformatted_code = \"# Let's drop case_id since it's a unique identifier and would have no impact on the prediction capability of the model, or in data analysis\\n\\ndf.drop(\\\"case_id\\\", axis=1, inplace=True)\";\n",
       "                var nbb_formatted_code = \"# Let's drop case_id since it's a unique identifier and would have no impact on the prediction capability of the model, or in data analysis\\n\\ndf.drop(\\\"case_id\\\", axis=1, inplace=True)\";\n",
       "                var nbb_cells = Jupyter.notebook.get_cells();\n",
       "                for (var i = 0; i < nbb_cells.length; ++i) {\n",
       "                    if (nbb_cells[i].input_prompt_number == nbb_cell_id) {\n",
       "                        if (nbb_cells[i].get_text() == nbb_unformatted_code) {\n",
       "                             nbb_cells[i].set_text(nbb_formatted_code);\n",
       "                        }\n",
       "                        break;\n",
       "                    }\n",
       "                }\n",
       "            }, 500);\n",
       "            "
      ],
      "text/plain": [
       "<IPython.core.display.Javascript object>"
      ]
     },
     "metadata": {},
     "output_type": "display_data"
    }
   ],
   "source": [
    "# Let's drop case_id since it's a unique identifier and would have no impact on the prediction capability of the model, or in data analysis\n",
    "\n",
    "df.drop(\"case_id\", axis=1, inplace=True)\n"
   ]
  },
  {
   "cell_type": "code",
   "execution_count": 13,
   "id": "ff5d3459",
   "metadata": {},
   "outputs": [
    {
     "data": {
      "text/html": [
       "<div>\n",
       "<style scoped>\n",
       "    .dataframe tbody tr th:only-of-type {\n",
       "        vertical-align: middle;\n",
       "    }\n",
       "\n",
       "    .dataframe tbody tr th {\n",
       "        vertical-align: top;\n",
       "    }\n",
       "\n",
       "    .dataframe thead th {\n",
       "        text-align: right;\n",
       "    }\n",
       "</style>\n",
       "<table border=\"1\" class=\"dataframe\">\n",
       "  <thead>\n",
       "    <tr style=\"text-align: right;\">\n",
       "      <th></th>\n",
       "      <th>continent</th>\n",
       "      <th>education_of_employee</th>\n",
       "      <th>has_job_experience</th>\n",
       "      <th>requires_job_training</th>\n",
       "      <th>no_of_employees</th>\n",
       "      <th>yr_of_estab</th>\n",
       "      <th>region_of_employment</th>\n",
       "      <th>prevailing_wage</th>\n",
       "      <th>unit_of_wage</th>\n",
       "      <th>full_time_position</th>\n",
       "      <th>case_status</th>\n",
       "    </tr>\n",
       "  </thead>\n",
       "  <tbody>\n",
       "    <tr>\n",
       "      <th>0</th>\n",
       "      <td>Asia</td>\n",
       "      <td>High School</td>\n",
       "      <td>N</td>\n",
       "      <td>N</td>\n",
       "      <td>14513</td>\n",
       "      <td>2007</td>\n",
       "      <td>West</td>\n",
       "      <td>592.2029</td>\n",
       "      <td>Hour</td>\n",
       "      <td>Y</td>\n",
       "      <td>Denied</td>\n",
       "    </tr>\n",
       "    <tr>\n",
       "      <th>1</th>\n",
       "      <td>Asia</td>\n",
       "      <td>Master's</td>\n",
       "      <td>Y</td>\n",
       "      <td>N</td>\n",
       "      <td>2412</td>\n",
       "      <td>2002</td>\n",
       "      <td>Northeast</td>\n",
       "      <td>83425.6500</td>\n",
       "      <td>Year</td>\n",
       "      <td>Y</td>\n",
       "      <td>Certified</td>\n",
       "    </tr>\n",
       "    <tr>\n",
       "      <th>2</th>\n",
       "      <td>Asia</td>\n",
       "      <td>Bachelor's</td>\n",
       "      <td>N</td>\n",
       "      <td>Y</td>\n",
       "      <td>44444</td>\n",
       "      <td>2008</td>\n",
       "      <td>West</td>\n",
       "      <td>122996.8600</td>\n",
       "      <td>Year</td>\n",
       "      <td>Y</td>\n",
       "      <td>Denied</td>\n",
       "    </tr>\n",
       "    <tr>\n",
       "      <th>3</th>\n",
       "      <td>Asia</td>\n",
       "      <td>Bachelor's</td>\n",
       "      <td>N</td>\n",
       "      <td>N</td>\n",
       "      <td>98</td>\n",
       "      <td>1897</td>\n",
       "      <td>West</td>\n",
       "      <td>83434.0300</td>\n",
       "      <td>Year</td>\n",
       "      <td>Y</td>\n",
       "      <td>Denied</td>\n",
       "    </tr>\n",
       "    <tr>\n",
       "      <th>4</th>\n",
       "      <td>Africa</td>\n",
       "      <td>Master's</td>\n",
       "      <td>Y</td>\n",
       "      <td>N</td>\n",
       "      <td>1082</td>\n",
       "      <td>2005</td>\n",
       "      <td>South</td>\n",
       "      <td>149907.3900</td>\n",
       "      <td>Year</td>\n",
       "      <td>Y</td>\n",
       "      <td>Certified</td>\n",
       "    </tr>\n",
       "  </tbody>\n",
       "</table>\n",
       "</div>"
      ],
      "text/plain": [
       "  continent education_of_employee has_job_experience requires_job_training  \\\n",
       "0      Asia           High School                  N                     N   \n",
       "1      Asia              Master's                  Y                     N   \n",
       "2      Asia            Bachelor's                  N                     Y   \n",
       "3      Asia            Bachelor's                  N                     N   \n",
       "4    Africa              Master's                  Y                     N   \n",
       "\n",
       "   no_of_employees  yr_of_estab region_of_employment  prevailing_wage  \\\n",
       "0            14513         2007                 West         592.2029   \n",
       "1             2412         2002            Northeast       83425.6500   \n",
       "2            44444         2008                 West      122996.8600   \n",
       "3               98         1897                 West       83434.0300   \n",
       "4             1082         2005                South      149907.3900   \n",
       "\n",
       "  unit_of_wage full_time_position case_status  \n",
       "0         Hour                  Y      Denied  \n",
       "1         Year                  Y   Certified  \n",
       "2         Year                  Y      Denied  \n",
       "3         Year                  Y      Denied  \n",
       "4         Year                  Y   Certified  "
      ]
     },
     "execution_count": 13,
     "metadata": {},
     "output_type": "execute_result"
    },
    {
     "data": {
      "application/javascript": [
       "\n",
       "            setTimeout(function() {\n",
       "                var nbb_cell_id = 13;\n",
       "                var nbb_unformatted_code = \"# Check the dataset after dropping the column\\ndf.head()\";\n",
       "                var nbb_formatted_code = \"# Check the dataset after dropping the column\\ndf.head()\";\n",
       "                var nbb_cells = Jupyter.notebook.get_cells();\n",
       "                for (var i = 0; i < nbb_cells.length; ++i) {\n",
       "                    if (nbb_cells[i].input_prompt_number == nbb_cell_id) {\n",
       "                        if (nbb_cells[i].get_text() == nbb_unformatted_code) {\n",
       "                             nbb_cells[i].set_text(nbb_formatted_code);\n",
       "                        }\n",
       "                        break;\n",
       "                    }\n",
       "                }\n",
       "            }, 500);\n",
       "            "
      ],
      "text/plain": [
       "<IPython.core.display.Javascript object>"
      ]
     },
     "metadata": {},
     "output_type": "display_data"
    }
   ],
   "source": [
    "# Check the dataset after dropping the column\n",
    "df.head()"
   ]
  },
  {
   "cell_type": "code",
   "execution_count": 14,
   "id": "c0d19fb9",
   "metadata": {},
   "outputs": [
    {
     "data": {
      "text/html": [
       "<div>\n",
       "<style scoped>\n",
       "    .dataframe tbody tr th:only-of-type {\n",
       "        vertical-align: middle;\n",
       "    }\n",
       "\n",
       "    .dataframe tbody tr th {\n",
       "        vertical-align: top;\n",
       "    }\n",
       "\n",
       "    .dataframe thead th {\n",
       "        text-align: right;\n",
       "    }\n",
       "</style>\n",
       "<table border=\"1\" class=\"dataframe\">\n",
       "  <thead>\n",
       "    <tr style=\"text-align: right;\">\n",
       "      <th></th>\n",
       "      <th>continent</th>\n",
       "      <th>education_of_employee</th>\n",
       "      <th>has_job_experience</th>\n",
       "      <th>requires_job_training</th>\n",
       "      <th>no_of_employees</th>\n",
       "      <th>yr_of_estab</th>\n",
       "      <th>region_of_employment</th>\n",
       "      <th>prevailing_wage</th>\n",
       "      <th>unit_of_wage</th>\n",
       "      <th>full_time_position</th>\n",
       "      <th>case_status</th>\n",
       "    </tr>\n",
       "  </thead>\n",
       "  <tbody>\n",
       "    <tr>\n",
       "      <th>0</th>\n",
       "      <td>Asia</td>\n",
       "      <td>High School</td>\n",
       "      <td>N</td>\n",
       "      <td>N</td>\n",
       "      <td>14513</td>\n",
       "      <td>2007</td>\n",
       "      <td>West</td>\n",
       "      <td>592.2029</td>\n",
       "      <td>Hour</td>\n",
       "      <td>Y</td>\n",
       "      <td>Denied</td>\n",
       "    </tr>\n",
       "    <tr>\n",
       "      <th>1</th>\n",
       "      <td>Asia</td>\n",
       "      <td>Master's</td>\n",
       "      <td>Y</td>\n",
       "      <td>N</td>\n",
       "      <td>2412</td>\n",
       "      <td>2002</td>\n",
       "      <td>Northeast</td>\n",
       "      <td>83425.6500</td>\n",
       "      <td>Year</td>\n",
       "      <td>Y</td>\n",
       "      <td>Certified</td>\n",
       "    </tr>\n",
       "    <tr>\n",
       "      <th>2</th>\n",
       "      <td>Asia</td>\n",
       "      <td>Bachelor's</td>\n",
       "      <td>N</td>\n",
       "      <td>Y</td>\n",
       "      <td>44444</td>\n",
       "      <td>2008</td>\n",
       "      <td>West</td>\n",
       "      <td>122996.8600</td>\n",
       "      <td>Year</td>\n",
       "      <td>Y</td>\n",
       "      <td>Denied</td>\n",
       "    </tr>\n",
       "    <tr>\n",
       "      <th>3</th>\n",
       "      <td>Asia</td>\n",
       "      <td>Bachelor's</td>\n",
       "      <td>N</td>\n",
       "      <td>N</td>\n",
       "      <td>98</td>\n",
       "      <td>1897</td>\n",
       "      <td>West</td>\n",
       "      <td>83434.0300</td>\n",
       "      <td>Year</td>\n",
       "      <td>Y</td>\n",
       "      <td>Denied</td>\n",
       "    </tr>\n",
       "    <tr>\n",
       "      <th>4</th>\n",
       "      <td>Africa</td>\n",
       "      <td>Master's</td>\n",
       "      <td>Y</td>\n",
       "      <td>N</td>\n",
       "      <td>1082</td>\n",
       "      <td>2005</td>\n",
       "      <td>South</td>\n",
       "      <td>149907.3900</td>\n",
       "      <td>Year</td>\n",
       "      <td>Y</td>\n",
       "      <td>Certified</td>\n",
       "    </tr>\n",
       "    <tr>\n",
       "      <th>5</th>\n",
       "      <td>Asia</td>\n",
       "      <td>Master's</td>\n",
       "      <td>Y</td>\n",
       "      <td>N</td>\n",
       "      <td>2339</td>\n",
       "      <td>2012</td>\n",
       "      <td>South</td>\n",
       "      <td>78252.1400</td>\n",
       "      <td>Year</td>\n",
       "      <td>Y</td>\n",
       "      <td>Certified</td>\n",
       "    </tr>\n",
       "    <tr>\n",
       "      <th>6</th>\n",
       "      <td>Asia</td>\n",
       "      <td>Bachelor's</td>\n",
       "      <td>N</td>\n",
       "      <td>N</td>\n",
       "      <td>4985</td>\n",
       "      <td>1994</td>\n",
       "      <td>South</td>\n",
       "      <td>53635.3900</td>\n",
       "      <td>Year</td>\n",
       "      <td>Y</td>\n",
       "      <td>Certified</td>\n",
       "    </tr>\n",
       "    <tr>\n",
       "      <th>7</th>\n",
       "      <td>North America</td>\n",
       "      <td>Bachelor's</td>\n",
       "      <td>Y</td>\n",
       "      <td>N</td>\n",
       "      <td>3035</td>\n",
       "      <td>1924</td>\n",
       "      <td>West</td>\n",
       "      <td>418.2298</td>\n",
       "      <td>Hour</td>\n",
       "      <td>Y</td>\n",
       "      <td>Denied</td>\n",
       "    </tr>\n",
       "    <tr>\n",
       "      <th>8</th>\n",
       "      <td>Asia</td>\n",
       "      <td>Bachelor's</td>\n",
       "      <td>N</td>\n",
       "      <td>N</td>\n",
       "      <td>4810</td>\n",
       "      <td>2012</td>\n",
       "      <td>Midwest</td>\n",
       "      <td>74362.1900</td>\n",
       "      <td>Year</td>\n",
       "      <td>Y</td>\n",
       "      <td>Certified</td>\n",
       "    </tr>\n",
       "    <tr>\n",
       "      <th>9</th>\n",
       "      <td>Europe</td>\n",
       "      <td>Doctorate</td>\n",
       "      <td>Y</td>\n",
       "      <td>N</td>\n",
       "      <td>2251</td>\n",
       "      <td>1995</td>\n",
       "      <td>South</td>\n",
       "      <td>67514.7600</td>\n",
       "      <td>Year</td>\n",
       "      <td>Y</td>\n",
       "      <td>Certified</td>\n",
       "    </tr>\n",
       "  </tbody>\n",
       "</table>\n",
       "</div>"
      ],
      "text/plain": [
       "       continent education_of_employee has_job_experience  \\\n",
       "0           Asia           High School                  N   \n",
       "1           Asia              Master's                  Y   \n",
       "2           Asia            Bachelor's                  N   \n",
       "3           Asia            Bachelor's                  N   \n",
       "4         Africa              Master's                  Y   \n",
       "5           Asia              Master's                  Y   \n",
       "6           Asia            Bachelor's                  N   \n",
       "7  North America            Bachelor's                  Y   \n",
       "8           Asia            Bachelor's                  N   \n",
       "9         Europe             Doctorate                  Y   \n",
       "\n",
       "  requires_job_training  no_of_employees  yr_of_estab region_of_employment  \\\n",
       "0                     N            14513         2007                 West   \n",
       "1                     N             2412         2002            Northeast   \n",
       "2                     Y            44444         2008                 West   \n",
       "3                     N               98         1897                 West   \n",
       "4                     N             1082         2005                South   \n",
       "5                     N             2339         2012                South   \n",
       "6                     N             4985         1994                South   \n",
       "7                     N             3035         1924                 West   \n",
       "8                     N             4810         2012              Midwest   \n",
       "9                     N             2251         1995                South   \n",
       "\n",
       "   prevailing_wage unit_of_wage full_time_position case_status  \n",
       "0         592.2029         Hour                  Y      Denied  \n",
       "1       83425.6500         Year                  Y   Certified  \n",
       "2      122996.8600         Year                  Y      Denied  \n",
       "3       83434.0300         Year                  Y      Denied  \n",
       "4      149907.3900         Year                  Y   Certified  \n",
       "5       78252.1400         Year                  Y   Certified  \n",
       "6       53635.3900         Year                  Y   Certified  \n",
       "7         418.2298         Hour                  Y      Denied  \n",
       "8       74362.1900         Year                  Y   Certified  \n",
       "9       67514.7600         Year                  Y   Certified  "
      ]
     },
     "execution_count": 14,
     "metadata": {},
     "output_type": "execute_result"
    },
    {
     "data": {
      "application/javascript": [
       "\n",
       "            setTimeout(function() {\n",
       "                var nbb_cell_id = 14;\n",
       "                var nbb_unformatted_code = \"# Lets convert the columns with an 'object' datatype into categorical variables\\nfor column in df.columns:  # Loop through all columns in the dataframe\\n    if df[column].dtype == \\\"object\\\":  # Only apply for columns with type object\\n        df[column] = df[column].astype(\\\"category\\\")  # convert to category\\ndf.head(10)\";\n",
       "                var nbb_formatted_code = \"# Lets convert the columns with an 'object' datatype into categorical variables\\nfor column in df.columns:  # Loop through all columns in the dataframe\\n    if df[column].dtype == \\\"object\\\":  # Only apply for columns with type object\\n        df[column] = df[column].astype(\\\"category\\\")  # convert to category\\ndf.head(10)\";\n",
       "                var nbb_cells = Jupyter.notebook.get_cells();\n",
       "                for (var i = 0; i < nbb_cells.length; ++i) {\n",
       "                    if (nbb_cells[i].input_prompt_number == nbb_cell_id) {\n",
       "                        if (nbb_cells[i].get_text() == nbb_unformatted_code) {\n",
       "                             nbb_cells[i].set_text(nbb_formatted_code);\n",
       "                        }\n",
       "                        break;\n",
       "                    }\n",
       "                }\n",
       "            }, 500);\n",
       "            "
      ],
      "text/plain": [
       "<IPython.core.display.Javascript object>"
      ]
     },
     "metadata": {},
     "output_type": "display_data"
    }
   ],
   "source": [
    "# Lets convert the columns with an 'object' datatype into categorical variables\n",
    "for column in df.columns:  # Loop through all columns in the dataframe\n",
    "    if df[column].dtype == \"object\":  # Only apply for columns with type object\n",
    "        df[column] = df[column].astype(\"category\")  # convert to category\n",
    "df.head(10)"
   ]
  },
  {
   "cell_type": "code",
   "execution_count": 19,
   "id": "696e0c1a",
   "metadata": {},
   "outputs": [
    {
     "name": "stdout",
     "output_type": "stream",
     "text": [
      "<class 'pandas.core.frame.DataFrame'>\n",
      "RangeIndex: 25480 entries, 0 to 25479\n",
      "Data columns (total 11 columns):\n",
      " #   Column                 Non-Null Count  Dtype   \n",
      "---  ------                 --------------  -----   \n",
      " 0   continent              25480 non-null  category\n",
      " 1   education_of_employee  25480 non-null  category\n",
      " 2   has_job_experience     25480 non-null  category\n",
      " 3   requires_job_training  25480 non-null  category\n",
      " 4   no_of_employees        25480 non-null  int64   \n",
      " 5   yr_of_estab            25480 non-null  int64   \n",
      " 6   region_of_employment   25480 non-null  category\n",
      " 7   prevailing_wage        25480 non-null  float64 \n",
      " 8   unit_of_wage           25480 non-null  category\n",
      " 9   full_time_position     25480 non-null  category\n",
      " 10  case_status            25480 non-null  category\n",
      "dtypes: category(8), float64(1), int64(2)\n",
      "memory usage: 797.7 KB\n"
     ]
    },
    {
     "data": {
      "application/javascript": [
       "\n",
       "            setTimeout(function() {\n",
       "                var nbb_cell_id = 19;\n",
       "                var nbb_unformatted_code = \"# checking column datatypes after converting object columns to Category\\ndf.info()\";\n",
       "                var nbb_formatted_code = \"# checking column datatypes after converting object columns to Category\\ndf.info()\";\n",
       "                var nbb_cells = Jupyter.notebook.get_cells();\n",
       "                for (var i = 0; i < nbb_cells.length; ++i) {\n",
       "                    if (nbb_cells[i].input_prompt_number == nbb_cell_id) {\n",
       "                        if (nbb_cells[i].get_text() == nbb_unformatted_code) {\n",
       "                             nbb_cells[i].set_text(nbb_formatted_code);\n",
       "                        }\n",
       "                        break;\n",
       "                    }\n",
       "                }\n",
       "            }, 500);\n",
       "            "
      ],
      "text/plain": [
       "<IPython.core.display.Javascript object>"
      ]
     },
     "metadata": {},
     "output_type": "display_data"
    }
   ],
   "source": [
    "# checking column datatypes after converting object columns to Category\n",
    "df.info()"
   ]
  },
  {
   "cell_type": "markdown",
   "id": "53da8cf6",
   "metadata": {},
   "source": [
    "Object columns have been successfully converted to category"
   ]
  },
  {
   "cell_type": "code",
   "execution_count": 20,
   "id": "03448163",
   "metadata": {},
   "outputs": [
    {
     "data": {
      "text/html": [
       "<div>\n",
       "<style scoped>\n",
       "    .dataframe tbody tr th:only-of-type {\n",
       "        vertical-align: middle;\n",
       "    }\n",
       "\n",
       "    .dataframe tbody tr th {\n",
       "        vertical-align: top;\n",
       "    }\n",
       "\n",
       "    .dataframe thead th {\n",
       "        text-align: right;\n",
       "    }\n",
       "</style>\n",
       "<table border=\"1\" class=\"dataframe\">\n",
       "  <thead>\n",
       "    <tr style=\"text-align: right;\">\n",
       "      <th></th>\n",
       "      <th>count</th>\n",
       "      <th>unique</th>\n",
       "      <th>top</th>\n",
       "      <th>freq</th>\n",
       "      <th>mean</th>\n",
       "      <th>std</th>\n",
       "      <th>min</th>\n",
       "      <th>25%</th>\n",
       "      <th>50%</th>\n",
       "      <th>75%</th>\n",
       "      <th>max</th>\n",
       "    </tr>\n",
       "  </thead>\n",
       "  <tbody>\n",
       "    <tr>\n",
       "      <th>continent</th>\n",
       "      <td>25480</td>\n",
       "      <td>6</td>\n",
       "      <td>Asia</td>\n",
       "      <td>16861</td>\n",
       "      <td>NaN</td>\n",
       "      <td>NaN</td>\n",
       "      <td>NaN</td>\n",
       "      <td>NaN</td>\n",
       "      <td>NaN</td>\n",
       "      <td>NaN</td>\n",
       "      <td>NaN</td>\n",
       "    </tr>\n",
       "    <tr>\n",
       "      <th>education_of_employee</th>\n",
       "      <td>25480</td>\n",
       "      <td>4</td>\n",
       "      <td>Bachelor's</td>\n",
       "      <td>10234</td>\n",
       "      <td>NaN</td>\n",
       "      <td>NaN</td>\n",
       "      <td>NaN</td>\n",
       "      <td>NaN</td>\n",
       "      <td>NaN</td>\n",
       "      <td>NaN</td>\n",
       "      <td>NaN</td>\n",
       "    </tr>\n",
       "    <tr>\n",
       "      <th>has_job_experience</th>\n",
       "      <td>25480</td>\n",
       "      <td>2</td>\n",
       "      <td>Y</td>\n",
       "      <td>14802</td>\n",
       "      <td>NaN</td>\n",
       "      <td>NaN</td>\n",
       "      <td>NaN</td>\n",
       "      <td>NaN</td>\n",
       "      <td>NaN</td>\n",
       "      <td>NaN</td>\n",
       "      <td>NaN</td>\n",
       "    </tr>\n",
       "    <tr>\n",
       "      <th>requires_job_training</th>\n",
       "      <td>25480</td>\n",
       "      <td>2</td>\n",
       "      <td>N</td>\n",
       "      <td>22525</td>\n",
       "      <td>NaN</td>\n",
       "      <td>NaN</td>\n",
       "      <td>NaN</td>\n",
       "      <td>NaN</td>\n",
       "      <td>NaN</td>\n",
       "      <td>NaN</td>\n",
       "      <td>NaN</td>\n",
       "    </tr>\n",
       "    <tr>\n",
       "      <th>no_of_employees</th>\n",
       "      <td>25480.0</td>\n",
       "      <td>NaN</td>\n",
       "      <td>NaN</td>\n",
       "      <td>NaN</td>\n",
       "      <td>5667.04321</td>\n",
       "      <td>22877.928848</td>\n",
       "      <td>-26.0</td>\n",
       "      <td>1022.0</td>\n",
       "      <td>2109.0</td>\n",
       "      <td>3504.0</td>\n",
       "      <td>602069.0</td>\n",
       "    </tr>\n",
       "    <tr>\n",
       "      <th>yr_of_estab</th>\n",
       "      <td>25480.0</td>\n",
       "      <td>NaN</td>\n",
       "      <td>NaN</td>\n",
       "      <td>NaN</td>\n",
       "      <td>1979.409929</td>\n",
       "      <td>42.366929</td>\n",
       "      <td>1800.0</td>\n",
       "      <td>1976.0</td>\n",
       "      <td>1997.0</td>\n",
       "      <td>2005.0</td>\n",
       "      <td>2016.0</td>\n",
       "    </tr>\n",
       "    <tr>\n",
       "      <th>region_of_employment</th>\n",
       "      <td>25480</td>\n",
       "      <td>5</td>\n",
       "      <td>Northeast</td>\n",
       "      <td>7195</td>\n",
       "      <td>NaN</td>\n",
       "      <td>NaN</td>\n",
       "      <td>NaN</td>\n",
       "      <td>NaN</td>\n",
       "      <td>NaN</td>\n",
       "      <td>NaN</td>\n",
       "      <td>NaN</td>\n",
       "    </tr>\n",
       "    <tr>\n",
       "      <th>prevailing_wage</th>\n",
       "      <td>25480.0</td>\n",
       "      <td>NaN</td>\n",
       "      <td>NaN</td>\n",
       "      <td>NaN</td>\n",
       "      <td>74455.814592</td>\n",
       "      <td>52815.942327</td>\n",
       "      <td>2.1367</td>\n",
       "      <td>34015.48</td>\n",
       "      <td>70308.21</td>\n",
       "      <td>107735.5125</td>\n",
       "      <td>319210.27</td>\n",
       "    </tr>\n",
       "    <tr>\n",
       "      <th>unit_of_wage</th>\n",
       "      <td>25480</td>\n",
       "      <td>4</td>\n",
       "      <td>Year</td>\n",
       "      <td>22962</td>\n",
       "      <td>NaN</td>\n",
       "      <td>NaN</td>\n",
       "      <td>NaN</td>\n",
       "      <td>NaN</td>\n",
       "      <td>NaN</td>\n",
       "      <td>NaN</td>\n",
       "      <td>NaN</td>\n",
       "    </tr>\n",
       "    <tr>\n",
       "      <th>full_time_position</th>\n",
       "      <td>25480</td>\n",
       "      <td>2</td>\n",
       "      <td>Y</td>\n",
       "      <td>22773</td>\n",
       "      <td>NaN</td>\n",
       "      <td>NaN</td>\n",
       "      <td>NaN</td>\n",
       "      <td>NaN</td>\n",
       "      <td>NaN</td>\n",
       "      <td>NaN</td>\n",
       "      <td>NaN</td>\n",
       "    </tr>\n",
       "    <tr>\n",
       "      <th>case_status</th>\n",
       "      <td>25480</td>\n",
       "      <td>2</td>\n",
       "      <td>Certified</td>\n",
       "      <td>17018</td>\n",
       "      <td>NaN</td>\n",
       "      <td>NaN</td>\n",
       "      <td>NaN</td>\n",
       "      <td>NaN</td>\n",
       "      <td>NaN</td>\n",
       "      <td>NaN</td>\n",
       "      <td>NaN</td>\n",
       "    </tr>\n",
       "  </tbody>\n",
       "</table>\n",
       "</div>"
      ],
      "text/plain": [
       "                         count unique         top   freq          mean  \\\n",
       "continent                25480      6        Asia  16861           NaN   \n",
       "education_of_employee    25480      4  Bachelor's  10234           NaN   \n",
       "has_job_experience       25480      2           Y  14802           NaN   \n",
       "requires_job_training    25480      2           N  22525           NaN   \n",
       "no_of_employees        25480.0    NaN         NaN    NaN    5667.04321   \n",
       "yr_of_estab            25480.0    NaN         NaN    NaN   1979.409929   \n",
       "region_of_employment     25480      5   Northeast   7195           NaN   \n",
       "prevailing_wage        25480.0    NaN         NaN    NaN  74455.814592   \n",
       "unit_of_wage             25480      4        Year  22962           NaN   \n",
       "full_time_position       25480      2           Y  22773           NaN   \n",
       "case_status              25480      2   Certified  17018           NaN   \n",
       "\n",
       "                                std     min       25%       50%          75%  \\\n",
       "continent                       NaN     NaN       NaN       NaN          NaN   \n",
       "education_of_employee           NaN     NaN       NaN       NaN          NaN   \n",
       "has_job_experience              NaN     NaN       NaN       NaN          NaN   \n",
       "requires_job_training           NaN     NaN       NaN       NaN          NaN   \n",
       "no_of_employees        22877.928848   -26.0    1022.0    2109.0       3504.0   \n",
       "yr_of_estab               42.366929  1800.0    1976.0    1997.0       2005.0   \n",
       "region_of_employment            NaN     NaN       NaN       NaN          NaN   \n",
       "prevailing_wage        52815.942327  2.1367  34015.48  70308.21  107735.5125   \n",
       "unit_of_wage                    NaN     NaN       NaN       NaN          NaN   \n",
       "full_time_position              NaN     NaN       NaN       NaN          NaN   \n",
       "case_status                     NaN     NaN       NaN       NaN          NaN   \n",
       "\n",
       "                             max  \n",
       "continent                    NaN  \n",
       "education_of_employee        NaN  \n",
       "has_job_experience           NaN  \n",
       "requires_job_training        NaN  \n",
       "no_of_employees         602069.0  \n",
       "yr_of_estab               2016.0  \n",
       "region_of_employment         NaN  \n",
       "prevailing_wage        319210.27  \n",
       "unit_of_wage                 NaN  \n",
       "full_time_position           NaN  \n",
       "case_status                  NaN  "
      ]
     },
     "execution_count": 20,
     "metadata": {},
     "output_type": "execute_result"
    },
    {
     "data": {
      "application/javascript": [
       "\n",
       "            setTimeout(function() {\n",
       "                var nbb_cell_id = 20;\n",
       "                var nbb_unformatted_code = \"df.describe(include=\\\"all\\\").T\";\n",
       "                var nbb_formatted_code = \"df.describe(include=\\\"all\\\").T\";\n",
       "                var nbb_cells = Jupyter.notebook.get_cells();\n",
       "                for (var i = 0; i < nbb_cells.length; ++i) {\n",
       "                    if (nbb_cells[i].input_prompt_number == nbb_cell_id) {\n",
       "                        if (nbb_cells[i].get_text() == nbb_unformatted_code) {\n",
       "                             nbb_cells[i].set_text(nbb_formatted_code);\n",
       "                        }\n",
       "                        break;\n",
       "                    }\n",
       "                }\n",
       "            }, 500);\n",
       "            "
      ],
      "text/plain": [
       "<IPython.core.display.Javascript object>"
      ]
     },
     "metadata": {},
     "output_type": "display_data"
    }
   ],
   "source": [
    "df.describe(include=\"all\").T"
   ]
  },
  {
   "cell_type": "markdown",
   "id": "ba5fb657",
   "metadata": {},
   "source": [
    "#### Observations\n",
    "- Asia is the most frequently occuring continent in the dataset, i.e. there are more applications from Asia than other continents. \n",
    "- Most of the applicants have Bachelor's degree.\n",
    "- Most of the applicants have job experience and do not require training. \n",
    "- no_of_employees data has a wide range and looks right skewed. Min value indicates that there are rows with negative values. \n",
    "- yr_of_estab data has a narrow range and appears to have a left skewed distribution. \n",
    "- prevailing_wage data has a wide range and looks heavily right skewed. Min and Max values indicates there could be outliers in the data. \n",
    "- There are more applications for positions in Northeast, which probably indicates more skill shortage in the region.\n",
    "- Most of the applications are for full time positions where the unit of wage is in Year. \n",
    "- There are more Certified applications than Denied. "
   ]
  },
  {
   "cell_type": "markdown",
   "id": "b0a6e46b",
   "metadata": {},
   "source": [
    "**Fix negative values in `no_of_employees` column** "
   ]
  },
  {
   "cell_type": "code",
   "execution_count": 22,
   "id": "486d08c0",
   "metadata": {},
   "outputs": [
    {
     "data": {
      "text/plain": [
       "(33, 11)"
      ]
     },
     "execution_count": 22,
     "metadata": {},
     "output_type": "execute_result"
    },
    {
     "data": {
      "application/javascript": [
       "\n",
       "            setTimeout(function() {\n",
       "                var nbb_cell_id = 22;\n",
       "                var nbb_unformatted_code = \"# Check records with negative value for no_of_employees\\ndf[df[\\\"no_of_employees\\\"] <= 0].shape\";\n",
       "                var nbb_formatted_code = \"# Check records with negative value for no_of_employees\\ndf[df[\\\"no_of_employees\\\"] <= 0].shape\";\n",
       "                var nbb_cells = Jupyter.notebook.get_cells();\n",
       "                for (var i = 0; i < nbb_cells.length; ++i) {\n",
       "                    if (nbb_cells[i].input_prompt_number == nbb_cell_id) {\n",
       "                        if (nbb_cells[i].get_text() == nbb_unformatted_code) {\n",
       "                             nbb_cells[i].set_text(nbb_formatted_code);\n",
       "                        }\n",
       "                        break;\n",
       "                    }\n",
       "                }\n",
       "            }, 500);\n",
       "            "
      ],
      "text/plain": [
       "<IPython.core.display.Javascript object>"
      ]
     },
     "metadata": {},
     "output_type": "display_data"
    }
   ],
   "source": [
    "# Check records with negative value for no_of_employees\n",
    "df[df[\"no_of_employees\"] <= 0].shape"
   ]
  },
  {
   "cell_type": "code",
   "execution_count": 23,
   "id": "ad29004d",
   "metadata": {},
   "outputs": [
    {
     "data": {
      "application/javascript": [
       "\n",
       "            setTimeout(function() {\n",
       "                var nbb_cell_id = 23;\n",
       "                var nbb_unformatted_code = \"# Changing the negative values to positive\\ndf[\\\"no_of_employees\\\"] = abs(df[\\\"no_of_employees\\\"])\";\n",
       "                var nbb_formatted_code = \"# Changing the negative values to positive\\ndf[\\\"no_of_employees\\\"] = abs(df[\\\"no_of_employees\\\"])\";\n",
       "                var nbb_cells = Jupyter.notebook.get_cells();\n",
       "                for (var i = 0; i < nbb_cells.length; ++i) {\n",
       "                    if (nbb_cells[i].input_prompt_number == nbb_cell_id) {\n",
       "                        if (nbb_cells[i].get_text() == nbb_unformatted_code) {\n",
       "                             nbb_cells[i].set_text(nbb_formatted_code);\n",
       "                        }\n",
       "                        break;\n",
       "                    }\n",
       "                }\n",
       "            }, 500);\n",
       "            "
      ],
      "text/plain": [
       "<IPython.core.display.Javascript object>"
      ]
     },
     "metadata": {},
     "output_type": "display_data"
    }
   ],
   "source": [
    "# Changing the negative values to positive\n",
    "df[\"no_of_employees\"] = abs(df[\"no_of_employees\"])"
   ]
  },
  {
   "cell_type": "code",
   "execution_count": 24,
   "id": "3befc611",
   "metadata": {},
   "outputs": [
    {
     "data": {
      "text/plain": [
       "(0, 11)"
      ]
     },
     "execution_count": 24,
     "metadata": {},
     "output_type": "execute_result"
    },
    {
     "data": {
      "application/javascript": [
       "\n",
       "            setTimeout(function() {\n",
       "                var nbb_cell_id = 24;\n",
       "                var nbb_unformatted_code = \"# Check records with negative value for no_of_employees after conversion\\ndf[df[\\\"no_of_employees\\\"] <= 0].shape\";\n",
       "                var nbb_formatted_code = \"# Check records with negative value for no_of_employees after conversion\\ndf[df[\\\"no_of_employees\\\"] <= 0].shape\";\n",
       "                var nbb_cells = Jupyter.notebook.get_cells();\n",
       "                for (var i = 0; i < nbb_cells.length; ++i) {\n",
       "                    if (nbb_cells[i].input_prompt_number == nbb_cell_id) {\n",
       "                        if (nbb_cells[i].get_text() == nbb_unformatted_code) {\n",
       "                             nbb_cells[i].set_text(nbb_formatted_code);\n",
       "                        }\n",
       "                        break;\n",
       "                    }\n",
       "                }\n",
       "            }, 500);\n",
       "            "
      ],
      "text/plain": [
       "<IPython.core.display.Javascript object>"
      ]
     },
     "metadata": {},
     "output_type": "display_data"
    }
   ],
   "source": [
    "# Check records with negative value for no_of_employees after conversion\n",
    "df[df[\"no_of_employees\"] <= 0].shape"
   ]
  },
  {
   "cell_type": "code",
   "execution_count": 25,
   "id": "26ae61fb",
   "metadata": {},
   "outputs": [
    {
     "data": {
      "text/plain": [
       "(25480, 11)"
      ]
     },
     "execution_count": 25,
     "metadata": {},
     "output_type": "execute_result"
    },
    {
     "data": {
      "application/javascript": [
       "\n",
       "            setTimeout(function() {\n",
       "                var nbb_cell_id = 25;\n",
       "                var nbb_unformatted_code = \"df.shape\";\n",
       "                var nbb_formatted_code = \"df.shape\";\n",
       "                var nbb_cells = Jupyter.notebook.get_cells();\n",
       "                for (var i = 0; i < nbb_cells.length; ++i) {\n",
       "                    if (nbb_cells[i].input_prompt_number == nbb_cell_id) {\n",
       "                        if (nbb_cells[i].get_text() == nbb_unformatted_code) {\n",
       "                             nbb_cells[i].set_text(nbb_formatted_code);\n",
       "                        }\n",
       "                        break;\n",
       "                    }\n",
       "                }\n",
       "            }, 500);\n",
       "            "
      ],
      "text/plain": [
       "<IPython.core.display.Javascript object>"
      ]
     },
     "metadata": {},
     "output_type": "display_data"
    }
   ],
   "source": [
    "df.shape"
   ]
  },
  {
   "cell_type": "markdown",
   "id": "8cc5a274",
   "metadata": {},
   "source": [
    "**Check % distribution of each unique category in each of the categorical variables** "
   ]
  },
  {
   "cell_type": "code",
   "execution_count": 32,
   "id": "4a5c3c9a",
   "metadata": {},
   "outputs": [
    {
     "name": "stdout",
     "output_type": "stream",
     "text": [
      "Asia             66.2%\n",
      "Europe           14.6%\n",
      "North America    12.9%\n",
      "South America     3.3%\n",
      "Africa            2.2%\n",
      "Oceania           0.8%\n",
      "Name: continent, dtype: object\n",
      "--------------------------------------------------\n",
      "Bachelor's     40.2%\n",
      "Master's       37.8%\n",
      "High School    13.4%\n",
      "Doctorate       8.6%\n",
      "Name: education_of_employee, dtype: object\n",
      "--------------------------------------------------\n",
      "Y    58.1%\n",
      "N    41.9%\n",
      "Name: has_job_experience, dtype: object\n",
      "--------------------------------------------------\n",
      "N    88.4%\n",
      "Y    11.6%\n",
      "Name: requires_job_training, dtype: object\n",
      "--------------------------------------------------\n",
      "Northeast    28.2%\n",
      "South        27.5%\n",
      "West         25.8%\n",
      "Midwest      16.9%\n",
      "Island        1.5%\n",
      "Name: region_of_employment, dtype: object\n",
      "--------------------------------------------------\n",
      "Year     90.1%\n",
      "Hour      8.5%\n",
      "Week      1.1%\n",
      "Month     0.3%\n",
      "Name: unit_of_wage, dtype: object\n",
      "--------------------------------------------------\n",
      "Y    89.4%\n",
      "N    10.6%\n",
      "Name: full_time_position, dtype: object\n",
      "--------------------------------------------------\n",
      "Certified    66.8%\n",
      "Denied       33.2%\n",
      "Name: case_status, dtype: object\n",
      "--------------------------------------------------\n"
     ]
    },
    {
     "data": {
      "application/javascript": [
       "\n",
       "            setTimeout(function() {\n",
       "                var nbb_cell_id = 32;\n",
       "                var nbb_unformatted_code = \"# Print % distribution of each unique category in each of the categorical variables\\nfor column in df.columns:  # Loop through all columns in the dataframe\\n    if df[column].dtype.name == \\\"category\\\":  # Only apply for columns with type category\\n        print(\\n            df[column].value_counts(normalize=True).mul(100).round(1).astype(str) + \\\"%\\\"\\n        )\\n        print(\\\"-\\\" * 50)\";\n",
       "                var nbb_formatted_code = \"# Print % distribution of each unique category in each of the categorical variables\\nfor column in df.columns:  # Loop through all columns in the dataframe\\n    if df[column].dtype.name == \\\"category\\\":  # Only apply for columns with type category\\n        print(\\n            df[column].value_counts(normalize=True).mul(100).round(1).astype(str) + \\\"%\\\"\\n        )\\n        print(\\\"-\\\" * 50)\";\n",
       "                var nbb_cells = Jupyter.notebook.get_cells();\n",
       "                for (var i = 0; i < nbb_cells.length; ++i) {\n",
       "                    if (nbb_cells[i].input_prompt_number == nbb_cell_id) {\n",
       "                        if (nbb_cells[i].get_text() == nbb_unformatted_code) {\n",
       "                             nbb_cells[i].set_text(nbb_formatted_code);\n",
       "                        }\n",
       "                        break;\n",
       "                    }\n",
       "                }\n",
       "            }, 500);\n",
       "            "
      ],
      "text/plain": [
       "<IPython.core.display.Javascript object>"
      ]
     },
     "metadata": {},
     "output_type": "display_data"
    }
   ],
   "source": [
    "# Print % distribution of each unique category in each of the categorical variables\n",
    "for column in df.columns:  # Loop through all columns in the dataframe\n",
    "    if df[column].dtype.name == \"category\":  # Only apply for columns with type category\n",
    "        print(\n",
    "            df[column].value_counts(normalize=True).mul(100).round(1).astype(str) + \"%\"\n",
    "        )\n",
    "        print(\"-\" * 50)"
   ]
  },
  {
   "cell_type": "markdown",
   "id": "8ec571cd",
   "metadata": {},
   "source": [
    "#### Observations\n",
    "- 66% cases are `Certified` for Visa\n",
    "- 90% positions are `full_time_position`"
   ]
  },
  {
   "cell_type": "markdown",
   "id": "seasonal-calibration",
   "metadata": {
    "id": "seasonal-calibration"
   },
   "source": [
    "## Exploratory Data Analysis (EDA)\n",
    "\n",
    "- EDA is an important part of any project involving data.\n",
    "- It is important to investigate and understand the data better before building a model with it.\n",
    "- A few questions have been mentioned below which will help you approach the analysis in the right manner and generate insights from the data.\n",
    "- A thorough analysis of the data, in addition to the questions mentioned below, should be done."
   ]
  },
  {
   "cell_type": "markdown",
   "id": "bae3b783",
   "metadata": {},
   "source": [
    "## Univariate Analysis"
   ]
  },
  {
   "cell_type": "code",
   "execution_count": 33,
   "id": "right-permit",
   "metadata": {
    "id": "right-permit"
   },
   "outputs": [
    {
     "data": {
      "application/javascript": [
       "\n",
       "            setTimeout(function() {\n",
       "                var nbb_cell_id = 33;\n",
       "                var nbb_unformatted_code = \"# Function to plot distribution plot and box plot as subplots in one row.  \\n# This will be a resuable for univariate analysis of different variables of df dataframe\\n\\ndef distribution_box_plot(data, series, kde=False, mean=False, median=False, mode=False): \\n    \\\"\\\"\\\"\\n    Distplot and boxplot as subplots for a series within a dataframe\\n    data =  Dataframe\\n    series = column / variable under analysis\\n    kde =  Boolean. To show Kernel Density Estimate curve. Default set to False\\n    mean =  Boolean. To show mean value of a numeric series. Default set to False\\n    median = Boolean. To show median of a numeric series. Default set to False\\n    mode = Boolean. To show first mode value of a numeric series. Default set to False\\n    \\\"\\\"\\\"\\n    plt.figure(figsize=(20,5))\\n    plt.subplot(1, 2, 1) # Divides the plot area into subplots with 1 row and 2 columns. 3rd arg indicates plot index\\n    sns.distplot(data[series], kde=kde) # Add distribution plot\\n    if mean ==  True:  # Add mean indicator to the distplot\\n        plt.axvline(data[series].mean(), color='r', linestyle='--', label = \\\"Mean\\\")\\n    if median == True: # Add median indicator to the distplot\\n        plt.axvline(data[series].median(), color='g', linestyle='-', label = \\\"Median\\\")\\n    if mode == True:  # Add first modal value indicator to the distplot\\n        plt.axvline(data[series].mode()[0], color='b', linestyle='-', label = \\\"Mode\\\")\\n    \\n    plt.legend()   # Show legends\\n    \\n    plt.subplot(1, 2, 2) \\n    sns.boxplot(data = data, y = series, showmeans = True) #Add box plot with mean value indicator\\n    plt.show()  \";\n",
       "                var nbb_formatted_code = \"# Function to plot distribution plot and box plot as subplots in one row.\\n# This will be a resuable for univariate analysis of different variables of df dataframe\\n\\n\\ndef distribution_box_plot(\\n    data, series, kde=False, mean=False, median=False, mode=False\\n):\\n    \\\"\\\"\\\"\\n    Distplot and boxplot as subplots for a series within a dataframe\\n    data =  Dataframe\\n    series = column / variable under analysis\\n    kde =  Boolean. To show Kernel Density Estimate curve. Default set to False\\n    mean =  Boolean. To show mean value of a numeric series. Default set to False\\n    median = Boolean. To show median of a numeric series. Default set to False\\n    mode = Boolean. To show first mode value of a numeric series. Default set to False\\n    \\\"\\\"\\\"\\n    plt.figure(figsize=(20, 5))\\n    plt.subplot(\\n        1, 2, 1\\n    )  # Divides the plot area into subplots with 1 row and 2 columns. 3rd arg indicates plot index\\n    sns.distplot(data[series], kde=kde)  # Add distribution plot\\n    if mean == True:  # Add mean indicator to the distplot\\n        plt.axvline(data[series].mean(), color=\\\"r\\\", linestyle=\\\"--\\\", label=\\\"Mean\\\")\\n    if median == True:  # Add median indicator to the distplot\\n        plt.axvline(data[series].median(), color=\\\"g\\\", linestyle=\\\"-\\\", label=\\\"Median\\\")\\n    if mode == True:  # Add first modal value indicator to the distplot\\n        plt.axvline(data[series].mode()[0], color=\\\"b\\\", linestyle=\\\"-\\\", label=\\\"Mode\\\")\\n\\n    plt.legend()  # Show legends\\n\\n    plt.subplot(1, 2, 2)\\n    sns.boxplot(\\n        data=data, y=series, showmeans=True\\n    )  # Add box plot with mean value indicator\\n    plt.show()\";\n",
       "                var nbb_cells = Jupyter.notebook.get_cells();\n",
       "                for (var i = 0; i < nbb_cells.length; ++i) {\n",
       "                    if (nbb_cells[i].input_prompt_number == nbb_cell_id) {\n",
       "                        if (nbb_cells[i].get_text() == nbb_unformatted_code) {\n",
       "                             nbb_cells[i].set_text(nbb_formatted_code);\n",
       "                        }\n",
       "                        break;\n",
       "                    }\n",
       "                }\n",
       "            }, 500);\n",
       "            "
      ],
      "text/plain": [
       "<IPython.core.display.Javascript object>"
      ]
     },
     "metadata": {},
     "output_type": "display_data"
    }
   ],
   "source": [
    "# Function to plot distribution plot and box plot as subplots in one row.\n",
    "# This will be a resuable for univariate analysis of different variables of df dataframe\n",
    "\n",
    "\n",
    "def distribution_box_plot(\n",
    "    data, series, kde=False, mean=False, median=False, mode=False\n",
    "):\n",
    "    \"\"\"\n",
    "    Distplot and boxplot as subplots for a series within a dataframe\n",
    "    data =  Dataframe\n",
    "    series = column / variable under analysis\n",
    "    kde =  Boolean. To show Kernel Density Estimate curve. Default set to False\n",
    "    mean =  Boolean. To show mean value of a numeric series. Default set to False\n",
    "    median = Boolean. To show median of a numeric series. Default set to False\n",
    "    mode = Boolean. To show first mode value of a numeric series. Default set to False\n",
    "    \"\"\"\n",
    "    plt.figure(figsize=(20, 5))\n",
    "    plt.subplot(\n",
    "        1, 2, 1\n",
    "    )  # Divides the plot area into subplots with 1 row and 2 columns. 3rd arg indicates plot index\n",
    "    sns.distplot(data[series], kde=kde)  # Add distribution plot\n",
    "    if mean == True:  # Add mean indicator to the distplot\n",
    "        plt.axvline(data[series].mean(), color=\"r\", linestyle=\"--\", label=\"Mean\")\n",
    "    if median == True:  # Add median indicator to the distplot\n",
    "        plt.axvline(data[series].median(), color=\"g\", linestyle=\"-\", label=\"Median\")\n",
    "    if mode == True:  # Add first modal value indicator to the distplot\n",
    "        plt.axvline(data[series].mode()[0], color=\"b\", linestyle=\"-\", label=\"Mode\")\n",
    "\n",
    "    plt.legend()  # Show legends\n",
    "\n",
    "    plt.subplot(1, 2, 2)\n",
    "    sns.boxplot(\n",
    "        data=data, y=series, showmeans=True\n",
    "    )  # Add box plot with mean value indicator\n",
    "    plt.show()"
   ]
  },
  {
   "cell_type": "code",
   "execution_count": 34,
   "id": "3ed21663",
   "metadata": {},
   "outputs": [
    {
     "data": {
      "application/javascript": [
       "\n",
       "            setTimeout(function() {\n",
       "                var nbb_cell_id = 34;\n",
       "                var nbb_unformatted_code = \"# Function to plot labelled countplot with percentage and count over the bars\\n# This will be a resuable for univariate analysis of different variables / columns within df dataframe\\n\\n\\ndef labelled_countplot(data, series, showper=True, showcount=True, n=None):\\n    \\\"\\\"\\\"\\n    data = Dataframe\\n    series = column / variable under analysis\\n    showper = Boolean. To show percentage over the bars.Default set to True\\n    showcount = Boolean. To show count over the bars.Default set to True\\n    n = number of top records to plot\\n    \\\"\\\"\\\"\\n    count = data[series].nunique()  # get the number of unique values of the column\\n    if n is None:\\n        plt.figure(\\n            figsize=(count + 3.5, 7)\\n        )  # Adjust the width of the graph area as per the unique values\\n    else:\\n        plt.figure(\\n            figsize=(n + 5, 5)\\n        )  # Adjust the width of the graph area as per the n value specified\\n\\n    # Show countplot of the data in descending order of value count\\n    ax = sns.countplot(\\n        x=data[series], order=data[series].value_counts(ascending=False).index[:n]\\n    )\\n\\n    # If True, show count as data label over each bar\\n    if showcount == True:\\n        for p, label in zip(\\n            ax.patches, data[series].value_counts(ascending=False).values\\n        ):\\n            ax.annotate(label, (p.get_x() + 0.100, p.get_height() + 3.5))\\n\\n    # If True, show percentage as data label over each bar\\n    if showper == True:\\n        total = data[series].count()\\n        for p, label in zip(\\n            ax.patches, 100 * data[series].value_counts(ascending=False).values / total\\n        ):\\n            ax.annotate(\\n                \\\"({:.2f}%)\\\".format(label), (p.get_x() + 0.350, p.get_height() + 3.5)\\n            )\\n\\n    plt.show()\";\n",
       "                var nbb_formatted_code = \"# Function to plot labelled countplot with percentage and count over the bars\\n# This will be a resuable for univariate analysis of different variables / columns within df dataframe\\n\\n\\ndef labelled_countplot(data, series, showper=True, showcount=True, n=None):\\n    \\\"\\\"\\\"\\n    data = Dataframe\\n    series = column / variable under analysis\\n    showper = Boolean. To show percentage over the bars.Default set to True\\n    showcount = Boolean. To show count over the bars.Default set to True\\n    n = number of top records to plot\\n    \\\"\\\"\\\"\\n    count = data[series].nunique()  # get the number of unique values of the column\\n    if n is None:\\n        plt.figure(\\n            figsize=(count + 3.5, 7)\\n        )  # Adjust the width of the graph area as per the unique values\\n    else:\\n        plt.figure(\\n            figsize=(n + 5, 5)\\n        )  # Adjust the width of the graph area as per the n value specified\\n\\n    # Show countplot of the data in descending order of value count\\n    ax = sns.countplot(\\n        x=data[series], order=data[series].value_counts(ascending=False).index[:n]\\n    )\\n\\n    # If True, show count as data label over each bar\\n    if showcount == True:\\n        for p, label in zip(\\n            ax.patches, data[series].value_counts(ascending=False).values\\n        ):\\n            ax.annotate(label, (p.get_x() + 0.100, p.get_height() + 3.5))\\n\\n    # If True, show percentage as data label over each bar\\n    if showper == True:\\n        total = data[series].count()\\n        for p, label in zip(\\n            ax.patches, 100 * data[series].value_counts(ascending=False).values / total\\n        ):\\n            ax.annotate(\\n                \\\"({:.2f}%)\\\".format(label), (p.get_x() + 0.350, p.get_height() + 3.5)\\n            )\\n\\n    plt.show()\";\n",
       "                var nbb_cells = Jupyter.notebook.get_cells();\n",
       "                for (var i = 0; i < nbb_cells.length; ++i) {\n",
       "                    if (nbb_cells[i].input_prompt_number == nbb_cell_id) {\n",
       "                        if (nbb_cells[i].get_text() == nbb_unformatted_code) {\n",
       "                             nbb_cells[i].set_text(nbb_formatted_code);\n",
       "                        }\n",
       "                        break;\n",
       "                    }\n",
       "                }\n",
       "            }, 500);\n",
       "            "
      ],
      "text/plain": [
       "<IPython.core.display.Javascript object>"
      ]
     },
     "metadata": {},
     "output_type": "display_data"
    }
   ],
   "source": [
    "# Function to plot labelled countplot with percentage and count over the bars\n",
    "# This will be a resuable for univariate analysis of different variables / columns within df dataframe\n",
    "\n",
    "\n",
    "def labelled_countplot(data, series, showper=True, showcount=True, n=None):\n",
    "    \"\"\"\n",
    "    data = Dataframe\n",
    "    series = column / variable under analysis\n",
    "    showper = Boolean. To show percentage over the bars.Default set to True\n",
    "    showcount = Boolean. To show count over the bars.Default set to True\n",
    "    n = number of top records to plot\n",
    "    \"\"\"\n",
    "    count = data[series].nunique()  # get the number of unique values of the column\n",
    "    if n is None:\n",
    "        plt.figure(\n",
    "            figsize=(count + 3.5, 7)\n",
    "        )  # Adjust the width of the graph area as per the unique values\n",
    "    else:\n",
    "        plt.figure(\n",
    "            figsize=(n + 5, 5)\n",
    "        )  # Adjust the width of the graph area as per the n value specified\n",
    "\n",
    "    # Show countplot of the data in descending order of value count\n",
    "    ax = sns.countplot(\n",
    "        x=data[series], order=data[series].value_counts(ascending=False).index[:n]\n",
    "    )\n",
    "\n",
    "    # If True, show count as data label over each bar\n",
    "    if showcount == True:\n",
    "        for p, label in zip(\n",
    "            ax.patches, data[series].value_counts(ascending=False).values\n",
    "        ):\n",
    "            ax.annotate(label, (p.get_x() + 0.100, p.get_height() + 3.5))\n",
    "\n",
    "    # If True, show percentage as data label over each bar\n",
    "    if showper == True:\n",
    "        total = data[series].count()\n",
    "        for p, label in zip(\n",
    "            ax.patches, 100 * data[series].value_counts(ascending=False).values / total\n",
    "        ):\n",
    "            ax.annotate(\n",
    "                \"({:.2f}%)\".format(label), (p.get_x() + 0.350, p.get_height() + 3.5)\n",
    "            )\n",
    "\n",
    "    plt.show()"
   ]
  },
  {
   "cell_type": "markdown",
   "id": "ca8b6a36",
   "metadata": {},
   "source": [
    "**`Numerical Variables`**"
   ]
  },
  {
   "cell_type": "markdown",
   "id": "a607be43",
   "metadata": {},
   "source": [
    "**`no_of_employees`**"
   ]
  },
  {
   "cell_type": "code",
   "execution_count": 35,
   "id": "10af8d4c",
   "metadata": {
    "scrolled": true
   },
   "outputs": [
    {
     "data": {
      "image/png": "[encoded data removed]",
      "text/plain": [
       "<Figure size 1440x360 with 2 Axes>"
      ]
     },
     "metadata": {
      "needs_background": "light"
     },
     "output_type": "display_data"
    },
    {
     "data": {
      "application/javascript": [
       "\n",
       "            setTimeout(function() {\n",
       "                var nbb_cell_id = 35;\n",
       "                var nbb_unformatted_code = \"distribution_box_plot(df,\\\"no_of_employees\\\",kde=True,mean=True,median=True,mode=True)\";\n",
       "                var nbb_formatted_code = \"distribution_box_plot(\\n    df, \\\"no_of_employees\\\", kde=True, mean=True, median=True, mode=True\\n)\";\n",
       "                var nbb_cells = Jupyter.notebook.get_cells();\n",
       "                for (var i = 0; i < nbb_cells.length; ++i) {\n",
       "                    if (nbb_cells[i].input_prompt_number == nbb_cell_id) {\n",
       "                        if (nbb_cells[i].get_text() == nbb_unformatted_code) {\n",
       "                             nbb_cells[i].set_text(nbb_formatted_code);\n",
       "                        }\n",
       "                        break;\n",
       "                    }\n",
       "                }\n",
       "            }, 500);\n",
       "            "
      ],
      "text/plain": [
       "<IPython.core.display.Javascript object>"
      ]
     },
     "metadata": {},
     "output_type": "display_data"
    }
   ],
   "source": [
    "distribution_box_plot(\n",
    "    df, \"no_of_employees\", kde=True, mean=True, median=True, mode=True\n",
    ")"
   ]
  },
  {
   "cell_type": "markdown",
   "id": "c12cc595",
   "metadata": {},
   "source": [
    "#### Observations\n",
    "- The data appears to discrete. Almost all records are shown as outliers."
   ]
  },
  {
   "cell_type": "markdown",
   "id": "fbeaa3bb",
   "metadata": {},
   "source": [
    "**`yr_of_estab`**"
   ]
  },
  {
   "cell_type": "code",
   "execution_count": 36,
   "id": "e5d48712",
   "metadata": {
    "scrolled": true
   },
   "outputs": [
    {
     "data": {
      "image/png": "[encoded data removed]",
      "text/plain": [
       "<Figure size 1440x360 with 2 Axes>"
      ]
     },
     "metadata": {
      "needs_background": "light"
     },
     "output_type": "display_data"
    },
    {
     "data": {
      "application/javascript": [
       "\n",
       "            setTimeout(function() {\n",
       "                var nbb_cell_id = 36;\n",
       "                var nbb_unformatted_code = \"distribution_box_plot(\\n    df, \\\"yr_of_estab\\\", kde=True, mean=True, median=True, mode=True\\n)\";\n",
       "                var nbb_formatted_code = \"distribution_box_plot(df, \\\"yr_of_estab\\\", kde=True, mean=True, median=True, mode=True)\";\n",
       "                var nbb_cells = Jupyter.notebook.get_cells();\n",
       "                for (var i = 0; i < nbb_cells.length; ++i) {\n",
       "                    if (nbb_cells[i].input_prompt_number == nbb_cell_id) {\n",
       "                        if (nbb_cells[i].get_text() == nbb_unformatted_code) {\n",
       "                             nbb_cells[i].set_text(nbb_formatted_code);\n",
       "                        }\n",
       "                        break;\n",
       "                    }\n",
       "                }\n",
       "            }, 500);\n",
       "            "
      ],
      "text/plain": [
       "<IPython.core.display.Javascript object>"
      ]
     },
     "metadata": {},
     "output_type": "display_data"
    }
   ],
   "source": [
    "distribution_box_plot(df, \"yr_of_estab\", kde=True, mean=True, median=True, mode=True)"
   ]
  },
  {
   "cell_type": "markdown",
   "id": "4a5e6ba1",
   "metadata": {},
   "source": [
    "#### Observations\n",
    "- The data is heavily left skewed. \n",
    "- Most of the companies established in the year 2000. \n",
    "- There are few companies that are more than 200 years old."
   ]
  },
  {
   "cell_type": "markdown",
   "id": "4f825763",
   "metadata": {},
   "source": [
    "**`prevailing_wage`**"
   ]
  },
  {
   "cell_type": "code",
   "execution_count": 37,
   "id": "3e398cd0",
   "metadata": {
    "scrolled": true
   },
   "outputs": [
    {
     "data": {
      "image/png": "[encoded data removed]",
      "text/plain": [
       "<Figure size 1440x360 with 2 Axes>"
      ]
     },
     "metadata": {
      "needs_background": "light"
     },
     "output_type": "display_data"
    },
    {
     "data": {
      "application/javascript": [
       "\n",
       "            setTimeout(function() {\n",
       "                var nbb_cell_id = 37;\n",
       "                var nbb_unformatted_code = \"distribution_box_plot(df, \\\"prevailing_wage\\\", kde=True, mean=True, median=True, mode=True)\";\n",
       "                var nbb_formatted_code = \"distribution_box_plot(\\n    df, \\\"prevailing_wage\\\", kde=True, mean=True, median=True, mode=True\\n)\";\n",
       "                var nbb_cells = Jupyter.notebook.get_cells();\n",
       "                for (var i = 0; i < nbb_cells.length; ++i) {\n",
       "                    if (nbb_cells[i].input_prompt_number == nbb_cell_id) {\n",
       "                        if (nbb_cells[i].get_text() == nbb_unformatted_code) {\n",
       "                             nbb_cells[i].set_text(nbb_formatted_code);\n",
       "                        }\n",
       "                        break;\n",
       "                    }\n",
       "                }\n",
       "            }, 500);\n",
       "            "
      ],
      "text/plain": [
       "<IPython.core.display.Javascript object>"
      ]
     },
     "metadata": {},
     "output_type": "display_data"
    }
   ],
   "source": [
    "distribution_box_plot(\n",
    "    df, \"prevailing_wage\", kde=True, mean=True, median=True, mode=True\n",
    ")"
   ]
  },
  {
   "cell_type": "markdown",
   "id": "3420f315",
   "metadata": {},
   "source": [
    "#### Observations\n",
    "- The data is heavily right skewed. \n",
    "- Most of the applications have prevailing wage between 50000 and 100000. \n",
    "- There are few applications where wages go upto 300000."
   ]
  },
  {
   "cell_type": "markdown",
   "id": "6020921e",
   "metadata": {},
   "source": [
    "**`Categorical Variables`**"
   ]
  },
  {
   "cell_type": "code",
   "execution_count": 39,
   "id": "e30e0e61",
   "metadata": {},
   "outputs": [
    {
     "data": {
      "image/png": "[encoded data removed]",
      "text/plain": [
       "<Figure size 1080x3600 with 8 Axes>"
      ]
     },
     "metadata": {
      "needs_background": "light"
     },
     "output_type": "display_data"
    },
    {
     "data": {
      "application/javascript": [
       "\n",
       "            setTimeout(function() {\n",
       "                var nbb_cell_id = 39;\n",
       "                var nbb_unformatted_code = \"catcols = list(df.select_dtypes(\\\"category\\\").columns)\\nplt.figure(figsize=(15, 50))\\n\\nfor i in range(len(catcols)):\\n    plt.subplot(15, 2, i + 1)\\n    ax = sns.countplot(\\n        data=df,\\n        x=catcols[i],\\n        order=df[catcols[i]].value_counts(ascending=False).index[:],\\n    )\\n    total = df[catcols[i]].count()\\n    for p, label in zip(\\n        ax.patches, 100 * df[catcols[i]].value_counts(ascending=False).values / total,\\n    ):\\n        ax.annotate(\\\"{:.2f}%\\\".format(label), (p.get_x() + 0.100, p.get_height() + 4.5))\\n\\n    plt.tight_layout()\\n    plt.xlabel(catcols[i], fontsize=15)\\n\\nplt.show()\";\n",
       "                var nbb_formatted_code = \"catcols = list(df.select_dtypes(\\\"category\\\").columns)\\nplt.figure(figsize=(15, 50))\\n\\nfor i in range(len(catcols)):\\n    plt.subplot(15, 2, i + 1)\\n    ax = sns.countplot(\\n        data=df,\\n        x=catcols[i],\\n        order=df[catcols[i]].value_counts(ascending=False).index[:],\\n    )\\n    total = df[catcols[i]].count()\\n    for p, label in zip(\\n        ax.patches, 100 * df[catcols[i]].value_counts(ascending=False).values / total,\\n    ):\\n        ax.annotate(\\\"{:.2f}%\\\".format(label), (p.get_x() + 0.100, p.get_height() + 4.5))\\n\\n    plt.tight_layout()\\n    plt.xlabel(catcols[i], fontsize=15)\\n\\nplt.show()\";\n",
       "                var nbb_cells = Jupyter.notebook.get_cells();\n",
       "                for (var i = 0; i < nbb_cells.length; ++i) {\n",
       "                    if (nbb_cells[i].input_prompt_number == nbb_cell_id) {\n",
       "                        if (nbb_cells[i].get_text() == nbb_unformatted_code) {\n",
       "                             nbb_cells[i].set_text(nbb_formatted_code);\n",
       "                        }\n",
       "                        break;\n",
       "                    }\n",
       "                }\n",
       "            }, 500);\n",
       "            "
      ],
      "text/plain": [
       "<IPython.core.display.Javascript object>"
      ]
     },
     "metadata": {},
     "output_type": "display_data"
    }
   ],
   "source": [
    "catcols = list(df.select_dtypes(\"category\").columns)\n",
    "plt.figure(figsize=(15, 50))\n",
    "\n",
    "for i in range(len(catcols)):\n",
    "    plt.subplot(15, 2, i + 1)\n",
    "    ax = sns.countplot(\n",
    "        data=df,\n",
    "        x=catcols[i],\n",
    "        order=df[catcols[i]].value_counts(ascending=False).index[:],\n",
    "    )\n",
    "    total = df[catcols[i]].count()\n",
    "    for p, label in zip(\n",
    "        ax.patches, 100 * df[catcols[i]].value_counts(ascending=False).values / total,\n",
    "    ):\n",
    "        ax.annotate(\"{:.2f}%\".format(label), (p.get_x() + 0.100, p.get_height() + 4.5))\n",
    "\n",
    "    plt.tight_layout()\n",
    "    plt.xlabel(catcols[i], fontsize=15)\n",
    "\n",
    "plt.show()"
   ]
  },
  {
   "cell_type": "markdown",
   "id": "dc1083a5",
   "metadata": {},
   "source": [
    "### Observations\n",
    "- `continent` data suggests that most of the applications are from Asia.\n",
    "- Majority applicants have Bachelor's or Master's `education`.\n",
    "- Nearly half of the applicants have `job experience` and half don't.\n",
    "- Almost 90% applicants do not require `job training`.\n",
    "- Most of the employment opportunities are in Northeast, South and West `region` of US.\n",
    "- The `unit of wage` for almost all applications are yearly. \n",
    "- Almost all opportunities are `full time`\n",
    "- 67% cases within the dataset are `Certified`."
   ]
  },
  {
   "cell_type": "markdown",
   "id": "06da7e7b",
   "metadata": {},
   "source": [
    "## Multivariate Analysis"
   ]
  },
  {
   "cell_type": "code",
   "execution_count": 60,
   "id": "30c5d5d8",
   "metadata": {},
   "outputs": [
    {
     "data": {
      "application/javascript": [
       "\n",
       "            setTimeout(function() {\n",
       "                var nbb_cell_id = 60;\n",
       "                var nbb_unformatted_code = \"def stacked_barchart(data, predictor, target):\\n    \\\"\\\"\\\"\\n    Create a contingency table and plot a stacked bar chart between the two categorical variables\\n\\n    data: dataframe\\n    predictor: independent variable\\n    target: dependent variable\\n    \\\"\\\"\\\"\\n    crosstab = pd.crosstab(index=data[target], columns=data[predictor])\\n    print(crosstab)\\n    crosstab.plot(kind=\\\"bar\\\", stacked=True, figsize=(data[predictor].nunique() + 5, 5))\\n    plt.show()\";\n",
       "                var nbb_formatted_code = \"def stacked_barchart(data, predictor, target):\\n    \\\"\\\"\\\"\\n    Create a contingency table and plot a stacked bar chart between the two categorical variables\\n\\n    data: dataframe\\n    predictor: independent variable\\n    target: dependent variable\\n    \\\"\\\"\\\"\\n    crosstab = pd.crosstab(index=data[target], columns=data[predictor])\\n    print(crosstab)\\n    crosstab.plot(kind=\\\"bar\\\", stacked=True, figsize=(data[predictor].nunique() + 5, 5))\\n    plt.show()\";\n",
       "                var nbb_cells = Jupyter.notebook.get_cells();\n",
       "                for (var i = 0; i < nbb_cells.length; ++i) {\n",
       "                    if (nbb_cells[i].input_prompt_number == nbb_cell_id) {\n",
       "                        if (nbb_cells[i].get_text() == nbb_unformatted_code) {\n",
       "                             nbb_cells[i].set_text(nbb_formatted_code);\n",
       "                        }\n",
       "                        break;\n",
       "                    }\n",
       "                }\n",
       "            }, 500);\n",
       "            "
      ],
      "text/plain": [
       "<IPython.core.display.Javascript object>"
      ]
     },
     "metadata": {},
     "output_type": "display_data"
    }
   ],
   "source": [
    "def stacked_barchart(data, predictor, target):\n",
    "    \"\"\"\n",
    "    Create a contingency table and plot a stacked bar chart between the two categorical variables\n",
    "\n",
    "    data: dataframe\n",
    "    predictor: independent variable\n",
    "    target: dependent variable\n",
    "    \"\"\"\n",
    "    crosstab = pd.crosstab(index=data[target], columns=data[predictor])\n",
    "    print(crosstab)\n",
    "    crosstab.plot(kind=\"bar\", stacked=True, figsize=(data[predictor].nunique() + 5, 5))\n",
    "    plt.show()"
   ]
  },
  {
   "cell_type": "markdown",
   "id": "classified-traveler",
   "metadata": {
    "id": "classified-traveler"
   },
   "source": [
    "**Leading Questions**:\n",
    "1. Those with higher education may want to travel abroad for a well-paid job. Does education play a role in Visa certification? \n",
    "\n",
    "2. How does the visa status vary across different continents? \n",
    " \n",
    "3. Experienced professionals might look abroad for opportunities to improve their lifestyles and career development. Does work experience influence visa status? \n",
    " \n",
    "4. In the United States, employees are paid at different intervals. Which pay unit is most likely to be certified for a visa? \n",
    " \n",
    "5. The US government has established a prevailing wage to protect local talent and foreign workers. How does the visa status change with the prevailing wage?"
   ]
  },
  {
   "cell_type": "markdown",
   "id": "f1376514",
   "metadata": {
    "id": "mechanical-interference"
   },
   "source": [
    "### 1. Those with higher education may want to travel abroad for a well-paid job. Does education play a role in Visa certification?"
   ]
  },
  {
   "cell_type": "code",
   "execution_count": 41,
   "id": "2c41ac46",
   "metadata": {},
   "outputs": [
    {
     "name": "stdout",
     "output_type": "stream",
     "text": [
      "education_of_employee  Bachelor's  Doctorate  High School  Master's\n",
      "case_status                                                        \n",
      "Certified                    6367       1912         1164      7575\n",
      "Denied                       3867        280         2256      2059\n"
     ]
    },
    {
     "data": {
      "image/png": "[encoded data removed]",
      "text/plain": [
       "<Figure size 648x360 with 1 Axes>"
      ]
     },
     "metadata": {
      "needs_background": "light"
     },
     "output_type": "display_data"
    },
    {
     "data": {
      "application/javascript": [
       "\n",
       "            setTimeout(function() {\n",
       "                var nbb_cell_id = 41;\n",
       "                var nbb_unformatted_code = \"stacked_barchart(df,\\\"education_of_employee\\\",\\\"case_status\\\")\";\n",
       "                var nbb_formatted_code = \"stacked_barchart(df, \\\"education_of_employee\\\", \\\"case_status\\\")\";\n",
       "                var nbb_cells = Jupyter.notebook.get_cells();\n",
       "                for (var i = 0; i < nbb_cells.length; ++i) {\n",
       "                    if (nbb_cells[i].input_prompt_number == nbb_cell_id) {\n",
       "                        if (nbb_cells[i].get_text() == nbb_unformatted_code) {\n",
       "                             nbb_cells[i].set_text(nbb_formatted_code);\n",
       "                        }\n",
       "                        break;\n",
       "                    }\n",
       "                }\n",
       "            }, 500);\n",
       "            "
      ],
      "text/plain": [
       "<IPython.core.display.Javascript object>"
      ]
     },
     "metadata": {},
     "output_type": "display_data"
    }
   ],
   "source": [
    "stacked_barchart(df, \"education_of_employee\", \"case_status\")"
   ]
  },
  {
   "cell_type": "markdown",
   "id": "98e36734",
   "metadata": {},
   "source": [
    "#### Observations\n",
    "- Master's and Bachelor's degrees have high `Certified` rate over other qualifications.\n",
    "- Applications with High School qualifications are mostly getting `Denied`.\n",
    "- There are few applicants with doctorate qualification and almost all are Certified. "
   ]
  },
  {
   "cell_type": "markdown",
   "id": "755f22b3",
   "metadata": {},
   "source": [
    "### 2. How does the visa status vary across different continents?"
   ]
  },
  {
   "cell_type": "code",
   "execution_count": 42,
   "id": "6a8de3ba",
   "metadata": {},
   "outputs": [
    {
     "name": "stdout",
     "output_type": "stream",
     "text": [
      "continent    Africa   Asia  Europe  North America  Oceania  South America\n",
      "case_status                                                              \n",
      "Certified       397  11012    2957           2037      122            493\n",
      "Denied          154   5849     775           1255       70            359\n"
     ]
    },
    {
     "data": {
      "image/png": "[encoded data removed]",
      "text/plain": [
       "<Figure size 792x360 with 1 Axes>"
      ]
     },
     "metadata": {
      "needs_background": "light"
     },
     "output_type": "display_data"
    },
    {
     "data": {
      "application/javascript": [
       "\n",
       "            setTimeout(function() {\n",
       "                var nbb_cell_id = 42;\n",
       "                var nbb_unformatted_code = \"stacked_barchart(df, \\\"continent\\\", \\\"case_status\\\")\";\n",
       "                var nbb_formatted_code = \"stacked_barchart(df, \\\"continent\\\", \\\"case_status\\\")\";\n",
       "                var nbb_cells = Jupyter.notebook.get_cells();\n",
       "                for (var i = 0; i < nbb_cells.length; ++i) {\n",
       "                    if (nbb_cells[i].input_prompt_number == nbb_cell_id) {\n",
       "                        if (nbb_cells[i].get_text() == nbb_unformatted_code) {\n",
       "                             nbb_cells[i].set_text(nbb_formatted_code);\n",
       "                        }\n",
       "                        break;\n",
       "                    }\n",
       "                }\n",
       "            }, 500);\n",
       "            "
      ],
      "text/plain": [
       "<IPython.core.display.Javascript object>"
      ]
     },
     "metadata": {},
     "output_type": "display_data"
    }
   ],
   "source": [
    "stacked_barchart(df, \"continent\", \"case_status\")"
   ]
  },
  {
   "cell_type": "markdown",
   "id": "820a5412",
   "metadata": {},
   "source": [
    "#### Observations\n",
    "- Since there are more applications from Asia overall, the Certified to Denied ratio is higher for the rgion among others.\n",
    "- There are more Certified applications than Denied from Europe region. \n",
    "- Africa, South America and Oceania have very few applications but the Denied rate is higher in South America. "
   ]
  },
  {
   "cell_type": "markdown",
   "id": "4b0ac9aa",
   "metadata": {},
   "source": [
    "### 3. Experienced professionals might look abroad for opportunities to improve their lifestyles and career development. Does work experience influence visa status?"
   ]
  },
  {
   "cell_type": "code",
   "execution_count": 43,
   "id": "61d936af",
   "metadata": {},
   "outputs": [
    {
     "name": "stdout",
     "output_type": "stream",
     "text": [
      "has_job_experience     N      Y\n",
      "case_status                    \n",
      "Certified           5994  11024\n",
      "Denied              4684   3778\n"
     ]
    },
    {
     "data": {
      "image/png": "[encoded data removed]",
      "text/plain": [
       "<Figure size 504x360 with 1 Axes>"
      ]
     },
     "metadata": {
      "needs_background": "light"
     },
     "output_type": "display_data"
    },
    {
     "data": {
      "application/javascript": [
       "\n",
       "            setTimeout(function() {\n",
       "                var nbb_cell_id = 43;\n",
       "                var nbb_unformatted_code = \"stacked_barchart(df, \\\"has_job_experience\\\", \\\"case_status\\\")\";\n",
       "                var nbb_formatted_code = \"stacked_barchart(df, \\\"has_job_experience\\\", \\\"case_status\\\")\";\n",
       "                var nbb_cells = Jupyter.notebook.get_cells();\n",
       "                for (var i = 0; i < nbb_cells.length; ++i) {\n",
       "                    if (nbb_cells[i].input_prompt_number == nbb_cell_id) {\n",
       "                        if (nbb_cells[i].get_text() == nbb_unformatted_code) {\n",
       "                             nbb_cells[i].set_text(nbb_formatted_code);\n",
       "                        }\n",
       "                        break;\n",
       "                    }\n",
       "                }\n",
       "            }, 500);\n",
       "            "
      ],
      "text/plain": [
       "<IPython.core.display.Javascript object>"
      ]
     },
     "metadata": {},
     "output_type": "display_data"
    }
   ],
   "source": [
    "stacked_barchart(df, \"has_job_experience\", \"case_status\")"
   ]
  },
  {
   "cell_type": "markdown",
   "id": "f478e453",
   "metadata": {},
   "source": [
    "#### Observations\n",
    "- The data tends to show that applicants with job experience have a higher chance of getting certified. There seem to be more applications without job experience in Denied category. "
   ]
  },
  {
   "cell_type": "markdown",
   "id": "30d36666",
   "metadata": {},
   "source": [
    "### 4. In the United States, employees are paid at different intervals. Which pay unit is most likely to be certified for a visa?"
   ]
  },
  {
   "cell_type": "code",
   "execution_count": 44,
   "id": "7fdacb5b",
   "metadata": {},
   "outputs": [
    {
     "name": "stdout",
     "output_type": "stream",
     "text": [
      "unit_of_wage  Hour  Month  Week   Year\n",
      "case_status                           \n",
      "Certified      747     55   169  16047\n",
      "Denied        1410     34   103   6915\n"
     ]
    },
    {
     "data": {
      "image/png": "[encoded data removed]",
      "text/plain": [
       "<Figure size 648x360 with 1 Axes>"
      ]
     },
     "metadata": {
      "needs_background": "light"
     },
     "output_type": "display_data"
    },
    {
     "data": {
      "application/javascript": [
       "\n",
       "            setTimeout(function() {\n",
       "                var nbb_cell_id = 44;\n",
       "                var nbb_unformatted_code = \"stacked_barchart(df, \\\"unit_of_wage\\\", \\\"case_status\\\")\";\n",
       "                var nbb_formatted_code = \"stacked_barchart(df, \\\"unit_of_wage\\\", \\\"case_status\\\")\";\n",
       "                var nbb_cells = Jupyter.notebook.get_cells();\n",
       "                for (var i = 0; i < nbb_cells.length; ++i) {\n",
       "                    if (nbb_cells[i].input_prompt_number == nbb_cell_id) {\n",
       "                        if (nbb_cells[i].get_text() == nbb_unformatted_code) {\n",
       "                             nbb_cells[i].set_text(nbb_formatted_code);\n",
       "                        }\n",
       "                        break;\n",
       "                    }\n",
       "                }\n",
       "            }, 500);\n",
       "            "
      ],
      "text/plain": [
       "<IPython.core.display.Javascript object>"
      ]
     },
     "metadata": {},
     "output_type": "display_data"
    }
   ],
   "source": [
    "stacked_barchart(df, \"unit_of_wage\", \"case_status\")"
   ]
  },
  {
   "cell_type": "markdown",
   "id": "8100f3e8",
   "metadata": {},
   "source": [
    "#### Observations\n",
    "Since majority applications have unit of wage as Year, it is the dominant unit of wage in both Certified and Denied category. Applications with hourly wages are more likely getting denied. There are not enough observations to conclude anything on Monthly and weekly wages.  "
   ]
  },
  {
   "cell_type": "markdown",
   "id": "4739ddaf",
   "metadata": {},
   "source": [
    "### 5. The US government has established a prevailing wage to protect local talent and foreign workers. How does the visa status change with the prevailing wage?"
   ]
  },
  {
   "cell_type": "code",
   "execution_count": 45,
   "id": "2c53002c",
   "metadata": {},
   "outputs": [
    {
     "data": {
      "text/plain": [
       "<AxesSubplot:xlabel='case_status', ylabel='prevailing_wage'>"
      ]
     },
     "execution_count": 45,
     "metadata": {},
     "output_type": "execute_result"
    },
    {
     "data": {
      "image/png": "[encoded data removed]",
      "text/plain": [
       "<Figure size 360x360 with 1 Axes>"
      ]
     },
     "metadata": {
      "needs_background": "light"
     },
     "output_type": "display_data"
    },
    {
     "data": {
      "application/javascript": [
       "\n",
       "            setTimeout(function() {\n",
       "                var nbb_cell_id = 45;\n",
       "                var nbb_unformatted_code = \"plt.figure(figsize=(5, 5))\\nsns.boxplot(data=df, y=\\\"prevailing_wage\\\", x=\\\"case_status\\\")\";\n",
       "                var nbb_formatted_code = \"plt.figure(figsize=(5, 5))\\nsns.boxplot(data=df, y=\\\"prevailing_wage\\\", x=\\\"case_status\\\")\";\n",
       "                var nbb_cells = Jupyter.notebook.get_cells();\n",
       "                for (var i = 0; i < nbb_cells.length; ++i) {\n",
       "                    if (nbb_cells[i].input_prompt_number == nbb_cell_id) {\n",
       "                        if (nbb_cells[i].get_text() == nbb_unformatted_code) {\n",
       "                             nbb_cells[i].set_text(nbb_formatted_code);\n",
       "                        }\n",
       "                        break;\n",
       "                    }\n",
       "                }\n",
       "            }, 500);\n",
       "            "
      ],
      "text/plain": [
       "<IPython.core.display.Javascript object>"
      ]
     },
     "metadata": {},
     "output_type": "display_data"
    }
   ],
   "source": [
    "plt.figure(figsize=(5, 5))\n",
    "sns.boxplot(data=df, y=\"prevailing_wage\", x=\"case_status\")"
   ]
  },
  {
   "cell_type": "markdown",
   "id": "6a0b4fdc",
   "metadata": {},
   "source": [
    "#### Observations\n",
    "Case_status doesn't seem to vary much by prevailing wage. "
   ]
  },
  {
   "cell_type": "markdown",
   "id": "dfdb899f",
   "metadata": {},
   "source": [
    "### 6. Region of employment Vs Case Status"
   ]
  },
  {
   "cell_type": "code",
   "execution_count": 46,
   "id": "4129a279",
   "metadata": {
    "scrolled": false
   },
   "outputs": [
    {
     "name": "stdout",
     "output_type": "stream",
     "text": [
      "region_of_employment  Island  Midwest  Northeast  South  West\n",
      "case_status                                                  \n",
      "Certified                226     3253       4526   4913  4100\n",
      "Denied                   149     1054       2669   2104  2486\n"
     ]
    },
    {
     "data": {
      "image/png": "[encoded data removed]",
      "text/plain": [
       "<Figure size 720x360 with 1 Axes>"
      ]
     },
     "metadata": {
      "needs_background": "light"
     },
     "output_type": "display_data"
    },
    {
     "data": {
      "application/javascript": [
       "\n",
       "            setTimeout(function() {\n",
       "                var nbb_cell_id = 46;\n",
       "                var nbb_unformatted_code = \"stacked_barchart(df, \\\"region_of_employment\\\", \\\"case_status\\\")\";\n",
       "                var nbb_formatted_code = \"stacked_barchart(df, \\\"region_of_employment\\\", \\\"case_status\\\")\";\n",
       "                var nbb_cells = Jupyter.notebook.get_cells();\n",
       "                for (var i = 0; i < nbb_cells.length; ++i) {\n",
       "                    if (nbb_cells[i].input_prompt_number == nbb_cell_id) {\n",
       "                        if (nbb_cells[i].get_text() == nbb_unformatted_code) {\n",
       "                             nbb_cells[i].set_text(nbb_formatted_code);\n",
       "                        }\n",
       "                        break;\n",
       "                    }\n",
       "                }\n",
       "            }, 500);\n",
       "            "
      ],
      "text/plain": [
       "<IPython.core.display.Javascript object>"
      ]
     },
     "metadata": {},
     "output_type": "display_data"
    }
   ],
   "source": [
    "stacked_barchart(df, \"region_of_employment\", \"case_status\")"
   ]
  },
  {
   "cell_type": "markdown",
   "id": "a5895280",
   "metadata": {},
   "source": [
    "#### Observations\n",
    "Certified to Denied ratio is very similar for all the regions. There seem to be slightly more rejections in Northeast. "
   ]
  },
  {
   "cell_type": "markdown",
   "id": "8e6a2bc0",
   "metadata": {},
   "source": [
    "### 7. Let's analyse how prevailing wage varies across regions in the US and its impact on case status"
   ]
  },
  {
   "cell_type": "code",
   "execution_count": 59,
   "id": "05e3a6aa",
   "metadata": {},
   "outputs": [
    {
     "data": {
      "image/png": "[encoded data removed]",
      "text/plain": [
       "<Figure size 1080x360 with 1 Axes>"
      ]
     },
     "metadata": {
      "needs_background": "light"
     },
     "output_type": "display_data"
    },
    {
     "data": {
      "application/javascript": [
       "\n",
       "            setTimeout(function() {\n",
       "                var nbb_cell_id = 59;\n",
       "                var nbb_unformatted_code = \"plt.figure(figsize=(15, 5))\\n\\nax = sns.pointplot(\\n    data=df,\\n    x=\\\"region_of_employment\\\",\\n    y=\\\"prevailing_wage\\\",\\n    hue=\\\"case_status\\\",\\n    kind=\\\"line\\\",\\n    ci=None,\\n    sort=True,\\n)\\nplt.show()\";\n",
       "                var nbb_formatted_code = \"plt.figure(figsize=(15, 5))\\n\\nax = sns.pointplot(\\n    data=df,\\n    x=\\\"region_of_employment\\\",\\n    y=\\\"prevailing_wage\\\",\\n    hue=\\\"case_status\\\",\\n    kind=\\\"line\\\",\\n    ci=None,\\n    sort=True,\\n)\\nplt.show()\";\n",
       "                var nbb_cells = Jupyter.notebook.get_cells();\n",
       "                for (var i = 0; i < nbb_cells.length; ++i) {\n",
       "                    if (nbb_cells[i].input_prompt_number == nbb_cell_id) {\n",
       "                        if (nbb_cells[i].get_text() == nbb_unformatted_code) {\n",
       "                             nbb_cells[i].set_text(nbb_formatted_code);\n",
       "                        }\n",
       "                        break;\n",
       "                    }\n",
       "                }\n",
       "            }, 500);\n",
       "            "
      ],
      "text/plain": [
       "<IPython.core.display.Javascript object>"
      ]
     },
     "metadata": {},
     "output_type": "display_data"
    }
   ],
   "source": [
    "plt.figure(figsize=(15, 5))\n",
    "\n",
    "ax = sns.pointplot(\n",
    "    data=df,\n",
    "    x=\"region_of_employment\",\n",
    "    y=\"prevailing_wage\", \n",
    "    hue=\"case_status\",\n",
    "    kind=\"line\",\n",
    "    ci=None,\n",
    "    sort=True,\n",
    ")\n",
    "plt.show()"
   ]
  },
  {
   "cell_type": "markdown",
   "id": "ba4edc2d",
   "metadata": {},
   "source": [
    "#### Observations\n",
    "The graph shows trend that higher prevailing wage are getting certified across all regions. It's not apparent that prevailing wage makes any difference to Certified status in West and Island. "
   ]
  },
  {
   "cell_type": "markdown",
   "id": "73ae2b50",
   "metadata": {},
   "source": [
    "### 8. Let's analyse how prevailing wage varies by education across different region of US, and its impact on case status"
   ]
  },
  {
   "cell_type": "code",
   "execution_count": 63,
   "id": "b0a5165b",
   "metadata": {},
   "outputs": [
    {
     "data": {
      "image/png": "[encoded data removed]",
      "text/plain": [
       "<Figure size 726.875x432 with 5 Axes>"
      ]
     },
     "metadata": {
      "needs_background": "light"
     },
     "output_type": "display_data"
    },
    {
     "data": {
      "application/javascript": [
       "\n",
       "            setTimeout(function() {\n",
       "                var nbb_cell_id = 63;\n",
       "                var nbb_unformatted_code = \"cplot1 = sns.catplot(\\n    x=\\\"education_of_employee\\\",\\n    y=\\\"prevailing_wage\\\",\\n    data=df,\\n    hue=\\\"case_status\\\",\\n    col=\\\"region_of_employment\\\",\\n    kind=\\\"bar\\\",\\n    ci=None,\\n    height=3,\\n    col_wrap=3,\\n)\\ncplot1.set_xticklabels(rotation=90)  # set vertical orientation of x axes labels\\nplt.show()\";\n",
       "                var nbb_formatted_code = \"cplot1 = sns.catplot(\\n    x=\\\"education_of_employee\\\",\\n    y=\\\"prevailing_wage\\\",\\n    data=df,\\n    hue=\\\"case_status\\\",\\n    col=\\\"region_of_employment\\\",\\n    kind=\\\"bar\\\",\\n    ci=None,\\n    height=3,\\n    col_wrap=3,\\n)\\ncplot1.set_xticklabels(rotation=90)  # set vertical orientation of x axes labels\\nplt.show()\";\n",
       "                var nbb_cells = Jupyter.notebook.get_cells();\n",
       "                for (var i = 0; i < nbb_cells.length; ++i) {\n",
       "                    if (nbb_cells[i].input_prompt_number == nbb_cell_id) {\n",
       "                        if (nbb_cells[i].get_text() == nbb_unformatted_code) {\n",
       "                             nbb_cells[i].set_text(nbb_formatted_code);\n",
       "                        }\n",
       "                        break;\n",
       "                    }\n",
       "                }\n",
       "            }, 500);\n",
       "            "
      ],
      "text/plain": [
       "<IPython.core.display.Javascript object>"
      ]
     },
     "metadata": {},
     "output_type": "display_data"
    }
   ],
   "source": [
    "cplot1 = sns.catplot(\n",
    "    x=\"education_of_employee\",\n",
    "    y=\"prevailing_wage\",\n",
    "    data=df,\n",
    "    hue=\"case_status\",\n",
    "    col=\"region_of_employment\",\n",
    "    kind=\"bar\",\n",
    "    ci=None,\n",
    "    height=3,\n",
    "    col_wrap=3,\n",
    ")\n",
    "cplot1.set_xticklabels(rotation=90)  # set vertical orientation of x axes labels\n",
    "plt.show()"
   ]
  },
  {
   "cell_type": "markdown",
   "id": "b0558e37",
   "metadata": {},
   "source": [
    "#### Observations\n",
    "- Applications with Bachelor's degree but higher wage are more denied than certified in Island. All other regions have more certified cases for higher wages than Denied. \n",
    "- Doctorate cases with high wage are more Denied in South, West and Midwest. There are more or equal Certified cases in other region.\n",
    "- Masters have more or equal certification rate as Denied at different wage levels in all regions.\n",
    "- High School qualification with higher wage seem to be getting certified in all regions. "
   ]
  },
  {
   "cell_type": "markdown",
   "id": "da3141d6",
   "metadata": {},
   "source": [
    "### 9. Let's analyse if no of employess have any impact on case status"
   ]
  },
  {
   "cell_type": "code",
   "execution_count": 65,
   "id": "bc3b4abb",
   "metadata": {
    "scrolled": true
   },
   "outputs": [
    {
     "data": {
      "text/plain": [
       "<AxesSubplot:xlabel='case_status', ylabel='no_of_employees'>"
      ]
     },
     "execution_count": 65,
     "metadata": {},
     "output_type": "execute_result"
    },
    {
     "data": {
      "image/png": "[encoded data removed]",
      "text/plain": [
       "<Figure size 360x360 with 1 Axes>"
      ]
     },
     "metadata": {
      "needs_background": "light"
     },
     "output_type": "display_data"
    },
    {
     "data": {
      "application/javascript": [
       "\n",
       "            setTimeout(function() {\n",
       "                var nbb_cell_id = 65;\n",
       "                var nbb_unformatted_code = \"plt.figure(figsize=(5, 5))\\nsns.boxplot(data=df, y=\\\"no_of_employees\\\", x=\\\"case_status\\\")\";\n",
       "                var nbb_formatted_code = \"plt.figure(figsize=(5, 5))\\nsns.boxplot(data=df, y=\\\"no_of_employees\\\", x=\\\"case_status\\\")\";\n",
       "                var nbb_cells = Jupyter.notebook.get_cells();\n",
       "                for (var i = 0; i < nbb_cells.length; ++i) {\n",
       "                    if (nbb_cells[i].input_prompt_number == nbb_cell_id) {\n",
       "                        if (nbb_cells[i].get_text() == nbb_unformatted_code) {\n",
       "                             nbb_cells[i].set_text(nbb_formatted_code);\n",
       "                        }\n",
       "                        break;\n",
       "                    }\n",
       "                }\n",
       "            }, 500);\n",
       "            "
      ],
      "text/plain": [
       "<IPython.core.display.Javascript object>"
      ]
     },
     "metadata": {},
     "output_type": "display_data"
    }
   ],
   "source": [
    "plt.figure(figsize=(5, 5))\n",
    "sns.boxplot(data=df, y=\"no_of_employees\", x=\"case_status\")"
   ]
  },
  {
   "cell_type": "markdown",
   "id": "4b6a76b3",
   "metadata": {},
   "source": [
    "#### Observations\n",
    "\n",
    "Number of employees doesn't seem to affect case status. The values appear to be discreet."
   ]
  },
  {
   "cell_type": "markdown",
   "id": "5cc64ed8",
   "metadata": {},
   "source": [
    "### 10. Let's analyse if no of employess have any impact on case status"
   ]
  },
  {
   "cell_type": "code",
   "execution_count": 66,
   "id": "75355eb9",
   "metadata": {
    "scrolled": true
   },
   "outputs": [
    {
     "data": {
      "text/plain": [
       "<AxesSubplot:xlabel='case_status', ylabel='yr_of_estab'>"
      ]
     },
     "execution_count": 66,
     "metadata": {},
     "output_type": "execute_result"
    },
    {
     "data": {
      "image/png": "[encoded data removed]",
      "text/plain": [
       "<Figure size 360x360 with 1 Axes>"
      ]
     },
     "metadata": {
      "needs_background": "light"
     },
     "output_type": "display_data"
    },
    {
     "data": {
      "application/javascript": [
       "\n",
       "            setTimeout(function() {\n",
       "                var nbb_cell_id = 66;\n",
       "                var nbb_unformatted_code = \"plt.figure(figsize=(5, 5))\\nsns.boxplot(data=df, y=\\\"yr_of_estab\\\", x=\\\"case_status\\\")\";\n",
       "                var nbb_formatted_code = \"plt.figure(figsize=(5, 5))\\nsns.boxplot(data=df, y=\\\"yr_of_estab\\\", x=\\\"case_status\\\")\";\n",
       "                var nbb_cells = Jupyter.notebook.get_cells();\n",
       "                for (var i = 0; i < nbb_cells.length; ++i) {\n",
       "                    if (nbb_cells[i].input_prompt_number == nbb_cell_id) {\n",
       "                        if (nbb_cells[i].get_text() == nbb_unformatted_code) {\n",
       "                             nbb_cells[i].set_text(nbb_formatted_code);\n",
       "                        }\n",
       "                        break;\n",
       "                    }\n",
       "                }\n",
       "            }, 500);\n",
       "            "
      ],
      "text/plain": [
       "<IPython.core.display.Javascript object>"
      ]
     },
     "metadata": {},
     "output_type": "display_data"
    }
   ],
   "source": [
    "plt.figure(figsize=(5, 5))\n",
    "sns.boxplot(data=df, y=\"yr_of_estab\", x=\"case_status\")"
   ]
  },
  {
   "cell_type": "markdown",
   "id": "d657b2de",
   "metadata": {},
   "source": [
    "#### Observations\n",
    "\n",
    "yr_of_estab doesn't seem to affect case status."
   ]
  },
  {
   "cell_type": "markdown",
   "id": "alleged-spirituality",
   "metadata": {
    "id": "alleged-spirituality"
   },
   "source": [
    "## Data Preprocessing\n",
    "\n",
    "- Missing value treatment (if needed)\n",
    "- Feature engineering \n",
    "- Outlier detection and treatment (if needed)\n",
    "- Preparing data for modeling \n",
    "- Any other preprocessing steps (if needed)"
   ]
  },
  {
   "cell_type": "markdown",
   "id": "e1dc17bc",
   "metadata": {},
   "source": [
    "**Let's encode case_status Certified as 1 and Denied as 0**"
   ]
  },
  {
   "cell_type": "code",
   "execution_count": 67,
   "id": "increasing-louisiana",
   "metadata": {
    "id": "increasing-louisiana"
   },
   "outputs": [
    {
     "data": {
      "application/javascript": [
       "\n",
       "            setTimeout(function() {\n",
       "                var nbb_cell_id = 67;\n",
       "                var nbb_unformatted_code = \"df[\\\"case_status\\\"] = df[\\\"case_status\\\"].apply(lambda x: 1 if x == \\\"Certified\\\" else 0)\";\n",
       "                var nbb_formatted_code = \"df[\\\"case_status\\\"] = df[\\\"case_status\\\"].apply(lambda x: 1 if x == \\\"Certified\\\" else 0)\";\n",
       "                var nbb_cells = Jupyter.notebook.get_cells();\n",
       "                for (var i = 0; i < nbb_cells.length; ++i) {\n",
       "                    if (nbb_cells[i].input_prompt_number == nbb_cell_id) {\n",
       "                        if (nbb_cells[i].get_text() == nbb_unformatted_code) {\n",
       "                             nbb_cells[i].set_text(nbb_formatted_code);\n",
       "                        }\n",
       "                        break;\n",
       "                    }\n",
       "                }\n",
       "            }, 500);\n",
       "            "
      ],
      "text/plain": [
       "<IPython.core.display.Javascript object>"
      ]
     },
     "metadata": {},
     "output_type": "display_data"
    }
   ],
   "source": [
    "df[\"case_status\"] = df[\"case_status\"].apply(lambda x: 1 if x == \"Certified\" else 0)"
   ]
  },
  {
   "cell_type": "code",
   "execution_count": 70,
   "id": "53f1fea9",
   "metadata": {},
   "outputs": [
    {
     "data": {
      "text/plain": [
       "1    17018\n",
       "0     8462\n",
       "Name: case_status, dtype: int64"
      ]
     },
     "execution_count": 70,
     "metadata": {},
     "output_type": "execute_result"
    },
    {
     "data": {
      "application/javascript": [
       "\n",
       "            setTimeout(function() {\n",
       "                var nbb_cell_id = 70;\n",
       "                var nbb_unformatted_code = \"df.case_status.value_counts()\";\n",
       "                var nbb_formatted_code = \"df.case_status.value_counts()\";\n",
       "                var nbb_cells = Jupyter.notebook.get_cells();\n",
       "                for (var i = 0; i < nbb_cells.length; ++i) {\n",
       "                    if (nbb_cells[i].input_prompt_number == nbb_cell_id) {\n",
       "                        if (nbb_cells[i].get_text() == nbb_unformatted_code) {\n",
       "                             nbb_cells[i].set_text(nbb_formatted_code);\n",
       "                        }\n",
       "                        break;\n",
       "                    }\n",
       "                }\n",
       "            }, 500);\n",
       "            "
      ],
      "text/plain": [
       "<IPython.core.display.Javascript object>"
      ]
     },
     "metadata": {},
     "output_type": "display_data"
    }
   ],
   "source": [
    "df.case_status.value_counts()"
   ]
  },
  {
   "cell_type": "markdown",
   "id": "0df868cd",
   "metadata": {},
   "source": [
    "**Let's drop no_of_employees and yr_of_estab since both don't seem to affect case status as we saw in EDA above.**"
   ]
  },
  {
   "cell_type": "code",
   "execution_count": 71,
   "id": "854d13de",
   "metadata": {},
   "outputs": [
    {
     "data": {
      "application/javascript": [
       "\n",
       "            setTimeout(function() {\n",
       "                var nbb_cell_id = 71;\n",
       "                var nbb_unformatted_code = \"df.drop(\\\"no_of_employees\\\", axis=1, inplace=True)\\ndf.drop(\\\"yr_of_estab\\\", axis=1, inplace=True)\";\n",
       "                var nbb_formatted_code = \"df.drop(\\\"no_of_employees\\\", axis=1, inplace=True)\\ndf.drop(\\\"yr_of_estab\\\", axis=1, inplace=True)\";\n",
       "                var nbb_cells = Jupyter.notebook.get_cells();\n",
       "                for (var i = 0; i < nbb_cells.length; ++i) {\n",
       "                    if (nbb_cells[i].input_prompt_number == nbb_cell_id) {\n",
       "                        if (nbb_cells[i].get_text() == nbb_unformatted_code) {\n",
       "                             nbb_cells[i].set_text(nbb_formatted_code);\n",
       "                        }\n",
       "                        break;\n",
       "                    }\n",
       "                }\n",
       "            }, 500);\n",
       "            "
      ],
      "text/plain": [
       "<IPython.core.display.Javascript object>"
      ]
     },
     "metadata": {},
     "output_type": "display_data"
    }
   ],
   "source": [
    "df.drop(\"no_of_employees\", axis=1, inplace=True)\n",
    "df.drop(\"yr_of_estab\", axis=1, inplace=True)"
   ]
  },
  {
   "cell_type": "code",
   "execution_count": 72,
   "id": "47fd836a",
   "metadata": {},
   "outputs": [
    {
     "name": "stdout",
     "output_type": "stream",
     "text": [
      "<class 'pandas.core.frame.DataFrame'>\n",
      "RangeIndex: 25480 entries, 0 to 25479\n",
      "Data columns (total 9 columns):\n",
      " #   Column                 Non-Null Count  Dtype   \n",
      "---  ------                 --------------  -----   \n",
      " 0   continent              25480 non-null  category\n",
      " 1   education_of_employee  25480 non-null  category\n",
      " 2   has_job_experience     25480 non-null  category\n",
      " 3   requires_job_training  25480 non-null  category\n",
      " 4   region_of_employment   25480 non-null  category\n",
      " 5   prevailing_wage        25480 non-null  float64 \n",
      " 6   unit_of_wage           25480 non-null  category\n",
      " 7   full_time_position     25480 non-null  category\n",
      " 8   case_status            25480 non-null  category\n",
      "dtypes: category(8), float64(1)\n",
      "memory usage: 399.6 KB\n"
     ]
    },
    {
     "data": {
      "application/javascript": [
       "\n",
       "            setTimeout(function() {\n",
       "                var nbb_cell_id = 72;\n",
       "                var nbb_unformatted_code = \"df.info()\";\n",
       "                var nbb_formatted_code = \"df.info()\";\n",
       "                var nbb_cells = Jupyter.notebook.get_cells();\n",
       "                for (var i = 0; i < nbb_cells.length; ++i) {\n",
       "                    if (nbb_cells[i].input_prompt_number == nbb_cell_id) {\n",
       "                        if (nbb_cells[i].get_text() == nbb_unformatted_code) {\n",
       "                             nbb_cells[i].set_text(nbb_formatted_code);\n",
       "                        }\n",
       "                        break;\n",
       "                    }\n",
       "                }\n",
       "            }, 500);\n",
       "            "
      ],
      "text/plain": [
       "<IPython.core.display.Javascript object>"
      ]
     },
     "metadata": {},
     "output_type": "display_data"
    }
   ],
   "source": [
    "df.info()"
   ]
  },
  {
   "cell_type": "markdown",
   "id": "65a18cf1",
   "metadata": {},
   "source": [
    "**Outlier Treatment**"
   ]
  },
  {
   "cell_type": "code",
   "execution_count": 75,
   "id": "f5d2d83c",
   "metadata": {},
   "outputs": [
    {
     "data": {
      "text/plain": [
       "<AxesSubplot:ylabel='prevailing_wage'>"
      ]
     },
     "execution_count": 75,
     "metadata": {},
     "output_type": "execute_result"
    },
    {
     "data": {
      "image/png": "[encoded data removed]",
      "text/plain": [
       "<Figure size 360x360 with 1 Axes>"
      ]
     },
     "metadata": {
      "needs_background": "light"
     },
     "output_type": "display_data"
    },
    {
     "data": {
      "application/javascript": [
       "\n",
       "            setTimeout(function() {\n",
       "                var nbb_cell_id = 75;\n",
       "                var nbb_unformatted_code = \"plt.figure(figsize=(5, 5))\\nsns.boxplot(data=df, y=\\\"prevailing_wage\\\")\";\n",
       "                var nbb_formatted_code = \"plt.figure(figsize=(5, 5))\\nsns.boxplot(data=df, y=\\\"prevailing_wage\\\")\";\n",
       "                var nbb_cells = Jupyter.notebook.get_cells();\n",
       "                for (var i = 0; i < nbb_cells.length; ++i) {\n",
       "                    if (nbb_cells[i].input_prompt_number == nbb_cell_id) {\n",
       "                        if (nbb_cells[i].get_text() == nbb_unformatted_code) {\n",
       "                             nbb_cells[i].set_text(nbb_formatted_code);\n",
       "                        }\n",
       "                        break;\n",
       "                    }\n",
       "                }\n",
       "            }, 500);\n",
       "            "
      ],
      "text/plain": [
       "<IPython.core.display.Javascript object>"
      ]
     },
     "metadata": {},
     "output_type": "display_data"
    }
   ],
   "source": [
    "plt.figure(figsize=(5, 5))\n",
    "sns.boxplot(data=df, y=\"prevailing_wage\")"
   ]
  },
  {
   "cell_type": "markdown",
   "id": "2ce6864e",
   "metadata": {},
   "source": [
    "There are a few rows where prevailing wage is more than 200000. This could be valid data so let's keep them"
   ]
  },
  {
   "cell_type": "markdown",
   "id": "difficult-union",
   "metadata": {
    "id": "difficult-union"
   },
   "source": [
    "### Data Preparation for modeling\n",
    "\n",
    "- We want to predict which visa application will be certified.\n",
    "- Before we proceed to build a model, we'll have to encode categorical features.\n",
    "- We'll split the data into train and test to be able to evaluate the model that we build on the train data."
   ]
  },
  {
   "cell_type": "code",
   "execution_count": 79,
   "id": "interested-talent",
   "metadata": {
    "id": "interested-talent"
   },
   "outputs": [
    {
     "data": {
      "application/javascript": [
       "\n",
       "            setTimeout(function() {\n",
       "                var nbb_cell_id = 79;\n",
       "                var nbb_unformatted_code = \"X = df.drop([\\\"case_status\\\"], axis=1)\\nY = df[\\\"case_status\\\"]\";\n",
       "                var nbb_formatted_code = \"X = df.drop([\\\"case_status\\\"], axis=1)\\nY = df[\\\"case_status\\\"]\";\n",
       "                var nbb_cells = Jupyter.notebook.get_cells();\n",
       "                for (var i = 0; i < nbb_cells.length; ++i) {\n",
       "                    if (nbb_cells[i].input_prompt_number == nbb_cell_id) {\n",
       "                        if (nbb_cells[i].get_text() == nbb_unformatted_code) {\n",
       "                             nbb_cells[i].set_text(nbb_formatted_code);\n",
       "                        }\n",
       "                        break;\n",
       "                    }\n",
       "                }\n",
       "            }, 500);\n",
       "            "
      ],
      "text/plain": [
       "<IPython.core.display.Javascript object>"
      ]
     },
     "metadata": {},
     "output_type": "display_data"
    }
   ],
   "source": [
    "X = df.drop([\"case_status\"], axis=1)\n",
    "Y = df[\"case_status\"]"
   ]
  },
  {
   "cell_type": "code",
   "execution_count": 80,
   "id": "d6ce1506",
   "metadata": {},
   "outputs": [
    {
     "data": {
      "text/html": [
       "<div>\n",
       "<style scoped>\n",
       "    .dataframe tbody tr th:only-of-type {\n",
       "        vertical-align: middle;\n",
       "    }\n",
       "\n",
       "    .dataframe tbody tr th {\n",
       "        vertical-align: top;\n",
       "    }\n",
       "\n",
       "    .dataframe thead th {\n",
       "        text-align: right;\n",
       "    }\n",
       "</style>\n",
       "<table border=\"1\" class=\"dataframe\">\n",
       "  <thead>\n",
       "    <tr style=\"text-align: right;\">\n",
       "      <th></th>\n",
       "      <th>prevailing_wage</th>\n",
       "      <th>continent_Africa</th>\n",
       "      <th>continent_Asia</th>\n",
       "      <th>continent_Europe</th>\n",
       "      <th>continent_North America</th>\n",
       "      <th>continent_Oceania</th>\n",
       "      <th>continent_South America</th>\n",
       "      <th>education_of_employee_Bachelor's</th>\n",
       "      <th>education_of_employee_Doctorate</th>\n",
       "      <th>education_of_employee_High School</th>\n",
       "      <th>education_of_employee_Master's</th>\n",
       "      <th>has_job_experience_N</th>\n",
       "      <th>has_job_experience_Y</th>\n",
       "      <th>requires_job_training_N</th>\n",
       "      <th>requires_job_training_Y</th>\n",
       "      <th>region_of_employment_Island</th>\n",
       "      <th>region_of_employment_Midwest</th>\n",
       "      <th>region_of_employment_Northeast</th>\n",
       "      <th>region_of_employment_South</th>\n",
       "      <th>region_of_employment_West</th>\n",
       "      <th>unit_of_wage_Hour</th>\n",
       "      <th>unit_of_wage_Month</th>\n",
       "      <th>unit_of_wage_Week</th>\n",
       "      <th>unit_of_wage_Year</th>\n",
       "      <th>full_time_position_N</th>\n",
       "      <th>full_time_position_Y</th>\n",
       "    </tr>\n",
       "  </thead>\n",
       "  <tbody>\n",
       "    <tr>\n",
       "      <th>0</th>\n",
       "      <td>592.2029</td>\n",
       "      <td>0</td>\n",
       "      <td>1</td>\n",
       "      <td>0</td>\n",
       "      <td>0</td>\n",
       "      <td>0</td>\n",
       "      <td>0</td>\n",
       "      <td>0</td>\n",
       "      <td>0</td>\n",
       "      <td>1</td>\n",
       "      <td>0</td>\n",
       "      <td>1</td>\n",
       "      <td>0</td>\n",
       "      <td>1</td>\n",
       "      <td>0</td>\n",
       "      <td>0</td>\n",
       "      <td>0</td>\n",
       "      <td>0</td>\n",
       "      <td>0</td>\n",
       "      <td>1</td>\n",
       "      <td>1</td>\n",
       "      <td>0</td>\n",
       "      <td>0</td>\n",
       "      <td>0</td>\n",
       "      <td>0</td>\n",
       "      <td>1</td>\n",
       "    </tr>\n",
       "    <tr>\n",
       "      <th>1</th>\n",
       "      <td>83425.6500</td>\n",
       "      <td>0</td>\n",
       "      <td>1</td>\n",
       "      <td>0</td>\n",
       "      <td>0</td>\n",
       "      <td>0</td>\n",
       "      <td>0</td>\n",
       "      <td>0</td>\n",
       "      <td>0</td>\n",
       "      <td>0</td>\n",
       "      <td>1</td>\n",
       "      <td>0</td>\n",
       "      <td>1</td>\n",
       "      <td>1</td>\n",
       "      <td>0</td>\n",
       "      <td>0</td>\n",
       "      <td>0</td>\n",
       "      <td>1</td>\n",
       "      <td>0</td>\n",
       "      <td>0</td>\n",
       "      <td>0</td>\n",
       "      <td>0</td>\n",
       "      <td>0</td>\n",
       "      <td>1</td>\n",
       "      <td>0</td>\n",
       "      <td>1</td>\n",
       "    </tr>\n",
       "    <tr>\n",
       "      <th>2</th>\n",
       "      <td>122996.8600</td>\n",
       "      <td>0</td>\n",
       "      <td>1</td>\n",
       "      <td>0</td>\n",
       "      <td>0</td>\n",
       "      <td>0</td>\n",
       "      <td>0</td>\n",
       "      <td>1</td>\n",
       "      <td>0</td>\n",
       "      <td>0</td>\n",
       "      <td>0</td>\n",
       "      <td>1</td>\n",
       "      <td>0</td>\n",
       "      <td>0</td>\n",
       "      <td>1</td>\n",
       "      <td>0</td>\n",
       "      <td>0</td>\n",
       "      <td>0</td>\n",
       "      <td>0</td>\n",
       "      <td>1</td>\n",
       "      <td>0</td>\n",
       "      <td>0</td>\n",
       "      <td>0</td>\n",
       "      <td>1</td>\n",
       "      <td>0</td>\n",
       "      <td>1</td>\n",
       "    </tr>\n",
       "    <tr>\n",
       "      <th>3</th>\n",
       "      <td>83434.0300</td>\n",
       "      <td>0</td>\n",
       "      <td>1</td>\n",
       "      <td>0</td>\n",
       "      <td>0</td>\n",
       "      <td>0</td>\n",
       "      <td>0</td>\n",
       "      <td>1</td>\n",
       "      <td>0</td>\n",
       "      <td>0</td>\n",
       "      <td>0</td>\n",
       "      <td>1</td>\n",
       "      <td>0</td>\n",
       "      <td>1</td>\n",
       "      <td>0</td>\n",
       "      <td>0</td>\n",
       "      <td>0</td>\n",
       "      <td>0</td>\n",
       "      <td>0</td>\n",
       "      <td>1</td>\n",
       "      <td>0</td>\n",
       "      <td>0</td>\n",
       "      <td>0</td>\n",
       "      <td>1</td>\n",
       "      <td>0</td>\n",
       "      <td>1</td>\n",
       "    </tr>\n",
       "    <tr>\n",
       "      <th>4</th>\n",
       "      <td>149907.3900</td>\n",
       "      <td>1</td>\n",
       "      <td>0</td>\n",
       "      <td>0</td>\n",
       "      <td>0</td>\n",
       "      <td>0</td>\n",
       "      <td>0</td>\n",
       "      <td>0</td>\n",
       "      <td>0</td>\n",
       "      <td>0</td>\n",
       "      <td>1</td>\n",
       "      <td>0</td>\n",
       "      <td>1</td>\n",
       "      <td>1</td>\n",
       "      <td>0</td>\n",
       "      <td>0</td>\n",
       "      <td>0</td>\n",
       "      <td>0</td>\n",
       "      <td>1</td>\n",
       "      <td>0</td>\n",
       "      <td>0</td>\n",
       "      <td>0</td>\n",
       "      <td>0</td>\n",
       "      <td>1</td>\n",
       "      <td>0</td>\n",
       "      <td>1</td>\n",
       "    </tr>\n",
       "  </tbody>\n",
       "</table>\n",
       "</div>"
      ],
      "text/plain": [
       "   prevailing_wage  continent_Africa  continent_Asia  continent_Europe  \\\n",
       "0         592.2029                 0               1                 0   \n",
       "1       83425.6500                 0               1                 0   \n",
       "2      122996.8600                 0               1                 0   \n",
       "3       83434.0300                 0               1                 0   \n",
       "4      149907.3900                 1               0                 0   \n",
       "\n",
       "   continent_North America  continent_Oceania  continent_South America  \\\n",
       "0                        0                  0                        0   \n",
       "1                        0                  0                        0   \n",
       "2                        0                  0                        0   \n",
       "3                        0                  0                        0   \n",
       "4                        0                  0                        0   \n",
       "\n",
       "   education_of_employee_Bachelor's  education_of_employee_Doctorate  \\\n",
       "0                                 0                                0   \n",
       "1                                 0                                0   \n",
       "2                                 1                                0   \n",
       "3                                 1                                0   \n",
       "4                                 0                                0   \n",
       "\n",
       "   education_of_employee_High School  education_of_employee_Master's  \\\n",
       "0                                  1                               0   \n",
       "1                                  0                               1   \n",
       "2                                  0                               0   \n",
       "3                                  0                               0   \n",
       "4                                  0                               1   \n",
       "\n",
       "   has_job_experience_N  has_job_experience_Y  requires_job_training_N  \\\n",
       "0                     1                     0                        1   \n",
       "1                     0                     1                        1   \n",
       "2                     1                     0                        0   \n",
       "3                     1                     0                        1   \n",
       "4                     0                     1                        1   \n",
       "\n",
       "   requires_job_training_Y  region_of_employment_Island  \\\n",
       "0                        0                            0   \n",
       "1                        0                            0   \n",
       "2                        1                            0   \n",
       "3                        0                            0   \n",
       "4                        0                            0   \n",
       "\n",
       "   region_of_employment_Midwest  region_of_employment_Northeast  \\\n",
       "0                             0                               0   \n",
       "1                             0                               1   \n",
       "2                             0                               0   \n",
       "3                             0                               0   \n",
       "4                             0                               0   \n",
       "\n",
       "   region_of_employment_South  region_of_employment_West  unit_of_wage_Hour  \\\n",
       "0                           0                          1                  1   \n",
       "1                           0                          0                  0   \n",
       "2                           0                          1                  0   \n",
       "3                           0                          1                  0   \n",
       "4                           1                          0                  0   \n",
       "\n",
       "   unit_of_wage_Month  unit_of_wage_Week  unit_of_wage_Year  \\\n",
       "0                   0                  0                  0   \n",
       "1                   0                  0                  1   \n",
       "2                   0                  0                  1   \n",
       "3                   0                  0                  1   \n",
       "4                   0                  0                  1   \n",
       "\n",
       "   full_time_position_N  full_time_position_Y  \n",
       "0                     0                     1  \n",
       "1                     0                     1  \n",
       "2                     0                     1  \n",
       "3                     0                     1  \n",
       "4                     0                     1  "
      ]
     },
     "execution_count": 80,
     "metadata": {},
     "output_type": "execute_result"
    },
    {
     "data": {
      "application/javascript": [
       "\n",
       "            setTimeout(function() {\n",
       "                var nbb_cell_id = 80;\n",
       "                var nbb_unformatted_code = \"# creating dummies\\nX = pd.get_dummies(X)\\n\\nX.head()\";\n",
       "                var nbb_formatted_code = \"# creating dummies\\nX = pd.get_dummies(X)\\n\\nX.head()\";\n",
       "                var nbb_cells = Jupyter.notebook.get_cells();\n",
       "                for (var i = 0; i < nbb_cells.length; ++i) {\n",
       "                    if (nbb_cells[i].input_prompt_number == nbb_cell_id) {\n",
       "                        if (nbb_cells[i].get_text() == nbb_unformatted_code) {\n",
       "                             nbb_cells[i].set_text(nbb_formatted_code);\n",
       "                        }\n",
       "                        break;\n",
       "                    }\n",
       "                }\n",
       "            }, 500);\n",
       "            "
      ],
      "text/plain": [
       "<IPython.core.display.Javascript object>"
      ]
     },
     "metadata": {},
     "output_type": "display_data"
    }
   ],
   "source": [
    "# creating dummies\n",
    "X = pd.get_dummies(X)\n",
    "\n",
    "X.head()"
   ]
  },
  {
   "cell_type": "code",
   "execution_count": 81,
   "id": "b36eb240",
   "metadata": {},
   "outputs": [
    {
     "name": "stdout",
     "output_type": "stream",
     "text": [
      "Shape of Training set :  (17836, 26)\n",
      "Shape of test set :  (7644, 26)\n",
      "Percentage of classes in training set:\n",
      "1    0.667919\n",
      "0    0.332081\n",
      "Name: case_status, dtype: float64\n",
      "Percentage of classes in test set:\n",
      "1    0.667844\n",
      "0    0.332156\n",
      "Name: case_status, dtype: float64\n"
     ]
    },
    {
     "data": {
      "application/javascript": [
       "\n",
       "            setTimeout(function() {\n",
       "                var nbb_cell_id = 81;\n",
       "                var nbb_unformatted_code = \"# Splitting data in train and test sets\\n# Splitting data in train and test sets\\nX_train, X_test, y_train, y_test = train_test_split(X, Y, test_size=0.30, random_state=1, stratify=Y)\\nprint(\\\"Shape of Training set : \\\", X_train.shape)\\nprint(\\\"Shape of test set : \\\", X_test.shape)\\nprint(\\\"Percentage of classes in training set:\\\")\\nprint(y_train.value_counts(normalize=True))\\nprint(\\\"Percentage of classes in test set:\\\")\\nprint(y_test.value_counts(normalize=True))\";\n",
       "                var nbb_formatted_code = \"# Splitting data in train and test sets\\n# Splitting data in train and test sets\\nX_train, X_test, y_train, y_test = train_test_split(\\n    X, Y, test_size=0.30, random_state=1, stratify=Y\\n)\\nprint(\\\"Shape of Training set : \\\", X_train.shape)\\nprint(\\\"Shape of test set : \\\", X_test.shape)\\nprint(\\\"Percentage of classes in training set:\\\")\\nprint(y_train.value_counts(normalize=True))\\nprint(\\\"Percentage of classes in test set:\\\")\\nprint(y_test.value_counts(normalize=True))\";\n",
       "                var nbb_cells = Jupyter.notebook.get_cells();\n",
       "                for (var i = 0; i < nbb_cells.length; ++i) {\n",
       "                    if (nbb_cells[i].input_prompt_number == nbb_cell_id) {\n",
       "                        if (nbb_cells[i].get_text() == nbb_unformatted_code) {\n",
       "                             nbb_cells[i].set_text(nbb_formatted_code);\n",
       "                        }\n",
       "                        break;\n",
       "                    }\n",
       "                }\n",
       "            }, 500);\n",
       "            "
      ],
      "text/plain": [
       "<IPython.core.display.Javascript object>"
      ]
     },
     "metadata": {},
     "output_type": "display_data"
    }
   ],
   "source": [
    "# Splitting data in train and test sets\n",
    "# Splitting data in train and test sets\n",
    "X_train, X_test, y_train, y_test = train_test_split(\n",
    "    X, Y, test_size=0.30, random_state=1, stratify=Y\n",
    ")\n",
    "print(\"Shape of Training set : \", X_train.shape)\n",
    "print(\"Shape of test set : \", X_test.shape)\n",
    "print(\"Percentage of classes in training set:\")\n",
    "print(y_train.value_counts(normalize=True))\n",
    "print(\"Percentage of classes in test set:\")\n",
    "print(y_test.value_counts(normalize=True))"
   ]
  },
  {
   "cell_type": "markdown",
   "id": "4abddd36",
   "metadata": {},
   "source": [
    "### Model evaluation criterion\n",
    "\n",
    "### Model can make wrong predictions as:\n",
    "\n",
    "1. Model predicts that the visa application will get certified but in reality, the visa application should get denied.\n",
    "2. Model predicts that the visa application will not get certified but in reality, the visa application should get certified. \n",
    "\n",
    "### Which case is more important? \n",
    "* Both the cases are important as:\n",
    "\n",
    "* If a visa is certified when it had to be denied a wrong employee will get the job position while US citizens will miss the opportunity to work on that position.\n",
    "\n",
    "* If a visa is denied when it had to be certified the U.S. will lose a suitable human resource that can contribute to the economy. \n",
    "\n",
    "\n",
    "\n",
    "### How to reduce the losses?\n",
    "\n",
    "* `F1 Score` can be used a the metric for evaluation of the model, greater the F1  score higher are the chances of minimizing False Negatives and False Positives. \n",
    "* We will use balanced class weights so that model focuses equally on both classes."
   ]
  },
  {
   "cell_type": "markdown",
   "id": "2de5e6be",
   "metadata": {},
   "source": [
    "#### First, let's create functions to calculate different metrics and confusion matrix so that we don't have to use the same code repeatedly for each model.\n",
    "* The model_performance_classification_sklearn function will be used to check the model performance of models. \n",
    "* The confusion_matrix_sklearn function will be used to plot the confusion matrix."
   ]
  },
  {
   "cell_type": "code",
   "execution_count": 82,
   "id": "7bbd4e48",
   "metadata": {},
   "outputs": [
    {
     "data": {
      "application/javascript": [
       "\n",
       "            setTimeout(function() {\n",
       "                var nbb_cell_id = 82;\n",
       "                var nbb_unformatted_code = \"# defining a function to compute different metrics to check performance of a classification model built using sklearn\\ndef model_performance_classification_sklearn(model, predictors, target):\\n    \\\"\\\"\\\"\\n    Function to compute different metrics to check classification model performance\\n\\n    model: classifier\\n    predictors: independent variables\\n    target: dependent variable\\n    \\\"\\\"\\\"\\n\\n    # predicting using the independent variables\\n    pred = model.predict(predictors)\\n\\n    acc = accuracy_score(target, pred)  # to compute Accuracy\\n    recall = recall_score(target, pred)  # to compute Recall\\n    precision = precision_score(target, pred)  # to compute Precision\\n    f1 = f1_score(target, pred)  # to compute F1-score\\n\\n    # creating a dataframe of metrics\\n    df_perf = pd.DataFrame(\\n        {\\n            \\\"Accuracy\\\": acc,\\n            \\\"Recall\\\": recall,\\n            \\\"Precision\\\": precision,\\n            \\\"F1\\\": f1,\\n        },\\n        index=[0],\\n    )\\n\\n    return df_perf\";\n",
       "                var nbb_formatted_code = \"# defining a function to compute different metrics to check performance of a classification model built using sklearn\\ndef model_performance_classification_sklearn(model, predictors, target):\\n    \\\"\\\"\\\"\\n    Function to compute different metrics to check classification model performance\\n\\n    model: classifier\\n    predictors: independent variables\\n    target: dependent variable\\n    \\\"\\\"\\\"\\n\\n    # predicting using the independent variables\\n    pred = model.predict(predictors)\\n\\n    acc = accuracy_score(target, pred)  # to compute Accuracy\\n    recall = recall_score(target, pred)  # to compute Recall\\n    precision = precision_score(target, pred)  # to compute Precision\\n    f1 = f1_score(target, pred)  # to compute F1-score\\n\\n    # creating a dataframe of metrics\\n    df_perf = pd.DataFrame(\\n        {\\\"Accuracy\\\": acc, \\\"Recall\\\": recall, \\\"Precision\\\": precision, \\\"F1\\\": f1,},\\n        index=[0],\\n    )\\n\\n    return df_perf\";\n",
       "                var nbb_cells = Jupyter.notebook.get_cells();\n",
       "                for (var i = 0; i < nbb_cells.length; ++i) {\n",
       "                    if (nbb_cells[i].input_prompt_number == nbb_cell_id) {\n",
       "                        if (nbb_cells[i].get_text() == nbb_unformatted_code) {\n",
       "                             nbb_cells[i].set_text(nbb_formatted_code);\n",
       "                        }\n",
       "                        break;\n",
       "                    }\n",
       "                }\n",
       "            }, 500);\n",
       "            "
      ],
      "text/plain": [
       "<IPython.core.display.Javascript object>"
      ]
     },
     "metadata": {},
     "output_type": "display_data"
    }
   ],
   "source": [
    "# defining a function to compute different metrics to check performance of a classification model built using sklearn\n",
    "def model_performance_classification_sklearn(model, predictors, target):\n",
    "    \"\"\"\n",
    "    Function to compute different metrics to check classification model performance\n",
    "\n",
    "    model: classifier\n",
    "    predictors: independent variables\n",
    "    target: dependent variable\n",
    "    \"\"\"\n",
    "\n",
    "    # predicting using the independent variables\n",
    "    pred = model.predict(predictors)\n",
    "\n",
    "    acc = accuracy_score(target, pred)  # to compute Accuracy\n",
    "    recall = recall_score(target, pred)  # to compute Recall\n",
    "    precision = precision_score(target, pred)  # to compute Precision\n",
    "    f1 = f1_score(target, pred)  # to compute F1-score\n",
    "\n",
    "    # creating a dataframe of metrics\n",
    "    df_perf = pd.DataFrame(\n",
    "        {\"Accuracy\": acc, \"Recall\": recall, \"Precision\": precision, \"F1\": f1,},\n",
    "        index=[0],\n",
    "    )\n",
    "\n",
    "    return df_perf"
   ]
  },
  {
   "cell_type": "code",
   "execution_count": 83,
   "id": "dfb8fb55",
   "metadata": {},
   "outputs": [
    {
     "data": {
      "application/javascript": [
       "\n",
       "            setTimeout(function() {\n",
       "                var nbb_cell_id = 83;\n",
       "                var nbb_unformatted_code = \"def confusion_matrix_sklearn(model, predictors, target):\\n    \\\"\\\"\\\"\\n    To plot the confusion_matrix with percentages\\n\\n    model: classifier\\n    predictors: independent variables\\n    target: dependent variable\\n    \\\"\\\"\\\"\\n    y_pred = model.predict(predictors)\\n    cm = confusion_matrix(target, y_pred)\\n    labels = np.asarray(\\n        [\\n            [\\\"{0:0.0f}\\\".format(item) + \\\"\\\\n{0:.2%}\\\".format(item / cm.flatten().sum())]\\n            for item in cm.flatten()\\n        ]\\n    ).reshape(2, 2)\\n\\n    plt.figure(figsize=(6, 4))\\n    sns.heatmap(cm, annot=labels, fmt=\\\"\\\")\\n    plt.ylabel(\\\"True label\\\")\\n    plt.xlabel(\\\"Predicted label\\\")\";\n",
       "                var nbb_formatted_code = \"def confusion_matrix_sklearn(model, predictors, target):\\n    \\\"\\\"\\\"\\n    To plot the confusion_matrix with percentages\\n\\n    model: classifier\\n    predictors: independent variables\\n    target: dependent variable\\n    \\\"\\\"\\\"\\n    y_pred = model.predict(predictors)\\n    cm = confusion_matrix(target, y_pred)\\n    labels = np.asarray(\\n        [\\n            [\\\"{0:0.0f}\\\".format(item) + \\\"\\\\n{0:.2%}\\\".format(item / cm.flatten().sum())]\\n            for item in cm.flatten()\\n        ]\\n    ).reshape(2, 2)\\n\\n    plt.figure(figsize=(6, 4))\\n    sns.heatmap(cm, annot=labels, fmt=\\\"\\\")\\n    plt.ylabel(\\\"True label\\\")\\n    plt.xlabel(\\\"Predicted label\\\")\";\n",
       "                var nbb_cells = Jupyter.notebook.get_cells();\n",
       "                for (var i = 0; i < nbb_cells.length; ++i) {\n",
       "                    if (nbb_cells[i].input_prompt_number == nbb_cell_id) {\n",
       "                        if (nbb_cells[i].get_text() == nbb_unformatted_code) {\n",
       "                             nbb_cells[i].set_text(nbb_formatted_code);\n",
       "                        }\n",
       "                        break;\n",
       "                    }\n",
       "                }\n",
       "            }, 500);\n",
       "            "
      ],
      "text/plain": [
       "<IPython.core.display.Javascript object>"
      ]
     },
     "metadata": {},
     "output_type": "display_data"
    }
   ],
   "source": [
    "def confusion_matrix_sklearn(model, predictors, target):\n",
    "    \"\"\"\n",
    "    To plot the confusion_matrix with percentages\n",
    "\n",
    "    model: classifier\n",
    "    predictors: independent variables\n",
    "    target: dependent variable\n",
    "    \"\"\"\n",
    "    y_pred = model.predict(predictors)\n",
    "    cm = confusion_matrix(target, y_pred)\n",
    "    labels = np.asarray(\n",
    "        [\n",
    "            [\"{0:0.0f}\".format(item) + \"\\n{0:.2%}\".format(item / cm.flatten().sum())]\n",
    "            for item in cm.flatten()\n",
    "        ]\n",
    "    ).reshape(2, 2)\n",
    "\n",
    "    plt.figure(figsize=(6, 4))\n",
    "    sns.heatmap(cm, annot=labels, fmt=\"\")\n",
    "    plt.ylabel(\"True label\")\n",
    "    plt.xlabel(\"Predicted label\")"
   ]
  },
  {
   "cell_type": "code",
   "execution_count": 90,
   "id": "3d8a884e",
   "metadata": {},
   "outputs": [
    {
     "data": {
      "text/plain": [
       "DecisionTreeClassifier(class_weight='balanced', random_state=1)"
      ]
     },
     "execution_count": 90,
     "metadata": {},
     "output_type": "execute_result"
    },
    {
     "data": {
      "application/javascript": [
       "\n",
       "            setTimeout(function() {\n",
       "                var nbb_cell_id = 90;\n",
       "                var nbb_unformatted_code = \"dtree = DecisionTreeClassifier(criterion=\\\"gini\\\", class_weight=\\\"balanced\\\", random_state=1)\\ndtree.fit(X_train, y_train)\";\n",
       "                var nbb_formatted_code = \"dtree = DecisionTreeClassifier(\\n    criterion=\\\"gini\\\", class_weight=\\\"balanced\\\", random_state=1\\n)\\ndtree.fit(X_train, y_train)\";\n",
       "                var nbb_cells = Jupyter.notebook.get_cells();\n",
       "                for (var i = 0; i < nbb_cells.length; ++i) {\n",
       "                    if (nbb_cells[i].input_prompt_number == nbb_cell_id) {\n",
       "                        if (nbb_cells[i].get_text() == nbb_unformatted_code) {\n",
       "                             nbb_cells[i].set_text(nbb_formatted_code);\n",
       "                        }\n",
       "                        break;\n",
       "                    }\n",
       "                }\n",
       "            }, 500);\n",
       "            "
      ],
      "text/plain": [
       "<IPython.core.display.Javascript object>"
      ]
     },
     "metadata": {},
     "output_type": "display_data"
    }
   ],
   "source": [
    "dtree = DecisionTreeClassifier(\n",
    "    criterion=\"gini\", class_weight=\"balanced\", random_state=1\n",
    ")\n",
    "dtree.fit(X_train, y_train)"
   ]
  },
  {
   "cell_type": "markdown",
   "id": "b3ff2189",
   "metadata": {},
   "source": [
    "**Confusion matrix**"
   ]
  },
  {
   "cell_type": "code",
   "execution_count": 91,
   "id": "a6626f6e",
   "metadata": {},
   "outputs": [
    {
     "data": {
      "image/png": "[encoded data removed]",
      "text/plain": [
       "<Figure size 432x288 with 2 Axes>"
      ]
     },
     "metadata": {
      "needs_background": "light"
     },
     "output_type": "display_data"
    },
    {
     "data": {
      "application/javascript": [
       "\n",
       "            setTimeout(function() {\n",
       "                var nbb_cell_id = 91;\n",
       "                var nbb_unformatted_code = \"confusion_matrix_sklearn(dtree, X_test, y_test)\";\n",
       "                var nbb_formatted_code = \"confusion_matrix_sklearn(dtree, X_test, y_test)\";\n",
       "                var nbb_cells = Jupyter.notebook.get_cells();\n",
       "                for (var i = 0; i < nbb_cells.length; ++i) {\n",
       "                    if (nbb_cells[i].input_prompt_number == nbb_cell_id) {\n",
       "                        if (nbb_cells[i].get_text() == nbb_unformatted_code) {\n",
       "                             nbb_cells[i].set_text(nbb_formatted_code);\n",
       "                        }\n",
       "                        break;\n",
       "                    }\n",
       "                }\n",
       "            }, 500);\n",
       "            "
      ],
      "text/plain": [
       "<IPython.core.display.Javascript object>"
      ]
     },
     "metadata": {},
     "output_type": "display_data"
    }
   ],
   "source": [
    "confusion_matrix_sklearn(dtree, X_test, y_test)"
   ]
  },
  {
   "cell_type": "markdown",
   "id": "eaf69052",
   "metadata": {},
   "source": [
    "**Confusion Matrix -**\n",
    "\n",
    "* Visa certified and the model predicted it correctly as Certified :  True Positive (observed=1,predicted=1)\n",
    "\n",
    "* Visa Denied and the model predicted it as Certified : False Positive (observed=0,predicted=1)\n",
    "\n",
    "* Visa Denied and the model predicted it as Denied  : True Negative (observed=0,predicted=0)\n",
    "\n",
    "* Visa certified and the model predicted it as Denied : False Negative (observed=1,predicted=0)"
   ]
  },
  {
   "cell_type": "markdown",
   "id": "293de51a",
   "metadata": {},
   "source": [
    "**Model performance on training set**"
   ]
  },
  {
   "cell_type": "code",
   "execution_count": 92,
   "id": "7eab094f",
   "metadata": {},
   "outputs": [
    {
     "name": "stdout",
     "output_type": "stream",
     "text": [
      "Training performance \n",
      "    Accuracy  Recall  Precision   F1\n",
      "0       1.0     1.0        1.0  1.0\n"
     ]
    },
    {
     "data": {
      "application/javascript": [
       "\n",
       "            setTimeout(function() {\n",
       "                var nbb_cell_id = 92;\n",
       "                var nbb_unformatted_code = \"dtree_model_train_perf = model_performance_classification_sklearn(\\n    dtree, X_train, y_train\\n)\\nprint(\\\"Training performance \\\\n\\\", dtree_model_train_perf)\";\n",
       "                var nbb_formatted_code = \"dtree_model_train_perf = model_performance_classification_sklearn(\\n    dtree, X_train, y_train\\n)\\nprint(\\\"Training performance \\\\n\\\", dtree_model_train_perf)\";\n",
       "                var nbb_cells = Jupyter.notebook.get_cells();\n",
       "                for (var i = 0; i < nbb_cells.length; ++i) {\n",
       "                    if (nbb_cells[i].input_prompt_number == nbb_cell_id) {\n",
       "                        if (nbb_cells[i].get_text() == nbb_unformatted_code) {\n",
       "                             nbb_cells[i].set_text(nbb_formatted_code);\n",
       "                        }\n",
       "                        break;\n",
       "                    }\n",
       "                }\n",
       "            }, 500);\n",
       "            "
      ],
      "text/plain": [
       "<IPython.core.display.Javascript object>"
      ]
     },
     "metadata": {},
     "output_type": "display_data"
    }
   ],
   "source": [
    "dtree_model_train_perf = model_performance_classification_sklearn(\n",
    "    dtree, X_train, y_train\n",
    ")\n",
    "print(\"Training performance \\n\", dtree_model_train_perf)"
   ]
  },
  {
   "cell_type": "markdown",
   "id": "9b16543c",
   "metadata": {},
   "source": [
    "**Model performance on testing set**"
   ]
  },
  {
   "cell_type": "code",
   "execution_count": 124,
   "id": "3aceea9d",
   "metadata": {},
   "outputs": [
    {
     "name": "stdout",
     "output_type": "stream",
     "text": [
      "Testing performance \n",
      "    Accuracy   Recall  Precision        F1\n",
      "0  0.653192  0.74143   0.739836  0.740632\n"
     ]
    },
    {
     "data": {
      "application/javascript": [
       "\n",
       "            setTimeout(function() {\n",
       "                var nbb_cell_id = 124;\n",
       "                var nbb_unformatted_code = \"dtree_model_test_perf = model_performance_classification_sklearn(dtree, X_test, y_test)\\nprint(\\\"Testing performance \\\\n\\\", dtree_model_test_perf)\";\n",
       "                var nbb_formatted_code = \"dtree_model_test_perf = model_performance_classification_sklearn(dtree, X_test, y_test)\\nprint(\\\"Testing performance \\\\n\\\", dtree_model_test_perf)\";\n",
       "                var nbb_cells = Jupyter.notebook.get_cells();\n",
       "                for (var i = 0; i < nbb_cells.length; ++i) {\n",
       "                    if (nbb_cells[i].input_prompt_number == nbb_cell_id) {\n",
       "                        if (nbb_cells[i].get_text() == nbb_unformatted_code) {\n",
       "                             nbb_cells[i].set_text(nbb_formatted_code);\n",
       "                        }\n",
       "                        break;\n",
       "                    }\n",
       "                }\n",
       "            }, 500);\n",
       "            "
      ],
      "text/plain": [
       "<IPython.core.display.Javascript object>"
      ]
     },
     "metadata": {},
     "output_type": "display_data"
    },
    {
     "data": {
      "application/javascript": [
       "\n",
       "            setTimeout(function() {\n",
       "                var nbb_cell_id = 124;\n",
       "                var nbb_unformatted_code = \"dtree_model_test_perf = model_performance_classification_sklearn(dtree, X_test, y_test)\\nprint(\\\"Testing performance \\\\n\\\", dtree_model_test_perf)\";\n",
       "                var nbb_formatted_code = \"dtree_model_test_perf = model_performance_classification_sklearn(dtree, X_test, y_test)\\nprint(\\\"Testing performance \\\\n\\\", dtree_model_test_perf)\";\n",
       "                var nbb_cells = Jupyter.notebook.get_cells();\n",
       "                for (var i = 0; i < nbb_cells.length; ++i) {\n",
       "                    if (nbb_cells[i].input_prompt_number == nbb_cell_id) {\n",
       "                        if (nbb_cells[i].get_text() == nbb_unformatted_code) {\n",
       "                             nbb_cells[i].set_text(nbb_formatted_code);\n",
       "                        }\n",
       "                        break;\n",
       "                    }\n",
       "                }\n",
       "            }, 500);\n",
       "            "
      ],
      "text/plain": [
       "<IPython.core.display.Javascript object>"
      ]
     },
     "metadata": {},
     "output_type": "display_data"
    }
   ],
   "source": [
    "dtree_model_test_perf = model_performance_classification_sklearn(dtree, X_test, y_test)\n",
    "print(\"Testing performance \\n\", dtree_model_test_perf)"
   ]
  },
  {
   "cell_type": "markdown",
   "id": "16a7a3fb",
   "metadata": {},
   "source": [
    "**The model suffers from overfitting since it is giving 100% accuracy , recall, precision and F1 on training set but underperforming on testing set**"
   ]
  },
  {
   "cell_type": "markdown",
   "id": "b3c7de7f",
   "metadata": {},
   "source": [
    "### Reducing over fitting by pre-pruning using hyperparameters"
   ]
  },
  {
   "cell_type": "code",
   "execution_count": 97,
   "id": "15d35a96",
   "metadata": {},
   "outputs": [
    {
     "data": {
      "text/plain": [
       "DecisionTreeClassifier(class_weight='balanced', max_depth=5, max_leaf_nodes=2,\n",
       "                       min_impurity_decrease=0.0001, min_samples_leaf=3,\n",
       "                       random_state=1)"
      ]
     },
     "execution_count": 97,
     "metadata": {},
     "output_type": "execute_result"
    },
    {
     "data": {
      "application/javascript": [
       "\n",
       "            setTimeout(function() {\n",
       "                var nbb_cell_id = 97;\n",
       "                var nbb_unformatted_code = \"# Choose the type of classifier.\\nestimator = DecisionTreeClassifier(random_state=1, class_weight=\\\"balanced\\\")\\n\\n# Grid of parameters to choose from\\nparameters = {\\n    \\\"max_depth\\\": np.arange(5, 16, 5),\\n    \\\"min_samples_leaf\\\": [3, 5, 7],\\n    \\\"max_leaf_nodes\\\": [2, 5],\\n    \\\"min_impurity_decrease\\\": [0.0001, 0.001],\\n}\\n# Type of scoring used to compare parameter combinations\\nacc_scorer = make_scorer(f1_score)\\n\\n# Run the grid search\\ngrid_obj = GridSearchCV(estimator, parameters, scoring=acc_scorer, cv=5)\\ngrid_obj = grid_obj.fit(X_train, y_train)\\n\\n# Set the clf to the best combination of parameters\\nestimator = grid_obj.best_estimator_\\n\\n# Fit the best algorithm to the data.\\nestimator.fit(X_train, y_train)\";\n",
       "                var nbb_formatted_code = \"# Choose the type of classifier.\\nestimator = DecisionTreeClassifier(random_state=1, class_weight=\\\"balanced\\\")\\n\\n# Grid of parameters to choose from\\nparameters = {\\n    \\\"max_depth\\\": np.arange(5, 16, 5),\\n    \\\"min_samples_leaf\\\": [3, 5, 7],\\n    \\\"max_leaf_nodes\\\": [2, 5],\\n    \\\"min_impurity_decrease\\\": [0.0001, 0.001],\\n}\\n# Type of scoring used to compare parameter combinations\\nacc_scorer = make_scorer(f1_score)\\n\\n# Run the grid search\\ngrid_obj = GridSearchCV(estimator, parameters, scoring=acc_scorer, cv=5)\\ngrid_obj = grid_obj.fit(X_train, y_train)\\n\\n# Set the clf to the best combination of parameters\\nestimator = grid_obj.best_estimator_\\n\\n# Fit the best algorithm to the data.\\nestimator.fit(X_train, y_train)\";\n",
       "                var nbb_cells = Jupyter.notebook.get_cells();\n",
       "                for (var i = 0; i < nbb_cells.length; ++i) {\n",
       "                    if (nbb_cells[i].input_prompt_number == nbb_cell_id) {\n",
       "                        if (nbb_cells[i].get_text() == nbb_unformatted_code) {\n",
       "                             nbb_cells[i].set_text(nbb_formatted_code);\n",
       "                        }\n",
       "                        break;\n",
       "                    }\n",
       "                }\n",
       "            }, 500);\n",
       "            "
      ],
      "text/plain": [
       "<IPython.core.display.Javascript object>"
      ]
     },
     "metadata": {},
     "output_type": "display_data"
    },
    {
     "data": {
      "application/javascript": [
       "\n",
       "            setTimeout(function() {\n",
       "                var nbb_cell_id = 97;\n",
       "                var nbb_unformatted_code = \"# Choose the type of classifier.\\nestimator = DecisionTreeClassifier(random_state=1, class_weight=\\\"balanced\\\")\\n\\n# Grid of parameters to choose from\\nparameters = {\\n    \\\"max_depth\\\": np.arange(5, 16, 5),\\n    \\\"min_samples_leaf\\\": [3, 5, 7],\\n    \\\"max_leaf_nodes\\\": [2, 5],\\n    \\\"min_impurity_decrease\\\": [0.0001, 0.001],\\n}\\n# Type of scoring used to compare parameter combinations\\nacc_scorer = make_scorer(f1_score)\\n\\n# Run the grid search\\ngrid_obj = GridSearchCV(estimator, parameters, scoring=acc_scorer, cv=5)\\ngrid_obj = grid_obj.fit(X_train, y_train)\\n\\n# Set the clf to the best combination of parameters\\nestimator = grid_obj.best_estimator_\\n\\n# Fit the best algorithm to the data.\\nestimator.fit(X_train, y_train)\";\n",
       "                var nbb_formatted_code = \"# Choose the type of classifier.\\nestimator = DecisionTreeClassifier(random_state=1, class_weight=\\\"balanced\\\")\\n\\n# Grid of parameters to choose from\\nparameters = {\\n    \\\"max_depth\\\": np.arange(5, 16, 5),\\n    \\\"min_samples_leaf\\\": [3, 5, 7],\\n    \\\"max_leaf_nodes\\\": [2, 5],\\n    \\\"min_impurity_decrease\\\": [0.0001, 0.001],\\n}\\n# Type of scoring used to compare parameter combinations\\nacc_scorer = make_scorer(f1_score)\\n\\n# Run the grid search\\ngrid_obj = GridSearchCV(estimator, parameters, scoring=acc_scorer, cv=5)\\ngrid_obj = grid_obj.fit(X_train, y_train)\\n\\n# Set the clf to the best combination of parameters\\nestimator = grid_obj.best_estimator_\\n\\n# Fit the best algorithm to the data.\\nestimator.fit(X_train, y_train)\";\n",
       "                var nbb_cells = Jupyter.notebook.get_cells();\n",
       "                for (var i = 0; i < nbb_cells.length; ++i) {\n",
       "                    if (nbb_cells[i].input_prompt_number == nbb_cell_id) {\n",
       "                        if (nbb_cells[i].get_text() == nbb_unformatted_code) {\n",
       "                             nbb_cells[i].set_text(nbb_formatted_code);\n",
       "                        }\n",
       "                        break;\n",
       "                    }\n",
       "                }\n",
       "            }, 500);\n",
       "            "
      ],
      "text/plain": [
       "<IPython.core.display.Javascript object>"
      ]
     },
     "metadata": {},
     "output_type": "display_data"
    }
   ],
   "source": [
    "# Choose the type of classifier.\n",
    "estimator = DecisionTreeClassifier(random_state=1, class_weight=\"balanced\")\n",
    "\n",
    "# Grid of parameters to choose from\n",
    "parameters = {\n",
    "    \"max_depth\": np.arange(5, 16, 5),\n",
    "    \"min_samples_leaf\": [3, 5, 7],\n",
    "    \"max_leaf_nodes\": [2, 5],\n",
    "    \"min_impurity_decrease\": [0.0001, 0.001],\n",
    "}\n",
    "# Type of scoring used to compare parameter combinations\n",
    "acc_scorer = make_scorer(f1_score)\n",
    "\n",
    "# Run the grid search\n",
    "grid_obj = GridSearchCV(estimator, parameters, scoring=acc_scorer, cv=5)\n",
    "grid_obj = grid_obj.fit(X_train, y_train)\n",
    "\n",
    "# Set the clf to the best combination of parameters\n",
    "estimator = grid_obj.best_estimator_\n",
    "\n",
    "# Fit the best algorithm to the data.\n",
    "estimator.fit(X_train, y_train)"
   ]
  },
  {
   "cell_type": "markdown",
   "id": "5b2254c4",
   "metadata": {},
   "source": [
    "**Confusion matrix of the pruned tree on training data**"
   ]
  },
  {
   "cell_type": "code",
   "execution_count": 101,
   "id": "713bca75",
   "metadata": {},
   "outputs": [
    {
     "data": {
      "image/png": "[encoded data removed]",
      "text/plain": [
       "<Figure size 432x288 with 2 Axes>"
      ]
     },
     "metadata": {
      "needs_background": "light"
     },
     "output_type": "display_data"
    },
    {
     "data": {
      "application/javascript": [
       "\n",
       "            setTimeout(function() {\n",
       "                var nbb_cell_id = 101;\n",
       "                var nbb_unformatted_code = \"confusion_matrix_sklearn(estimator, X_train, y_train)\";\n",
       "                var nbb_formatted_code = \"confusion_matrix_sklearn(estimator, X_train, y_train)\";\n",
       "                var nbb_cells = Jupyter.notebook.get_cells();\n",
       "                for (var i = 0; i < nbb_cells.length; ++i) {\n",
       "                    if (nbb_cells[i].input_prompt_number == nbb_cell_id) {\n",
       "                        if (nbb_cells[i].get_text() == nbb_unformatted_code) {\n",
       "                             nbb_cells[i].set_text(nbb_formatted_code);\n",
       "                        }\n",
       "                        break;\n",
       "                    }\n",
       "                }\n",
       "            }, 500);\n",
       "            "
      ],
      "text/plain": [
       "<IPython.core.display.Javascript object>"
      ]
     },
     "metadata": {},
     "output_type": "display_data"
    },
    {
     "data": {
      "application/javascript": [
       "\n",
       "            setTimeout(function() {\n",
       "                var nbb_cell_id = 101;\n",
       "                var nbb_unformatted_code = \"confusion_matrix_sklearn(estimator, X_train, y_train)\";\n",
       "                var nbb_formatted_code = \"confusion_matrix_sklearn(estimator, X_train, y_train)\";\n",
       "                var nbb_cells = Jupyter.notebook.get_cells();\n",
       "                for (var i = 0; i < nbb_cells.length; ++i) {\n",
       "                    if (nbb_cells[i].input_prompt_number == nbb_cell_id) {\n",
       "                        if (nbb_cells[i].get_text() == nbb_unformatted_code) {\n",
       "                             nbb_cells[i].set_text(nbb_formatted_code);\n",
       "                        }\n",
       "                        break;\n",
       "                    }\n",
       "                }\n",
       "            }, 500);\n",
       "            "
      ],
      "text/plain": [
       "<IPython.core.display.Javascript object>"
      ]
     },
     "metadata": {},
     "output_type": "display_data"
    }
   ],
   "source": [
    "confusion_matrix_sklearn(estimator, X_train, y_train)"
   ]
  },
  {
   "cell_type": "markdown",
   "id": "c9368b80",
   "metadata": {},
   "source": [
    "**Confusion matrix of the pruned tree on testing data**"
   ]
  },
  {
   "cell_type": "code",
   "execution_count": 100,
   "id": "30647e0e",
   "metadata": {},
   "outputs": [
    {
     "data": {
      "image/png": "[encoded data removed]",
      "text/plain": [
       "<Figure size 432x288 with 2 Axes>"
      ]
     },
     "metadata": {
      "needs_background": "light"
     },
     "output_type": "display_data"
    },
    {
     "data": {
      "application/javascript": [
       "\n",
       "            setTimeout(function() {\n",
       "                var nbb_cell_id = 100;\n",
       "                var nbb_unformatted_code = \"confusion_matrix_sklearn(estimator, X_test, y_test)\";\n",
       "                var nbb_formatted_code = \"confusion_matrix_sklearn(estimator, X_test, y_test)\";\n",
       "                var nbb_cells = Jupyter.notebook.get_cells();\n",
       "                for (var i = 0; i < nbb_cells.length; ++i) {\n",
       "                    if (nbb_cells[i].input_prompt_number == nbb_cell_id) {\n",
       "                        if (nbb_cells[i].get_text() == nbb_unformatted_code) {\n",
       "                             nbb_cells[i].set_text(nbb_formatted_code);\n",
       "                        }\n",
       "                        break;\n",
       "                    }\n",
       "                }\n",
       "            }, 500);\n",
       "            "
      ],
      "text/plain": [
       "<IPython.core.display.Javascript object>"
      ]
     },
     "metadata": {},
     "output_type": "display_data"
    },
    {
     "data": {
      "application/javascript": [
       "\n",
       "            setTimeout(function() {\n",
       "                var nbb_cell_id = 100;\n",
       "                var nbb_unformatted_code = \"confusion_matrix_sklearn(estimator, X_test, y_test)\";\n",
       "                var nbb_formatted_code = \"confusion_matrix_sklearn(estimator, X_test, y_test)\";\n",
       "                var nbb_cells = Jupyter.notebook.get_cells();\n",
       "                for (var i = 0; i < nbb_cells.length; ++i) {\n",
       "                    if (nbb_cells[i].input_prompt_number == nbb_cell_id) {\n",
       "                        if (nbb_cells[i].get_text() == nbb_unformatted_code) {\n",
       "                             nbb_cells[i].set_text(nbb_formatted_code);\n",
       "                        }\n",
       "                        break;\n",
       "                    }\n",
       "                }\n",
       "            }, 500);\n",
       "            "
      ],
      "text/plain": [
       "<IPython.core.display.Javascript object>"
      ]
     },
     "metadata": {},
     "output_type": "display_data"
    }
   ],
   "source": [
    "confusion_matrix_sklearn(estimator, X_test, y_test)"
   ]
  },
  {
   "cell_type": "markdown",
   "id": "8242fee4",
   "metadata": {},
   "source": [
    "**Model performance on training set**"
   ]
  },
  {
   "cell_type": "code",
   "execution_count": 102,
   "id": "8078ee4c",
   "metadata": {},
   "outputs": [
    {
     "name": "stdout",
     "output_type": "stream",
     "text": [
      "Training performance \n",
      "    Accuracy    Recall  Precision        F1\n",
      "0  0.712548  0.931923   0.720067  0.812411\n"
     ]
    },
    {
     "data": {
      "application/javascript": [
       "\n",
       "            setTimeout(function() {\n",
       "                var nbb_cell_id = 102;\n",
       "                var nbb_unformatted_code = \"dtree_estimator_model_train_perf = model_performance_classification_sklearn(\\n    estimator, X_train, y_train\\n)\\nprint(\\\"Training performance \\\\n\\\", dtree_estimator_model_train_perf)\";\n",
       "                var nbb_formatted_code = \"dtree_estimator_model_train_perf = model_performance_classification_sklearn(\\n    estimator, X_train, y_train\\n)\\nprint(\\\"Training performance \\\\n\\\", dtree_estimator_model_train_perf)\";\n",
       "                var nbb_cells = Jupyter.notebook.get_cells();\n",
       "                for (var i = 0; i < nbb_cells.length; ++i) {\n",
       "                    if (nbb_cells[i].input_prompt_number == nbb_cell_id) {\n",
       "                        if (nbb_cells[i].get_text() == nbb_unformatted_code) {\n",
       "                             nbb_cells[i].set_text(nbb_formatted_code);\n",
       "                        }\n",
       "                        break;\n",
       "                    }\n",
       "                }\n",
       "            }, 500);\n",
       "            "
      ],
      "text/plain": [
       "<IPython.core.display.Javascript object>"
      ]
     },
     "metadata": {},
     "output_type": "display_data"
    },
    {
     "data": {
      "application/javascript": [
       "\n",
       "            setTimeout(function() {\n",
       "                var nbb_cell_id = 102;\n",
       "                var nbb_unformatted_code = \"dtree_estimator_model_train_perf = model_performance_classification_sklearn(\\n    estimator, X_train, y_train\\n)\\nprint(\\\"Training performance \\\\n\\\", dtree_estimator_model_train_perf)\";\n",
       "                var nbb_formatted_code = \"dtree_estimator_model_train_perf = model_performance_classification_sklearn(\\n    estimator, X_train, y_train\\n)\\nprint(\\\"Training performance \\\\n\\\", dtree_estimator_model_train_perf)\";\n",
       "                var nbb_cells = Jupyter.notebook.get_cells();\n",
       "                for (var i = 0; i < nbb_cells.length; ++i) {\n",
       "                    if (nbb_cells[i].input_prompt_number == nbb_cell_id) {\n",
       "                        if (nbb_cells[i].get_text() == nbb_unformatted_code) {\n",
       "                             nbb_cells[i].set_text(nbb_formatted_code);\n",
       "                        }\n",
       "                        break;\n",
       "                    }\n",
       "                }\n",
       "            }, 500);\n",
       "            "
      ],
      "text/plain": [
       "<IPython.core.display.Javascript object>"
      ]
     },
     "metadata": {},
     "output_type": "display_data"
    }
   ],
   "source": [
    "dtree_estimator_model_train_perf = model_performance_classification_sklearn(\n",
    "    estimator, X_train, y_train\n",
    ")\n",
    "print(\"Training performance \\n\", dtree_estimator_model_train_perf)"
   ]
  },
  {
   "cell_type": "markdown",
   "id": "bc8d2292",
   "metadata": {},
   "source": [
    "**Model performance on testing set**"
   ]
  },
  {
   "cell_type": "code",
   "execution_count": 123,
   "id": "1f503182",
   "metadata": {},
   "outputs": [
    {
     "name": "stdout",
     "output_type": "stream",
     "text": [
      "Testing performance \n",
      "    Accuracy    Recall  Precision        F1\n",
      "0  0.706567  0.930852   0.715447  0.809058\n"
     ]
    },
    {
     "data": {
      "application/javascript": [
       "\n",
       "            setTimeout(function() {\n",
       "                var nbb_cell_id = 123;\n",
       "                var nbb_unformatted_code = \"dtree_estimator_model_test_perf = model_performance_classification_sklearn(\\n    estimator, X_test, y_test\\n)\\nprint(\\\"Testing performance \\\\n\\\", dtree_estimator_model_test_perf)\";\n",
       "                var nbb_formatted_code = \"dtree_estimator_model_test_perf = model_performance_classification_sklearn(\\n    estimator, X_test, y_test\\n)\\nprint(\\\"Testing performance \\\\n\\\", dtree_estimator_model_test_perf)\";\n",
       "                var nbb_cells = Jupyter.notebook.get_cells();\n",
       "                for (var i = 0; i < nbb_cells.length; ++i) {\n",
       "                    if (nbb_cells[i].input_prompt_number == nbb_cell_id) {\n",
       "                        if (nbb_cells[i].get_text() == nbb_unformatted_code) {\n",
       "                             nbb_cells[i].set_text(nbb_formatted_code);\n",
       "                        }\n",
       "                        break;\n",
       "                    }\n",
       "                }\n",
       "            }, 500);\n",
       "            "
      ],
      "text/plain": [
       "<IPython.core.display.Javascript object>"
      ]
     },
     "metadata": {},
     "output_type": "display_data"
    },
    {
     "data": {
      "application/javascript": [
       "\n",
       "            setTimeout(function() {\n",
       "                var nbb_cell_id = 123;\n",
       "                var nbb_unformatted_code = \"dtree_estimator_model_test_perf = model_performance_classification_sklearn(\\n    estimator, X_test, y_test\\n)\\nprint(\\\"Testing performance \\\\n\\\", dtree_estimator_model_test_perf)\";\n",
       "                var nbb_formatted_code = \"dtree_estimator_model_test_perf = model_performance_classification_sklearn(\\n    estimator, X_test, y_test\\n)\\nprint(\\\"Testing performance \\\\n\\\", dtree_estimator_model_test_perf)\";\n",
       "                var nbb_cells = Jupyter.notebook.get_cells();\n",
       "                for (var i = 0; i < nbb_cells.length; ++i) {\n",
       "                    if (nbb_cells[i].input_prompt_number == nbb_cell_id) {\n",
       "                        if (nbb_cells[i].get_text() == nbb_unformatted_code) {\n",
       "                             nbb_cells[i].set_text(nbb_formatted_code);\n",
       "                        }\n",
       "                        break;\n",
       "                    }\n",
       "                }\n",
       "            }, 500);\n",
       "            "
      ],
      "text/plain": [
       "<IPython.core.display.Javascript object>"
      ]
     },
     "metadata": {},
     "output_type": "display_data"
    }
   ],
   "source": [
    "dtree_estimator_model_test_perf = model_performance_classification_sklearn(\n",
    "    estimator, X_test, y_test\n",
    ")\n",
    "print(\"Testing performance \\n\", dtree_estimator_model_test_perf)"
   ]
  },
  {
   "cell_type": "markdown",
   "id": "433dd43c",
   "metadata": {},
   "source": [
    "**The model is now performing consistently across training and testing data. The scores are nearly same for both the sets. Test set scores for tuned tree are better than the scores of original tree**"
   ]
  },
  {
   "cell_type": "markdown",
   "id": "domestic-iceland",
   "metadata": {
    "id": "domestic-iceland"
   },
   "source": [
    "## Building bagging and boosting models"
   ]
  },
  {
   "cell_type": "markdown",
   "id": "eab430f6",
   "metadata": {},
   "source": [
    "### Bagging Classifier"
   ]
  },
  {
   "cell_type": "code",
   "execution_count": 104,
   "id": "unknown-institution",
   "metadata": {
    "id": "unknown-institution"
   },
   "outputs": [
    {
     "data": {
      "text/plain": [
       "BaggingClassifier(random_state=1)"
      ]
     },
     "execution_count": 104,
     "metadata": {},
     "output_type": "execute_result"
    },
    {
     "data": {
      "application/javascript": [
       "\n",
       "            setTimeout(function() {\n",
       "                var nbb_cell_id = 104;\n",
       "                var nbb_unformatted_code = \"bagging = BaggingClassifier(random_state=1)\\nbagging.fit(X_train,y_train)\";\n",
       "                var nbb_formatted_code = \"bagging = BaggingClassifier(random_state=1)\\nbagging.fit(X_train, y_train)\";\n",
       "                var nbb_cells = Jupyter.notebook.get_cells();\n",
       "                for (var i = 0; i < nbb_cells.length; ++i) {\n",
       "                    if (nbb_cells[i].input_prompt_number == nbb_cell_id) {\n",
       "                        if (nbb_cells[i].get_text() == nbb_unformatted_code) {\n",
       "                             nbb_cells[i].set_text(nbb_formatted_code);\n",
       "                        }\n",
       "                        break;\n",
       "                    }\n",
       "                }\n",
       "            }, 500);\n",
       "            "
      ],
      "text/plain": [
       "<IPython.core.display.Javascript object>"
      ]
     },
     "metadata": {},
     "output_type": "display_data"
    },
    {
     "data": {
      "application/javascript": [
       "\n",
       "            setTimeout(function() {\n",
       "                var nbb_cell_id = 104;\n",
       "                var nbb_unformatted_code = \"bagging = BaggingClassifier(random_state=1)\\nbagging.fit(X_train,y_train)\";\n",
       "                var nbb_formatted_code = \"bagging = BaggingClassifier(random_state=1)\\nbagging.fit(X_train, y_train)\";\n",
       "                var nbb_cells = Jupyter.notebook.get_cells();\n",
       "                for (var i = 0; i < nbb_cells.length; ++i) {\n",
       "                    if (nbb_cells[i].input_prompt_number == nbb_cell_id) {\n",
       "                        if (nbb_cells[i].get_text() == nbb_unformatted_code) {\n",
       "                             nbb_cells[i].set_text(nbb_formatted_code);\n",
       "                        }\n",
       "                        break;\n",
       "                    }\n",
       "                }\n",
       "            }, 500);\n",
       "            "
      ],
      "text/plain": [
       "<IPython.core.display.Javascript object>"
      ]
     },
     "metadata": {},
     "output_type": "display_data"
    }
   ],
   "source": [
    "bagging = BaggingClassifier(random_state=1)\n",
    "bagging.fit(X_train, y_train)"
   ]
  },
  {
   "cell_type": "code",
   "execution_count": 105,
   "id": "f9ca9c1c",
   "metadata": {},
   "outputs": [
    {
     "data": {
      "image/png": "[encoded data removed]",
      "text/plain": [
       "<Figure size 432x288 with 2 Axes>"
      ]
     },
     "metadata": {
      "needs_background": "light"
     },
     "output_type": "display_data"
    },
    {
     "data": {
      "application/javascript": [
       "\n",
       "            setTimeout(function() {\n",
       "                var nbb_cell_id = 105;\n",
       "                var nbb_unformatted_code = \"confusion_matrix_sklearn(bagging, X_test, y_test)\";\n",
       "                var nbb_formatted_code = \"confusion_matrix_sklearn(bagging, X_test, y_test)\";\n",
       "                var nbb_cells = Jupyter.notebook.get_cells();\n",
       "                for (var i = 0; i < nbb_cells.length; ++i) {\n",
       "                    if (nbb_cells[i].input_prompt_number == nbb_cell_id) {\n",
       "                        if (nbb_cells[i].get_text() == nbb_unformatted_code) {\n",
       "                             nbb_cells[i].set_text(nbb_formatted_code);\n",
       "                        }\n",
       "                        break;\n",
       "                    }\n",
       "                }\n",
       "            }, 500);\n",
       "            "
      ],
      "text/plain": [
       "<IPython.core.display.Javascript object>"
      ]
     },
     "metadata": {},
     "output_type": "display_data"
    },
    {
     "data": {
      "application/javascript": [
       "\n",
       "            setTimeout(function() {\n",
       "                var nbb_cell_id = 105;\n",
       "                var nbb_unformatted_code = \"confusion_matrix_sklearn(bagging, X_test, y_test)\";\n",
       "                var nbb_formatted_code = \"confusion_matrix_sklearn(bagging, X_test, y_test)\";\n",
       "                var nbb_cells = Jupyter.notebook.get_cells();\n",
       "                for (var i = 0; i < nbb_cells.length; ++i) {\n",
       "                    if (nbb_cells[i].input_prompt_number == nbb_cell_id) {\n",
       "                        if (nbb_cells[i].get_text() == nbb_unformatted_code) {\n",
       "                             nbb_cells[i].set_text(nbb_formatted_code);\n",
       "                        }\n",
       "                        break;\n",
       "                    }\n",
       "                }\n",
       "            }, 500);\n",
       "            "
      ],
      "text/plain": [
       "<IPython.core.display.Javascript object>"
      ]
     },
     "metadata": {},
     "output_type": "display_data"
    }
   ],
   "source": [
    "confusion_matrix_sklearn(bagging, X_test, y_test)"
   ]
  },
  {
   "cell_type": "markdown",
   "id": "8f7c5c57",
   "metadata": {},
   "source": [
    "**Model performance on training set**"
   ]
  },
  {
   "cell_type": "code",
   "execution_count": 106,
   "id": "14900e2d",
   "metadata": {},
   "outputs": [
    {
     "name": "stdout",
     "output_type": "stream",
     "text": [
      "Training performance \n",
      "    Accuracy    Recall  Precision        F1\n",
      "0  0.974658  0.975069   0.986832  0.980915\n"
     ]
    },
    {
     "data": {
      "application/javascript": [
       "\n",
       "            setTimeout(function() {\n",
       "                var nbb_cell_id = 106;\n",
       "                var nbb_unformatted_code = \"bagging_model_train_perf = model_performance_classification_sklearn(\\n    bagging, X_train, y_train\\n)\\nprint(\\\"Training performance \\\\n\\\", bagging_model_train_perf)\";\n",
       "                var nbb_formatted_code = \"bagging_model_train_perf = model_performance_classification_sklearn(\\n    bagging, X_train, y_train\\n)\\nprint(\\\"Training performance \\\\n\\\", bagging_model_train_perf)\";\n",
       "                var nbb_cells = Jupyter.notebook.get_cells();\n",
       "                for (var i = 0; i < nbb_cells.length; ++i) {\n",
       "                    if (nbb_cells[i].input_prompt_number == nbb_cell_id) {\n",
       "                        if (nbb_cells[i].get_text() == nbb_unformatted_code) {\n",
       "                             nbb_cells[i].set_text(nbb_formatted_code);\n",
       "                        }\n",
       "                        break;\n",
       "                    }\n",
       "                }\n",
       "            }, 500);\n",
       "            "
      ],
      "text/plain": [
       "<IPython.core.display.Javascript object>"
      ]
     },
     "metadata": {},
     "output_type": "display_data"
    },
    {
     "data": {
      "application/javascript": [
       "\n",
       "            setTimeout(function() {\n",
       "                var nbb_cell_id = 106;\n",
       "                var nbb_unformatted_code = \"bagging_model_train_perf = model_performance_classification_sklearn(\\n    bagging, X_train, y_train\\n)\\nprint(\\\"Training performance \\\\n\\\", bagging_model_train_perf)\";\n",
       "                var nbb_formatted_code = \"bagging_model_train_perf = model_performance_classification_sklearn(\\n    bagging, X_train, y_train\\n)\\nprint(\\\"Training performance \\\\n\\\", bagging_model_train_perf)\";\n",
       "                var nbb_cells = Jupyter.notebook.get_cells();\n",
       "                for (var i = 0; i < nbb_cells.length; ++i) {\n",
       "                    if (nbb_cells[i].input_prompt_number == nbb_cell_id) {\n",
       "                        if (nbb_cells[i].get_text() == nbb_unformatted_code) {\n",
       "                             nbb_cells[i].set_text(nbb_formatted_code);\n",
       "                        }\n",
       "                        break;\n",
       "                    }\n",
       "                }\n",
       "            }, 500);\n",
       "            "
      ],
      "text/plain": [
       "<IPython.core.display.Javascript object>"
      ]
     },
     "metadata": {},
     "output_type": "display_data"
    }
   ],
   "source": [
    "bagging_model_train_perf = model_performance_classification_sklearn(\n",
    "    bagging, X_train, y_train\n",
    ")\n",
    "print(\"Training performance \\n\", bagging_model_train_perf)"
   ]
  },
  {
   "cell_type": "markdown",
   "id": "ee39ce7d",
   "metadata": {},
   "source": [
    "**Model performance on testing set**"
   ]
  },
  {
   "cell_type": "code",
   "execution_count": 122,
   "id": "bc7fc137",
   "metadata": {},
   "outputs": [
    {
     "name": "stdout",
     "output_type": "stream",
     "text": [
      "Testing performance \n",
      "    Accuracy    Recall  Precision        F1\n",
      "0  0.667321  0.745544   0.753663  0.749581\n"
     ]
    },
    {
     "data": {
      "application/javascript": [
       "\n",
       "            setTimeout(function() {\n",
       "                var nbb_cell_id = 122;\n",
       "                var nbb_unformatted_code = \"bagging_model_test_perf = model_performance_classification_sklearn(\\n    bagging, X_test, y_test\\n)\\nprint(\\\"Testing performance \\\\n\\\", bagging_model_test_perf)\";\n",
       "                var nbb_formatted_code = \"bagging_model_test_perf = model_performance_classification_sklearn(\\n    bagging, X_test, y_test\\n)\\nprint(\\\"Testing performance \\\\n\\\", bagging_model_test_perf)\";\n",
       "                var nbb_cells = Jupyter.notebook.get_cells();\n",
       "                for (var i = 0; i < nbb_cells.length; ++i) {\n",
       "                    if (nbb_cells[i].input_prompt_number == nbb_cell_id) {\n",
       "                        if (nbb_cells[i].get_text() == nbb_unformatted_code) {\n",
       "                             nbb_cells[i].set_text(nbb_formatted_code);\n",
       "                        }\n",
       "                        break;\n",
       "                    }\n",
       "                }\n",
       "            }, 500);\n",
       "            "
      ],
      "text/plain": [
       "<IPython.core.display.Javascript object>"
      ]
     },
     "metadata": {},
     "output_type": "display_data"
    },
    {
     "data": {
      "application/javascript": [
       "\n",
       "            setTimeout(function() {\n",
       "                var nbb_cell_id = 122;\n",
       "                var nbb_unformatted_code = \"bagging_model_test_perf = model_performance_classification_sklearn(\\n    bagging, X_test, y_test\\n)\\nprint(\\\"Testing performance \\\\n\\\", bagging_model_test_perf)\";\n",
       "                var nbb_formatted_code = \"bagging_model_test_perf = model_performance_classification_sklearn(\\n    bagging, X_test, y_test\\n)\\nprint(\\\"Testing performance \\\\n\\\", bagging_model_test_perf)\";\n",
       "                var nbb_cells = Jupyter.notebook.get_cells();\n",
       "                for (var i = 0; i < nbb_cells.length; ++i) {\n",
       "                    if (nbb_cells[i].input_prompt_number == nbb_cell_id) {\n",
       "                        if (nbb_cells[i].get_text() == nbb_unformatted_code) {\n",
       "                             nbb_cells[i].set_text(nbb_formatted_code);\n",
       "                        }\n",
       "                        break;\n",
       "                    }\n",
       "                }\n",
       "            }, 500);\n",
       "            "
      ],
      "text/plain": [
       "<IPython.core.display.Javascript object>"
      ]
     },
     "metadata": {},
     "output_type": "display_data"
    }
   ],
   "source": [
    "bagging_model_test_perf = model_performance_classification_sklearn(\n",
    "    bagging, X_test, y_test\n",
    ")\n",
    "print(\"Testing performance \\n\", bagging_model_test_perf)"
   ]
  },
  {
   "cell_type": "markdown",
   "id": "38ed6e9d",
   "metadata": {},
   "source": [
    "**The bagging model suffers from overfitting since it is giving nearly 100% accuracy , recall, precision and F1 on training set but underperforming on testing set**"
   ]
  },
  {
   "cell_type": "markdown",
   "id": "a8906018",
   "metadata": {},
   "source": [
    "### Hyperparameter Tuning - Bagging"
   ]
  },
  {
   "cell_type": "code",
   "execution_count": 109,
   "id": "d356be1b",
   "metadata": {},
   "outputs": [
    {
     "data": {
      "text/plain": [
       "BaggingClassifier(max_features=0.7, max_samples=0.7, n_estimators=90,\n",
       "                  random_state=1)"
      ]
     },
     "execution_count": 109,
     "metadata": {},
     "output_type": "execute_result"
    },
    {
     "data": {
      "application/javascript": [
       "\n",
       "            setTimeout(function() {\n",
       "                var nbb_cell_id = 109;\n",
       "                var nbb_unformatted_code = \"# grid search for bagging classifier\\ncl1 = DecisionTreeClassifier(random_state=1, class_weight=\\\"balanced\\\")\\n\\nparameters = {\\n    \\\"max_samples\\\": [0.7, 0.9],\\n    \\\"max_features\\\": [0.7, 0.9],\\n    \\\"n_estimators\\\": np.arange(90, 111, 10),\\n}\\n\\n# Type of scoring used to compare parameter combinations\\nacc_scorer = metrics.make_scorer(metrics.f1_score)\\n\\n\\ngrid = GridSearchCV(BaggingClassifier(random_state=1,bootstrap=True), param_grid=parameters, scoring = acc_scorer, cv = 5)\\n\\ngrid.fit(X_train, y_train)\\n## getting the best estimator\\nbagging_estimator  = grid.best_estimator_\\nbagging_estimator.fit(X_train,y_train)\";\n",
       "                var nbb_formatted_code = \"# grid search for bagging classifier\\ncl1 = DecisionTreeClassifier(random_state=1, class_weight=\\\"balanced\\\")\\n\\nparameters = {\\n    \\\"max_samples\\\": [0.7, 0.9],\\n    \\\"max_features\\\": [0.7, 0.9],\\n    \\\"n_estimators\\\": np.arange(90, 111, 10),\\n}\\n\\n# Type of scoring used to compare parameter combinations\\nacc_scorer = metrics.make_scorer(metrics.f1_score)\\n\\n\\ngrid = GridSearchCV(\\n    BaggingClassifier(random_state=1, bootstrap=True),\\n    param_grid=parameters,\\n    scoring=acc_scorer,\\n    cv=5,\\n)\\n\\ngrid.fit(X_train, y_train)\\n## getting the best estimator\\nbagging_estimator = grid.best_estimator_\\nbagging_estimator.fit(X_train, y_train)\";\n",
       "                var nbb_cells = Jupyter.notebook.get_cells();\n",
       "                for (var i = 0; i < nbb_cells.length; ++i) {\n",
       "                    if (nbb_cells[i].input_prompt_number == nbb_cell_id) {\n",
       "                        if (nbb_cells[i].get_text() == nbb_unformatted_code) {\n",
       "                             nbb_cells[i].set_text(nbb_formatted_code);\n",
       "                        }\n",
       "                        break;\n",
       "                    }\n",
       "                }\n",
       "            }, 500);\n",
       "            "
      ],
      "text/plain": [
       "<IPython.core.display.Javascript object>"
      ]
     },
     "metadata": {},
     "output_type": "display_data"
    },
    {
     "data": {
      "application/javascript": [
       "\n",
       "            setTimeout(function() {\n",
       "                var nbb_cell_id = 109;\n",
       "                var nbb_unformatted_code = \"# grid search for bagging classifier\\ncl1 = DecisionTreeClassifier(random_state=1, class_weight=\\\"balanced\\\")\\n\\nparameters = {\\n    \\\"max_samples\\\": [0.7, 0.9],\\n    \\\"max_features\\\": [0.7, 0.9],\\n    \\\"n_estimators\\\": np.arange(90, 111, 10),\\n}\\n\\n# Type of scoring used to compare parameter combinations\\nacc_scorer = metrics.make_scorer(metrics.f1_score)\\n\\n\\ngrid = GridSearchCV(BaggingClassifier(random_state=1,bootstrap=True), param_grid=parameters, scoring = acc_scorer, cv = 5)\\n\\ngrid.fit(X_train, y_train)\\n## getting the best estimator\\nbagging_estimator  = grid.best_estimator_\\nbagging_estimator.fit(X_train,y_train)\";\n",
       "                var nbb_formatted_code = \"# grid search for bagging classifier\\ncl1 = DecisionTreeClassifier(random_state=1, class_weight=\\\"balanced\\\")\\n\\nparameters = {\\n    \\\"max_samples\\\": [0.7, 0.9],\\n    \\\"max_features\\\": [0.7, 0.9],\\n    \\\"n_estimators\\\": np.arange(90, 111, 10),\\n}\\n\\n# Type of scoring used to compare parameter combinations\\nacc_scorer = metrics.make_scorer(metrics.f1_score)\\n\\n\\ngrid = GridSearchCV(\\n    BaggingClassifier(random_state=1, bootstrap=True),\\n    param_grid=parameters,\\n    scoring=acc_scorer,\\n    cv=5,\\n)\\n\\ngrid.fit(X_train, y_train)\\n## getting the best estimator\\nbagging_estimator = grid.best_estimator_\\nbagging_estimator.fit(X_train, y_train)\";\n",
       "                var nbb_cells = Jupyter.notebook.get_cells();\n",
       "                for (var i = 0; i < nbb_cells.length; ++i) {\n",
       "                    if (nbb_cells[i].input_prompt_number == nbb_cell_id) {\n",
       "                        if (nbb_cells[i].get_text() == nbb_unformatted_code) {\n",
       "                             nbb_cells[i].set_text(nbb_formatted_code);\n",
       "                        }\n",
       "                        break;\n",
       "                    }\n",
       "                }\n",
       "            }, 500);\n",
       "            "
      ],
      "text/plain": [
       "<IPython.core.display.Javascript object>"
      ]
     },
     "metadata": {},
     "output_type": "display_data"
    }
   ],
   "source": [
    "# grid search for bagging classifier\n",
    "cl1 = DecisionTreeClassifier(random_state=1, class_weight=\"balanced\")\n",
    "\n",
    "parameters = {\n",
    "    \"max_samples\": [0.7, 0.9],\n",
    "    \"max_features\": [0.7, 0.9],\n",
    "    \"n_estimators\": np.arange(90, 111, 10),\n",
    "}\n",
    "\n",
    "# Type of scoring used to compare parameter combinations\n",
    "acc_scorer = metrics.make_scorer(metrics.f1_score)\n",
    "\n",
    "\n",
    "grid = GridSearchCV(BaggingClassifier(random_state=1,bootstrap=True), param_grid=parameters, scoring = acc_scorer, cv = 5)\n",
    "\n",
    "grid.fit(X_train, y_train)\n",
    "## getting the best estimator\n",
    "bagging_estimator  = grid.best_estimator_\n",
    "bagging_estimator.fit(X_train,y_train)\n"
   ]
  },
  {
   "cell_type": "markdown",
   "id": "b26a2fed",
   "metadata": {},
   "source": [
    "**Confusion matrix of the tuned model on testing data**"
   ]
  },
  {
   "cell_type": "code",
   "execution_count": 110,
   "id": "79d13da3",
   "metadata": {
    "scrolled": true
   },
   "outputs": [
    {
     "data": {
      "image/png": "[encoded data removed]",
      "text/plain": [
       "<Figure size 432x288 with 2 Axes>"
      ]
     },
     "metadata": {
      "needs_background": "light"
     },
     "output_type": "display_data"
    },
    {
     "data": {
      "application/javascript": [
       "\n",
       "            setTimeout(function() {\n",
       "                var nbb_cell_id = 110;\n",
       "                var nbb_unformatted_code = \"confusion_matrix_sklearn(bagging_estimator, X_test, y_test)\";\n",
       "                var nbb_formatted_code = \"confusion_matrix_sklearn(bagging_estimator, X_test, y_test)\";\n",
       "                var nbb_cells = Jupyter.notebook.get_cells();\n",
       "                for (var i = 0; i < nbb_cells.length; ++i) {\n",
       "                    if (nbb_cells[i].input_prompt_number == nbb_cell_id) {\n",
       "                        if (nbb_cells[i].get_text() == nbb_unformatted_code) {\n",
       "                             nbb_cells[i].set_text(nbb_formatted_code);\n",
       "                        }\n",
       "                        break;\n",
       "                    }\n",
       "                }\n",
       "            }, 500);\n",
       "            "
      ],
      "text/plain": [
       "<IPython.core.display.Javascript object>"
      ]
     },
     "metadata": {},
     "output_type": "display_data"
    },
    {
     "data": {
      "application/javascript": [
       "\n",
       "            setTimeout(function() {\n",
       "                var nbb_cell_id = 110;\n",
       "                var nbb_unformatted_code = \"confusion_matrix_sklearn(bagging_estimator, X_test, y_test)\";\n",
       "                var nbb_formatted_code = \"confusion_matrix_sklearn(bagging_estimator, X_test, y_test)\";\n",
       "                var nbb_cells = Jupyter.notebook.get_cells();\n",
       "                for (var i = 0; i < nbb_cells.length; ++i) {\n",
       "                    if (nbb_cells[i].input_prompt_number == nbb_cell_id) {\n",
       "                        if (nbb_cells[i].get_text() == nbb_unformatted_code) {\n",
       "                             nbb_cells[i].set_text(nbb_formatted_code);\n",
       "                        }\n",
       "                        break;\n",
       "                    }\n",
       "                }\n",
       "            }, 500);\n",
       "            "
      ],
      "text/plain": [
       "<IPython.core.display.Javascript object>"
      ]
     },
     "metadata": {},
     "output_type": "display_data"
    }
   ],
   "source": [
    "confusion_matrix_sklearn(bagging_estimator, X_test, y_test)"
   ]
  },
  {
   "cell_type": "markdown",
   "id": "6ddf9a52",
   "metadata": {},
   "source": [
    "**Model performance on training set**"
   ]
  },
  {
   "cell_type": "code",
   "execution_count": 111,
   "id": "10370899",
   "metadata": {},
   "outputs": [
    {
     "name": "stdout",
     "output_type": "stream",
     "text": [
      "Training performance \n",
      "    Accuracy    Recall  Precision       F1\n",
      "0  0.941747  0.989507   0.928043  0.95779\n"
     ]
    },
    {
     "data": {
      "application/javascript": [
       "\n",
       "            setTimeout(function() {\n",
       "                var nbb_cell_id = 111;\n",
       "                var nbb_unformatted_code = \"bagging_estimator_tuned_model_train_perf = model_performance_classification_sklearn(\\n    bagging_estimator, X_train, y_train\\n)\\nprint(\\\"Training performance \\\\n\\\", bagging_estimator_tuned_model_train_perf)\";\n",
       "                var nbb_formatted_code = \"bagging_estimator_tuned_model_train_perf = model_performance_classification_sklearn(\\n    bagging_estimator, X_train, y_train\\n)\\nprint(\\\"Training performance \\\\n\\\", bagging_estimator_tuned_model_train_perf)\";\n",
       "                var nbb_cells = Jupyter.notebook.get_cells();\n",
       "                for (var i = 0; i < nbb_cells.length; ++i) {\n",
       "                    if (nbb_cells[i].input_prompt_number == nbb_cell_id) {\n",
       "                        if (nbb_cells[i].get_text() == nbb_unformatted_code) {\n",
       "                             nbb_cells[i].set_text(nbb_formatted_code);\n",
       "                        }\n",
       "                        break;\n",
       "                    }\n",
       "                }\n",
       "            }, 500);\n",
       "            "
      ],
      "text/plain": [
       "<IPython.core.display.Javascript object>"
      ]
     },
     "metadata": {},
     "output_type": "display_data"
    },
    {
     "data": {
      "application/javascript": [
       "\n",
       "            setTimeout(function() {\n",
       "                var nbb_cell_id = 111;\n",
       "                var nbb_unformatted_code = \"bagging_estimator_tuned_model_train_perf = model_performance_classification_sklearn(\\n    bagging_estimator, X_train, y_train\\n)\\nprint(\\\"Training performance \\\\n\\\", bagging_estimator_tuned_model_train_perf)\";\n",
       "                var nbb_formatted_code = \"bagging_estimator_tuned_model_train_perf = model_performance_classification_sklearn(\\n    bagging_estimator, X_train, y_train\\n)\\nprint(\\\"Training performance \\\\n\\\", bagging_estimator_tuned_model_train_perf)\";\n",
       "                var nbb_cells = Jupyter.notebook.get_cells();\n",
       "                for (var i = 0; i < nbb_cells.length; ++i) {\n",
       "                    if (nbb_cells[i].input_prompt_number == nbb_cell_id) {\n",
       "                        if (nbb_cells[i].get_text() == nbb_unformatted_code) {\n",
       "                             nbb_cells[i].set_text(nbb_formatted_code);\n",
       "                        }\n",
       "                        break;\n",
       "                    }\n",
       "                }\n",
       "            }, 500);\n",
       "            "
      ],
      "text/plain": [
       "<IPython.core.display.Javascript object>"
      ]
     },
     "metadata": {},
     "output_type": "display_data"
    }
   ],
   "source": [
    "bagging_estimator_tuned_model_train_perf = model_performance_classification_sklearn(\n",
    "    bagging_estimator, X_train, y_train\n",
    ")\n",
    "print(\"Training performance \\n\", bagging_estimator_tuned_model_train_perf)"
   ]
  },
  {
   "cell_type": "markdown",
   "id": "f57b91ea",
   "metadata": {},
   "source": [
    "**Model performance on testing set**"
   ]
  },
  {
   "cell_type": "code",
   "execution_count": 121,
   "id": "5cd0f982",
   "metadata": {},
   "outputs": [
    {
     "name": "stdout",
     "output_type": "stream",
     "text": [
      "Testing performance \n",
      "    Accuracy    Recall  Precision        F1\n",
      "0  0.717818  0.854652   0.755106  0.801801\n"
     ]
    },
    {
     "data": {
      "application/javascript": [
       "\n",
       "            setTimeout(function() {\n",
       "                var nbb_cell_id = 121;\n",
       "                var nbb_unformatted_code = \"bagging_estimator_tuned_model_test_perf = model_performance_classification_sklearn(\\n    bagging_estimator, X_test, y_test\\n)\\nprint(\\\"Testing performance \\\\n\\\", bagging_estimator_tuned_model_test_perf)\";\n",
       "                var nbb_formatted_code = \"bagging_estimator_tuned_model_test_perf = model_performance_classification_sklearn(\\n    bagging_estimator, X_test, y_test\\n)\\nprint(\\\"Testing performance \\\\n\\\", bagging_estimator_tuned_model_test_perf)\";\n",
       "                var nbb_cells = Jupyter.notebook.get_cells();\n",
       "                for (var i = 0; i < nbb_cells.length; ++i) {\n",
       "                    if (nbb_cells[i].input_prompt_number == nbb_cell_id) {\n",
       "                        if (nbb_cells[i].get_text() == nbb_unformatted_code) {\n",
       "                             nbb_cells[i].set_text(nbb_formatted_code);\n",
       "                        }\n",
       "                        break;\n",
       "                    }\n",
       "                }\n",
       "            }, 500);\n",
       "            "
      ],
      "text/plain": [
       "<IPython.core.display.Javascript object>"
      ]
     },
     "metadata": {},
     "output_type": "display_data"
    },
    {
     "data": {
      "application/javascript": [
       "\n",
       "            setTimeout(function() {\n",
       "                var nbb_cell_id = 121;\n",
       "                var nbb_unformatted_code = \"bagging_estimator_tuned_model_test_perf = model_performance_classification_sklearn(\\n    bagging_estimator, X_test, y_test\\n)\\nprint(\\\"Testing performance \\\\n\\\", bagging_estimator_tuned_model_test_perf)\";\n",
       "                var nbb_formatted_code = \"bagging_estimator_tuned_model_test_perf = model_performance_classification_sklearn(\\n    bagging_estimator, X_test, y_test\\n)\\nprint(\\\"Testing performance \\\\n\\\", bagging_estimator_tuned_model_test_perf)\";\n",
       "                var nbb_cells = Jupyter.notebook.get_cells();\n",
       "                for (var i = 0; i < nbb_cells.length; ++i) {\n",
       "                    if (nbb_cells[i].input_prompt_number == nbb_cell_id) {\n",
       "                        if (nbb_cells[i].get_text() == nbb_unformatted_code) {\n",
       "                             nbb_cells[i].set_text(nbb_formatted_code);\n",
       "                        }\n",
       "                        break;\n",
       "                    }\n",
       "                }\n",
       "            }, 500);\n",
       "            "
      ],
      "text/plain": [
       "<IPython.core.display.Javascript object>"
      ]
     },
     "metadata": {},
     "output_type": "display_data"
    }
   ],
   "source": [
    "bagging_estimator_tuned_model_test_perf = model_performance_classification_sklearn(\n",
    "    bagging_estimator, X_test, y_test\n",
    ")\n",
    "print(\"Testing performance \\n\", bagging_estimator_tuned_model_test_perf)"
   ]
  },
  {
   "cell_type": "markdown",
   "id": "84240f79",
   "metadata": {},
   "source": [
    "**Overfitting has slightly reduced but still F1 score is low on testing set**"
   ]
  },
  {
   "cell_type": "markdown",
   "id": "97378b32",
   "metadata": {},
   "source": [
    "### Random Forest"
   ]
  },
  {
   "cell_type": "code",
   "execution_count": 113,
   "id": "74193dd4",
   "metadata": {},
   "outputs": [
    {
     "data": {
      "text/plain": [
       "RandomForestClassifier(random_state=1)"
      ]
     },
     "execution_count": 113,
     "metadata": {},
     "output_type": "execute_result"
    },
    {
     "data": {
      "application/javascript": [
       "\n",
       "            setTimeout(function() {\n",
       "                var nbb_cell_id = 113;\n",
       "                var nbb_unformatted_code = \"rf = RandomForestClassifier(random_state=1)\\nrf.fit(X_train,y_train)\";\n",
       "                var nbb_formatted_code = \"rf = RandomForestClassifier(random_state=1)\\nrf.fit(X_train, y_train)\";\n",
       "                var nbb_cells = Jupyter.notebook.get_cells();\n",
       "                for (var i = 0; i < nbb_cells.length; ++i) {\n",
       "                    if (nbb_cells[i].input_prompt_number == nbb_cell_id) {\n",
       "                        if (nbb_cells[i].get_text() == nbb_unformatted_code) {\n",
       "                             nbb_cells[i].set_text(nbb_formatted_code);\n",
       "                        }\n",
       "                        break;\n",
       "                    }\n",
       "                }\n",
       "            }, 500);\n",
       "            "
      ],
      "text/plain": [
       "<IPython.core.display.Javascript object>"
      ]
     },
     "metadata": {},
     "output_type": "display_data"
    },
    {
     "data": {
      "application/javascript": [
       "\n",
       "            setTimeout(function() {\n",
       "                var nbb_cell_id = 113;\n",
       "                var nbb_unformatted_code = \"rf = RandomForestClassifier(random_state=1)\\nrf.fit(X_train,y_train)\";\n",
       "                var nbb_formatted_code = \"rf = RandomForestClassifier(random_state=1)\\nrf.fit(X_train, y_train)\";\n",
       "                var nbb_cells = Jupyter.notebook.get_cells();\n",
       "                for (var i = 0; i < nbb_cells.length; ++i) {\n",
       "                    if (nbb_cells[i].input_prompt_number == nbb_cell_id) {\n",
       "                        if (nbb_cells[i].get_text() == nbb_unformatted_code) {\n",
       "                             nbb_cells[i].set_text(nbb_formatted_code);\n",
       "                        }\n",
       "                        break;\n",
       "                    }\n",
       "                }\n",
       "            }, 500);\n",
       "            "
      ],
      "text/plain": [
       "<IPython.core.display.Javascript object>"
      ]
     },
     "metadata": {},
     "output_type": "display_data"
    }
   ],
   "source": [
    "rf = RandomForestClassifier(random_state=1)\n",
    "rf.fit(X_train, y_train)"
   ]
  },
  {
   "cell_type": "code",
   "execution_count": 114,
   "id": "23ddf47c",
   "metadata": {},
   "outputs": [
    {
     "data": {
      "image/png": "[encoded data removed]",
      "text/plain": [
       "<Figure size 432x288 with 2 Axes>"
      ]
     },
     "metadata": {
      "needs_background": "light"
     },
     "output_type": "display_data"
    },
    {
     "data": {
      "application/javascript": [
       "\n",
       "            setTimeout(function() {\n",
       "                var nbb_cell_id = 114;\n",
       "                var nbb_unformatted_code = \"confusion_matrix_sklearn(rf,X_test,y_test)\";\n",
       "                var nbb_formatted_code = \"confusion_matrix_sklearn(rf, X_test, y_test)\";\n",
       "                var nbb_cells = Jupyter.notebook.get_cells();\n",
       "                for (var i = 0; i < nbb_cells.length; ++i) {\n",
       "                    if (nbb_cells[i].input_prompt_number == nbb_cell_id) {\n",
       "                        if (nbb_cells[i].get_text() == nbb_unformatted_code) {\n",
       "                             nbb_cells[i].set_text(nbb_formatted_code);\n",
       "                        }\n",
       "                        break;\n",
       "                    }\n",
       "                }\n",
       "            }, 500);\n",
       "            "
      ],
      "text/plain": [
       "<IPython.core.display.Javascript object>"
      ]
     },
     "metadata": {},
     "output_type": "display_data"
    },
    {
     "data": {
      "application/javascript": [
       "\n",
       "            setTimeout(function() {\n",
       "                var nbb_cell_id = 114;\n",
       "                var nbb_unformatted_code = \"confusion_matrix_sklearn(rf,X_test,y_test)\";\n",
       "                var nbb_formatted_code = \"confusion_matrix_sklearn(rf, X_test, y_test)\";\n",
       "                var nbb_cells = Jupyter.notebook.get_cells();\n",
       "                for (var i = 0; i < nbb_cells.length; ++i) {\n",
       "                    if (nbb_cells[i].input_prompt_number == nbb_cell_id) {\n",
       "                        if (nbb_cells[i].get_text() == nbb_unformatted_code) {\n",
       "                             nbb_cells[i].set_text(nbb_formatted_code);\n",
       "                        }\n",
       "                        break;\n",
       "                    }\n",
       "                }\n",
       "            }, 500);\n",
       "            "
      ],
      "text/plain": [
       "<IPython.core.display.Javascript object>"
      ]
     },
     "metadata": {},
     "output_type": "display_data"
    }
   ],
   "source": [
    "confusion_matrix_sklearn(rf, X_test, y_test)"
   ]
  },
  {
   "cell_type": "code",
   "execution_count": 115,
   "id": "9e82157a",
   "metadata": {},
   "outputs": [
    {
     "name": "stdout",
     "output_type": "stream",
     "text": [
      "Training performance \n",
      "    Accuracy    Recall  Precision        F1\n",
      "0  0.999776  0.999916   0.999748  0.999832\n"
     ]
    },
    {
     "data": {
      "application/javascript": [
       "\n",
       "            setTimeout(function() {\n",
       "                var nbb_cell_id = 115;\n",
       "                var nbb_unformatted_code = \"rf_model_train_perf=model_performance_classification_sklearn(rf,X_train,y_train)\\nprint(\\\"Training performance \\\\n\\\",rf_model_train_perf)\";\n",
       "                var nbb_formatted_code = \"rf_model_train_perf = model_performance_classification_sklearn(rf, X_train, y_train)\\nprint(\\\"Training performance \\\\n\\\", rf_model_train_perf)\";\n",
       "                var nbb_cells = Jupyter.notebook.get_cells();\n",
       "                for (var i = 0; i < nbb_cells.length; ++i) {\n",
       "                    if (nbb_cells[i].input_prompt_number == nbb_cell_id) {\n",
       "                        if (nbb_cells[i].get_text() == nbb_unformatted_code) {\n",
       "                             nbb_cells[i].set_text(nbb_formatted_code);\n",
       "                        }\n",
       "                        break;\n",
       "                    }\n",
       "                }\n",
       "            }, 500);\n",
       "            "
      ],
      "text/plain": [
       "<IPython.core.display.Javascript object>"
      ]
     },
     "metadata": {},
     "output_type": "display_data"
    },
    {
     "data": {
      "application/javascript": [
       "\n",
       "            setTimeout(function() {\n",
       "                var nbb_cell_id = 115;\n",
       "                var nbb_unformatted_code = \"rf_model_train_perf=model_performance_classification_sklearn(rf,X_train,y_train)\\nprint(\\\"Training performance \\\\n\\\",rf_model_train_perf)\";\n",
       "                var nbb_formatted_code = \"rf_model_train_perf = model_performance_classification_sklearn(rf, X_train, y_train)\\nprint(\\\"Training performance \\\\n\\\", rf_model_train_perf)\";\n",
       "                var nbb_cells = Jupyter.notebook.get_cells();\n",
       "                for (var i = 0; i < nbb_cells.length; ++i) {\n",
       "                    if (nbb_cells[i].input_prompt_number == nbb_cell_id) {\n",
       "                        if (nbb_cells[i].get_text() == nbb_unformatted_code) {\n",
       "                             nbb_cells[i].set_text(nbb_formatted_code);\n",
       "                        }\n",
       "                        break;\n",
       "                    }\n",
       "                }\n",
       "            }, 500);\n",
       "            "
      ],
      "text/plain": [
       "<IPython.core.display.Javascript object>"
      ]
     },
     "metadata": {},
     "output_type": "display_data"
    }
   ],
   "source": [
    "rf_model_train_perf = model_performance_classification_sklearn(rf, X_train, y_train)\n",
    "print(\"Training performance \\n\", rf_model_train_perf)"
   ]
  },
  {
   "cell_type": "code",
   "execution_count": 116,
   "id": "12966621",
   "metadata": {},
   "outputs": [
    {
     "name": "stdout",
     "output_type": "stream",
     "text": [
      "Testing performance \n",
      "    Accuracy    Recall  Precision        F1\n",
      "0   0.66235  0.750637   0.745525  0.748072\n"
     ]
    },
    {
     "data": {
      "application/javascript": [
       "\n",
       "            setTimeout(function() {\n",
       "                var nbb_cell_id = 116;\n",
       "                var nbb_unformatted_code = \"rf_model_test_perf=model_performance_classification_sklearn(rf,X_test,y_test)\\nprint(\\\"Testing performance \\\\n\\\",rf_model_test_perf)\";\n",
       "                var nbb_formatted_code = \"rf_model_test_perf = model_performance_classification_sklearn(rf, X_test, y_test)\\nprint(\\\"Testing performance \\\\n\\\", rf_model_test_perf)\";\n",
       "                var nbb_cells = Jupyter.notebook.get_cells();\n",
       "                for (var i = 0; i < nbb_cells.length; ++i) {\n",
       "                    if (nbb_cells[i].input_prompt_number == nbb_cell_id) {\n",
       "                        if (nbb_cells[i].get_text() == nbb_unformatted_code) {\n",
       "                             nbb_cells[i].set_text(nbb_formatted_code);\n",
       "                        }\n",
       "                        break;\n",
       "                    }\n",
       "                }\n",
       "            }, 500);\n",
       "            "
      ],
      "text/plain": [
       "<IPython.core.display.Javascript object>"
      ]
     },
     "metadata": {},
     "output_type": "display_data"
    },
    {
     "data": {
      "application/javascript": [
       "\n",
       "            setTimeout(function() {\n",
       "                var nbb_cell_id = 116;\n",
       "                var nbb_unformatted_code = \"rf_model_test_perf=model_performance_classification_sklearn(rf,X_test,y_test)\\nprint(\\\"Testing performance \\\\n\\\",rf_model_test_perf)\";\n",
       "                var nbb_formatted_code = \"rf_model_test_perf = model_performance_classification_sklearn(rf, X_test, y_test)\\nprint(\\\"Testing performance \\\\n\\\", rf_model_test_perf)\";\n",
       "                var nbb_cells = Jupyter.notebook.get_cells();\n",
       "                for (var i = 0; i < nbb_cells.length; ++i) {\n",
       "                    if (nbb_cells[i].input_prompt_number == nbb_cell_id) {\n",
       "                        if (nbb_cells[i].get_text() == nbb_unformatted_code) {\n",
       "                             nbb_cells[i].set_text(nbb_formatted_code);\n",
       "                        }\n",
       "                        break;\n",
       "                    }\n",
       "                }\n",
       "            }, 500);\n",
       "            "
      ],
      "text/plain": [
       "<IPython.core.display.Javascript object>"
      ]
     },
     "metadata": {},
     "output_type": "display_data"
    }
   ],
   "source": [
    "rf_model_test_perf = model_performance_classification_sklearn(rf, X_test, y_test)\n",
    "print(\"Testing performance \\n\", rf_model_test_perf)"
   ]
  },
  {
   "cell_type": "markdown",
   "id": "12119fc7",
   "metadata": {},
   "source": [
    "**Random Forest is not able to generalize well on the test data**"
   ]
  },
  {
   "cell_type": "markdown",
   "id": "93545d75",
   "metadata": {},
   "source": [
    "### Hyperparameter Tuning - Random Forest"
   ]
  },
  {
   "cell_type": "code",
   "execution_count": 117,
   "id": "fd059bbf",
   "metadata": {},
   "outputs": [
    {
     "data": {
      "text/plain": [
       "RandomForestClassifier(max_depth=10, max_features='log2', min_samples_split=7,\n",
       "                       n_estimators=25, random_state=1)"
      ]
     },
     "execution_count": 117,
     "metadata": {},
     "output_type": "execute_result"
    },
    {
     "data": {
      "application/javascript": [
       "\n",
       "            setTimeout(function() {\n",
       "                var nbb_cell_id = 117;\n",
       "                var nbb_unformatted_code = \"# Choose the type of classifier. \\nrf_estimator = RandomForestClassifier(random_state=1)\\n\\n# Grid of parameters to choose from\\nparameters = {\\n    \\\"max_depth\\\": list(np.arange(5, 15, 5)),\\n    \\\"max_features\\\": [\\\"sqrt\\\", \\\"log2\\\"],\\n    \\\"min_samples_split\\\": [5, 7],\\n    \\\"n_estimators\\\": np.arange(15, 26, 5),\\n}\\n\\n# Type of scoring used to compare parameter combinations\\nacc_scorer = make_scorer(f1_score)\\n\\n# Run the grid search\\ngrid_obj = GridSearchCV(rf_estimator, parameters, scoring=acc_scorer,cv=5)\\ngrid_obj = grid_obj.fit(X_train, y_train)\\n\\n# Set the clf to the best combination of parameters\\nrf_estimator = grid_obj.best_estimator_\\n\\n# Fit the best algorithm to the data. \\nrf_estimator.fit(X_train, y_train)\";\n",
       "                var nbb_formatted_code = \"# Choose the type of classifier.\\nrf_estimator = RandomForestClassifier(random_state=1)\\n\\n# Grid of parameters to choose from\\nparameters = {\\n    \\\"max_depth\\\": list(np.arange(5, 15, 5)),\\n    \\\"max_features\\\": [\\\"sqrt\\\", \\\"log2\\\"],\\n    \\\"min_samples_split\\\": [5, 7],\\n    \\\"n_estimators\\\": np.arange(15, 26, 5),\\n}\\n\\n# Type of scoring used to compare parameter combinations\\nacc_scorer = make_scorer(f1_score)\\n\\n# Run the grid search\\ngrid_obj = GridSearchCV(rf_estimator, parameters, scoring=acc_scorer, cv=5)\\ngrid_obj = grid_obj.fit(X_train, y_train)\\n\\n# Set the clf to the best combination of parameters\\nrf_estimator = grid_obj.best_estimator_\\n\\n# Fit the best algorithm to the data.\\nrf_estimator.fit(X_train, y_train)\";\n",
       "                var nbb_cells = Jupyter.notebook.get_cells();\n",
       "                for (var i = 0; i < nbb_cells.length; ++i) {\n",
       "                    if (nbb_cells[i].input_prompt_number == nbb_cell_id) {\n",
       "                        if (nbb_cells[i].get_text() == nbb_unformatted_code) {\n",
       "                             nbb_cells[i].set_text(nbb_formatted_code);\n",
       "                        }\n",
       "                        break;\n",
       "                    }\n",
       "                }\n",
       "            }, 500);\n",
       "            "
      ],
      "text/plain": [
       "<IPython.core.display.Javascript object>"
      ]
     },
     "metadata": {},
     "output_type": "display_data"
    },
    {
     "data": {
      "application/javascript": [
       "\n",
       "            setTimeout(function() {\n",
       "                var nbb_cell_id = 117;\n",
       "                var nbb_unformatted_code = \"# Choose the type of classifier. \\nrf_estimator = RandomForestClassifier(random_state=1)\\n\\n# Grid of parameters to choose from\\nparameters = {\\n    \\\"max_depth\\\": list(np.arange(5, 15, 5)),\\n    \\\"max_features\\\": [\\\"sqrt\\\", \\\"log2\\\"],\\n    \\\"min_samples_split\\\": [5, 7],\\n    \\\"n_estimators\\\": np.arange(15, 26, 5),\\n}\\n\\n# Type of scoring used to compare parameter combinations\\nacc_scorer = make_scorer(f1_score)\\n\\n# Run the grid search\\ngrid_obj = GridSearchCV(rf_estimator, parameters, scoring=acc_scorer,cv=5)\\ngrid_obj = grid_obj.fit(X_train, y_train)\\n\\n# Set the clf to the best combination of parameters\\nrf_estimator = grid_obj.best_estimator_\\n\\n# Fit the best algorithm to the data. \\nrf_estimator.fit(X_train, y_train)\";\n",
       "                var nbb_formatted_code = \"# Choose the type of classifier.\\nrf_estimator = RandomForestClassifier(random_state=1)\\n\\n# Grid of parameters to choose from\\nparameters = {\\n    \\\"max_depth\\\": list(np.arange(5, 15, 5)),\\n    \\\"max_features\\\": [\\\"sqrt\\\", \\\"log2\\\"],\\n    \\\"min_samples_split\\\": [5, 7],\\n    \\\"n_estimators\\\": np.arange(15, 26, 5),\\n}\\n\\n# Type of scoring used to compare parameter combinations\\nacc_scorer = make_scorer(f1_score)\\n\\n# Run the grid search\\ngrid_obj = GridSearchCV(rf_estimator, parameters, scoring=acc_scorer, cv=5)\\ngrid_obj = grid_obj.fit(X_train, y_train)\\n\\n# Set the clf to the best combination of parameters\\nrf_estimator = grid_obj.best_estimator_\\n\\n# Fit the best algorithm to the data.\\nrf_estimator.fit(X_train, y_train)\";\n",
       "                var nbb_cells = Jupyter.notebook.get_cells();\n",
       "                for (var i = 0; i < nbb_cells.length; ++i) {\n",
       "                    if (nbb_cells[i].input_prompt_number == nbb_cell_id) {\n",
       "                        if (nbb_cells[i].get_text() == nbb_unformatted_code) {\n",
       "                             nbb_cells[i].set_text(nbb_formatted_code);\n",
       "                        }\n",
       "                        break;\n",
       "                    }\n",
       "                }\n",
       "            }, 500);\n",
       "            "
      ],
      "text/plain": [
       "<IPython.core.display.Javascript object>"
      ]
     },
     "metadata": {},
     "output_type": "display_data"
    }
   ],
   "source": [
    "# Choose the type of classifier.\n",
    "rf_estimator = RandomForestClassifier(random_state=1)\n",
    "\n",
    "# Grid of parameters to choose from\n",
    "parameters = {\n",
    "    \"max_depth\": list(np.arange(5, 15, 5)),\n",
    "    \"max_features\": [\"sqrt\", \"log2\"],\n",
    "    \"min_samples_split\": [5, 7],\n",
    "    \"n_estimators\": np.arange(15, 26, 5),\n",
    "}\n",
    "\n",
    "# Type of scoring used to compare parameter combinations\n",
    "acc_scorer = make_scorer(f1_score)\n",
    "\n",
    "# Run the grid search\n",
    "grid_obj = GridSearchCV(rf_estimator, parameters, scoring=acc_scorer, cv=5)\n",
    "grid_obj = grid_obj.fit(X_train, y_train)\n",
    "\n",
    "# Set the clf to the best combination of parameters\n",
    "rf_estimator = grid_obj.best_estimator_\n",
    "\n",
    "# Fit the best algorithm to the data.\n",
    "rf_estimator.fit(X_train, y_train)"
   ]
  },
  {
   "cell_type": "markdown",
   "id": "0bc94d5a",
   "metadata": {},
   "source": [
    "**Confusion matrix of the tuned model on testing data**"
   ]
  },
  {
   "cell_type": "code",
   "execution_count": 118,
   "id": "ba53ff71",
   "metadata": {
    "scrolled": true
   },
   "outputs": [
    {
     "data": {
      "image/png": "[encoded data removed]",
      "text/plain": [
       "<Figure size 432x288 with 2 Axes>"
      ]
     },
     "metadata": {
      "needs_background": "light"
     },
     "output_type": "display_data"
    },
    {
     "data": {
      "application/javascript": [
       "\n",
       "            setTimeout(function() {\n",
       "                var nbb_cell_id = 118;\n",
       "                var nbb_unformatted_code = \"confusion_matrix_sklearn(rf_estimator, X_test, y_test)\";\n",
       "                var nbb_formatted_code = \"confusion_matrix_sklearn(rf_estimator, X_test, y_test)\";\n",
       "                var nbb_cells = Jupyter.notebook.get_cells();\n",
       "                for (var i = 0; i < nbb_cells.length; ++i) {\n",
       "                    if (nbb_cells[i].input_prompt_number == nbb_cell_id) {\n",
       "                        if (nbb_cells[i].get_text() == nbb_unformatted_code) {\n",
       "                             nbb_cells[i].set_text(nbb_formatted_code);\n",
       "                        }\n",
       "                        break;\n",
       "                    }\n",
       "                }\n",
       "            }, 500);\n",
       "            "
      ],
      "text/plain": [
       "<IPython.core.display.Javascript object>"
      ]
     },
     "metadata": {},
     "output_type": "display_data"
    },
    {
     "data": {
      "application/javascript": [
       "\n",
       "            setTimeout(function() {\n",
       "                var nbb_cell_id = 118;\n",
       "                var nbb_unformatted_code = \"confusion_matrix_sklearn(rf_estimator, X_test, y_test)\";\n",
       "                var nbb_formatted_code = \"confusion_matrix_sklearn(rf_estimator, X_test, y_test)\";\n",
       "                var nbb_cells = Jupyter.notebook.get_cells();\n",
       "                for (var i = 0; i < nbb_cells.length; ++i) {\n",
       "                    if (nbb_cells[i].input_prompt_number == nbb_cell_id) {\n",
       "                        if (nbb_cells[i].get_text() == nbb_unformatted_code) {\n",
       "                             nbb_cells[i].set_text(nbb_formatted_code);\n",
       "                        }\n",
       "                        break;\n",
       "                    }\n",
       "                }\n",
       "            }, 500);\n",
       "            "
      ],
      "text/plain": [
       "<IPython.core.display.Javascript object>"
      ]
     },
     "metadata": {},
     "output_type": "display_data"
    }
   ],
   "source": [
    "confusion_matrix_sklearn(rf_estimator, X_test, y_test)"
   ]
  },
  {
   "cell_type": "markdown",
   "id": "acab154b",
   "metadata": {},
   "source": [
    "**Model performance on training set**"
   ]
  },
  {
   "cell_type": "code",
   "execution_count": 119,
   "id": "fa7df2cd",
   "metadata": {},
   "outputs": [
    {
     "name": "stdout",
     "output_type": "stream",
     "text": [
      "Training performance \n",
      "    Accuracy    Recall  Precision        F1\n",
      "0  0.766988  0.893058    0.78685  0.836597\n"
     ]
    },
    {
     "data": {
      "application/javascript": [
       "\n",
       "            setTimeout(function() {\n",
       "                var nbb_cell_id = 119;\n",
       "                var nbb_unformatted_code = \"rf_estimator_model_train_perf = model_performance_classification_sklearn(\\n    rf_estimator, X_train, y_train\\n)\\nprint(\\\"Training performance \\\\n\\\", rf_estimator_model_train_perf)\";\n",
       "                var nbb_formatted_code = \"rf_estimator_model_train_perf = model_performance_classification_sklearn(\\n    rf_estimator, X_train, y_train\\n)\\nprint(\\\"Training performance \\\\n\\\", rf_estimator_model_train_perf)\";\n",
       "                var nbb_cells = Jupyter.notebook.get_cells();\n",
       "                for (var i = 0; i < nbb_cells.length; ++i) {\n",
       "                    if (nbb_cells[i].input_prompt_number == nbb_cell_id) {\n",
       "                        if (nbb_cells[i].get_text() == nbb_unformatted_code) {\n",
       "                             nbb_cells[i].set_text(nbb_formatted_code);\n",
       "                        }\n",
       "                        break;\n",
       "                    }\n",
       "                }\n",
       "            }, 500);\n",
       "            "
      ],
      "text/plain": [
       "<IPython.core.display.Javascript object>"
      ]
     },
     "metadata": {},
     "output_type": "display_data"
    },
    {
     "data": {
      "application/javascript": [
       "\n",
       "            setTimeout(function() {\n",
       "                var nbb_cell_id = 119;\n",
       "                var nbb_unformatted_code = \"rf_estimator_model_train_perf = model_performance_classification_sklearn(\\n    rf_estimator, X_train, y_train\\n)\\nprint(\\\"Training performance \\\\n\\\", rf_estimator_model_train_perf)\";\n",
       "                var nbb_formatted_code = \"rf_estimator_model_train_perf = model_performance_classification_sklearn(\\n    rf_estimator, X_train, y_train\\n)\\nprint(\\\"Training performance \\\\n\\\", rf_estimator_model_train_perf)\";\n",
       "                var nbb_cells = Jupyter.notebook.get_cells();\n",
       "                for (var i = 0; i < nbb_cells.length; ++i) {\n",
       "                    if (nbb_cells[i].input_prompt_number == nbb_cell_id) {\n",
       "                        if (nbb_cells[i].get_text() == nbb_unformatted_code) {\n",
       "                             nbb_cells[i].set_text(nbb_formatted_code);\n",
       "                        }\n",
       "                        break;\n",
       "                    }\n",
       "                }\n",
       "            }, 500);\n",
       "            "
      ],
      "text/plain": [
       "<IPython.core.display.Javascript object>"
      ]
     },
     "metadata": {},
     "output_type": "display_data"
    }
   ],
   "source": [
    "rf_estimator_model_train_perf = model_performance_classification_sklearn(\n",
    "    rf_estimator, X_train, y_train\n",
    ")\n",
    "print(\"Training performance \\n\", rf_estimator_model_train_perf)"
   ]
  },
  {
   "cell_type": "markdown",
   "id": "23517961",
   "metadata": {},
   "source": [
    "**Model performance on testing set**"
   ]
  },
  {
   "cell_type": "code",
   "execution_count": 120,
   "id": "99d943fb",
   "metadata": {},
   "outputs": [
    {
     "name": "stdout",
     "output_type": "stream",
     "text": [
      "Testing performance \n",
      "    Accuracy    Recall  Precision        F1\n",
      "0  0.745945  0.880313   0.771502  0.822324\n"
     ]
    },
    {
     "data": {
      "application/javascript": [
       "\n",
       "            setTimeout(function() {\n",
       "                var nbb_cell_id = 120;\n",
       "                var nbb_unformatted_code = \"rf_estimator_model_test_perf = model_performance_classification_sklearn(\\n    rf_estimator, X_test, y_test\\n)\\nprint(\\\"Testing performance \\\\n\\\", rf_estimator_model_test_perf)\";\n",
       "                var nbb_formatted_code = \"rf_estimator_model_test_perf = model_performance_classification_sklearn(\\n    rf_estimator, X_test, y_test\\n)\\nprint(\\\"Testing performance \\\\n\\\", rf_estimator_model_test_perf)\";\n",
       "                var nbb_cells = Jupyter.notebook.get_cells();\n",
       "                for (var i = 0; i < nbb_cells.length; ++i) {\n",
       "                    if (nbb_cells[i].input_prompt_number == nbb_cell_id) {\n",
       "                        if (nbb_cells[i].get_text() == nbb_unformatted_code) {\n",
       "                             nbb_cells[i].set_text(nbb_formatted_code);\n",
       "                        }\n",
       "                        break;\n",
       "                    }\n",
       "                }\n",
       "            }, 500);\n",
       "            "
      ],
      "text/plain": [
       "<IPython.core.display.Javascript object>"
      ]
     },
     "metadata": {},
     "output_type": "display_data"
    },
    {
     "data": {
      "application/javascript": [
       "\n",
       "            setTimeout(function() {\n",
       "                var nbb_cell_id = 120;\n",
       "                var nbb_unformatted_code = \"rf_estimator_model_test_perf = model_performance_classification_sklearn(\\n    rf_estimator, X_test, y_test\\n)\\nprint(\\\"Testing performance \\\\n\\\", rf_estimator_model_test_perf)\";\n",
       "                var nbb_formatted_code = \"rf_estimator_model_test_perf = model_performance_classification_sklearn(\\n    rf_estimator, X_test, y_test\\n)\\nprint(\\\"Testing performance \\\\n\\\", rf_estimator_model_test_perf)\";\n",
       "                var nbb_cells = Jupyter.notebook.get_cells();\n",
       "                for (var i = 0; i < nbb_cells.length; ++i) {\n",
       "                    if (nbb_cells[i].input_prompt_number == nbb_cell_id) {\n",
       "                        if (nbb_cells[i].get_text() == nbb_unformatted_code) {\n",
       "                             nbb_cells[i].set_text(nbb_formatted_code);\n",
       "                        }\n",
       "                        break;\n",
       "                    }\n",
       "                }\n",
       "            }, 500);\n",
       "            "
      ],
      "text/plain": [
       "<IPython.core.display.Javascript object>"
      ]
     },
     "metadata": {},
     "output_type": "display_data"
    }
   ],
   "source": [
    "rf_estimator_model_test_perf = model_performance_classification_sklearn(\n",
    "    rf_estimator, X_test, y_test\n",
    ")\n",
    "print(\"Testing performance \\n\", rf_estimator_model_test_perf)"
   ]
  },
  {
   "cell_type": "markdown",
   "id": "fa3fbfbb",
   "metadata": {},
   "source": [
    "**The model is now performing consistently across training and testing data. The scores are nearly same for both the sets. Test set scores for tuned forest are better than the scores of original forest. F1 score has increased from 74% to 82%**"
   ]
  },
  {
   "cell_type": "markdown",
   "id": "9b73c6f2",
   "metadata": {},
   "source": [
    "### Boosting"
   ]
  },
  {
   "cell_type": "markdown",
   "id": "43e25c8c",
   "metadata": {},
   "source": [
    "### AdaBoost Classifier"
   ]
  },
  {
   "cell_type": "code",
   "execution_count": 125,
   "id": "0639f84b",
   "metadata": {},
   "outputs": [
    {
     "data": {
      "text/plain": [
       "AdaBoostClassifier(random_state=1)"
      ]
     },
     "execution_count": 125,
     "metadata": {},
     "output_type": "execute_result"
    },
    {
     "data": {
      "application/javascript": [
       "\n",
       "            setTimeout(function() {\n",
       "                var nbb_cell_id = 125;\n",
       "                var nbb_unformatted_code = \"abc = AdaBoostClassifier(random_state=1)\\nabc.fit(X_train,y_train)\";\n",
       "                var nbb_formatted_code = \"abc = AdaBoostClassifier(random_state=1)\\nabc.fit(X_train, y_train)\";\n",
       "                var nbb_cells = Jupyter.notebook.get_cells();\n",
       "                for (var i = 0; i < nbb_cells.length; ++i) {\n",
       "                    if (nbb_cells[i].input_prompt_number == nbb_cell_id) {\n",
       "                        if (nbb_cells[i].get_text() == nbb_unformatted_code) {\n",
       "                             nbb_cells[i].set_text(nbb_formatted_code);\n",
       "                        }\n",
       "                        break;\n",
       "                    }\n",
       "                }\n",
       "            }, 500);\n",
       "            "
      ],
      "text/plain": [
       "<IPython.core.display.Javascript object>"
      ]
     },
     "metadata": {},
     "output_type": "display_data"
    },
    {
     "data": {
      "application/javascript": [
       "\n",
       "            setTimeout(function() {\n",
       "                var nbb_cell_id = 125;\n",
       "                var nbb_unformatted_code = \"abc = AdaBoostClassifier(random_state=1)\\nabc.fit(X_train,y_train)\";\n",
       "                var nbb_formatted_code = \"abc = AdaBoostClassifier(random_state=1)\\nabc.fit(X_train, y_train)\";\n",
       "                var nbb_cells = Jupyter.notebook.get_cells();\n",
       "                for (var i = 0; i < nbb_cells.length; ++i) {\n",
       "                    if (nbb_cells[i].input_prompt_number == nbb_cell_id) {\n",
       "                        if (nbb_cells[i].get_text() == nbb_unformatted_code) {\n",
       "                             nbb_cells[i].set_text(nbb_formatted_code);\n",
       "                        }\n",
       "                        break;\n",
       "                    }\n",
       "                }\n",
       "            }, 500);\n",
       "            "
      ],
      "text/plain": [
       "<IPython.core.display.Javascript object>"
      ]
     },
     "metadata": {},
     "output_type": "display_data"
    }
   ],
   "source": [
    "abc = AdaBoostClassifier(random_state=1)\n",
    "abc.fit(X_train, y_train)"
   ]
  },
  {
   "cell_type": "code",
   "execution_count": 126,
   "id": "6da40431",
   "metadata": {},
   "outputs": [
    {
     "data": {
      "image/png": "[encoded data removed]",
      "text/plain": [
       "<Figure size 432x288 with 2 Axes>"
      ]
     },
     "metadata": {
      "needs_background": "light"
     },
     "output_type": "display_data"
    },
    {
     "data": {
      "application/javascript": [
       "\n",
       "            setTimeout(function() {\n",
       "                var nbb_cell_id = 126;\n",
       "                var nbb_unformatted_code = \"confusion_matrix_sklearn(abc, X_test, y_test)\";\n",
       "                var nbb_formatted_code = \"confusion_matrix_sklearn(abc, X_test, y_test)\";\n",
       "                var nbb_cells = Jupyter.notebook.get_cells();\n",
       "                for (var i = 0; i < nbb_cells.length; ++i) {\n",
       "                    if (nbb_cells[i].input_prompt_number == nbb_cell_id) {\n",
       "                        if (nbb_cells[i].get_text() == nbb_unformatted_code) {\n",
       "                             nbb_cells[i].set_text(nbb_formatted_code);\n",
       "                        }\n",
       "                        break;\n",
       "                    }\n",
       "                }\n",
       "            }, 500);\n",
       "            "
      ],
      "text/plain": [
       "<IPython.core.display.Javascript object>"
      ]
     },
     "metadata": {},
     "output_type": "display_data"
    },
    {
     "data": {
      "application/javascript": [
       "\n",
       "            setTimeout(function() {\n",
       "                var nbb_cell_id = 126;\n",
       "                var nbb_unformatted_code = \"confusion_matrix_sklearn(abc, X_test, y_test)\";\n",
       "                var nbb_formatted_code = \"confusion_matrix_sklearn(abc, X_test, y_test)\";\n",
       "                var nbb_cells = Jupyter.notebook.get_cells();\n",
       "                for (var i = 0; i < nbb_cells.length; ++i) {\n",
       "                    if (nbb_cells[i].input_prompt_number == nbb_cell_id) {\n",
       "                        if (nbb_cells[i].get_text() == nbb_unformatted_code) {\n",
       "                             nbb_cells[i].set_text(nbb_formatted_code);\n",
       "                        }\n",
       "                        break;\n",
       "                    }\n",
       "                }\n",
       "            }, 500);\n",
       "            "
      ],
      "text/plain": [
       "<IPython.core.display.Javascript object>"
      ]
     },
     "metadata": {},
     "output_type": "display_data"
    }
   ],
   "source": [
    "confusion_matrix_sklearn(abc, X_test, y_test)"
   ]
  },
  {
   "cell_type": "markdown",
   "id": "a89482e6",
   "metadata": {},
   "source": [
    "**Model performance on training set**"
   ]
  },
  {
   "cell_type": "code",
   "execution_count": 127,
   "id": "0c510f43",
   "metadata": {},
   "outputs": [
    {
     "name": "stdout",
     "output_type": "stream",
     "text": [
      "Training performance \n",
      "    Accuracy    Recall  Precision        F1\n",
      "0  0.738338  0.884748   0.761891  0.818736\n"
     ]
    },
    {
     "data": {
      "application/javascript": [
       "\n",
       "            setTimeout(function() {\n",
       "                var nbb_cell_id = 127;\n",
       "                var nbb_unformatted_code = \"ab_classifier_model_train_perf = model_performance_classification_sklearn(\\n    abc, X_train, y_train\\n)\\nprint(\\\"Training performance \\\\n\\\", ab_classifier_model_train_perf)\";\n",
       "                var nbb_formatted_code = \"ab_classifier_model_train_perf = model_performance_classification_sklearn(\\n    abc, X_train, y_train\\n)\\nprint(\\\"Training performance \\\\n\\\", ab_classifier_model_train_perf)\";\n",
       "                var nbb_cells = Jupyter.notebook.get_cells();\n",
       "                for (var i = 0; i < nbb_cells.length; ++i) {\n",
       "                    if (nbb_cells[i].input_prompt_number == nbb_cell_id) {\n",
       "                        if (nbb_cells[i].get_text() == nbb_unformatted_code) {\n",
       "                             nbb_cells[i].set_text(nbb_formatted_code);\n",
       "                        }\n",
       "                        break;\n",
       "                    }\n",
       "                }\n",
       "            }, 500);\n",
       "            "
      ],
      "text/plain": [
       "<IPython.core.display.Javascript object>"
      ]
     },
     "metadata": {},
     "output_type": "display_data"
    },
    {
     "data": {
      "application/javascript": [
       "\n",
       "            setTimeout(function() {\n",
       "                var nbb_cell_id = 127;\n",
       "                var nbb_unformatted_code = \"ab_classifier_model_train_perf = model_performance_classification_sklearn(\\n    abc, X_train, y_train\\n)\\nprint(\\\"Training performance \\\\n\\\", ab_classifier_model_train_perf)\";\n",
       "                var nbb_formatted_code = \"ab_classifier_model_train_perf = model_performance_classification_sklearn(\\n    abc, X_train, y_train\\n)\\nprint(\\\"Training performance \\\\n\\\", ab_classifier_model_train_perf)\";\n",
       "                var nbb_cells = Jupyter.notebook.get_cells();\n",
       "                for (var i = 0; i < nbb_cells.length; ++i) {\n",
       "                    if (nbb_cells[i].input_prompt_number == nbb_cell_id) {\n",
       "                        if (nbb_cells[i].get_text() == nbb_unformatted_code) {\n",
       "                             nbb_cells[i].set_text(nbb_formatted_code);\n",
       "                        }\n",
       "                        break;\n",
       "                    }\n",
       "                }\n",
       "            }, 500);\n",
       "            "
      ],
      "text/plain": [
       "<IPython.core.display.Javascript object>"
      ]
     },
     "metadata": {},
     "output_type": "display_data"
    }
   ],
   "source": [
    "ab_classifier_model_train_perf = model_performance_classification_sklearn(\n",
    "    abc, X_train, y_train\n",
    ")\n",
    "print(\"Training performance \\n\", ab_classifier_model_train_perf)"
   ]
  },
  {
   "cell_type": "markdown",
   "id": "3e6f6af7",
   "metadata": {},
   "source": [
    "**Model performance on testing set**"
   ]
  },
  {
   "cell_type": "code",
   "execution_count": 128,
   "id": "1f7b5fee",
   "metadata": {},
   "outputs": [
    {
     "name": "stdout",
     "output_type": "stream",
     "text": [
      "Testing performance \n",
      "    Accuracy    Recall  Precision        F1\n",
      "0  0.735348  0.883252   0.759602  0.816774\n"
     ]
    },
    {
     "data": {
      "application/javascript": [
       "\n",
       "            setTimeout(function() {\n",
       "                var nbb_cell_id = 128;\n",
       "                var nbb_unformatted_code = \"ab_classifier_model_test_perf = model_performance_classification_sklearn(\\n    abc, X_test, y_test\\n)\\nprint(\\\"Testing performance \\\\n\\\", ab_classifier_model_test_perf)\";\n",
       "                var nbb_formatted_code = \"ab_classifier_model_test_perf = model_performance_classification_sklearn(\\n    abc, X_test, y_test\\n)\\nprint(\\\"Testing performance \\\\n\\\", ab_classifier_model_test_perf)\";\n",
       "                var nbb_cells = Jupyter.notebook.get_cells();\n",
       "                for (var i = 0; i < nbb_cells.length; ++i) {\n",
       "                    if (nbb_cells[i].input_prompt_number == nbb_cell_id) {\n",
       "                        if (nbb_cells[i].get_text() == nbb_unformatted_code) {\n",
       "                             nbb_cells[i].set_text(nbb_formatted_code);\n",
       "                        }\n",
       "                        break;\n",
       "                    }\n",
       "                }\n",
       "            }, 500);\n",
       "            "
      ],
      "text/plain": [
       "<IPython.core.display.Javascript object>"
      ]
     },
     "metadata": {},
     "output_type": "display_data"
    },
    {
     "data": {
      "application/javascript": [
       "\n",
       "            setTimeout(function() {\n",
       "                var nbb_cell_id = 128;\n",
       "                var nbb_unformatted_code = \"ab_classifier_model_test_perf = model_performance_classification_sklearn(\\n    abc, X_test, y_test\\n)\\nprint(\\\"Testing performance \\\\n\\\", ab_classifier_model_test_perf)\";\n",
       "                var nbb_formatted_code = \"ab_classifier_model_test_perf = model_performance_classification_sklearn(\\n    abc, X_test, y_test\\n)\\nprint(\\\"Testing performance \\\\n\\\", ab_classifier_model_test_perf)\";\n",
       "                var nbb_cells = Jupyter.notebook.get_cells();\n",
       "                for (var i = 0; i < nbb_cells.length; ++i) {\n",
       "                    if (nbb_cells[i].input_prompt_number == nbb_cell_id) {\n",
       "                        if (nbb_cells[i].get_text() == nbb_unformatted_code) {\n",
       "                             nbb_cells[i].set_text(nbb_formatted_code);\n",
       "                        }\n",
       "                        break;\n",
       "                    }\n",
       "                }\n",
       "            }, 500);\n",
       "            "
      ],
      "text/plain": [
       "<IPython.core.display.Javascript object>"
      ]
     },
     "metadata": {},
     "output_type": "display_data"
    }
   ],
   "source": [
    "ab_classifier_model_test_perf = model_performance_classification_sklearn(\n",
    "    abc, X_test, y_test\n",
    ")\n",
    "print(\"Testing performance \\n\", ab_classifier_model_test_perf)"
   ]
  },
  {
   "cell_type": "markdown",
   "id": "4a66ca1e",
   "metadata": {},
   "source": [
    "**The model is performing consistently across training and testing data. The scores are nearly same for both the sets. However, F1 score is slightly low. let's see if this can be improved using hyperparameter tuning**"
   ]
  },
  {
   "cell_type": "markdown",
   "id": "cff8be1b",
   "metadata": {},
   "source": [
    "### Hyperparameter Tuning - AdaBoost Classifier"
   ]
  },
  {
   "cell_type": "code",
   "execution_count": 129,
   "id": "34c206b3",
   "metadata": {},
   "outputs": [
    {
     "data": {
      "text/plain": [
       "AdaBoostClassifier(base_estimator=DecisionTreeClassifier(class_weight='balanced',\n",
       "                                                         max_depth=1,\n",
       "                                                         random_state=1),\n",
       "                   learning_rate=0.1, n_estimators=100, random_state=1)"
      ]
     },
     "execution_count": 129,
     "metadata": {},
     "output_type": "execute_result"
    },
    {
     "data": {
      "application/javascript": [
       "\n",
       "            setTimeout(function() {\n",
       "                var nbb_cell_id = 129;\n",
       "                var nbb_unformatted_code = \"# Choose the type of classifier.\\nabc_tuned = AdaBoostClassifier(random_state=1)\\n\\n# Grid of parameters to choose from\\nparameters = {\\n    # Let's try different max_depth for base_estimator\\n    \\\"base_estimator\\\": [\\n        DecisionTreeClassifier(max_depth=1, class_weight=\\\"balanced\\\", random_state=1),\\n        DecisionTreeClassifier(max_depth=2, class_weight=\\\"balanced\\\", random_state=1),\\n    ],\\n    \\\"n_estimators\\\": np.arange(80, 101, 10),\\n    \\\"learning_rate\\\": np.arange(0.1, 0.4, 0.1),\\n}\\n\\n# Type of scoring used to compare parameter  combinations\\nacc_scorer = metrics.make_scorer(metrics.f1_score)\\n\\n# Run the grid search\\ngrid_obj = GridSearchCV(abc_tuned, parameters, scoring=acc_scorer,cv=5)\\ngrid_obj = grid_obj.fit(X_train, y_train)\\n\\n\\n# Set the clf to the best combination of parameters\\nabc_tuned = grid_obj.best_estimator_\\n\\n# Fit the best algorithm to the data.\\nabc_tuned.fit(X_train, y_train)\";\n",
       "                var nbb_formatted_code = \"# Choose the type of classifier.\\nabc_tuned = AdaBoostClassifier(random_state=1)\\n\\n# Grid of parameters to choose from\\nparameters = {\\n    # Let's try different max_depth for base_estimator\\n    \\\"base_estimator\\\": [\\n        DecisionTreeClassifier(max_depth=1, class_weight=\\\"balanced\\\", random_state=1),\\n        DecisionTreeClassifier(max_depth=2, class_weight=\\\"balanced\\\", random_state=1),\\n    ],\\n    \\\"n_estimators\\\": np.arange(80, 101, 10),\\n    \\\"learning_rate\\\": np.arange(0.1, 0.4, 0.1),\\n}\\n\\n# Type of scoring used to compare parameter  combinations\\nacc_scorer = metrics.make_scorer(metrics.f1_score)\\n\\n# Run the grid search\\ngrid_obj = GridSearchCV(abc_tuned, parameters, scoring=acc_scorer, cv=5)\\ngrid_obj = grid_obj.fit(X_train, y_train)\\n\\n\\n# Set the clf to the best combination of parameters\\nabc_tuned = grid_obj.best_estimator_\\n\\n# Fit the best algorithm to the data.\\nabc_tuned.fit(X_train, y_train)\";\n",
       "                var nbb_cells = Jupyter.notebook.get_cells();\n",
       "                for (var i = 0; i < nbb_cells.length; ++i) {\n",
       "                    if (nbb_cells[i].input_prompt_number == nbb_cell_id) {\n",
       "                        if (nbb_cells[i].get_text() == nbb_unformatted_code) {\n",
       "                             nbb_cells[i].set_text(nbb_formatted_code);\n",
       "                        }\n",
       "                        break;\n",
       "                    }\n",
       "                }\n",
       "            }, 500);\n",
       "            "
      ],
      "text/plain": [
       "<IPython.core.display.Javascript object>"
      ]
     },
     "metadata": {},
     "output_type": "display_data"
    },
    {
     "data": {
      "application/javascript": [
       "\n",
       "            setTimeout(function() {\n",
       "                var nbb_cell_id = 129;\n",
       "                var nbb_unformatted_code = \"# Choose the type of classifier.\\nabc_tuned = AdaBoostClassifier(random_state=1)\\n\\n# Grid of parameters to choose from\\nparameters = {\\n    # Let's try different max_depth for base_estimator\\n    \\\"base_estimator\\\": [\\n        DecisionTreeClassifier(max_depth=1, class_weight=\\\"balanced\\\", random_state=1),\\n        DecisionTreeClassifier(max_depth=2, class_weight=\\\"balanced\\\", random_state=1),\\n    ],\\n    \\\"n_estimators\\\": np.arange(80, 101, 10),\\n    \\\"learning_rate\\\": np.arange(0.1, 0.4, 0.1),\\n}\\n\\n# Type of scoring used to compare parameter  combinations\\nacc_scorer = metrics.make_scorer(metrics.f1_score)\\n\\n# Run the grid search\\ngrid_obj = GridSearchCV(abc_tuned, parameters, scoring=acc_scorer,cv=5)\\ngrid_obj = grid_obj.fit(X_train, y_train)\\n\\n\\n# Set the clf to the best combination of parameters\\nabc_tuned = grid_obj.best_estimator_\\n\\n# Fit the best algorithm to the data.\\nabc_tuned.fit(X_train, y_train)\";\n",
       "                var nbb_formatted_code = \"# Choose the type of classifier.\\nabc_tuned = AdaBoostClassifier(random_state=1)\\n\\n# Grid of parameters to choose from\\nparameters = {\\n    # Let's try different max_depth for base_estimator\\n    \\\"base_estimator\\\": [\\n        DecisionTreeClassifier(max_depth=1, class_weight=\\\"balanced\\\", random_state=1),\\n        DecisionTreeClassifier(max_depth=2, class_weight=\\\"balanced\\\", random_state=1),\\n    ],\\n    \\\"n_estimators\\\": np.arange(80, 101, 10),\\n    \\\"learning_rate\\\": np.arange(0.1, 0.4, 0.1),\\n}\\n\\n# Type of scoring used to compare parameter  combinations\\nacc_scorer = metrics.make_scorer(metrics.f1_score)\\n\\n# Run the grid search\\ngrid_obj = GridSearchCV(abc_tuned, parameters, scoring=acc_scorer, cv=5)\\ngrid_obj = grid_obj.fit(X_train, y_train)\\n\\n\\n# Set the clf to the best combination of parameters\\nabc_tuned = grid_obj.best_estimator_\\n\\n# Fit the best algorithm to the data.\\nabc_tuned.fit(X_train, y_train)\";\n",
       "                var nbb_cells = Jupyter.notebook.get_cells();\n",
       "                for (var i = 0; i < nbb_cells.length; ++i) {\n",
       "                    if (nbb_cells[i].input_prompt_number == nbb_cell_id) {\n",
       "                        if (nbb_cells[i].get_text() == nbb_unformatted_code) {\n",
       "                             nbb_cells[i].set_text(nbb_formatted_code);\n",
       "                        }\n",
       "                        break;\n",
       "                    }\n",
       "                }\n",
       "            }, 500);\n",
       "            "
      ],
      "text/plain": [
       "<IPython.core.display.Javascript object>"
      ]
     },
     "metadata": {},
     "output_type": "display_data"
    }
   ],
   "source": [
    "# Choose the type of classifier.\n",
    "abc_tuned = AdaBoostClassifier(random_state=1)\n",
    "\n",
    "# Grid of parameters to choose from\n",
    "parameters = {\n",
    "    # Let's try different max_depth for base_estimator\n",
    "    \"base_estimator\": [\n",
    "        DecisionTreeClassifier(max_depth=1, class_weight=\"balanced\", random_state=1),\n",
    "        DecisionTreeClassifier(max_depth=2, class_weight=\"balanced\", random_state=1),\n",
    "    ],\n",
    "    \"n_estimators\": np.arange(80, 101, 10),\n",
    "    \"learning_rate\": np.arange(0.1, 0.4, 0.1),\n",
    "}\n",
    "\n",
    "# Type of scoring used to compare parameter  combinations\n",
    "acc_scorer = metrics.make_scorer(metrics.f1_score)\n",
    "\n",
    "# Run the grid search\n",
    "grid_obj = GridSearchCV(abc_tuned, parameters, scoring=acc_scorer, cv=5)\n",
    "grid_obj = grid_obj.fit(X_train, y_train)\n",
    "\n",
    "\n",
    "# Set the clf to the best combination of parameters\n",
    "abc_tuned = grid_obj.best_estimator_\n",
    "\n",
    "# Fit the best algorithm to the data.\n",
    "abc_tuned.fit(X_train, y_train)"
   ]
  },
  {
   "cell_type": "code",
   "execution_count": 130,
   "id": "da6c6b35",
   "metadata": {},
   "outputs": [
    {
     "data": {
      "image/png": "[encoded data removed]",
      "text/plain": [
       "<Figure size 432x288 with 2 Axes>"
      ]
     },
     "metadata": {
      "needs_background": "light"
     },
     "output_type": "display_data"
    },
    {
     "data": {
      "application/javascript": [
       "\n",
       "            setTimeout(function() {\n",
       "                var nbb_cell_id = 130;\n",
       "                var nbb_unformatted_code = \"confusion_matrix_sklearn(abc_tuned, X_test, y_test)\";\n",
       "                var nbb_formatted_code = \"confusion_matrix_sklearn(abc_tuned, X_test, y_test)\";\n",
       "                var nbb_cells = Jupyter.notebook.get_cells();\n",
       "                for (var i = 0; i < nbb_cells.length; ++i) {\n",
       "                    if (nbb_cells[i].input_prompt_number == nbb_cell_id) {\n",
       "                        if (nbb_cells[i].get_text() == nbb_unformatted_code) {\n",
       "                             nbb_cells[i].set_text(nbb_formatted_code);\n",
       "                        }\n",
       "                        break;\n",
       "                    }\n",
       "                }\n",
       "            }, 500);\n",
       "            "
      ],
      "text/plain": [
       "<IPython.core.display.Javascript object>"
      ]
     },
     "metadata": {},
     "output_type": "display_data"
    },
    {
     "data": {
      "application/javascript": [
       "\n",
       "            setTimeout(function() {\n",
       "                var nbb_cell_id = 130;\n",
       "                var nbb_unformatted_code = \"confusion_matrix_sklearn(abc_tuned, X_test, y_test)\";\n",
       "                var nbb_formatted_code = \"confusion_matrix_sklearn(abc_tuned, X_test, y_test)\";\n",
       "                var nbb_cells = Jupyter.notebook.get_cells();\n",
       "                for (var i = 0; i < nbb_cells.length; ++i) {\n",
       "                    if (nbb_cells[i].input_prompt_number == nbb_cell_id) {\n",
       "                        if (nbb_cells[i].get_text() == nbb_unformatted_code) {\n",
       "                             nbb_cells[i].set_text(nbb_formatted_code);\n",
       "                        }\n",
       "                        break;\n",
       "                    }\n",
       "                }\n",
       "            }, 500);\n",
       "            "
      ],
      "text/plain": [
       "<IPython.core.display.Javascript object>"
      ]
     },
     "metadata": {},
     "output_type": "display_data"
    }
   ],
   "source": [
    "confusion_matrix_sklearn(abc_tuned, X_test, y_test)"
   ]
  },
  {
   "cell_type": "markdown",
   "id": "2f338523",
   "metadata": {},
   "source": [
    "**Model performance on training set**"
   ]
  },
  {
   "cell_type": "code",
   "execution_count": 131,
   "id": "536e7554",
   "metadata": {},
   "outputs": [
    {
     "name": "stdout",
     "output_type": "stream",
     "text": [
      "Training performance \n",
      "    Accuracy    Recall  Precision       F1\n",
      "0  0.719388  0.781835    0.79471  0.78822\n"
     ]
    },
    {
     "data": {
      "application/javascript": [
       "\n",
       "            setTimeout(function() {\n",
       "                var nbb_cell_id = 131;\n",
       "                var nbb_unformatted_code = \"abc_tuned_model_train_perf = model_performance_classification_sklearn(\\n    abc_tuned, X_train, y_train\\n)\\nprint(\\\"Training performance \\\\n\\\", abc_tuned_model_train_perf)\";\n",
       "                var nbb_formatted_code = \"abc_tuned_model_train_perf = model_performance_classification_sklearn(\\n    abc_tuned, X_train, y_train\\n)\\nprint(\\\"Training performance \\\\n\\\", abc_tuned_model_train_perf)\";\n",
       "                var nbb_cells = Jupyter.notebook.get_cells();\n",
       "                for (var i = 0; i < nbb_cells.length; ++i) {\n",
       "                    if (nbb_cells[i].input_prompt_number == nbb_cell_id) {\n",
       "                        if (nbb_cells[i].get_text() == nbb_unformatted_code) {\n",
       "                             nbb_cells[i].set_text(nbb_formatted_code);\n",
       "                        }\n",
       "                        break;\n",
       "                    }\n",
       "                }\n",
       "            }, 500);\n",
       "            "
      ],
      "text/plain": [
       "<IPython.core.display.Javascript object>"
      ]
     },
     "metadata": {},
     "output_type": "display_data"
    },
    {
     "data": {
      "application/javascript": [
       "\n",
       "            setTimeout(function() {\n",
       "                var nbb_cell_id = 131;\n",
       "                var nbb_unformatted_code = \"abc_tuned_model_train_perf = model_performance_classification_sklearn(\\n    abc_tuned, X_train, y_train\\n)\\nprint(\\\"Training performance \\\\n\\\", abc_tuned_model_train_perf)\";\n",
       "                var nbb_formatted_code = \"abc_tuned_model_train_perf = model_performance_classification_sklearn(\\n    abc_tuned, X_train, y_train\\n)\\nprint(\\\"Training performance \\\\n\\\", abc_tuned_model_train_perf)\";\n",
       "                var nbb_cells = Jupyter.notebook.get_cells();\n",
       "                for (var i = 0; i < nbb_cells.length; ++i) {\n",
       "                    if (nbb_cells[i].input_prompt_number == nbb_cell_id) {\n",
       "                        if (nbb_cells[i].get_text() == nbb_unformatted_code) {\n",
       "                             nbb_cells[i].set_text(nbb_formatted_code);\n",
       "                        }\n",
       "                        break;\n",
       "                    }\n",
       "                }\n",
       "            }, 500);\n",
       "            "
      ],
      "text/plain": [
       "<IPython.core.display.Javascript object>"
      ]
     },
     "metadata": {},
     "output_type": "display_data"
    }
   ],
   "source": [
    "abc_tuned_model_train_perf = model_performance_classification_sklearn(\n",
    "    abc_tuned, X_train, y_train\n",
    ")\n",
    "print(\"Training performance \\n\", abc_tuned_model_train_perf)"
   ]
  },
  {
   "cell_type": "markdown",
   "id": "904e8b86",
   "metadata": {},
   "source": [
    "**Model performance on testing set**"
   ]
  },
  {
   "cell_type": "code",
   "execution_count": 132,
   "id": "ba61a874",
   "metadata": {},
   "outputs": [
    {
     "name": "stdout",
     "output_type": "stream",
     "text": [
      "Testing performance \n",
      "    Accuracy    Recall  Precision        F1\n",
      "0  0.716902  0.781978   0.791592  0.786756\n"
     ]
    },
    {
     "data": {
      "application/javascript": [
       "\n",
       "            setTimeout(function() {\n",
       "                var nbb_cell_id = 132;\n",
       "                var nbb_unformatted_code = \"abc_tuned_model_test_perf = model_performance_classification_sklearn(\\n    abc_tuned, X_test, y_test\\n)\\nprint(\\\"Testing performance \\\\n\\\", abc_tuned_model_test_perf)\";\n",
       "                var nbb_formatted_code = \"abc_tuned_model_test_perf = model_performance_classification_sklearn(\\n    abc_tuned, X_test, y_test\\n)\\nprint(\\\"Testing performance \\\\n\\\", abc_tuned_model_test_perf)\";\n",
       "                var nbb_cells = Jupyter.notebook.get_cells();\n",
       "                for (var i = 0; i < nbb_cells.length; ++i) {\n",
       "                    if (nbb_cells[i].input_prompt_number == nbb_cell_id) {\n",
       "                        if (nbb_cells[i].get_text() == nbb_unformatted_code) {\n",
       "                             nbb_cells[i].set_text(nbb_formatted_code);\n",
       "                        }\n",
       "                        break;\n",
       "                    }\n",
       "                }\n",
       "            }, 500);\n",
       "            "
      ],
      "text/plain": [
       "<IPython.core.display.Javascript object>"
      ]
     },
     "metadata": {},
     "output_type": "display_data"
    },
    {
     "data": {
      "application/javascript": [
       "\n",
       "            setTimeout(function() {\n",
       "                var nbb_cell_id = 132;\n",
       "                var nbb_unformatted_code = \"abc_tuned_model_test_perf = model_performance_classification_sklearn(\\n    abc_tuned, X_test, y_test\\n)\\nprint(\\\"Testing performance \\\\n\\\", abc_tuned_model_test_perf)\";\n",
       "                var nbb_formatted_code = \"abc_tuned_model_test_perf = model_performance_classification_sklearn(\\n    abc_tuned, X_test, y_test\\n)\\nprint(\\\"Testing performance \\\\n\\\", abc_tuned_model_test_perf)\";\n",
       "                var nbb_cells = Jupyter.notebook.get_cells();\n",
       "                for (var i = 0; i < nbb_cells.length; ++i) {\n",
       "                    if (nbb_cells[i].input_prompt_number == nbb_cell_id) {\n",
       "                        if (nbb_cells[i].get_text() == nbb_unformatted_code) {\n",
       "                             nbb_cells[i].set_text(nbb_formatted_code);\n",
       "                        }\n",
       "                        break;\n",
       "                    }\n",
       "                }\n",
       "            }, 500);\n",
       "            "
      ],
      "text/plain": [
       "<IPython.core.display.Javascript object>"
      ]
     },
     "metadata": {},
     "output_type": "display_data"
    }
   ],
   "source": [
    "abc_tuned_model_test_perf = model_performance_classification_sklearn(\n",
    "    abc_tuned, X_test, y_test\n",
    ")\n",
    "print(\"Testing performance \\n\", abc_tuned_model_test_perf)"
   ]
  },
  {
   "cell_type": "markdown",
   "id": "b5402f53",
   "metadata": {},
   "source": [
    "**The model is performing consistently across training and testing data. The scores are nearly same for both the sets. However, F1 score is slightly lower than the original adaboost model.**"
   ]
  },
  {
   "cell_type": "markdown",
   "id": "c2415d84",
   "metadata": {},
   "source": [
    "### Gradient Boosting Classifier"
   ]
  },
  {
   "cell_type": "code",
   "execution_count": 133,
   "id": "bd9d60ad",
   "metadata": {},
   "outputs": [
    {
     "data": {
      "text/plain": [
       "GradientBoostingClassifier(init=AdaBoostClassifier(random_state=1),\n",
       "                           random_state=1)"
      ]
     },
     "execution_count": 133,
     "metadata": {},
     "output_type": "execute_result"
    },
    {
     "data": {
      "application/javascript": [
       "\n",
       "            setTimeout(function() {\n",
       "                var nbb_cell_id = 133;\n",
       "                var nbb_unformatted_code = \"gbc_init = GradientBoostingClassifier(init=AdaBoostClassifier(random_state=1),random_state=1)\\ngbc_init.fit(X_train,y_train)\";\n",
       "                var nbb_formatted_code = \"gbc_init = GradientBoostingClassifier(\\n    init=AdaBoostClassifier(random_state=1), random_state=1\\n)\\ngbc_init.fit(X_train, y_train)\";\n",
       "                var nbb_cells = Jupyter.notebook.get_cells();\n",
       "                for (var i = 0; i < nbb_cells.length; ++i) {\n",
       "                    if (nbb_cells[i].input_prompt_number == nbb_cell_id) {\n",
       "                        if (nbb_cells[i].get_text() == nbb_unformatted_code) {\n",
       "                             nbb_cells[i].set_text(nbb_formatted_code);\n",
       "                        }\n",
       "                        break;\n",
       "                    }\n",
       "                }\n",
       "            }, 500);\n",
       "            "
      ],
      "text/plain": [
       "<IPython.core.display.Javascript object>"
      ]
     },
     "metadata": {},
     "output_type": "display_data"
    },
    {
     "data": {
      "application/javascript": [
       "\n",
       "            setTimeout(function() {\n",
       "                var nbb_cell_id = 133;\n",
       "                var nbb_unformatted_code = \"gbc_init = GradientBoostingClassifier(init=AdaBoostClassifier(random_state=1),random_state=1)\\ngbc_init.fit(X_train,y_train)\";\n",
       "                var nbb_formatted_code = \"gbc_init = GradientBoostingClassifier(\\n    init=AdaBoostClassifier(random_state=1), random_state=1\\n)\\ngbc_init.fit(X_train, y_train)\";\n",
       "                var nbb_cells = Jupyter.notebook.get_cells();\n",
       "                for (var i = 0; i < nbb_cells.length; ++i) {\n",
       "                    if (nbb_cells[i].input_prompt_number == nbb_cell_id) {\n",
       "                        if (nbb_cells[i].get_text() == nbb_unformatted_code) {\n",
       "                             nbb_cells[i].set_text(nbb_formatted_code);\n",
       "                        }\n",
       "                        break;\n",
       "                    }\n",
       "                }\n",
       "            }, 500);\n",
       "            "
      ],
      "text/plain": [
       "<IPython.core.display.Javascript object>"
      ]
     },
     "metadata": {},
     "output_type": "display_data"
    }
   ],
   "source": [
    "gbc_init = GradientBoostingClassifier(\n",
    "    init=AdaBoostClassifier(random_state=1), random_state=1\n",
    ")\n",
    "gbc_init.fit(X_train, y_train)"
   ]
  },
  {
   "cell_type": "code",
   "execution_count": 134,
   "id": "499f45a6",
   "metadata": {},
   "outputs": [
    {
     "data": {
      "image/png": "[encoded data removed]",
      "text/plain": [
       "<Figure size 432x288 with 2 Axes>"
      ]
     },
     "metadata": {
      "needs_background": "light"
     },
     "output_type": "display_data"
    },
    {
     "data": {
      "application/javascript": [
       "\n",
       "            setTimeout(function() {\n",
       "                var nbb_cell_id = 134;\n",
       "                var nbb_unformatted_code = \"confusion_matrix_sklearn(gbc_init, X_test, y_test)\";\n",
       "                var nbb_formatted_code = \"confusion_matrix_sklearn(gbc_init, X_test, y_test)\";\n",
       "                var nbb_cells = Jupyter.notebook.get_cells();\n",
       "                for (var i = 0; i < nbb_cells.length; ++i) {\n",
       "                    if (nbb_cells[i].input_prompt_number == nbb_cell_id) {\n",
       "                        if (nbb_cells[i].get_text() == nbb_unformatted_code) {\n",
       "                             nbb_cells[i].set_text(nbb_formatted_code);\n",
       "                        }\n",
       "                        break;\n",
       "                    }\n",
       "                }\n",
       "            }, 500);\n",
       "            "
      ],
      "text/plain": [
       "<IPython.core.display.Javascript object>"
      ]
     },
     "metadata": {},
     "output_type": "display_data"
    },
    {
     "data": {
      "application/javascript": [
       "\n",
       "            setTimeout(function() {\n",
       "                var nbb_cell_id = 134;\n",
       "                var nbb_unformatted_code = \"confusion_matrix_sklearn(gbc_init, X_test, y_test)\";\n",
       "                var nbb_formatted_code = \"confusion_matrix_sklearn(gbc_init, X_test, y_test)\";\n",
       "                var nbb_cells = Jupyter.notebook.get_cells();\n",
       "                for (var i = 0; i < nbb_cells.length; ++i) {\n",
       "                    if (nbb_cells[i].input_prompt_number == nbb_cell_id) {\n",
       "                        if (nbb_cells[i].get_text() == nbb_unformatted_code) {\n",
       "                             nbb_cells[i].set_text(nbb_formatted_code);\n",
       "                        }\n",
       "                        break;\n",
       "                    }\n",
       "                }\n",
       "            }, 500);\n",
       "            "
      ],
      "text/plain": [
       "<IPython.core.display.Javascript object>"
      ]
     },
     "metadata": {},
     "output_type": "display_data"
    }
   ],
   "source": [
    "confusion_matrix_sklearn(gbc_init, X_test, y_test)"
   ]
  },
  {
   "cell_type": "markdown",
   "id": "a29322fc",
   "metadata": {},
   "source": [
    "**Model performance on training set**"
   ]
  },
  {
   "cell_type": "code",
   "execution_count": 135,
   "id": "4796aff3",
   "metadata": {},
   "outputs": [
    {
     "name": "stdout",
     "output_type": "stream",
     "text": [
      "Training performance \n",
      "    Accuracy    Recall  Precision        F1\n",
      "0  0.755551  0.879459   0.781807  0.827763\n"
     ]
    },
    {
     "data": {
      "application/javascript": [
       "\n",
       "            setTimeout(function() {\n",
       "                var nbb_cell_id = 135;\n",
       "                var nbb_unformatted_code = \"gbc_init_model_train_perf = model_performance_classification_sklearn(\\n    gbc_init, X_train, y_train\\n)\\nprint(\\\"Training performance \\\\n\\\", gbc_init_model_train_perf)\";\n",
       "                var nbb_formatted_code = \"gbc_init_model_train_perf = model_performance_classification_sklearn(\\n    gbc_init, X_train, y_train\\n)\\nprint(\\\"Training performance \\\\n\\\", gbc_init_model_train_perf)\";\n",
       "                var nbb_cells = Jupyter.notebook.get_cells();\n",
       "                for (var i = 0; i < nbb_cells.length; ++i) {\n",
       "                    if (nbb_cells[i].input_prompt_number == nbb_cell_id) {\n",
       "                        if (nbb_cells[i].get_text() == nbb_unformatted_code) {\n",
       "                             nbb_cells[i].set_text(nbb_formatted_code);\n",
       "                        }\n",
       "                        break;\n",
       "                    }\n",
       "                }\n",
       "            }, 500);\n",
       "            "
      ],
      "text/plain": [
       "<IPython.core.display.Javascript object>"
      ]
     },
     "metadata": {},
     "output_type": "display_data"
    },
    {
     "data": {
      "application/javascript": [
       "\n",
       "            setTimeout(function() {\n",
       "                var nbb_cell_id = 135;\n",
       "                var nbb_unformatted_code = \"gbc_init_model_train_perf = model_performance_classification_sklearn(\\n    gbc_init, X_train, y_train\\n)\\nprint(\\\"Training performance \\\\n\\\", gbc_init_model_train_perf)\";\n",
       "                var nbb_formatted_code = \"gbc_init_model_train_perf = model_performance_classification_sklearn(\\n    gbc_init, X_train, y_train\\n)\\nprint(\\\"Training performance \\\\n\\\", gbc_init_model_train_perf)\";\n",
       "                var nbb_cells = Jupyter.notebook.get_cells();\n",
       "                for (var i = 0; i < nbb_cells.length; ++i) {\n",
       "                    if (nbb_cells[i].input_prompt_number == nbb_cell_id) {\n",
       "                        if (nbb_cells[i].get_text() == nbb_unformatted_code) {\n",
       "                             nbb_cells[i].set_text(nbb_formatted_code);\n",
       "                        }\n",
       "                        break;\n",
       "                    }\n",
       "                }\n",
       "            }, 500);\n",
       "            "
      ],
      "text/plain": [
       "<IPython.core.display.Javascript object>"
      ]
     },
     "metadata": {},
     "output_type": "display_data"
    }
   ],
   "source": [
    "gbc_init_model_train_perf = model_performance_classification_sklearn(\n",
    "    gbc_init, X_train, y_train\n",
    ")\n",
    "print(\"Training performance \\n\", gbc_init_model_train_perf)"
   ]
  },
  {
   "cell_type": "markdown",
   "id": "d8c4b19e",
   "metadata": {},
   "source": [
    "**Model performance on testing set**"
   ]
  },
  {
   "cell_type": "code",
   "execution_count": 136,
   "id": "5c08e763",
   "metadata": {},
   "outputs": [
    {
     "name": "stdout",
     "output_type": "stream",
     "text": [
      "Testing performance \n",
      "    Accuracy    Recall  Precision        F1\n",
      "0  0.747776  0.877375   0.774779  0.822892\n"
     ]
    },
    {
     "data": {
      "application/javascript": [
       "\n",
       "            setTimeout(function() {\n",
       "                var nbb_cell_id = 136;\n",
       "                var nbb_unformatted_code = \"gbc_init_model_test_perf = model_performance_classification_sklearn(\\n    gbc_init, X_test, y_test\\n)\\nprint(\\\"Testing performance \\\\n\\\", gbc_init_model_test_perf)\";\n",
       "                var nbb_formatted_code = \"gbc_init_model_test_perf = model_performance_classification_sklearn(\\n    gbc_init, X_test, y_test\\n)\\nprint(\\\"Testing performance \\\\n\\\", gbc_init_model_test_perf)\";\n",
       "                var nbb_cells = Jupyter.notebook.get_cells();\n",
       "                for (var i = 0; i < nbb_cells.length; ++i) {\n",
       "                    if (nbb_cells[i].input_prompt_number == nbb_cell_id) {\n",
       "                        if (nbb_cells[i].get_text() == nbb_unformatted_code) {\n",
       "                             nbb_cells[i].set_text(nbb_formatted_code);\n",
       "                        }\n",
       "                        break;\n",
       "                    }\n",
       "                }\n",
       "            }, 500);\n",
       "            "
      ],
      "text/plain": [
       "<IPython.core.display.Javascript object>"
      ]
     },
     "metadata": {},
     "output_type": "display_data"
    },
    {
     "data": {
      "application/javascript": [
       "\n",
       "            setTimeout(function() {\n",
       "                var nbb_cell_id = 136;\n",
       "                var nbb_unformatted_code = \"gbc_init_model_test_perf = model_performance_classification_sklearn(\\n    gbc_init, X_test, y_test\\n)\\nprint(\\\"Testing performance \\\\n\\\", gbc_init_model_test_perf)\";\n",
       "                var nbb_formatted_code = \"gbc_init_model_test_perf = model_performance_classification_sklearn(\\n    gbc_init, X_test, y_test\\n)\\nprint(\\\"Testing performance \\\\n\\\", gbc_init_model_test_perf)\";\n",
       "                var nbb_cells = Jupyter.notebook.get_cells();\n",
       "                for (var i = 0; i < nbb_cells.length; ++i) {\n",
       "                    if (nbb_cells[i].input_prompt_number == nbb_cell_id) {\n",
       "                        if (nbb_cells[i].get_text() == nbb_unformatted_code) {\n",
       "                             nbb_cells[i].set_text(nbb_formatted_code);\n",
       "                        }\n",
       "                        break;\n",
       "                    }\n",
       "                }\n",
       "            }, 500);\n",
       "            "
      ],
      "text/plain": [
       "<IPython.core.display.Javascript object>"
      ]
     },
     "metadata": {},
     "output_type": "display_data"
    }
   ],
   "source": [
    "gbc_init_model_test_perf = model_performance_classification_sklearn(\n",
    "    gbc_init, X_test, y_test\n",
    ")\n",
    "print(\"Testing performance \\n\", gbc_init_model_test_perf)"
   ]
  },
  {
   "cell_type": "markdown",
   "id": "b6f93ed2",
   "metadata": {},
   "source": [
    "**The model is performing consistently across training and testing data. The scores are nearly same for both the sets. F1 score is also higher than the adaboost model.**"
   ]
  },
  {
   "cell_type": "markdown",
   "id": "005d62c1",
   "metadata": {},
   "source": [
    "### Hyperparameter Tuning - Gradient Boosting Classifier"
   ]
  },
  {
   "cell_type": "code",
   "execution_count": 137,
   "id": "dd07793c",
   "metadata": {},
   "outputs": [
    {
     "data": {
      "text/plain": [
       "GradientBoostingClassifier(init=AdaBoostClassifier(random_state=1),\n",
       "                           max_features=0.8, n_estimators=200, random_state=1,\n",
       "                           subsample=1)"
      ]
     },
     "execution_count": 137,
     "metadata": {},
     "output_type": "execute_result"
    },
    {
     "data": {
      "application/javascript": [
       "\n",
       "            setTimeout(function() {\n",
       "                var nbb_cell_id = 137;\n",
       "                var nbb_unformatted_code = \"# Choose the type of classifier.\\ngbc_tuned = GradientBoostingClassifier(\\n    init=AdaBoostClassifier(random_state=1), random_state=1\\n)\\n\\n# Grid of parameters to choose from\\nparameters = {\\n    \\\"n_estimators\\\": [200, 250],\\n    \\\"subsample\\\": [0.9, 1],\\n    \\\"max_features\\\": [0.8, 0.9],\\n    \\\"learning_rate\\\": np.arange(0.1, 0.21, 0.1),\\n}\\n\\n# Type of scoring used to compare parameter combinations\\nacc_scorer = metrics.make_scorer(metrics.f1_score)\\n\\n# Run the grid search\\ngrid_obj = GridSearchCV(gbc_tuned, parameters, scoring=acc_scorer,cv=5)\\ngrid_obj = grid_obj.fit(X_train, y_train)\\n\\n# Set the clf to the best combination of parameters\\ngbc_tuned = grid_obj.best_estimator_\\n\\n# Fit the best algorithm to the data.\\ngbc_tuned.fit(X_train, y_train)\";\n",
       "                var nbb_formatted_code = \"# Choose the type of classifier.\\ngbc_tuned = GradientBoostingClassifier(\\n    init=AdaBoostClassifier(random_state=1), random_state=1\\n)\\n\\n# Grid of parameters to choose from\\nparameters = {\\n    \\\"n_estimators\\\": [200, 250],\\n    \\\"subsample\\\": [0.9, 1],\\n    \\\"max_features\\\": [0.8, 0.9],\\n    \\\"learning_rate\\\": np.arange(0.1, 0.21, 0.1),\\n}\\n\\n# Type of scoring used to compare parameter combinations\\nacc_scorer = metrics.make_scorer(metrics.f1_score)\\n\\n# Run the grid search\\ngrid_obj = GridSearchCV(gbc_tuned, parameters, scoring=acc_scorer, cv=5)\\ngrid_obj = grid_obj.fit(X_train, y_train)\\n\\n# Set the clf to the best combination of parameters\\ngbc_tuned = grid_obj.best_estimator_\\n\\n# Fit the best algorithm to the data.\\ngbc_tuned.fit(X_train, y_train)\";\n",
       "                var nbb_cells = Jupyter.notebook.get_cells();\n",
       "                for (var i = 0; i < nbb_cells.length; ++i) {\n",
       "                    if (nbb_cells[i].input_prompt_number == nbb_cell_id) {\n",
       "                        if (nbb_cells[i].get_text() == nbb_unformatted_code) {\n",
       "                             nbb_cells[i].set_text(nbb_formatted_code);\n",
       "                        }\n",
       "                        break;\n",
       "                    }\n",
       "                }\n",
       "            }, 500);\n",
       "            "
      ],
      "text/plain": [
       "<IPython.core.display.Javascript object>"
      ]
     },
     "metadata": {},
     "output_type": "display_data"
    },
    {
     "data": {
      "application/javascript": [
       "\n",
       "            setTimeout(function() {\n",
       "                var nbb_cell_id = 137;\n",
       "                var nbb_unformatted_code = \"# Choose the type of classifier.\\ngbc_tuned = GradientBoostingClassifier(\\n    init=AdaBoostClassifier(random_state=1), random_state=1\\n)\\n\\n# Grid of parameters to choose from\\nparameters = {\\n    \\\"n_estimators\\\": [200, 250],\\n    \\\"subsample\\\": [0.9, 1],\\n    \\\"max_features\\\": [0.8, 0.9],\\n    \\\"learning_rate\\\": np.arange(0.1, 0.21, 0.1),\\n}\\n\\n# Type of scoring used to compare parameter combinations\\nacc_scorer = metrics.make_scorer(metrics.f1_score)\\n\\n# Run the grid search\\ngrid_obj = GridSearchCV(gbc_tuned, parameters, scoring=acc_scorer,cv=5)\\ngrid_obj = grid_obj.fit(X_train, y_train)\\n\\n# Set the clf to the best combination of parameters\\ngbc_tuned = grid_obj.best_estimator_\\n\\n# Fit the best algorithm to the data.\\ngbc_tuned.fit(X_train, y_train)\";\n",
       "                var nbb_formatted_code = \"# Choose the type of classifier.\\ngbc_tuned = GradientBoostingClassifier(\\n    init=AdaBoostClassifier(random_state=1), random_state=1\\n)\\n\\n# Grid of parameters to choose from\\nparameters = {\\n    \\\"n_estimators\\\": [200, 250],\\n    \\\"subsample\\\": [0.9, 1],\\n    \\\"max_features\\\": [0.8, 0.9],\\n    \\\"learning_rate\\\": np.arange(0.1, 0.21, 0.1),\\n}\\n\\n# Type of scoring used to compare parameter combinations\\nacc_scorer = metrics.make_scorer(metrics.f1_score)\\n\\n# Run the grid search\\ngrid_obj = GridSearchCV(gbc_tuned, parameters, scoring=acc_scorer, cv=5)\\ngrid_obj = grid_obj.fit(X_train, y_train)\\n\\n# Set the clf to the best combination of parameters\\ngbc_tuned = grid_obj.best_estimator_\\n\\n# Fit the best algorithm to the data.\\ngbc_tuned.fit(X_train, y_train)\";\n",
       "                var nbb_cells = Jupyter.notebook.get_cells();\n",
       "                for (var i = 0; i < nbb_cells.length; ++i) {\n",
       "                    if (nbb_cells[i].input_prompt_number == nbb_cell_id) {\n",
       "                        if (nbb_cells[i].get_text() == nbb_unformatted_code) {\n",
       "                             nbb_cells[i].set_text(nbb_formatted_code);\n",
       "                        }\n",
       "                        break;\n",
       "                    }\n",
       "                }\n",
       "            }, 500);\n",
       "            "
      ],
      "text/plain": [
       "<IPython.core.display.Javascript object>"
      ]
     },
     "metadata": {},
     "output_type": "display_data"
    }
   ],
   "source": [
    "# Choose the type of classifier.\n",
    "gbc_tuned = GradientBoostingClassifier(\n",
    "    init=AdaBoostClassifier(random_state=1), random_state=1\n",
    ")\n",
    "\n",
    "# Grid of parameters to choose from\n",
    "parameters = {\n",
    "    \"n_estimators\": [200, 250],\n",
    "    \"subsample\": [0.9, 1],\n",
    "    \"max_features\": [0.8, 0.9],\n",
    "    \"learning_rate\": np.arange(0.1, 0.21, 0.1),\n",
    "}\n",
    "\n",
    "# Type of scoring used to compare parameter combinations\n",
    "acc_scorer = metrics.make_scorer(metrics.f1_score)\n",
    "\n",
    "# Run the grid search\n",
    "grid_obj = GridSearchCV(gbc_tuned, parameters, scoring=acc_scorer, cv=5)\n",
    "grid_obj = grid_obj.fit(X_train, y_train)\n",
    "\n",
    "# Set the clf to the best combination of parameters\n",
    "gbc_tuned = grid_obj.best_estimator_\n",
    "\n",
    "# Fit the best algorithm to the data.\n",
    "gbc_tuned.fit(X_train, y_train)"
   ]
  },
  {
   "cell_type": "code",
   "execution_count": 138,
   "id": "c530f8f2",
   "metadata": {},
   "outputs": [
    {
     "data": {
      "image/png": "[encoded data removed]",
      "text/plain": [
       "<Figure size 432x288 with 2 Axes>"
      ]
     },
     "metadata": {
      "needs_background": "light"
     },
     "output_type": "display_data"
    },
    {
     "data": {
      "application/javascript": [
       "\n",
       "            setTimeout(function() {\n",
       "                var nbb_cell_id = 138;\n",
       "                var nbb_unformatted_code = \"confusion_matrix_sklearn(gbc_tuned, X_test, y_test)\";\n",
       "                var nbb_formatted_code = \"confusion_matrix_sklearn(gbc_tuned, X_test, y_test)\";\n",
       "                var nbb_cells = Jupyter.notebook.get_cells();\n",
       "                for (var i = 0; i < nbb_cells.length; ++i) {\n",
       "                    if (nbb_cells[i].input_prompt_number == nbb_cell_id) {\n",
       "                        if (nbb_cells[i].get_text() == nbb_unformatted_code) {\n",
       "                             nbb_cells[i].set_text(nbb_formatted_code);\n",
       "                        }\n",
       "                        break;\n",
       "                    }\n",
       "                }\n",
       "            }, 500);\n",
       "            "
      ],
      "text/plain": [
       "<IPython.core.display.Javascript object>"
      ]
     },
     "metadata": {},
     "output_type": "display_data"
    },
    {
     "data": {
      "application/javascript": [
       "\n",
       "            setTimeout(function() {\n",
       "                var nbb_cell_id = 138;\n",
       "                var nbb_unformatted_code = \"confusion_matrix_sklearn(gbc_tuned, X_test, y_test)\";\n",
       "                var nbb_formatted_code = \"confusion_matrix_sklearn(gbc_tuned, X_test, y_test)\";\n",
       "                var nbb_cells = Jupyter.notebook.get_cells();\n",
       "                for (var i = 0; i < nbb_cells.length; ++i) {\n",
       "                    if (nbb_cells[i].input_prompt_number == nbb_cell_id) {\n",
       "                        if (nbb_cells[i].get_text() == nbb_unformatted_code) {\n",
       "                             nbb_cells[i].set_text(nbb_formatted_code);\n",
       "                        }\n",
       "                        break;\n",
       "                    }\n",
       "                }\n",
       "            }, 500);\n",
       "            "
      ],
      "text/plain": [
       "<IPython.core.display.Javascript object>"
      ]
     },
     "metadata": {},
     "output_type": "display_data"
    }
   ],
   "source": [
    "confusion_matrix_sklearn(gbc_tuned, X_test, y_test)"
   ]
  },
  {
   "cell_type": "markdown",
   "id": "52791603",
   "metadata": {},
   "source": [
    "**Model performance on training set**"
   ]
  },
  {
   "cell_type": "code",
   "execution_count": 139,
   "id": "49d749cc",
   "metadata": {},
   "outputs": [
    {
     "name": "stdout",
     "output_type": "stream",
     "text": [
      "Training performance \n",
      "    Accuracy    Recall  Precision        F1\n",
      "0  0.761998  0.880551   0.788011  0.831715\n"
     ]
    },
    {
     "data": {
      "application/javascript": [
       "\n",
       "            setTimeout(function() {\n",
       "                var nbb_cell_id = 139;\n",
       "                var nbb_unformatted_code = \"gbc_tuned_model_train_perf = model_performance_classification_sklearn(\\n    gbc_tuned, X_train, y_train\\n)\\nprint(\\\"Training performance \\\\n\\\", gbc_tuned_model_train_perf)\";\n",
       "                var nbb_formatted_code = \"gbc_tuned_model_train_perf = model_performance_classification_sklearn(\\n    gbc_tuned, X_train, y_train\\n)\\nprint(\\\"Training performance \\\\n\\\", gbc_tuned_model_train_perf)\";\n",
       "                var nbb_cells = Jupyter.notebook.get_cells();\n",
       "                for (var i = 0; i < nbb_cells.length; ++i) {\n",
       "                    if (nbb_cells[i].input_prompt_number == nbb_cell_id) {\n",
       "                        if (nbb_cells[i].get_text() == nbb_unformatted_code) {\n",
       "                             nbb_cells[i].set_text(nbb_formatted_code);\n",
       "                        }\n",
       "                        break;\n",
       "                    }\n",
       "                }\n",
       "            }, 500);\n",
       "            "
      ],
      "text/plain": [
       "<IPython.core.display.Javascript object>"
      ]
     },
     "metadata": {},
     "output_type": "display_data"
    },
    {
     "data": {
      "application/javascript": [
       "\n",
       "            setTimeout(function() {\n",
       "                var nbb_cell_id = 139;\n",
       "                var nbb_unformatted_code = \"gbc_tuned_model_train_perf = model_performance_classification_sklearn(\\n    gbc_tuned, X_train, y_train\\n)\\nprint(\\\"Training performance \\\\n\\\", gbc_tuned_model_train_perf)\";\n",
       "                var nbb_formatted_code = \"gbc_tuned_model_train_perf = model_performance_classification_sklearn(\\n    gbc_tuned, X_train, y_train\\n)\\nprint(\\\"Training performance \\\\n\\\", gbc_tuned_model_train_perf)\";\n",
       "                var nbb_cells = Jupyter.notebook.get_cells();\n",
       "                for (var i = 0; i < nbb_cells.length; ++i) {\n",
       "                    if (nbb_cells[i].input_prompt_number == nbb_cell_id) {\n",
       "                        if (nbb_cells[i].get_text() == nbb_unformatted_code) {\n",
       "                             nbb_cells[i].set_text(nbb_formatted_code);\n",
       "                        }\n",
       "                        break;\n",
       "                    }\n",
       "                }\n",
       "            }, 500);\n",
       "            "
      ],
      "text/plain": [
       "<IPython.core.display.Javascript object>"
      ]
     },
     "metadata": {},
     "output_type": "display_data"
    }
   ],
   "source": [
    "gbc_tuned_model_train_perf = model_performance_classification_sklearn(\n",
    "    gbc_tuned, X_train, y_train\n",
    ")\n",
    "print(\"Training performance \\n\", gbc_tuned_model_train_perf)"
   ]
  },
  {
   "cell_type": "markdown",
   "id": "698836e3",
   "metadata": {},
   "source": [
    "**Model performance on testing set**"
   ]
  },
  {
   "cell_type": "code",
   "execution_count": 140,
   "id": "7fdce7c4",
   "metadata": {},
   "outputs": [
    {
     "name": "stdout",
     "output_type": "stream",
     "text": [
      "Testing performance \n",
      "    Accuracy    Recall  Precision        F1\n",
      "0  0.748953  0.873653   0.777817  0.822954\n"
     ]
    },
    {
     "data": {
      "application/javascript": [
       "\n",
       "            setTimeout(function() {\n",
       "                var nbb_cell_id = 140;\n",
       "                var nbb_unformatted_code = \"gbc_tuned_model_test_perf = model_performance_classification_sklearn(\\n    gbc_tuned, X_test, y_test\\n)\\nprint(\\\"Testing performance \\\\n\\\", gbc_tuned_model_test_perf)\";\n",
       "                var nbb_formatted_code = \"gbc_tuned_model_test_perf = model_performance_classification_sklearn(\\n    gbc_tuned, X_test, y_test\\n)\\nprint(\\\"Testing performance \\\\n\\\", gbc_tuned_model_test_perf)\";\n",
       "                var nbb_cells = Jupyter.notebook.get_cells();\n",
       "                for (var i = 0; i < nbb_cells.length; ++i) {\n",
       "                    if (nbb_cells[i].input_prompt_number == nbb_cell_id) {\n",
       "                        if (nbb_cells[i].get_text() == nbb_unformatted_code) {\n",
       "                             nbb_cells[i].set_text(nbb_formatted_code);\n",
       "                        }\n",
       "                        break;\n",
       "                    }\n",
       "                }\n",
       "            }, 500);\n",
       "            "
      ],
      "text/plain": [
       "<IPython.core.display.Javascript object>"
      ]
     },
     "metadata": {},
     "output_type": "display_data"
    },
    {
     "data": {
      "application/javascript": [
       "\n",
       "            setTimeout(function() {\n",
       "                var nbb_cell_id = 140;\n",
       "                var nbb_unformatted_code = \"gbc_tuned_model_test_perf = model_performance_classification_sklearn(\\n    gbc_tuned, X_test, y_test\\n)\\nprint(\\\"Testing performance \\\\n\\\", gbc_tuned_model_test_perf)\";\n",
       "                var nbb_formatted_code = \"gbc_tuned_model_test_perf = model_performance_classification_sklearn(\\n    gbc_tuned, X_test, y_test\\n)\\nprint(\\\"Testing performance \\\\n\\\", gbc_tuned_model_test_perf)\";\n",
       "                var nbb_cells = Jupyter.notebook.get_cells();\n",
       "                for (var i = 0; i < nbb_cells.length; ++i) {\n",
       "                    if (nbb_cells[i].input_prompt_number == nbb_cell_id) {\n",
       "                        if (nbb_cells[i].get_text() == nbb_unformatted_code) {\n",
       "                             nbb_cells[i].set_text(nbb_formatted_code);\n",
       "                        }\n",
       "                        break;\n",
       "                    }\n",
       "                }\n",
       "            }, 500);\n",
       "            "
      ],
      "text/plain": [
       "<IPython.core.display.Javascript object>"
      ]
     },
     "metadata": {},
     "output_type": "display_data"
    }
   ],
   "source": [
    "gbc_tuned_model_test_perf = model_performance_classification_sklearn(\n",
    "    gbc_tuned, X_test, y_test\n",
    ")\n",
    "print(\"Testing performance \\n\", gbc_tuned_model_test_perf)"
   ]
  },
  {
   "cell_type": "markdown",
   "id": "16523e4d",
   "metadata": {},
   "source": [
    "**The model is performing consistently across training and testing data. The scores are nearly same for both the sets. F1 score is nearly same as the untuned gradient boosting classifier**"
   ]
  },
  {
   "cell_type": "markdown",
   "id": "prime-athletics",
   "metadata": {
    "id": "prime-athletics"
   },
   "source": [
    "##  Will tuning the hyperparameters improve the model performance?"
   ]
  },
  {
   "cell_type": "code",
   "execution_count": null,
   "id": "banned-difficulty",
   "metadata": {
    "id": "banned-difficulty"
   },
   "outputs": [],
   "source": []
  },
  {
   "cell_type": "markdown",
   "id": "obvious-maine",
   "metadata": {
    "id": "obvious-maine"
   },
   "source": [
    "## Model Performance Comparison and Conclusions"
   ]
  },
  {
   "cell_type": "code",
   "execution_count": null,
   "id": "everyday-kinase",
   "metadata": {
    "id": "everyday-kinase"
   },
   "outputs": [],
   "source": []
  },
  {
   "cell_type": "markdown",
   "id": "nasty-retailer",
   "metadata": {
    "id": "nasty-retailer"
   },
   "source": [
    "## Actionable Insights and Recommendations"
   ]
  },
  {
   "cell_type": "code",
   "execution_count": null,
   "id": "amino-prediction",
   "metadata": {
    "id": "amino-prediction"
   },
   "outputs": [],
   "source": []
  }
 ],
 "metadata": {
  "colab": {
   "collapsed_sections": [],
   "name": "EasyVisa_Project_Template_Notebook.ipynb",
   "provenance": []
  },
  "kernelspec": {
   "display_name": "Python 3",
   "language": "python",
   "name": "python3"
  },
  "language_info": {
   "codemirror_mode": {
    "name": "ipython",
    "version": 3
   },
   "file_extension": ".py",
   "mimetype": "text/x-python",
   "name": "python",
   "nbconvert_exporter": "python",
   "pygments_lexer": "ipython3",
   "version": "3.8.8"
  }
 },
 "nbformat": 4,
 "nbformat_minor": 5
}
